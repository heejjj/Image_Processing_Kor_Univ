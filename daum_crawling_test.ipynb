{
  "nbformat": 4,
  "nbformat_minor": 0,
  "metadata": {
    "colab": {
      "provenance": [],
      "authorship_tag": "ABX9TyOtTxkRQ/OYe2ppaaaJ/lv8",
      "include_colab_link": true
    },
    "kernelspec": {
      "name": "python3",
      "display_name": "Python 3"
    },
    "language_info": {
      "name": "python"
    }
  },
  "cells": [
    {
      "cell_type": "markdown",
      "metadata": {
        "id": "view-in-github",
        "colab_type": "text"
      },
      "source": [
        "<a href=\"https://colab.research.google.com/github/heejjj/Image_Processing_Kor_Univ/blob/Kor_Univ/daum_crawling_test.ipynb\" target=\"_parent\"><img src=\"https://colab.research.google.com/assets/colab-badge.svg\" alt=\"Open In Colab\"/></a>"
      ]
    },
    {
      "cell_type": "code",
      "execution_count": 2,
      "metadata": {
        "id": "ojDYJOGq8f-R"
      },
      "outputs": [],
      "source": [
        "from bs4 import BeautifulSoup\n",
        "import urllib.request as req"
      ]
    },
    {
      "cell_type": "code",
      "source": [
        "#참조 https://m.blog.naver.com/PostView.naver?isHttpsRedirect=true&blogId=owl6615&logNo=221432966811\n",
        "url = \"https://movie.daum.net/moviedb/grade?movieId=94484&type=netizen&page={}\"\n",
        "review_list = []\n",
        "for n in range(1,135):\n",
        "  link = url.format(n)\n",
        "  webpage = req.urlopen(link)\n",
        "  soup = BeautifulSoup(webpage, 'html.parser')\n",
        "  reviews = soup.find_all('p', {'class':'desc_review'})\n",
        "  for review in reviews:\n",
        "    review_list.append(review.get_text().strip())"
      ],
      "metadata": {
        "id": "nBYncp538psJ"
      },
      "execution_count": 5,
      "outputs": []
    },
    {
      "cell_type": "code",
      "source": [
        "from bs4 import BeautifulSoup\n",
        "import urllib.request as req\n",
        "\n",
        "url =  \"https://movie.daum.net/moviedb/grade?movieId=94484&type=netizen&page={}\"\n",
        "review_list = []\n",
        "for n in range(1,135):\n",
        "  link = url.format(n)\n",
        "  webpage = req.urlopen(link)\n",
        "  soup = BeautifulSoup(webpage, 'html.parser')\n",
        "  reviews = soup.find_all('p', {'class':'desc_review'})\n",
        "  for review in reviews:\n",
        "    review_list.append(review.get_text().strip())\n",
        "file = open('test.txt', 'w', encoding ='utf-8')\n",
        "for a in review_list:\n",
        "  file.write(a+'¥n')\n",
        "file.close()\n"
      ],
      "metadata": {
        "id": "5jUhY5fFFH5m"
      },
      "execution_count": 6,
      "outputs": []
    },
    {
      "cell_type": "code",
      "source": [
        "import requests\n",
        "from bs4 import BeautifulSoup\n",
        "\n",
        "# 크롤링할 URL\n",
        "url = \"https://movie.daum.net/moviedb/grade?movieId=94484&type=netizen&page={}\"\n",
        "\n",
        "# 리뷰를 저장할 리스트\n",
        "reviews = []\n",
        "\n",
        "# 페이지 수 조절\n",
        "for page in range(1, 11):  # 1부터 10페이지까지 크롤링하도록 설정\n",
        "    # 페이지 URL 생성\n",
        "    page_url = url.format(page)\n",
        "    \n",
        "    # 페이지 요청\n",
        "    response = requests.get(page_url)\n",
        "    soup = BeautifulSoup(response.content, \"html.parser\")\n",
        "    \n",
        "    # 리뷰 추출\n",
        "    review_elements = soup.select(\"ul.list_netizen div.review_info\")\n",
        "    for element in review_elements:\n",
        "        review = element.select_one(\"div.desc_review\").text.strip()\n",
        "        reviews.append(review)\n",
        "\n",
        "# 추출한 리뷰 출력\n",
        "for idx, review in enumerate(reviews, 1):\n",
        "    print(f\"리뷰 {idx}: {review}\")"
      ],
      "metadata": {
        "id": "RzH56jlKGjDv"
      },
      "execution_count": 7,
      "outputs": []
    }
  ]
}