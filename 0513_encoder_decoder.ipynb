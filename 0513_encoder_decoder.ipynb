{
  "cells": [
    {
      "cell_type": "markdown",
      "metadata": {
        "id": "view-in-github",
        "colab_type": "text"
      },
      "source": [
        "<a href=\"https://colab.research.google.com/github/heejjj/Image_Processing_Kor_Univ/blob/Kor_Univ/0513_encoder_decoder.ipynb\" target=\"_parent\"><img src=\"https://colab.research.google.com/assets/colab-badge.svg\" alt=\"Open In Colab\"/></a>"
      ]
    },
    {
      "cell_type": "markdown",
      "id": "f5339b06-5b27-418d-a1c5-f92f7bbc3517",
      "metadata": {
        "id": "f5339b06-5b27-418d-a1c5-f92f7bbc3517"
      },
      "source": [
        "제너레이트 모델\n",
        "오토인코더\n",
        "비지도학습에서 시작\n",
        "\n",
        "이미지를\n",
        "잠재영역에 넣음 (잠재영역으로 가는 부분을 학습)\n",
        "다시 새로운 이미지로 \n",
        "\n",
        "\n",
        "클래스가 없다.\n",
        "비지도학습\n",
        "\n",
        "평균 정말로 좋은 대푯값\n",
        "표준편차 떨어진 정도에 대한 대푯값, 떨어진 정도의 평균"
      ]
    },
    {
      "cell_type": "code",
      "execution_count": 23,
      "id": "81cef0e8-9de3-4da9-ab00-9f4ab1fed3f3",
      "metadata": {
        "id": "81cef0e8-9de3-4da9-ab00-9f4ab1fed3f3"
      },
      "outputs": [],
      "source": [
        "from tensorflow.keras.datasets import mnist,fashion_mnist\n",
        "from tensorflow.keras.models import Sequential, Model\n",
        "from tensorflow.keras.layers import Dense,Flatten,Input\n",
        "\n",
        "import numpy as np\n",
        "from sklearn.preprocessing import StandardScaler, MinMaxScaler, RobustScaler # 스케일러\n",
        "\n",
        "import matplotlib.pyplot as plt\n"
      ]
    },
    {
      "cell_type": "code",
      "execution_count": 3,
      "id": "439c4dfa-b4fe-45de-b083-de9d63a6c00c",
      "metadata": {
        "colab": {
          "base_uri": "https://localhost:8080/"
        },
        "id": "439c4dfa-b4fe-45de-b083-de9d63a6c00c",
        "outputId": "552263c2-a001-4108-bdae-8e1df481a300"
      },
      "outputs": [
        {
          "output_type": "execute_result",
          "data": {
            "text/plain": [
              "array([[-1.],\n",
              "       [ 0.],\n",
              "       [ 1.]])"
            ]
          },
          "metadata": {},
          "execution_count": 3
        }
      ],
      "source": [
        "#스케일러사용법\n",
        "x=np.array([1,2,3]).reshape(-1,1)\n",
        "\n",
        "sc = StandardScaler()\n",
        "sc.fit_transform(x)\n",
        "\n",
        "mm = MinMaxScaler()\n",
        "mm.fit_transform(x)\n",
        "\n",
        "rb= RobustScaler()\n",
        "rb.fit_transform(x)"
      ]
    },
    {
      "cell_type": "code",
      "execution_count": 4,
      "id": "35218bcb-9f6a-4e81-836f-d3c77f28ebc5",
      "metadata": {
        "jupyter": {
          "source_hidden": true
        },
        "tags": [],
        "colab": {
          "base_uri": "https://localhost:8080/"
        },
        "id": "35218bcb-9f6a-4e81-836f-d3c77f28ebc5",
        "outputId": "a235b53a-c039-432d-a9a1-d762be2d757b"
      },
      "outputs": [
        {
          "output_type": "stream",
          "name": "stdout",
          "text": [
            "Downloading data from https://storage.googleapis.com/tensorflow/tf-keras-datasets/mnist.npz\n",
            "11490434/11490434 [==============================] - 0s 0us/step\n"
          ]
        }
      ],
      "source": [
        "(X_train,_),(X_test,_) = mnist.load_data()"
      ]
    },
    {
      "cell_type": "code",
      "execution_count": 5,
      "id": "c81f0eb5-68b1-403f-ac57-885172856245",
      "metadata": {
        "id": "c81f0eb5-68b1-403f-ac57-885172856245"
      },
      "outputs": [],
      "source": [
        "def minmaxscaler(x):\n",
        "    return (x-np.min(x))/(np.max(x)-np.min(x))"
      ]
    },
    {
      "cell_type": "code",
      "execution_count": 6,
      "id": "f5eee423-9680-4641-b762-a4a4a52b7238",
      "metadata": {
        "id": "f5eee423-9680-4641-b762-a4a4a52b7238"
      },
      "outputs": [],
      "source": [
        "def standardscaler(x):\n",
        "    return (x-np.mean(x))/(np.std(x))"
      ]
    },
    {
      "cell_type": "code",
      "execution_count": 7,
      "id": "88283f66-badc-49ee-bdb5-421a5b604334",
      "metadata": {
        "id": "88283f66-badc-49ee-bdb5-421a5b604334"
      },
      "outputs": [],
      "source": [
        "def robust(x):\n",
        "    return (x-np.percentile(x,50))/(np.percentile(x,75)-np.percentile(x,25))"
      ]
    },
    {
      "cell_type": "code",
      "execution_count": 8,
      "id": "bfb37012-4f57-4d0a-bcf7-61a117f2cca7",
      "metadata": {
        "colab": {
          "base_uri": "https://localhost:8080/"
        },
        "id": "bfb37012-4f57-4d0a-bcf7-61a117f2cca7",
        "outputId": "60bc4fd3-c41c-468e-d7d4-22721699dddd"
      },
      "outputs": [
        {
          "output_type": "execute_result",
          "data": {
            "text/plain": [
              "array([[-1.22474487],\n",
              "       [ 0.        ],\n",
              "       [ 1.22474487]])"
            ]
          },
          "metadata": {},
          "execution_count": 8
        }
      ],
      "source": [
        "standardscaler(x)"
      ]
    },
    {
      "cell_type": "code",
      "execution_count": 9,
      "id": "13615383-929e-45f4-85af-8ca825dabdbd",
      "metadata": {
        "colab": {
          "base_uri": "https://localhost:8080/"
        },
        "id": "13615383-929e-45f4-85af-8ca825dabdbd",
        "outputId": "2791b2bc-dff7-410f-b701-d3cf28bf46aa"
      },
      "outputs": [
        {
          "output_type": "execute_result",
          "data": {
            "text/plain": [
              "array([[0. ],\n",
              "       [0.5],\n",
              "       [1. ]])"
            ]
          },
          "metadata": {},
          "execution_count": 9
        }
      ],
      "source": [
        "minmaxscaler(x)"
      ]
    },
    {
      "cell_type": "code",
      "execution_count": 10,
      "id": "7d590119-34e4-470f-ad3a-f9f488233b69",
      "metadata": {
        "colab": {
          "base_uri": "https://localhost:8080/"
        },
        "id": "7d590119-34e4-470f-ad3a-f9f488233b69",
        "outputId": "3582a697-a460-440f-b490-8f4f81296b52"
      },
      "outputs": [
        {
          "output_type": "execute_result",
          "data": {
            "text/plain": [
              "array([[-1.],\n",
              "       [ 0.],\n",
              "       [ 1.]])"
            ]
          },
          "metadata": {},
          "execution_count": 10
        }
      ],
      "source": [
        "robust(x)"
      ]
    },
    {
      "cell_type": "code",
      "execution_count": null,
      "id": "2cdae3b1-bc5e-48dc-a1bd-183f9d6386a5",
      "metadata": {
        "id": "2cdae3b1-bc5e-48dc-a1bd-183f9d6386a5"
      },
      "outputs": [],
      "source": []
    },
    {
      "cell_type": "markdown",
      "id": "e1f7e627-3727-488c-af87-66aaba067abc",
      "metadata": {
        "id": "e1f7e627-3727-488c-af87-66aaba067abc"
      },
      "source": [
        "변수가 2개이상인게 거의없다.\n",
        "산포도를 나타나는 산포\n",
        "\n",
        "공분산 한객체에서 발생된 변수\n",
        "두변수의 떨어진 정도\n",
        "\n",
        "(X1-X1_hat)(X2-X2_hat)\n",
        " σ1 σ2\n",
        " \n",
        "빈도수\n",
        " 빈도수 히스토그램\n",
        "\n",
        "박스플롯\n",
        "25% ~ 75% 그외는 이상치"
      ]
    },
    {
      "cell_type": "code",
      "execution_count": null,
      "id": "ccb7a0d3-4688-4336-8567-fa4091a6ad2b",
      "metadata": {
        "id": "ccb7a0d3-4688-4336-8567-fa4091a6ad2b"
      },
      "outputs": [],
      "source": []
    },
    {
      "cell_type": "code",
      "execution_count": 11,
      "id": "93f71d3d-3028-4b49-b8b7-a804a778ffa1",
      "metadata": {
        "colab": {
          "base_uri": "https://localhost:8080/"
        },
        "id": "93f71d3d-3028-4b49-b8b7-a804a778ffa1",
        "outputId": "aefa7895-72ff-4a11-adef-4aa6fdfd29ea"
      },
      "outputs": [
        {
          "output_type": "execute_result",
          "data": {
            "text/plain": [
              "(60000, 28, 28)"
            ]
          },
          "metadata": {},
          "execution_count": 11
        }
      ],
      "source": [
        "X_train.shape"
      ]
    },
    {
      "cell_type": "code",
      "execution_count": 12,
      "id": "80eab483-f12d-4787-bfdb-0ed067c3bc53",
      "metadata": {
        "colab": {
          "base_uri": "https://localhost:8080/"
        },
        "id": "80eab483-f12d-4787-bfdb-0ed067c3bc53",
        "outputId": "8fc5997b-b7b1-47f0-937c-db8f0cb6f676"
      },
      "outputs": [
        {
          "output_type": "execute_result",
          "data": {
            "text/plain": [
              "((60000, 784), (10000, 784))"
            ]
          },
          "metadata": {},
          "execution_count": 12
        }
      ],
      "source": [
        "X_train = X_train.reshape(-1,np.prod(X_train.shape[1:]))\n",
        "X_test = X_test.reshape(-1,(X_test.shape[1]*X_test.shape[2]))\n",
        "X_train.shape,X_test.shape\n",
        "\n",
        "#쫙펴준행위"
      ]
    },
    {
      "cell_type": "markdown",
      "id": "48aa6650-1ba3-4fb4-88c6-5c9cc7772552",
      "metadata": {
        "id": "48aa6650-1ba3-4fb4-88c6-5c9cc7772552"
      },
      "source": [
        "인코딩 된 부분 디코딩 된 부분\n",
        "잠재공간으로부터 원래형태로 표현되어야 한다.\n",
        "\n",
        "GAN이라는 생성모델\n",
        "서로경쟁해서 로스줄임"
      ]
    },
    {
      "cell_type": "markdown",
      "id": "80cdc44f-f80c-4cea-bddb-2d93e5ab6f0e",
      "metadata": {
        "id": "80cdc44f-f80c-4cea-bddb-2d93e5ab6f0e"
      },
      "source": [
        "#잠재공간 이해를 위해서 함수형태로 진행\n",
        "latent_dim = 32\n",
        "input_img = Input(shape=X_train.shape[1:])\n",
        "encoded = Dense(latent_dim)(input_img) #인코딩이미지로\n",
        "decoded = Dense(X_train.shape[1:])(encoded) "
      ]
    },
    {
      "cell_type": "markdown",
      "id": "b56640ea-f853-485a-bac4-3b08ff1b2d85",
      "metadata": {
        "id": "b56640ea-f853-485a-bac4-3b08ff1b2d85"
      },
      "source": [
        "\n",
        "\n",
        "#잠재공간 이해를 위해서 함수형태로 진행\n",
        "latent_dim = 32\n",
        "input_img = Input(shape=X_train.shape[1:])\n",
        "encoded = Dense(latent_dim)(input_img) #인코딩이미지로\n",
        "\n",
        "\n",
        "위의 말과 같은 말\n",
        "model =Sequential(\n",
        "    [\n",
        "        Dense(32,input_shape=X_train.shape[1:])\n",
        "    ]\n",
        ")\n",
        "\n",
        "28*28이 784로 그것을 인코더로 32개만듬.\n",
        "그것을 디코드해서표현\n",
        "디코드는 32개가 784로 바꿈\n"
      ]
    },
    {
      "cell_type": "markdown",
      "source": [
        "##Hyperbolic Tangent, tanh\n",
        "-쌍곡선 함수, 삼각함수는 단위원 그래프를 매개변수로 표시할 때 나오지만, 쌍곡선 함수는 표준 쌍곡선을 매개변수로 표시할때 나온다는 특징이 있음 \n",
        "\n",
        "- 시그모이드 함수를 일부보완, 출력값의 범위가 시그모이드(0~1), 하이퍼볼릭탄젠트는 (-1~1사이)값 출력, 중앙값 0\n",
        "\n",
        "# https://gooopy.tistory.com/54"
      ],
      "metadata": {
        "id": "xpcqtsk4KDR8"
      },
      "id": "xpcqtsk4KDR8"
    },
    {
      "cell_type": "code",
      "execution_count": 21,
      "id": "a60bc993-11c3-495b-9bc1-368183dbeaa0",
      "metadata": {
        "id": "a60bc993-11c3-495b-9bc1-368183dbeaa0"
      },
      "outputs": [],
      "source": [
        "#하이퍼블릭 탄젠트\n",
        "\n",
        "def tanh(x):\n",
        "    return(np.exp(x)-np.exp(-x))/(np.exp(x)+np.exp(-x))"
      ]
    },
    {
      "cell_type": "code",
      "execution_count": 24,
      "id": "ac1def84-ce80-4a3a-b466-1351906d7e1c",
      "metadata": {
        "tags": [],
        "colab": {
          "base_uri": "https://localhost:8080/",
          "height": 448
        },
        "id": "ac1def84-ce80-4a3a-b466-1351906d7e1c",
        "outputId": "ac6b9edc-609f-4010-ac66-03ac53b714bf"
      },
      "outputs": [
        {
          "output_type": "execute_result",
          "data": {
            "text/plain": [
              "[<matplotlib.lines.Line2D at 0x7f6cae9d07f0>]"
            ]
          },
          "metadata": {},
          "execution_count": 24
        },
        {
          "output_type": "display_data",
          "data": {
            "text/plain": [
              "<Figure size 640x480 with 1 Axes>"
            ],
            "image/png": "[encoded data removed]"
          },
          "metadata": {}
        }
      ],
      "source": [
        "x=np.linspace(-5,5,100)\n",
        "y=tanh(x)\n",
        "plt.plot(x,y)"
      ]
    },
    {
      "cell_type": "code",
      "execution_count": null,
      "id": "35515f39-c832-477c-a7be-b19cf590a881",
      "metadata": {
        "id": "35515f39-c832-477c-a7be-b19cf590a881"
      },
      "outputs": [],
      "source": [
        "#미분하면 최대값,최소값"
      ]
    },
    {
      "cell_type": "code",
      "execution_count": 26,
      "id": "43eaf415-0847-4bc4-b5eb-89fe7261cca5",
      "metadata": {
        "id": "43eaf415-0847-4bc4-b5eb-89fe7261cca5"
      },
      "outputs": [],
      "source": [
        "#잠재공간 이해를 위해서 함수형태로 진행\n",
        "#시그모이드 0,1  0~100의 up,down 처음부르는값 50.확률은 똑같다.정보에서는 50이 중요.\n",
        "#조건부확률 가장확률이 높은 값. 나는 특별하지 않다. maximum likelyhood estimation.\n",
        "#1/x * 1/(n-x)  미분해서 0으로두면 최소,최대값 x(n-x) =>2x-n=0   x=2/n\n",
        "#스케일링을 통하여 밑에 모델이 잘적용되게 만듦.\n",
        "latent_dim = 32\n",
        "\n",
        "X_train = (X_train/127.5)-1\n",
        "X_test = (X_test/127.5)-1\n",
        "\n",
        "input_img = Input(shape=X_train.shape[1:])\n",
        "encoded = Dense(latent_dim,activation='relu')(input_img) #인코딩이미지로\n",
        "decoded = Dense(X_train.shape[1],activation='tanh')(encoded) \n",
        "ae = Model(input_img,decoded)#autoencoder"
      ]
    },
    {
      "cell_type": "code",
      "execution_count": 29,
      "id": "8227e08a-2b42-4017-bcdc-6e28258cc165",
      "metadata": {
        "colab": {
          "base_uri": "https://localhost:8080/"
        },
        "id": "8227e08a-2b42-4017-bcdc-6e28258cc165",
        "outputId": "da158099-5634-4f03-c641-7a527e6c795a"
      },
      "outputs": [
        {
          "output_type": "stream",
          "name": "stdout",
          "text": [
            "Model: \"model_1\"\n",
            "_________________________________________________________________\n",
            " Layer (type)                Output Shape              Param #   \n",
            "=================================================================\n",
            " input_2 (InputLayer)        [(None, 784)]             0         \n",
            "                                                                 \n",
            " dense_2 (Dense)             (None, 32)                25120     \n",
            "                                                                 \n",
            " dense_3 (Dense)             (None, 784)               25872     \n",
            "                                                                 \n",
            "=================================================================\n",
            "Total params: 50,992\n",
            "Trainable params: 50,992\n",
            "Non-trainable params: 0\n",
            "_________________________________________________________________\n"
          ]
        }
      ],
      "source": [
        "ae.summary()"
      ]
    },
    {
      "cell_type": "code",
      "execution_count": 30,
      "id": "15f2201a-8063-498e-94af-ba9b85303447",
      "metadata": {
        "colab": {
          "base_uri": "https://localhost:8080/"
        },
        "id": "15f2201a-8063-498e-94af-ba9b85303447",
        "outputId": "f4bfad05-fce0-4bfd-ce05-b58cadb5973e"
      },
      "outputs": [
        {
          "output_type": "execute_result",
          "data": {
            "text/plain": [
              "-0.9921568627450981"
            ]
          },
          "metadata": {},
          "execution_count": 30
        }
      ],
      "source": [
        "np.max(X_train[0])"
      ]
    },
    {
      "cell_type": "code",
      "execution_count": null,
      "id": "c94211b1-f12d-44e5-bac6-8a4e95d94d64",
      "metadata": {
        "id": "c94211b1-f12d-44e5-bac6-8a4e95d94d64"
      },
      "outputs": [],
      "source": [
        "#액티베이션함수가 없다  MSE로평가."
      ]
    },
    {
      "cell_type": "code",
      "execution_count": 31,
      "id": "8e1f993e-91f9-4421-968e-41166e70b4f5",
      "metadata": {
        "id": "8e1f993e-91f9-4421-968e-41166e70b4f5"
      },
      "outputs": [],
      "source": [
        "#ae.compile(optimizer='adam',loss='mean_squared_error')\n",
        "ae.compile(optimizer='adam',loss='binary_crossentropy')\n",
        "#ae.compile(optimizer='adam',loss='categorical_crossentropy') #잘못되는 것을 보여줌"
      ]
    },
    {
      "cell_type": "code",
      "execution_count": 32,
      "id": "642821a3-7ad5-4c55-ba08-a2432e142834",
      "metadata": {
        "tags": [],
        "colab": {
          "base_uri": "https://localhost:8080/"
        },
        "id": "642821a3-7ad5-4c55-ba08-a2432e142834",
        "outputId": "df5a3f14-024c-4457-e62e-e113f988ca62"
      },
      "outputs": [
        {
          "output_type": "stream",
          "name": "stdout",
          "text": [
            "Epoch 1/5\n",
            "1875/1875 [==============================] - 7s 3ms/step - loss: -15.4140\n",
            "Epoch 2/5\n",
            "1875/1875 [==============================] - 5s 3ms/step - loss: -15.5143\n",
            "Epoch 3/5\n",
            "1875/1875 [==============================] - 6s 3ms/step - loss: -15.5143\n",
            "Epoch 4/5\n",
            "1875/1875 [==============================] - 6s 3ms/step - loss: -15.5143\n",
            "Epoch 5/5\n",
            "1875/1875 [==============================] - 6s 3ms/step - loss: -15.5143\n"
          ]
        },
        {
          "output_type": "execute_result",
          "data": {
            "text/plain": [
              "<keras.callbacks.History at 0x7f6cae680fa0>"
            ]
          },
          "metadata": {},
          "execution_count": 32
        }
      ],
      "source": [
        "#진품과 가짜를 전시 좌표를 표시해서 가짜의 모습을 만듦\n",
        "#x,y가 같은 값.\n",
        "ae.fit(X_train,X_train,epochs=5)"
      ]
    },
    {
      "cell_type": "code",
      "execution_count": 33,
      "id": "2eeacf64-fbda-4e7a-8e6a-c73ff242a29f",
      "metadata": {
        "id": "2eeacf64-fbda-4e7a-8e6a-c73ff242a29f"
      },
      "outputs": [],
      "source": [
        "import matplotlib.pyplot as plt"
      ]
    },
    {
      "cell_type": "code",
      "execution_count": 34,
      "id": "9fa80844-cc10-4920-8633-dc5944957a4d",
      "metadata": {
        "id": "9fa80844-cc10-4920-8633-dc5944957a4d"
      },
      "outputs": [],
      "source": [
        "decoder_layer = ae"
      ]
    },
    {
      "cell_type": "code",
      "execution_count": 35,
      "id": "d3e2b9f9-39bf-4e64-8c24-c74dfb4d6acf",
      "metadata": {
        "collapsed": true,
        "jupyter": {
          "outputs_hidden": true
        },
        "tags": [],
        "colab": {
          "base_uri": "https://localhost:8080/"
        },
        "id": "d3e2b9f9-39bf-4e64-8c24-c74dfb4d6acf",
        "outputId": "83c90a0e-91c7-47cb-9a52-4bc49d95f845"
      },
      "outputs": [
        {
          "output_type": "execute_result",
          "data": {
            "text/plain": [
              "array([-1.00784314, -1.00784314, -1.00784314, -1.00784314, -1.00784314,\n",
              "       -1.00784314, -1.00784314, -1.00784314, -1.00784314, -1.00784314,\n",
              "       -1.00784314, -1.00784314, -1.00784314, -1.00784314, -1.00784314,\n",
              "       -1.00784314, -1.00784314, -1.00784314, -1.00784314, -1.00784314,\n",
              "       -1.00784314, -1.00784314, -1.00784314, -1.00784314, -1.00784314,\n",
              "       -1.00784314, -1.00784314, -1.00784314, -1.00784314, -1.00784314,\n",
              "       -1.00784314, -1.00784314, -1.00784314, -1.00784314, -1.00784314,\n",
              "       -1.00784314, -1.00784314, -1.00784314, -1.00784314, -1.00784314,\n",
              "       -1.00784314, -1.00784314, -1.00784314, -1.00784314, -1.00784314,\n",
              "       -1.00784314, -1.00784314, -1.00784314, -1.00784314, -1.00784314,\n",
              "       -1.00784314, -1.00784314, -1.00784314, -1.00784314, -1.00784314,\n",
              "       -1.00784314, -1.00784314, -1.00784314, -1.00784314, -1.00784314,\n",
              "       -1.00784314, -1.00784314, -1.00784314, -1.00784314, -1.00784314,\n",
              "       -1.00784314, -1.00784314, -1.00784314, -1.00784314, -1.00784314,\n",
              "       -1.00784314, -1.00784314, -1.00784314, -1.00784314, -1.00784314,\n",
              "       -1.00784314, -1.00784314, -1.00784314, -1.00784314, -1.00784314,\n",
              "       -1.00784314, -1.00784314, -1.00784314, -1.00784314, -1.00784314,\n",
              "       -1.00784314, -1.00784314, -1.00784314, -1.00784314, -1.00784314,\n",
              "       -1.00784314, -1.00784314, -1.00784314, -1.00784314, -1.00784314,\n",
              "       -1.00784314, -1.00784314, -1.00784314, -1.00784314, -1.00784314,\n",
              "       -1.00784314, -1.00784314, -1.00784314, -1.00784314, -1.00784314,\n",
              "       -1.00784314, -1.00784314, -1.00784314, -1.00784314, -1.00784314,\n",
              "       -1.00784314, -1.00784314, -1.00784314, -1.00784314, -1.00784314,\n",
              "       -1.00784314, -1.00784314, -1.00784314, -1.00784314, -1.00784314,\n",
              "       -1.00784314, -1.00784314, -1.00784314, -1.00784314, -1.00784314,\n",
              "       -1.00784314, -1.00784314, -1.00784314, -1.00784314, -1.00784314,\n",
              "       -1.00784314, -1.00784314, -1.00784314, -1.00784314, -1.00784314,\n",
              "       -1.00784314, -1.00784314, -1.00784314, -1.00784314, -1.00784314,\n",
              "       -1.00784314, -1.00784314, -1.00784314, -1.00784314, -1.00784314,\n",
              "       -1.00784314, -1.00784314, -1.00784314, -1.00784314, -1.00784314,\n",
              "       -1.00784314, -1.00784314, -1.00784314, -1.00784314, -1.00784314,\n",
              "       -1.00784314, -1.00784314, -1.00784314, -1.00784314, -1.00784314,\n",
              "       -1.00784314, -1.00784314, -1.00784314, -1.00784314, -1.00784314,\n",
              "       -1.00784314, -1.00784314, -1.00784314, -1.00784314, -1.00784314,\n",
              "       -1.00784314, -1.00784314, -1.00784314, -1.00784314, -1.00784314,\n",
              "       -1.00784314, -1.00784314, -1.00784314, -1.00784314, -1.00784314,\n",
              "       -1.00784314, -1.00784314, -1.00784314, -1.00784314, -1.00784314,\n",
              "       -1.00784314, -1.00784314, -1.00784314, -1.00784314, -1.00784314,\n",
              "       -1.00784314, -1.00784314, -1.00784314, -1.00784314, -1.00784314,\n",
              "       -1.00784314, -1.00784314, -1.00784314, -1.00784314, -1.00784314,\n",
              "       -1.00784314, -1.00784314, -1.00267589, -0.9964629 , -0.99806228,\n",
              "       -0.9985544 , -1.00415225, -1.0056286 , -1.00784314, -1.00784314,\n",
              "       -1.00784314, -1.00784314, -1.00784314, -1.00784314, -1.00784314,\n",
              "       -1.00784314, -1.00784314, -1.00784314, -1.00784314, -1.00784314,\n",
              "       -1.00784314, -1.00784314, -1.00784314, -1.00784314, -1.00784314,\n",
              "       -1.00784314, -1.00784314, -1.00784314, -1.00784314, -1.00784314,\n",
              "       -0.99418685, -0.99221838, -0.99221838, -0.99221838, -0.99221838,\n",
              "       -0.99301807, -0.99566321, -0.99566321, -0.99566321, -0.99566321,\n",
              "       -0.99566321, -0.99566321, -0.99566321, -0.99566321, -0.99738562,\n",
              "       -1.00464437, -1.00784314, -1.00784314, -1.00784314, -1.00784314,\n",
              "       -1.00784314, -1.00784314, -1.00784314, -1.00784314, -1.00784314,\n",
              "       -1.00784314, -1.00784314, -1.00784314, -1.00372165, -1.00083045,\n",
              "       -1.00341407, -1.00083045, -0.99781622, -0.99387928, -0.99221838,\n",
              "       -0.99400231, -0.99221838, -0.99221838, -0.99221838, -0.99246444,\n",
              "       -0.99375625, -0.99221838, -0.99221838, -0.99923106, -1.00784314,\n",
              "       -1.00784314, -1.00784314, -1.00784314, -1.00784314, -1.00784314,\n",
              "       -1.00784314, -1.00784314, -1.00784314, -1.00784314, -1.00784314,\n",
              "       -1.00784314, -1.00784314, -1.00784314, -1.00784314, -1.00784314,\n",
              "       -1.00784314, -1.00679739, -1.00378316, -1.00698193, -1.00372165,\n",
              "       -1.00372165, -1.00372165, -1.00421376, -1.00655133, -0.99332564,\n",
              "       -0.99221838, -1.00132257, -1.00784314, -1.00784314, -1.00784314,\n",
              "       -1.00784314, -1.00784314, -1.00784314, -1.00784314, -1.00784314,\n",
              "       -1.00784314, -1.00784314, -1.00784314, -1.00784314, -1.00784314,\n",
              "       -1.00784314, -1.00784314, -1.00784314, -1.00784314, -1.00784314,\n",
              "       -1.00784314, -1.00784314, -1.00784314, -1.00784314, -1.00784314,\n",
              "       -1.00784314, -1.00273741, -0.99227989, -0.99498654, -1.00673587,\n",
              "       -1.00784314, -1.00784314, -1.00784314, -1.00784314, -1.00784314,\n",
              "       -1.00784314, -1.00784314, -1.00784314, -1.00784314, -1.00784314,\n",
              "       -1.00784314, -1.00784314, -1.00784314, -1.00784314, -1.00784314,\n",
              "       -1.00784314, -1.00784314, -1.00784314, -1.00784314, -1.00784314,\n",
              "       -1.00784314, -1.00784314, -1.00784314, -1.00648981, -0.99351019,\n",
              "       -0.99215686, -1.00273741, -1.00784314, -1.00784314, -1.00784314,\n",
              "       -1.00784314, -1.00784314, -1.00784314, -1.00784314, -1.00784314,\n",
              "       -1.00784314, -1.00784314, -1.00784314, -1.00784314, -1.00784314,\n",
              "       -1.00784314, -1.00784314, -1.00784314, -1.00784314, -1.00784314,\n",
              "       -1.00784314, -1.00784314, -1.00784314, -1.00784314, -1.00784314,\n",
              "       -1.00784314, -0.99990773, -0.99221838, -0.99320261, -1.00513649,\n",
              "       -1.00784314, -1.00784314, -1.00784314, -1.00784314, -1.00784314,\n",
              "       -1.00784314, -1.00784314, -1.00784314, -1.00784314, -1.00784314,\n",
              "       -1.00784314, -1.00784314, -1.00784314, -1.00784314, -1.00784314,\n",
              "       -1.00784314, -1.00784314, -1.00784314, -1.00784314, -1.00784314,\n",
              "       -1.00784314, -1.00784314, -1.00784314, -1.00421376, -0.99252595,\n",
              "       -0.99221838, -1.00402922, -1.00784314, -1.00784314, -1.00784314,\n",
              "       -1.00784314, -1.00784314, -1.00784314, -1.00784314, -1.00784314,\n",
              "       -1.00784314, -1.00784314, -1.00784314, -1.00784314, -1.00784314,\n",
              "       -1.00784314, -1.00784314, -1.00784314, -1.00784314, -1.00784314,\n",
              "       -1.00784314, -1.00784314, -1.00784314, -1.00784314, -1.00784314,\n",
              "       -1.00784314, -0.99966167, -0.99221838, -0.99633987, -1.00753556,\n",
              "       -1.00784314, -1.00784314, -1.00784314, -1.00784314, -1.00784314,\n",
              "       -1.00784314, -1.00784314, -1.00784314, -1.00784314, -1.00784314,\n",
              "       -1.00784314, -1.00784314, -1.00784314, -1.00784314, -1.00784314,\n",
              "       -1.00784314, -1.00784314, -1.00784314, -1.00784314, -1.00784314,\n",
              "       -1.00784314, -1.00784314, -1.00784314, -1.0072895 , -0.9952326 ,\n",
              "       -0.99258747, -1.00427528, -1.00784314, -1.00784314, -1.00784314,\n",
              "       -1.00784314, -1.00784314, -1.00784314, -1.00784314, -1.00784314,\n",
              "       -1.00784314, -1.00784314, -1.00784314, -1.00784314, -1.00784314,\n",
              "       -1.00784314, -1.00784314, -1.00784314, -1.00784314, -1.00784314,\n",
              "       -1.00784314, -1.00784314, -1.00784314, -1.00784314, -1.00784314,\n",
              "       -1.00784314, -1.00009227, -0.99221838, -0.99664744, -1.00784314,\n",
              "       -1.00784314, -1.00784314, -1.00784314, -1.00784314, -1.00784314,\n",
              "       -1.00784314, -1.00784314, -1.00784314, -1.00784314, -1.00784314,\n",
              "       -1.00784314, -1.00784314, -1.00784314, -1.00784314, -1.00784314,\n",
              "       -1.00784314, -1.00784314, -1.00784314, -1.00784314, -1.00784314,\n",
              "       -1.00784314, -1.00784314, -1.00784314, -1.00322953, -0.99240292,\n",
              "       -0.99307958, -1.00433679, -1.00784314, -1.00784314, -1.00784314,\n",
              "       -1.00784314, -1.00784314, -1.00784314, -1.00784314, -1.00784314,\n",
              "       -1.00784314, -1.00784314, -1.00784314, -1.00784314, -1.00784314,\n",
              "       -1.00784314, -1.00784314, -1.00784314, -1.00784314, -1.00784314,\n",
              "       -1.00784314, -1.00784314, -1.00784314, -1.00784314, -1.00784314,\n",
              "       -1.00667436, -0.99424837, -0.99221838, -0.99763168, -1.00784314,\n",
              "       -1.00784314, -1.00784314, -1.00784314, -1.00784314, -1.00784314,\n",
              "       -1.00784314, -1.00784314, -1.00784314, -1.00784314, -1.00784314,\n",
              "       -1.00784314, -1.00784314, -1.00784314, -1.00784314, -1.00784314,\n",
              "       -1.00784314, -1.00784314, -1.00784314, -1.00784314, -1.00784314,\n",
              "       -1.00784314, -1.00784314, -1.00765859, -0.99535563, -0.99221838,\n",
              "       -0.9943714 , -1.00569012, -1.00784314, -1.00784314, -1.00784314,\n",
              "       -1.00784314, -1.00784314, -1.00784314, -1.00784314, -1.00784314,\n",
              "       -1.00784314, -1.00784314, -1.00784314, -1.00784314, -1.00784314,\n",
              "       -1.00784314, -1.00784314, -1.00784314, -1.00784314, -1.00784314,\n",
              "       -1.00784314, -1.00784314, -1.00784314, -1.00784314, -1.00784314,\n",
              "       -1.00550557, -0.99221838, -0.99221838, -1.0031065 , -1.00784314,\n",
              "       -1.00784314, -1.00784314, -1.00784314, -1.00784314, -1.00784314,\n",
              "       -1.00784314, -1.00784314, -1.00784314, -1.00784314, -1.00784314,\n",
              "       -1.00784314, -1.00784314, -1.00784314, -1.00784314, -1.00784314,\n",
              "       -1.00784314, -1.00784314, -1.00784314, -1.00784314, -1.00784314,\n",
              "       -1.00784314, -1.00784314, -1.00593618, -0.99406382, -0.99221838,\n",
              "       -1.00076894, -1.00778162, -1.00784314, -1.00784314, -1.00784314,\n",
              "       -1.00784314, -1.00784314, -1.00784314, -1.00784314, -1.00784314,\n",
              "       -1.00784314, -1.00784314, -1.00784314, -1.00784314, -1.00784314,\n",
              "       -1.00784314, -1.00784314, -1.00784314, -1.00784314, -1.00784314,\n",
              "       -1.00784314, -1.00784314, -1.00784314, -1.00784314, -1.00784314,\n",
              "       -0.99966167, -0.99221838, -0.99221838, -1.00464437, -1.00784314,\n",
              "       -1.00784314, -1.00784314, -1.00784314, -1.00784314, -1.00784314,\n",
              "       -1.00784314, -1.00784314, -1.00784314, -1.00784314, -1.00784314,\n",
              "       -1.00784314, -1.00784314, -1.00784314, -1.00784314, -1.00784314,\n",
              "       -1.00784314, -1.00784314, -1.00784314, -1.00784314, -1.00784314,\n",
              "       -1.00784314, -1.00784314, -1.00409073, -0.99295656, -0.99221838,\n",
              "       -0.99221838, -1.00464437, -1.00784314, -1.00784314, -1.00784314,\n",
              "       -1.00784314, -1.00784314, -1.00784314, -1.00784314, -1.00784314,\n",
              "       -1.00784314, -1.00784314, -1.00784314, -1.00784314, -1.00784314,\n",
              "       -1.00784314, -1.00784314, -1.00784314, -1.00784314, -1.00784314,\n",
              "       -1.00784314, -1.00784314, -1.00784314, -1.00784314, -1.00784314,\n",
              "       -1.00039985, -0.99221838, -0.99221838, -0.9943714 , -1.00538255,\n",
              "       -1.00784314, -1.00784314, -1.00784314, -1.00784314, -1.00784314,\n",
              "       -1.00784314, -1.00784314, -1.00784314, -1.00784314, -1.00784314,\n",
              "       -1.00784314, -1.00784314, -1.00784314, -1.00784314, -1.00784314,\n",
              "       -1.00784314, -1.00784314, -1.00784314, -1.00784314, -1.00784314,\n",
              "       -1.00784314, -1.00784314, -1.00784314, -1.00039985, -0.99221838,\n",
              "       -0.99510957, -1.00673587, -1.00784314, -1.00784314, -1.00784314,\n",
              "       -1.00784314, -1.00784314, -1.00784314, -1.00784314, -1.00784314,\n",
              "       -1.00784314, -1.00784314, -1.00784314, -1.00784314, -1.00784314,\n",
              "       -1.00784314, -1.00784314, -1.00784314, -1.00784314, -1.00784314,\n",
              "       -1.00784314, -1.00784314, -1.00784314, -1.00784314, -1.00784314,\n",
              "       -1.00784314, -1.00784314, -1.00784314, -1.00784314, -1.00784314,\n",
              "       -1.00784314, -1.00784314, -1.00784314, -1.00784314, -1.00784314,\n",
              "       -1.00784314, -1.00784314, -1.00784314, -1.00784314, -1.00784314,\n",
              "       -1.00784314, -1.00784314, -1.00784314, -1.00784314])"
            ]
          },
          "metadata": {},
          "execution_count": 35
        }
      ],
      "source": [
        "X_test[0]"
      ]
    },
    {
      "cell_type": "code",
      "execution_count": 36,
      "id": "350a0f47-57d9-4a88-a931-a71a5be08a0f",
      "metadata": {
        "tags": [],
        "colab": {
          "base_uri": "https://localhost:8080/",
          "height": 448
        },
        "id": "350a0f47-57d9-4a88-a931-a71a5be08a0f",
        "outputId": "63f5c705-a2af-48e5-928b-6b3f71d1e901"
      },
      "outputs": [
        {
          "output_type": "execute_result",
          "data": {
            "text/plain": [
              "<matplotlib.image.AxesImage at 0x7f6caef36fb0>"
            ]
          },
          "metadata": {},
          "execution_count": 36
        },
        {
          "output_type": "display_data",
          "data": {
            "text/plain": [
              "<Figure size 640x480 with 1 Axes>"
            ],
            "image/png": "[encoded data removed]"
          },
          "metadata": {}
        }
      ],
      "source": [
        "plt.imshow(X_test[0].reshape(28,28))"
      ]
    },
    {
      "cell_type": "code",
      "execution_count": 39,
      "id": "37bc36a9-556e-4569-8df7-aa2a5890eed1",
      "metadata": {
        "tags": [],
        "id": "37bc36a9-556e-4569-8df7-aa2a5890eed1"
      },
      "outputs": [],
      "source": [
        "encoded1 = np.dot((X_test[[0]]),ae.layers[1].get_weights()[0])+ ae.layers[1].get_weights()[1]"
      ]
    },
    {
      "cell_type": "code",
      "execution_count": 40,
      "id": "1e767880-a107-47f1-9418-d2f759126f56",
      "metadata": {
        "colab": {
          "base_uri": "https://localhost:8080/"
        },
        "id": "1e767880-a107-47f1-9418-d2f759126f56",
        "outputId": "01911619-8ec0-4a1c-cd32-021661de89dd"
      },
      "outputs": [
        {
          "output_type": "execute_result",
          "data": {
            "text/plain": [
              "(784, 32)"
            ]
          },
          "metadata": {},
          "execution_count": 40
        }
      ],
      "source": [
        "ae.layers[1].get_weights()[0].shape"
      ]
    },
    {
      "cell_type": "code",
      "execution_count": 41,
      "id": "1791ac12-6aad-4831-82bb-7e63836fe148",
      "metadata": {
        "colab": {
          "base_uri": "https://localhost:8080/"
        },
        "id": "1791ac12-6aad-4831-82bb-7e63836fe148",
        "outputId": "176bef23-5412-4d05-f818-831fd55ea32d"
      },
      "outputs": [
        {
          "output_type": "execute_result",
          "data": {
            "text/plain": [
              "(1, 32)"
            ]
          },
          "metadata": {},
          "execution_count": 41
        }
      ],
      "source": [
        "encoded1.shape"
      ]
    },
    {
      "cell_type": "code",
      "execution_count": 42,
      "id": "b795bb57-6d0e-476d-9374-71287919a7cc",
      "metadata": {
        "id": "b795bb57-6d0e-476d-9374-71287919a7cc"
      },
      "outputs": [],
      "source": [
        "decoded1 = np.dot(encoded1, ae.layers[-1].get_weights()[0])+ae.layers[-1].get_weights()[1]"
      ]
    },
    {
      "cell_type": "code",
      "execution_count": 43,
      "id": "75f62b2e-f853-470b-83d6-7a839b9bb7c4",
      "metadata": {
        "tags": [],
        "colab": {
          "base_uri": "https://localhost:8080/"
        },
        "id": "75f62b2e-f853-470b-83d6-7a839b9bb7c4",
        "outputId": "03e3a20c-c0ac-4820-a95b-03c1553d9ec5"
      },
      "outputs": [
        {
          "output_type": "execute_result",
          "data": {
            "text/plain": [
              "(1, 784)"
            ]
          },
          "metadata": {},
          "execution_count": 43
        }
      ],
      "source": [
        "decoded1.shape"
      ]
    },
    {
      "cell_type": "code",
      "execution_count": 44,
      "id": "6007cd8e-0cbd-467d-904e-615adfce9a3a",
      "metadata": {
        "id": "6007cd8e-0cbd-467d-904e-615adfce9a3a"
      },
      "outputs": [],
      "source": [
        "decoded1 = decoded1.reshape(28,28)"
      ]
    },
    {
      "cell_type": "code",
      "execution_count": 45,
      "id": "0e5a16ba-79d4-48de-b55f-b376d53336f4",
      "metadata": {
        "collapsed": true,
        "jupyter": {
          "outputs_hidden": true
        },
        "tags": [],
        "colab": {
          "base_uri": "https://localhost:8080/",
          "height": 448
        },
        "id": "0e5a16ba-79d4-48de-b55f-b376d53336f4",
        "outputId": "2724f54b-a8dc-46fc-d781-d696d0955290"
      },
      "outputs": [
        {
          "output_type": "execute_result",
          "data": {
            "text/plain": [
              "<matplotlib.image.AxesImage at 0x7f6caef4c0d0>"
            ]
          },
          "metadata": {},
          "execution_count": 45
        },
        {
          "output_type": "display_data",
          "data": {
            "text/plain": [
              "<Figure size 640x480 with 1 Axes>"
            ],
            "image/png": "[encoded data removed]"
          },
          "metadata": {}
        }
      ],
      "source": [
        "plt.imshow(decoded1)"
      ]
    },
    {
      "cell_type": "code",
      "execution_count": 47,
      "id": "1cea3e6c-ecec-47ed-925c-f55776a440fe",
      "metadata": {
        "tags": [],
        "colab": {
          "base_uri": "https://localhost:8080/"
        },
        "id": "1cea3e6c-ecec-47ed-925c-f55776a440fe",
        "outputId": "a4a38f25-1ec4-4ad0-9a5d-831a87a43dce"
      },
      "outputs": [
        {
          "output_type": "execute_result",
          "data": {
            "text/plain": [
              "(1, 32)"
            ]
          },
          "metadata": {},
          "execution_count": 47
        }
      ],
      "source": [
        "encoded1.shape"
      ]
    },
    {
      "cell_type": "code",
      "execution_count": 46,
      "id": "127c4ed1-612e-4884-889c-99a21463a4b0",
      "metadata": {
        "id": "127c4ed1-612e-4884-889c-99a21463a4b0"
      },
      "outputs": [],
      "source": [
        "decode_layer = ae.layers[-1]"
      ]
    },
    {
      "cell_type": "code",
      "execution_count": 49,
      "id": "e09a816a-63bd-4b19-9ce0-b7629c9a04a6",
      "metadata": {
        "collapsed": true,
        "jupyter": {
          "outputs_hidden": true
        },
        "tags": [],
        "colab": {
          "base_uri": "https://localhost:8080/",
          "height": 345
        },
        "id": "e09a816a-63bd-4b19-9ce0-b7629c9a04a6",
        "outputId": "38a7dd44-7290-434a-e4f1-718957bb18e7"
      },
      "outputs": [
        {
          "output_type": "error",
          "ename": "ValueError",
          "evalue": "ignored",
          "traceback": [
            "\u001b[0;31m---------------------------------------------------------------------------\u001b[0m",
            "\u001b[0;31mValueError\u001b[0m                                Traceback (most recent call last)",
            "\u001b[0;32m<ipython-input-49-24c038097aa1>\u001b[0m in \u001b[0;36m<cell line: 1>\u001b[0;34m()\u001b[0m\n\u001b[0;32m----> 1\u001b[0;31m \u001b[0mdecode_model\u001b[0m \u001b[0;34m=\u001b[0m \u001b[0mModel\u001b[0m\u001b[0;34m(\u001b[0m\u001b[0mInput\u001b[0m\u001b[0;34m(\u001b[0m\u001b[0mshape\u001b[0m\u001b[0;34m=\u001b[0m\u001b[0;34m(\u001b[0m\u001b[0;36m32\u001b[0m\u001b[0;34m,\u001b[0m\u001b[0;34m)\u001b[0m\u001b[0;34m)\u001b[0m\u001b[0;34m,\u001b[0m\u001b[0mdecode_layer\u001b[0m\u001b[0;34m)\u001b[0m\u001b[0;34m\u001b[0m\u001b[0;34m\u001b[0m\u001b[0m\n\u001b[0m",
            "\u001b[0;32m/usr/local/lib/python3.10/dist-packages/tensorflow/python/trackable/base.py\u001b[0m in \u001b[0;36m_method_wrapper\u001b[0;34m(self, *args, **kwargs)\u001b[0m\n\u001b[1;32m    203\u001b[0m     \u001b[0mself\u001b[0m\u001b[0;34m.\u001b[0m\u001b[0m_self_setattr_tracking\u001b[0m \u001b[0;34m=\u001b[0m \u001b[0;32mFalse\u001b[0m  \u001b[0;31m# pylint: disable=protected-access\u001b[0m\u001b[0;34m\u001b[0m\u001b[0;34m\u001b[0m\u001b[0m\n\u001b[1;32m    204\u001b[0m     \u001b[0;32mtry\u001b[0m\u001b[0;34m:\u001b[0m\u001b[0;34m\u001b[0m\u001b[0;34m\u001b[0m\u001b[0m\n\u001b[0;32m--> 205\u001b[0;31m       \u001b[0mresult\u001b[0m \u001b[0;34m=\u001b[0m \u001b[0mmethod\u001b[0m\u001b[0;34m(\u001b[0m\u001b[0mself\u001b[0m\u001b[0;34m,\u001b[0m \u001b[0;34m*\u001b[0m\u001b[0margs\u001b[0m\u001b[0;34m,\u001b[0m \u001b[0;34m**\u001b[0m\u001b[0mkwargs\u001b[0m\u001b[0;34m)\u001b[0m\u001b[0;34m\u001b[0m\u001b[0;34m\u001b[0m\u001b[0m\n\u001b[0m\u001b[1;32m    206\u001b[0m     \u001b[0;32mfinally\u001b[0m\u001b[0;34m:\u001b[0m\u001b[0;34m\u001b[0m\u001b[0;34m\u001b[0m\u001b[0m\n\u001b[1;32m    207\u001b[0m       \u001b[0mself\u001b[0m\u001b[0;34m.\u001b[0m\u001b[0m_self_setattr_tracking\u001b[0m \u001b[0;34m=\u001b[0m \u001b[0mprevious_value\u001b[0m  \u001b[0;31m# pylint: disable=protected-access\u001b[0m\u001b[0;34m\u001b[0m\u001b[0;34m\u001b[0m\u001b[0m\n",
            "\u001b[0;32m/usr/local/lib/python3.10/dist-packages/keras/engine/functional.py\u001b[0m in \u001b[0;36m__init__\u001b[0;34m(self, inputs, outputs, name, trainable, **kwargs)\u001b[0m\n\u001b[1;32m    165\u001b[0m                     \u001b[0minputs\u001b[0m\u001b[0;34m,\u001b[0m \u001b[0moutputs\u001b[0m\u001b[0;34m\u001b[0m\u001b[0;34m\u001b[0m\u001b[0m\n\u001b[1;32m    166\u001b[0m                 )\n\u001b[0;32m--> 167\u001b[0;31m         \u001b[0mself\u001b[0m\u001b[0;34m.\u001b[0m\u001b[0m_init_graph_network\u001b[0m\u001b[0;34m(\u001b[0m\u001b[0minputs\u001b[0m\u001b[0;34m,\u001b[0m \u001b[0moutputs\u001b[0m\u001b[0;34m)\u001b[0m\u001b[0;34m\u001b[0m\u001b[0;34m\u001b[0m\u001b[0m\n\u001b[0m\u001b[1;32m    168\u001b[0m \u001b[0;34m\u001b[0m\u001b[0m\n\u001b[1;32m    169\u001b[0m     \u001b[0;34m@\u001b[0m\u001b[0mtf\u001b[0m\u001b[0;34m.\u001b[0m\u001b[0m__internal__\u001b[0m\u001b[0;34m.\u001b[0m\u001b[0mtracking\u001b[0m\u001b[0;34m.\u001b[0m\u001b[0mno_automatic_dependency_tracking\u001b[0m\u001b[0;34m\u001b[0m\u001b[0;34m\u001b[0m\u001b[0m\n",
            "\u001b[0;32m/usr/local/lib/python3.10/dist-packages/tensorflow/python/trackable/base.py\u001b[0m in \u001b[0;36m_method_wrapper\u001b[0;34m(self, *args, **kwargs)\u001b[0m\n\u001b[1;32m    203\u001b[0m     \u001b[0mself\u001b[0m\u001b[0;34m.\u001b[0m\u001b[0m_self_setattr_tracking\u001b[0m \u001b[0;34m=\u001b[0m \u001b[0;32mFalse\u001b[0m  \u001b[0;31m# pylint: disable=protected-access\u001b[0m\u001b[0;34m\u001b[0m\u001b[0;34m\u001b[0m\u001b[0m\n\u001b[1;32m    204\u001b[0m     \u001b[0;32mtry\u001b[0m\u001b[0;34m:\u001b[0m\u001b[0;34m\u001b[0m\u001b[0;34m\u001b[0m\u001b[0m\n\u001b[0;32m--> 205\u001b[0;31m       \u001b[0mresult\u001b[0m \u001b[0;34m=\u001b[0m \u001b[0mmethod\u001b[0m\u001b[0;34m(\u001b[0m\u001b[0mself\u001b[0m\u001b[0;34m,\u001b[0m \u001b[0;34m*\u001b[0m\u001b[0margs\u001b[0m\u001b[0;34m,\u001b[0m \u001b[0;34m**\u001b[0m\u001b[0mkwargs\u001b[0m\u001b[0;34m)\u001b[0m\u001b[0;34m\u001b[0m\u001b[0;34m\u001b[0m\u001b[0m\n\u001b[0m\u001b[1;32m    206\u001b[0m     \u001b[0;32mfinally\u001b[0m\u001b[0;34m:\u001b[0m\u001b[0;34m\u001b[0m\u001b[0;34m\u001b[0m\u001b[0m\n\u001b[1;32m    207\u001b[0m       \u001b[0mself\u001b[0m\u001b[0;34m.\u001b[0m\u001b[0m_self_setattr_tracking\u001b[0m \u001b[0;34m=\u001b[0m \u001b[0mprevious_value\u001b[0m  \u001b[0;31m# pylint: disable=protected-access\u001b[0m\u001b[0;34m\u001b[0m\u001b[0;34m\u001b[0m\u001b[0m\n",
            "\u001b[0;32m/usr/local/lib/python3.10/dist-packages/keras/engine/functional.py\u001b[0m in \u001b[0;36m_init_graph_network\u001b[0;34m(self, inputs, outputs)\u001b[0m\n\u001b[1;32m    207\u001b[0m                 \u001b[0mbase_layer_utils\u001b[0m\u001b[0;34m.\u001b[0m\u001b[0mcreate_keras_history\u001b[0m\u001b[0;34m(\u001b[0m\u001b[0mself\u001b[0m\u001b[0;34m.\u001b[0m\u001b[0m_nested_outputs\u001b[0m\u001b[0;34m)\u001b[0m\u001b[0;34m\u001b[0m\u001b[0;34m\u001b[0m\u001b[0m\n\u001b[1;32m    208\u001b[0m \u001b[0;34m\u001b[0m\u001b[0m\n\u001b[0;32m--> 209\u001b[0;31m         \u001b[0mself\u001b[0m\u001b[0;34m.\u001b[0m\u001b[0m_validate_graph_inputs_and_outputs\u001b[0m\u001b[0;34m(\u001b[0m\u001b[0;34m)\u001b[0m\u001b[0;34m\u001b[0m\u001b[0;34m\u001b[0m\u001b[0m\n\u001b[0m\u001b[1;32m    210\u001b[0m \u001b[0;34m\u001b[0m\u001b[0m\n\u001b[1;32m    211\u001b[0m         \u001b[0;31m# A Network does not create weights of its own, thus it is already\u001b[0m\u001b[0;34m\u001b[0m\u001b[0;34m\u001b[0m\u001b[0m\n",
            "\u001b[0;32m/usr/local/lib/python3.10/dist-packages/keras/engine/functional.py\u001b[0m in \u001b[0;36m_validate_graph_inputs_and_outputs\u001b[0;34m(self)\u001b[0m\n\u001b[1;32m    870\u001b[0m             \u001b[0;32mif\u001b[0m \u001b[0;32mnot\u001b[0m \u001b[0mhasattr\u001b[0m\u001b[0;34m(\u001b[0m\u001b[0mx\u001b[0m\u001b[0;34m,\u001b[0m \u001b[0;34m\"_keras_history\"\u001b[0m\u001b[0;34m)\u001b[0m\u001b[0;34m:\u001b[0m\u001b[0;34m\u001b[0m\u001b[0;34m\u001b[0m\u001b[0m\n\u001b[1;32m    871\u001b[0m                 \u001b[0mcls_name\u001b[0m \u001b[0;34m=\u001b[0m \u001b[0mself\u001b[0m\u001b[0;34m.\u001b[0m\u001b[0m__class__\u001b[0m\u001b[0;34m.\u001b[0m\u001b[0m__name__\u001b[0m\u001b[0;34m\u001b[0m\u001b[0;34m\u001b[0m\u001b[0m\n\u001b[0;32m--> 872\u001b[0;31m                 raise ValueError(\n\u001b[0m\u001b[1;32m    873\u001b[0m                     \u001b[0;34mf\"Output tensors of a {cls_name} model must be \"\u001b[0m\u001b[0;34m\u001b[0m\u001b[0;34m\u001b[0m\u001b[0m\n\u001b[1;32m    874\u001b[0m                     \u001b[0;34m\"the output of a TensorFlow `Layer` \"\u001b[0m\u001b[0;34m\u001b[0m\u001b[0;34m\u001b[0m\u001b[0m\n",
            "\u001b[0;31mValueError\u001b[0m: Output tensors of a Functional model must be the output of a TensorFlow `Layer` (thus holding past layer metadata). Found: <keras.layers.core.dense.Dense object at 0x7f6caeb89180>"
          ]
        }
      ],
      "source": [
        "decode_model = Model(Input(shape=(32,)),decode_layer)"
      ]
    },
    {
      "cell_type": "code",
      "execution_count": 50,
      "id": "b554dc80-dd6d-42ec-adac-7e6fe551adde",
      "metadata": {
        "id": "b554dc80-dd6d-42ec-adac-7e6fe551adde"
      },
      "outputs": [],
      "source": [
        "x=np.arange(1,100)\n",
        "n=100\n",
        "y=x*(n-x)"
      ]
    },
    {
      "cell_type": "code",
      "execution_count": 51,
      "id": "05f6ad61-c553-4661-a438-f3bd44228231",
      "metadata": {
        "collapsed": true,
        "jupyter": {
          "outputs_hidden": true
        },
        "tags": [],
        "colab": {
          "base_uri": "https://localhost:8080/",
          "height": 448
        },
        "id": "05f6ad61-c553-4661-a438-f3bd44228231",
        "outputId": "61890a0f-fd20-4475-ee50-a5638085822f"
      },
      "outputs": [
        {
          "output_type": "execute_result",
          "data": {
            "text/plain": [
              "[<matplotlib.lines.Line2D at 0x7f6caa11dcc0>]"
            ]
          },
          "metadata": {},
          "execution_count": 51
        },
        {
          "output_type": "display_data",
          "data": {
            "text/plain": [
              "<Figure size 640x480 with 1 Axes>"
            ],
            "image/png": "[encoded data removed]"
          },
          "metadata": {}
        }
      ],
      "source": [
        "plt.plot(x,y)\n"
      ]
    },
    {
      "cell_type": "markdown",
      "id": "877028f5-1781-40ca-b864-9a25e6777b3a",
      "metadata": {
        "id": "877028f5-1781-40ca-b864-9a25e6777b3a"
      },
      "source": [
        "sigmoid 미분 sig(1-sig)\n"
      ]
    },
    {
      "cell_type": "code",
      "execution_count": null,
      "id": "836d65e1-c59b-46e8-bc22-311e377a6de0",
      "metadata": {
        "collapsed": true,
        "jupyter": {
          "outputs_hidden": true
        },
        "tags": [],
        "id": "836d65e1-c59b-46e8-bc22-311e377a6de0",
        "outputId": "e86d63b7-2dee-4ae7-84c3-c44aa33e6c38"
      },
      "outputs": [
        {
          "data": {
            "text/plain": [
              "[<matplotlib.lines.Line2D at 0x1d502e3fd90>]"
            ]
          },
          "execution_count": 40,
          "metadata": {},
          "output_type": "execute_result"
        },
        {
          "data": {
            "image/png": "[encoded data removed]",
            "text/plain": [
              "<Figure size 640x480 with 1 Axes>"
            ]
          },
          "metadata": {},
          "output_type": "display_data"
        }
      ],
      "source": [
        "x = np.linspace(-5,5,100)\n",
        "sig = lambda x : 1/(1+np.exp(-x))\n",
        "\n",
        "y = sig(x)*(1-sig(x))\n",
        "plt.plot(x,y)"
      ]
    },
    {
      "cell_type": "markdown",
      "id": "01b50bc9-b3bd-4040-a1bc-b4b36ea5ba42",
      "metadata": {
        "id": "01b50bc9-b3bd-4040-a1bc-b4b36ea5ba42"
      },
      "source": [
        "#데코레이터\n",
        "#코딩을 잘해야 한다.\n",
        "#class 현실에서는 많이 씀.\n",
        "@qwe가 데코레이터\n",
        "@qwe\n",
        "def asd(x):\n",
        "    return xax"
      ]
    },
    {
      "cell_type": "code",
      "execution_count": 52,
      "id": "35e5524f-e3bb-4758-a623-9eea91b6436f",
      "metadata": {
        "colab": {
          "base_uri": "https://localhost:8080/"
        },
        "id": "35e5524f-e3bb-4758-a623-9eea91b6436f",
        "outputId": "c98de3b1-a448-412c-e081-7d974a34e32d"
      },
      "outputs": [
        {
          "output_type": "stream",
          "name": "stdout",
          "text": [
            "Downloading data from https://storage.googleapis.com/tensorflow/tf-keras-datasets/train-labels-idx1-ubyte.gz\n",
            "29515/29515 [==============================] - 0s 0us/step\n",
            "Downloading data from https://storage.googleapis.com/tensorflow/tf-keras-datasets/train-images-idx3-ubyte.gz\n",
            "26421880/26421880 [==============================] - 0s 0us/step\n",
            "Downloading data from https://storage.googleapis.com/tensorflow/tf-keras-datasets/t10k-labels-idx1-ubyte.gz\n",
            "5148/5148 [==============================] - 0s 0us/step\n",
            "Downloading data from https://storage.googleapis.com/tensorflow/tf-keras-datasets/t10k-images-idx3-ubyte.gz\n",
            "4422102/4422102 [==============================] - 0s 0us/step\n"
          ]
        }
      ],
      "source": [
        "(X_train,_),(X_test,_) =fashion_mnist.load_data()"
      ]
    },
    {
      "cell_type": "code",
      "execution_count": 53,
      "id": "992ed22a-4595-4352-95fd-14d0240628ec",
      "metadata": {
        "tags": [],
        "id": "992ed22a-4595-4352-95fd-14d0240628ec"
      },
      "outputs": [],
      "source": [
        "def a_func():\n",
        "    print ('a function')\n",
        "def b_func():\n",
        "    print('b function')"
      ]
    },
    {
      "cell_type": "code",
      "execution_count": 54,
      "id": "ad91d939-2abd-4dfe-9e1f-04cb0a9f7e08",
      "metadata": {
        "colab": {
          "base_uri": "https://localhost:8080/"
        },
        "id": "ad91d939-2abd-4dfe-9e1f-04cb0a9f7e08",
        "outputId": "4780d012-a560-45df-b850-556835911206"
      },
      "outputs": [
        {
          "output_type": "stream",
          "name": "stdout",
          "text": [
            "a function\n"
          ]
        }
      ],
      "source": [
        "a_func()"
      ]
    },
    {
      "cell_type": "code",
      "execution_count": 55,
      "id": "0ca72362-e841-4132-b13d-e14547f02416",
      "metadata": {
        "colab": {
          "base_uri": "https://localhost:8080/"
        },
        "id": "0ca72362-e841-4132-b13d-e14547f02416",
        "outputId": "39ad86c8-b49d-43ff-89fc-7cad3dfcc219"
      },
      "outputs": [
        {
          "output_type": "stream",
          "name": "stdout",
          "text": [
            "b function\n"
          ]
        }
      ],
      "source": [
        "b_func()"
      ]
    },
    {
      "cell_type": "code",
      "execution_count": 56,
      "id": "6562d209-f73d-4df2-b3df-fc2640ffac87",
      "metadata": {
        "id": "6562d209-f73d-4df2-b3df-fc2640ffac87"
      },
      "outputs": [],
      "source": [
        "def another_func(func):\n",
        "    return b_func()"
      ]
    },
    {
      "cell_type": "code",
      "execution_count": 57,
      "id": "59297c9f-d8b7-4cad-956e-4ba08239e945",
      "metadata": {
        "colab": {
          "base_uri": "https://localhost:8080/"
        },
        "id": "59297c9f-d8b7-4cad-956e-4ba08239e945",
        "outputId": "8abc9255-a5e2-4061-e597-61df649ad8f0"
      },
      "outputs": [
        {
          "output_type": "stream",
          "name": "stdout",
          "text": [
            "b function\n"
          ]
        }
      ],
      "source": [
        "@another_func\n",
        "def a_func():\n",
        "    print('a function')"
      ]
    },
    {
      "cell_type": "code",
      "execution_count": 58,
      "id": "7132450c-d469-4ae6-989e-6b3c78e3e870",
      "metadata": {
        "colab": {
          "base_uri": "https://localhost:8080/"
        },
        "id": "7132450c-d469-4ae6-989e-6b3c78e3e870",
        "outputId": "6612a554-2d8f-42be-da32-608709ec03a4"
      },
      "outputs": [
        {
          "output_type": "stream",
          "name": "stdout",
          "text": [
            "b function\n"
          ]
        }
      ],
      "source": [
        "another_func(a_func)"
      ]
    },
    {
      "cell_type": "code",
      "execution_count": null,
      "id": "ca62c9dc-ddd0-499b-9caa-f9cbfb78c417",
      "metadata": {
        "id": "ca62c9dc-ddd0-499b-9caa-f9cbfb78c417"
      },
      "outputs": [],
      "source": [
        "#앞으로는 속도도 생각하고 만들어야 함.\n",
        "#카멜케이스와 스네이크케이스"
      ]
    },
    {
      "cell_type": "code",
      "execution_count": 59,
      "id": "268d4c7d-1353-4f9f-ba3b-139b42095cd3",
      "metadata": {
        "colab": {
          "base_uri": "https://localhost:8080/",
          "height": 35
        },
        "id": "268d4c7d-1353-4f9f-ba3b-139b42095cd3",
        "outputId": "8218eac7-387d-4c1f-c56e-d6c500a35444"
      },
      "outputs": [
        {
          "output_type": "execute_result",
          "data": {
            "text/plain": [
              "'AbcDef'"
            ],
            "application/vnd.google.colaboratory.intrinsic+json": {
              "type": "string"
            }
          },
          "metadata": {},
          "execution_count": 59
        }
      ],
      "source": [
        "'abc_def' #리스르토 먼저만듦\n",
        "'abc_def'.split('_') #['abc', 'def']\n",
        "\n",
        "[word.capitalize() for word in 'abc_def'.split('_')]  #['Abc', 'Def']\n",
        "\n",
        "''.join([word.capitalize() for word in 'abc_def'.split('_')]) #'AbcDef'\n"
      ]
    },
    {
      "cell_type": "code",
      "execution_count": 60,
      "id": "90e4676e-ecb6-46d4-b156-788e86a0ab83",
      "metadata": {
        "id": "90e4676e-ecb6-46d4-b156-788e86a0ab83"
      },
      "outputs": [],
      "source": [
        "def camelcase(x):\n",
        "    return ''.join([word.capitalize() for word in x.split('_')]) "
      ]
    },
    {
      "cell_type": "code",
      "execution_count": 61,
      "id": "713c8e2d-a9c9-4ab3-95c7-df15d057193b",
      "metadata": {
        "colab": {
          "base_uri": "https://localhost:8080/",
          "height": 35
        },
        "id": "713c8e2d-a9c9-4ab3-95c7-df15d057193b",
        "outputId": "3964812c-e87b-457e-9965-340f5339303c"
      },
      "outputs": [
        {
          "output_type": "execute_result",
          "data": {
            "text/plain": [
              "'AbcdEfgHi'"
            ],
            "application/vnd.google.colaboratory.intrinsic+json": {
              "type": "string"
            }
          },
          "metadata": {},
          "execution_count": 61
        }
      ],
      "source": [
        "camelcase(\"abcd_efg_hi\")"
      ]
    },
    {
      "cell_type": "code",
      "execution_count": 62,
      "id": "587521c7-a8c3-4267-ab9e-61a51db4b286",
      "metadata": {
        "id": "587521c7-a8c3-4267-ab9e-61a51db4b286"
      },
      "outputs": [],
      "source": [
        "x = ['abc_def','beautiful_girl','gentle_man']"
      ]
    },
    {
      "cell_type": "code",
      "execution_count": 63,
      "id": "5006cffa-1962-462c-80f0-7dae4dfeb1e0",
      "metadata": {
        "tags": [],
        "colab": {
          "base_uri": "https://localhost:8080/",
          "height": 248
        },
        "id": "5006cffa-1962-462c-80f0-7dae4dfeb1e0",
        "outputId": "4ccb850f-5bce-420d-9d78-1e98e9469e04"
      },
      "outputs": [
        {
          "output_type": "error",
          "ename": "AttributeError",
          "evalue": "ignored",
          "traceback": [
            "\u001b[0;31m---------------------------------------------------------------------------\u001b[0m",
            "\u001b[0;31mAttributeError\u001b[0m                            Traceback (most recent call last)",
            "\u001b[0;32m<ipython-input-63-9a0903e5eaa8>\u001b[0m in \u001b[0;36m<cell line: 1>\u001b[0;34m()\u001b[0m\n\u001b[0;32m----> 1\u001b[0;31m \u001b[0mcamelcase\u001b[0m\u001b[0;34m(\u001b[0m\u001b[0mx\u001b[0m\u001b[0;34m)\u001b[0m \u001b[0;31m#에러가 난다. 하나 하나씩 뽑아야 함.\u001b[0m\u001b[0;34m\u001b[0m\u001b[0;34m\u001b[0m\u001b[0m\n\u001b[0m",
            "\u001b[0;32m<ipython-input-60-8928de34aa87>\u001b[0m in \u001b[0;36mcamelcase\u001b[0;34m(x)\u001b[0m\n\u001b[1;32m      1\u001b[0m \u001b[0;32mdef\u001b[0m \u001b[0mcamelcase\u001b[0m\u001b[0;34m(\u001b[0m\u001b[0mx\u001b[0m\u001b[0;34m)\u001b[0m\u001b[0;34m:\u001b[0m\u001b[0;34m\u001b[0m\u001b[0;34m\u001b[0m\u001b[0m\n\u001b[0;32m----> 2\u001b[0;31m     \u001b[0;32mreturn\u001b[0m \u001b[0;34m''\u001b[0m\u001b[0;34m.\u001b[0m\u001b[0mjoin\u001b[0m\u001b[0;34m(\u001b[0m\u001b[0;34m[\u001b[0m\u001b[0mword\u001b[0m\u001b[0;34m.\u001b[0m\u001b[0mcapitalize\u001b[0m\u001b[0;34m(\u001b[0m\u001b[0;34m)\u001b[0m \u001b[0;32mfor\u001b[0m \u001b[0mword\u001b[0m \u001b[0;32min\u001b[0m \u001b[0mx\u001b[0m\u001b[0;34m.\u001b[0m\u001b[0msplit\u001b[0m\u001b[0;34m(\u001b[0m\u001b[0;34m'_'\u001b[0m\u001b[0;34m)\u001b[0m\u001b[0;34m]\u001b[0m\u001b[0;34m)\u001b[0m\u001b[0;34m\u001b[0m\u001b[0;34m\u001b[0m\u001b[0m\n\u001b[0m",
            "\u001b[0;31mAttributeError\u001b[0m: 'list' object has no attribute 'split'"
          ]
        }
      ],
      "source": [
        "camelcase(x) #에러가 난다. 하나 하나씩 뽑아야 함."
      ]
    },
    {
      "cell_type": "code",
      "execution_count": 64,
      "id": "9e92c539-c269-447b-8378-b148fa2a193f",
      "metadata": {
        "id": "9e92c539-c269-447b-8378-b148fa2a193f"
      },
      "outputs": [],
      "source": [
        "def mapper(func):\n",
        "    def inner(list_obj):\n",
        "        return [func(li) for li in list_obj]\n",
        "    return inner    \n",
        "        "
      ]
    },
    {
      "cell_type": "code",
      "execution_count": 65,
      "id": "80065622-4079-4327-9214-f9d1b0bd739c",
      "metadata": {
        "id": "80065622-4079-4327-9214-f9d1b0bd739c"
      },
      "outputs": [],
      "source": [
        "@mapper\n",
        "def camelcase(x):\n",
        "    return ''.join([word.capitalize() for word in x.split('_')]) "
      ]
    },
    {
      "cell_type": "code",
      "execution_count": 66,
      "id": "dc1c98f3-75ac-432c-b936-073959bc144b",
      "metadata": {
        "colab": {
          "base_uri": "https://localhost:8080/"
        },
        "id": "dc1c98f3-75ac-432c-b936-073959bc144b",
        "outputId": "6b27ba55-a63b-4085-f89e-3f4ced417825"
      },
      "outputs": [
        {
          "output_type": "execute_result",
          "data": {
            "text/plain": [
              "['AbcDef', 'BeautifulGirl', 'GentleMan']"
            ]
          },
          "metadata": {},
          "execution_count": 66
        }
      ],
      "source": [
        "camelcase(x)"
      ]
    },
    {
      "cell_type": "code",
      "execution_count": null,
      "id": "f83a3cef-7f8b-4c47-a0cb-baadbcf487ff",
      "metadata": {
        "id": "f83a3cef-7f8b-4c47-a0cb-baadbcf487ff"
      },
      "outputs": [],
      "source": [
        "#디버깅할 때 많이 씀.\n",
        "#재귀함수 쓸 때\n",
        "#피보나치수열은 재귀함수로 사용하면 힘들다."
      ]
    },
    {
      "cell_type": "code",
      "execution_count": 67,
      "id": "d9ba5c7e-7307-4997-837b-7e642dbec687",
      "metadata": {
        "id": "d9ba5c7e-7307-4997-837b-7e642dbec687"
      },
      "outputs": [],
      "source": [
        "# 시그모이드와 연관있다.\n",
        "def fibo(n):\n",
        "    if n <=1:\n",
        "        return 1\n",
        "    else:\n",
        "        return fibo(n-1)+fibo(n-2)"
      ]
    },
    {
      "cell_type": "code",
      "execution_count": 68,
      "id": "6dd7adfc-ba6b-4688-897f-7d375273672a",
      "metadata": {
        "colab": {
          "base_uri": "https://localhost:8080/"
        },
        "id": "6dd7adfc-ba6b-4688-897f-7d375273672a",
        "outputId": "773ee20c-ff1c-4bf5-e70f-d6107c843ed7"
      },
      "outputs": [
        {
          "output_type": "execute_result",
          "data": {
            "text/plain": [
              "89"
            ]
          },
          "metadata": {},
          "execution_count": 68
        }
      ],
      "source": [
        "fibo(10)"
      ]
    },
    {
      "cell_type": "code",
      "execution_count": 69,
      "id": "a1cb7172-8b99-41d7-83c2-52e8146f9020",
      "metadata": {
        "collapsed": true,
        "jupyter": {
          "outputs_hidden": true
        },
        "tags": [],
        "colab": {
          "base_uri": "https://localhost:8080/"
        },
        "id": "a1cb7172-8b99-41d7-83c2-52e8146f9020",
        "outputId": "49a4538e-7e13-429d-8169-4d8ecca791c3"
      },
      "outputs": [
        {
          "output_type": "stream",
          "name": "stdout",
          "text": [
            "1 =======>1\n",
            "2 =======>2\n",
            "3 =======>3\n",
            "4 =======>5\n",
            "5 =======>8\n",
            "6 =======>13\n",
            "7 =======>21\n",
            "8 =======>34\n",
            "9 =======>55\n",
            "10 =======>89\n",
            "11 =======>144\n",
            "12 =======>233\n",
            "13 =======>377\n",
            "14 =======>610\n",
            "15 =======>987\n",
            "16 =======>1597\n",
            "17 =======>2584\n",
            "18 =======>4181\n",
            "19 =======>6765\n",
            "20 =======>10946\n",
            "21 =======>17711\n",
            "22 =======>28657\n",
            "23 =======>46368\n",
            "24 =======>75025\n",
            "25 =======>121393\n",
            "26 =======>196418\n",
            "27 =======>317811\n",
            "28 =======>514229\n",
            "29 =======>832040\n"
          ]
        }
      ],
      "source": [
        "for n in range(1,30):\n",
        "    print(f'{n} =======>{fibo(n)}')"
      ]
    },
    {
      "cell_type": "code",
      "execution_count": 70,
      "id": "240ed057-c507-4e95-bc90-9befc21e1965",
      "metadata": {
        "collapsed": true,
        "jupyter": {
          "outputs_hidden": true
        },
        "tags": [],
        "colab": {
          "base_uri": "https://localhost:8080/"
        },
        "id": "240ed057-c507-4e95-bc90-9befc21e1965",
        "outputId": "e07dc0d3-e8a7-49d4-f01f-b63a6c6c7254"
      },
      "outputs": [
        {
          "output_type": "execute_result",
          "data": {
            "text/plain": [
              "['GenericAlias',\n",
              " 'RLock',\n",
              " 'WRAPPER_ASSIGNMENTS',\n",
              " 'WRAPPER_UPDATES',\n",
              " '_CacheInfo',\n",
              " '_HashedSeq',\n",
              " '_NOT_FOUND',\n",
              " '__all__',\n",
              " '__builtins__',\n",
              " '__cached__',\n",
              " '__doc__',\n",
              " '__file__',\n",
              " '__loader__',\n",
              " '__name__',\n",
              " '__package__',\n",
              " '__spec__',\n",
              " '_c3_merge',\n",
              " '_c3_mro',\n",
              " '_compose_mro',\n",
              " '_convert',\n",
              " '_find_impl',\n",
              " '_ge_from_gt',\n",
              " '_ge_from_le',\n",
              " '_ge_from_lt',\n",
              " '_gt_from_ge',\n",
              " '_gt_from_le',\n",
              " '_gt_from_lt',\n",
              " '_initial_missing',\n",
              " '_le_from_ge',\n",
              " '_le_from_gt',\n",
              " '_le_from_lt',\n",
              " '_lru_cache_wrapper',\n",
              " '_lt_from_ge',\n",
              " '_lt_from_gt',\n",
              " '_lt_from_le',\n",
              " '_make_key',\n",
              " '_unwrap_partial',\n",
              " 'cache',\n",
              " 'cached_property',\n",
              " 'cmp_to_key',\n",
              " 'get_cache_token',\n",
              " 'lru_cache',\n",
              " 'namedtuple',\n",
              " 'partial',\n",
              " 'partialmethod',\n",
              " 'recursive_repr',\n",
              " 'reduce',\n",
              " 'singledispatch',\n",
              " 'singledispatchmethod',\n",
              " 'total_ordering',\n",
              " 'update_wrapper',\n",
              " 'wraps']"
            ]
          },
          "metadata": {},
          "execution_count": 70
        }
      ],
      "source": [
        "import functools\n",
        "dir(functools)\n",
        "#lru_cahce사용"
      ]
    },
    {
      "cell_type": "code",
      "execution_count": null,
      "id": "3820d87d-ac26-454c-97e3-759ec0e4567a",
      "metadata": {
        "id": "3820d87d-ac26-454c-97e3-759ec0e4567a"
      },
      "outputs": [],
      "source": []
    },
    {
      "cell_type": "code",
      "execution_count": 71,
      "id": "9c411cf8-1a5a-4d39-bd55-8f6e2f435721",
      "metadata": {
        "id": "9c411cf8-1a5a-4d39-bd55-8f6e2f435721"
      },
      "outputs": [],
      "source": [
        "from functools  import lru_cache #최근에 사용한 캐시 사용."
      ]
    },
    {
      "cell_type": "code",
      "execution_count": 72,
      "id": "92247f14-0f82-4ed5-b6c0-a812c46559b6",
      "metadata": {
        "id": "92247f14-0f82-4ed5-b6c0-a812c46559b6"
      },
      "outputs": [],
      "source": [
        "#굉장히 빨라짐.\n",
        "@lru_cache(maxsize=5)\n",
        "def fibo(n):\n",
        "    if n <=1:\n",
        "        return 1\n",
        "    else:\n",
        "        return fibo(n-1)+fibo(n-2)"
      ]
    },
    {
      "cell_type": "code",
      "execution_count": 73,
      "id": "59617f90-e6f6-4081-b7f4-59128b885b95",
      "metadata": {
        "collapsed": true,
        "jupyter": {
          "outputs_hidden": true
        },
        "tags": [],
        "colab": {
          "base_uri": "https://localhost:8080/"
        },
        "id": "59617f90-e6f6-4081-b7f4-59128b885b95",
        "outputId": "e237c1f4-7596-4507-8e90-a1cce010422d"
      },
      "outputs": [
        {
          "output_type": "stream",
          "name": "stdout",
          "text": [
            "1 =======>1\n",
            "2 =======>2\n",
            "3 =======>3\n",
            "4 =======>5\n",
            "5 =======>8\n",
            "6 =======>13\n",
            "7 =======>21\n",
            "8 =======>34\n",
            "9 =======>55\n",
            "10 =======>89\n",
            "11 =======>144\n",
            "12 =======>233\n",
            "13 =======>377\n",
            "14 =======>610\n",
            "15 =======>987\n",
            "16 =======>1597\n",
            "17 =======>2584\n",
            "18 =======>4181\n",
            "19 =======>6765\n",
            "20 =======>10946\n",
            "21 =======>17711\n",
            "22 =======>28657\n",
            "23 =======>46368\n",
            "24 =======>75025\n",
            "25 =======>121393\n",
            "26 =======>196418\n",
            "27 =======>317811\n",
            "28 =======>514229\n",
            "29 =======>832040\n",
            "30 =======>1346269\n",
            "31 =======>2178309\n",
            "32 =======>3524578\n",
            "33 =======>5702887\n",
            "34 =======>9227465\n",
            "35 =======>14930352\n",
            "36 =======>24157817\n",
            "37 =======>39088169\n",
            "38 =======>63245986\n",
            "39 =======>102334155\n",
            "40 =======>165580141\n",
            "41 =======>267914296\n",
            "42 =======>433494437\n",
            "43 =======>701408733\n",
            "44 =======>1134903170\n",
            "45 =======>1836311903\n",
            "46 =======>2971215073\n",
            "47 =======>4807526976\n",
            "48 =======>7778742049\n",
            "49 =======>12586269025\n",
            "50 =======>20365011074\n",
            "51 =======>32951280099\n",
            "52 =======>53316291173\n",
            "53 =======>86267571272\n",
            "54 =======>139583862445\n",
            "55 =======>225851433717\n",
            "56 =======>365435296162\n",
            "57 =======>591286729879\n",
            "58 =======>956722026041\n",
            "59 =======>1548008755920\n",
            "60 =======>2504730781961\n",
            "61 =======>4052739537881\n",
            "62 =======>6557470319842\n",
            "63 =======>10610209857723\n",
            "64 =======>17167680177565\n",
            "65 =======>27777890035288\n",
            "66 =======>44945570212853\n",
            "67 =======>72723460248141\n",
            "68 =======>117669030460994\n",
            "69 =======>190392490709135\n",
            "70 =======>308061521170129\n",
            "71 =======>498454011879264\n",
            "72 =======>806515533049393\n",
            "73 =======>1304969544928657\n",
            "74 =======>2111485077978050\n",
            "75 =======>3416454622906707\n",
            "76 =======>5527939700884757\n",
            "77 =======>8944394323791464\n",
            "78 =======>14472334024676221\n",
            "79 =======>23416728348467685\n",
            "80 =======>37889062373143906\n",
            "81 =======>61305790721611591\n",
            "82 =======>99194853094755497\n",
            "83 =======>160500643816367088\n",
            "84 =======>259695496911122585\n",
            "85 =======>420196140727489673\n",
            "86 =======>679891637638612258\n",
            "87 =======>1100087778366101931\n",
            "88 =======>1779979416004714189\n",
            "89 =======>2880067194370816120\n",
            "90 =======>4660046610375530309\n",
            "91 =======>7540113804746346429\n",
            "92 =======>12200160415121876738\n",
            "93 =======>19740274219868223167\n",
            "94 =======>31940434634990099905\n",
            "95 =======>51680708854858323072\n",
            "96 =======>83621143489848422977\n",
            "97 =======>135301852344706746049\n",
            "98 =======>218922995834555169026\n",
            "99 =======>354224848179261915075\n"
          ]
        }
      ],
      "source": [
        "for n in range(1,100):\n",
        "    print(f'{n} =======>{fibo(n)}')"
      ]
    },
    {
      "cell_type": "code",
      "execution_count": null,
      "id": "cef626aa-dd64-417e-b658-f7247987f54b",
      "metadata": {
        "id": "cef626aa-dd64-417e-b658-f7247987f54b"
      },
      "outputs": [],
      "source": []
    },
    {
      "cell_type": "markdown",
      "id": "f8efb219-79de-4adb-9406-4234d462c807",
      "metadata": {
        "id": "f8efb219-79de-4adb-9406-4234d462c807"
      },
      "source": [
        "클래스를 사용하는게 좋다.\n",
        "클래스는 만든 것들을 상속할 수 있다.\n",
        "\n",
        "\n",
        "어떻게하면 더 빨리 하는가\n",
        "\n",
        "\n",
        "파이썬은 쓰레딩 지원 안됨 \n",
        "캐싱,씽크에 유리\n",
        "멀티프로세싱으로 써라"
      ]
    },
    {
      "cell_type": "code",
      "execution_count": 74,
      "id": "cb2c2451-8730-4b7b-b5eb-5b9c2e3e0c06",
      "metadata": {
        "colab": {
          "base_uri": "https://localhost:8080/"
        },
        "id": "cb2c2451-8730-4b7b-b5eb-5b9c2e3e0c06",
        "outputId": "e3947a10-efc4-429f-8723-83af815302c2"
      },
      "outputs": [
        {
          "output_type": "execute_result",
          "data": {
            "text/plain": [
              "((60000, 784), (10000, 784))"
            ]
          },
          "metadata": {},
          "execution_count": 74
        }
      ],
      "source": [
        "(X_train,_),(X_test,_) =fashion_mnist.load_data()\n",
        "X_train = X_train.reshape(-1,np.prod(X_train.shape[1:]))\n",
        "X_test = X_test.reshape(-1,(X_test.shape[1]*X_test.shape[2]))\n",
        "X_train.shape,X_test.shape"
      ]
    },
    {
      "cell_type": "code",
      "execution_count": 75,
      "id": "afd66035-cad7-428c-a711-a18833065563",
      "metadata": {
        "id": "afd66035-cad7-428c-a711-a18833065563"
      },
      "outputs": [],
      "source": [
        "def resh(x):\n",
        "    return x.reshape(-1,np.prod(x.shape[1:]))"
      ]
    },
    {
      "cell_type": "code",
      "execution_count": 76,
      "id": "a3bea1a0-48bf-43a0-b098-172dc710b001",
      "metadata": {
        "colab": {
          "base_uri": "https://localhost:8080/"
        },
        "id": "a3bea1a0-48bf-43a0-b098-172dc710b001",
        "outputId": "5c5a8fd4-ea8a-43e1-defe-40aae26cf8b1"
      },
      "outputs": [
        {
          "output_type": "execute_result",
          "data": {
            "text/plain": [
              "(60000, 784)"
            ]
          },
          "metadata": {},
          "execution_count": 76
        }
      ],
      "source": [
        "(X_train,_),(X_test,_) = fashion_mnist.load_data()\n",
        "(resh(X_train)).shape"
      ]
    },
    {
      "cell_type": "code",
      "execution_count": 77,
      "id": "62012e3d-411a-4d4f-84ae-097d675ab363",
      "metadata": {
        "colab": {
          "base_uri": "https://localhost:8080/",
          "height": 248
        },
        "id": "62012e3d-411a-4d4f-84ae-097d675ab363",
        "outputId": "7bbb3e9d-d744-471f-e0a0-0411e4b96a5b"
      },
      "outputs": [
        {
          "output_type": "error",
          "ename": "NameError",
          "evalue": "ignored",
          "traceback": [
            "\u001b[0;31m---------------------------------------------------------------------------\u001b[0m",
            "\u001b[0;31mNameError\u001b[0m                                 Traceback (most recent call last)",
            "\u001b[0;32m<ipython-input-77-8a5e850d7e4c>\u001b[0m in \u001b[0;36m<cell line: 2>\u001b[0;34m()\u001b[0m\n\u001b[1;32m      1\u001b[0m \u001b[0mfilepath\u001b[0m\u001b[0;34m=\u001b[0m\u001b[0;34m'./checkpoint/'\u001b[0m\u001b[0;34m\u001b[0m\u001b[0;34m\u001b[0m\u001b[0m\n\u001b[0;32m----> 2\u001b[0;31m checkpoint = ModelCheckpoint(\n\u001b[0m\u001b[1;32m      3\u001b[0m     \u001b[0mfilepath\u001b[0m\u001b[0;34m,\u001b[0m\u001b[0;34m\u001b[0m\u001b[0;34m\u001b[0m\u001b[0m\n\u001b[1;32m      4\u001b[0m     \u001b[0mmonitor\u001b[0m \u001b[0;34m=\u001b[0m \u001b[0;34m'val_loss'\u001b[0m\u001b[0;34m,\u001b[0m\u001b[0;34m\u001b[0m\u001b[0;34m\u001b[0m\u001b[0m\n\u001b[1;32m      5\u001b[0m     \u001b[0mverbose\u001b[0m \u001b[0;34m=\u001b[0m \u001b[0;36m0\u001b[0m\u001b[0;34m,\u001b[0m\u001b[0;34m\u001b[0m\u001b[0;34m\u001b[0m\u001b[0m\n",
            "\u001b[0;31mNameError\u001b[0m: name 'ModelCheckpoint' is not defined"
          ]
        }
      ],
      "source": [
        "filepath='./checkpoint/'\n",
        "checkpoint = ModelCheckpoint(\n",
        "    filepath,\n",
        "    monitor = 'val_loss',\n",
        "    verbose = 0,\n",
        "    save_best_only = True,\n",
        "    save_weights_only = False,\n",
        "    mode = 'auto',\n",
        "    save_freq='epoch',\n",
        "    options=None,\n",
        "    initial_value_threshold=None\n",
        ")\n",
        "\n",
        "earlystopping = EarlyStopping(patience=5)\n",
        "tensorboard = TensorBoard(log_dir='./logs')\n",
        "callbacks = [checkpoint,earlystopping,tensorboard]"
      ]
    },
    {
      "cell_type": "code",
      "execution_count": 78,
      "id": "8235e867-6ef4-4f44-b828-cdfde7b96aea",
      "metadata": {
        "colab": {
          "base_uri": "https://localhost:8080/"
        },
        "id": "8235e867-6ef4-4f44-b828-cdfde7b96aea",
        "outputId": "a0da0126-6a52-4d43-cfa1-2d990864da88"
      },
      "outputs": [
        {
          "output_type": "stream",
          "name": "stdout",
          "text": [
            "Model: \"model_5\"\n",
            "_________________________________________________________________\n",
            " Layer (type)                Output Shape              Param #   \n",
            "=================================================================\n",
            " input_5 (InputLayer)        [(None, 28, 28)]          0         \n",
            "                                                                 \n",
            " dense_4 (Dense)             (None, 28, 32)            928       \n",
            "                                                                 \n",
            "=================================================================\n",
            "Total params: 928\n",
            "Trainable params: 928\n",
            "Non-trainable params: 0\n",
            "_________________________________________________________________\n"
          ]
        }
      ],
      "source": [
        "#잠재공간 이해를 위해서 함수형태로 진행\n",
        "#시그모이드 0,1  0~100의 up,down 처음부르는값 50.확률은 똑같다.정보에서는 50이 중요.\n",
        "#조건부확률 가장확률이 높은 값. 나는 특별하지 않다. maximum likelyhood estimation.\n",
        "#1/x * 1/(n-x)  미분해서 0으로두면 최소,최대값 x(n-x) =>2x-n=0   x=2/n\n",
        "#스케일링을 통하여 밑에 모델이 잘적용되게 만듦.\n",
        "latent_dim = 32\n",
        "\n",
        "X_train = (X_train/255.)\n",
        "X_test = (X_test/255.)\n",
        "\n",
        "input_img = Input(shape=X_train.shape[1:])\n",
        "encoded = Dense(latent_dim,activation='relu')(input_img) #인코딩이미지로\n",
        "decoded = Dense(X_train.shape[1],activation='sigmoid')(encoded) \n",
        "ae = Model(input_img,decoded)#autoencoder\n",
        "encoder = Model(input_img,encoded)\n",
        "decoder_layer = ae.layers[-1] #ae의 마지막레이어\n",
        "encoded_input = Input(shape=(latent_dim))\n",
        "decoder = Model(encoded_input,decoder_layer(encoded_input))\n",
        "encoder.summary()"
      ]
    },
    {
      "cell_type": "code",
      "execution_count": 79,
      "id": "6544bf5d-aa19-4994-ab7b-a857329d0645",
      "metadata": {
        "colab": {
          "base_uri": "https://localhost:8080/"
        },
        "id": "6544bf5d-aa19-4994-ab7b-a857329d0645",
        "outputId": "851b4f39-f218-4259-8b49-0a14a7e27458"
      },
      "outputs": [
        {
          "output_type": "stream",
          "name": "stdout",
          "text": [
            "Model: \"model_6\"\n",
            "_________________________________________________________________\n",
            " Layer (type)                Output Shape              Param #   \n",
            "=================================================================\n",
            " input_6 (InputLayer)        [(None, 32)]              0         \n",
            "                                                                 \n",
            " dense_5 (Dense)             multiple                  924       \n",
            "                                                                 \n",
            "=================================================================\n",
            "Total params: 924\n",
            "Trainable params: 924\n",
            "Non-trainable params: 0\n",
            "_________________________________________________________________\n"
          ]
        }
      ],
      "source": [
        "decoder.summary()"
      ]
    },
    {
      "cell_type": "code",
      "execution_count": 80,
      "id": "95997a87-dc53-4b0e-a329-1511d8ffdabc",
      "metadata": {
        "colab": {
          "base_uri": "https://localhost:8080/"
        },
        "id": "95997a87-dc53-4b0e-a329-1511d8ffdabc",
        "outputId": "f6725b14-3d8d-42e0-b80b-6821d7b92f24"
      },
      "outputs": [
        {
          "output_type": "execute_result",
          "data": {
            "text/plain": [
              "(60000, 28, 28)"
            ]
          },
          "metadata": {},
          "execution_count": 80
        }
      ],
      "source": [
        "X_train.shape"
      ]
    },
    {
      "cell_type": "code",
      "execution_count": 81,
      "id": "f736335e-b414-40de-8042-a8a1ebca838c",
      "metadata": {
        "id": "f736335e-b414-40de-8042-a8a1ebca838c"
      },
      "outputs": [],
      "source": [
        "from tensorflow.keras.optimizers import Adam\n",
        "from tensorflow.keras.losses import MeanSquaredError, BinaryCrossentropy\n",
        "from tensorflow.keras.callbacks import ModelCheckpoint,TensorBoard,EarlyStopping\n"
      ]
    },
    {
      "cell_type": "code",
      "execution_count": 82,
      "id": "b1883a37-530b-4869-a519-f4caa069993c",
      "metadata": {
        "tags": [],
        "id": "b1883a37-530b-4869-a519-f4caa069993c"
      },
      "outputs": [],
      "source": [
        "ae.compile(optimizer=Adam(learning_rate=0.001),loss=BinaryCrossentropy())"
      ]
    },
    {
      "cell_type": "code",
      "execution_count": 83,
      "id": "ef350f67-5303-4997-9ba9-c3d1a367bf6d",
      "metadata": {
        "colab": {
          "base_uri": "https://localhost:8080/",
          "height": 193
        },
        "id": "ef350f67-5303-4997-9ba9-c3d1a367bf6d",
        "outputId": "b553d7b8-d1a5-444f-ec16-ce40383765f0"
      },
      "outputs": [
        {
          "output_type": "error",
          "ename": "NameError",
          "evalue": "ignored",
          "traceback": [
            "\u001b[0;31m---------------------------------------------------------------------------\u001b[0m",
            "\u001b[0;31mNameError\u001b[0m                                 Traceback (most recent call last)",
            "\u001b[0;32m<ipython-input-83-8b2771ea1bed>\u001b[0m in \u001b[0;36m<cell line: 1>\u001b[0;34m()\u001b[0m\n\u001b[0;32m----> 1\u001b[0;31m ae.fit(X_train,X_train, epochs=5, batch_size=64,shuffle=True, callbacks=callbacks,\n\u001b[0m\u001b[1;32m      2\u001b[0m       validation_data=(X_test,X_test))\n",
            "\u001b[0;31mNameError\u001b[0m: name 'callbacks' is not defined"
          ]
        }
      ],
      "source": [
        "ae.fit(X_train,X_train, epochs=5, batch_size=64,shuffle=True, callbacks=callbacks,\n",
        "      validation_data=(X_test,X_test))\n"
      ]
    },
    {
      "cell_type": "code",
      "execution_count": 84,
      "id": "ffdb62cc-5501-4960-98a4-4b002539e169",
      "metadata": {
        "tags": [],
        "colab": {
          "base_uri": "https://localhost:8080/",
          "height": 174
        },
        "id": "ffdb62cc-5501-4960-98a4-4b002539e169",
        "outputId": "dd35be49-551b-45b3-d8ae-5b6c8affd82d"
      },
      "outputs": [
        {
          "output_type": "error",
          "ename": "AttributeError",
          "evalue": "ignored",
          "traceback": [
            "\u001b[0;31m---------------------------------------------------------------------------\u001b[0m",
            "\u001b[0;31mAttributeError\u001b[0m                            Traceback (most recent call last)",
            "\u001b[0;32m<ipython-input-84-7024afc66a39>\u001b[0m in \u001b[0;36m<cell line: 1>\u001b[0;34m()\u001b[0m\n\u001b[0;32m----> 1\u001b[0;31m \u001b[0mae\u001b[0m\u001b[0;34m.\u001b[0m\u001b[0mhistory\u001b[0m\u001b[0;34m.\u001b[0m\u001b[0mhistory\u001b[0m\u001b[0;34m.\u001b[0m\u001b[0mkeys\u001b[0m\u001b[0;34m(\u001b[0m\u001b[0;34m)\u001b[0m\u001b[0;34m\u001b[0m\u001b[0;34m\u001b[0m\u001b[0m\n\u001b[0m",
            "\u001b[0;31mAttributeError\u001b[0m: 'NoneType' object has no attribute 'history'"
          ]
        }
      ],
      "source": [
        "ae.history.history.keys()"
      ]
    },
    {
      "cell_type": "code",
      "execution_count": null,
      "id": "38d68c04-c7b1-45d7-8c35-d04bd6e40a39",
      "metadata": {
        "id": "38d68c04-c7b1-45d7-8c35-d04bd6e40a39"
      },
      "outputs": [],
      "source": [
        "#사용자정의함수 콜백"
      ]
    },
    {
      "cell_type": "code",
      "execution_count": null,
      "id": "60f8a6c9-4e07-4b49-9a24-51c08c9fce4c",
      "metadata": {
        "id": "60f8a6c9-4e07-4b49-9a24-51c08c9fce4c"
      },
      "outputs": [],
      "source": [
        "#텐서보드\n",
        "#텐서보드 파이토치도 띄울수있다.\n",
        "#콘다로 새로 봐야됨 tensorboard --logdir=./logs"
      ]
    },
    {
      "cell_type": "code",
      "execution_count": null,
      "id": "89968726-f58a-43dc-be38-9abd1a834d51",
      "metadata": {
        "id": "89968726-f58a-43dc-be38-9abd1a834d51"
      },
      "outputs": [],
      "source": []
    },
    {
      "cell_type": "code",
      "execution_count": 91,
      "id": "822049a3-0b0e-4eb0-8aa7-02d4799196c1",
      "metadata": {
        "colab": {
          "base_uri": "https://localhost:8080/",
          "height": 639
        },
        "id": "822049a3-0b0e-4eb0-8aa7-02d4799196c1",
        "outputId": "4c78e10d-9719-4611-c80a-42f2d1c7948e"
      },
      "outputs": [
        {
          "output_type": "stream",
          "name": "stdout",
          "text": [
            "313/313 [==============================] - 1s 1ms/step\n"
          ]
        },
        {
          "output_type": "error",
          "ename": "ValueError",
          "evalue": "ignored",
          "traceback": [
            "\u001b[0;31m---------------------------------------------------------------------------\u001b[0m",
            "\u001b[0;31mValueError\u001b[0m                                Traceback (most recent call last)",
            "\u001b[0;32m<ipython-input-91-6dc958be868c>\u001b[0m in \u001b[0;36m<cell line: 2>\u001b[0;34m()\u001b[0m\n\u001b[1;32m      1\u001b[0m \u001b[0mencoded_img\u001b[0m \u001b[0;34m=\u001b[0m \u001b[0mencoder\u001b[0m\u001b[0;34m.\u001b[0m\u001b[0mpredict\u001b[0m\u001b[0;34m(\u001b[0m\u001b[0mX_test\u001b[0m\u001b[0;34m)\u001b[0m\u001b[0;34m\u001b[0m\u001b[0;34m\u001b[0m\u001b[0m\n\u001b[0;32m----> 2\u001b[0;31m \u001b[0mdecoded_img\u001b[0m \u001b[0;34m=\u001b[0m \u001b[0mdecoder\u001b[0m\u001b[0;34m.\u001b[0m\u001b[0mpredict\u001b[0m\u001b[0;34m(\u001b[0m\u001b[0mencoded_img\u001b[0m\u001b[0;34m)\u001b[0m\u001b[0;34m\u001b[0m\u001b[0;34m\u001b[0m\u001b[0m\n\u001b[0m",
            "\u001b[0;32m/usr/local/lib/python3.10/dist-packages/keras/utils/traceback_utils.py\u001b[0m in \u001b[0;36merror_handler\u001b[0;34m(*args, **kwargs)\u001b[0m\n\u001b[1;32m     68\u001b[0m             \u001b[0;31m# To get the full stack trace, call:\u001b[0m\u001b[0;34m\u001b[0m\u001b[0;34m\u001b[0m\u001b[0m\n\u001b[1;32m     69\u001b[0m             \u001b[0;31m# `tf.debugging.disable_traceback_filtering()`\u001b[0m\u001b[0;34m\u001b[0m\u001b[0;34m\u001b[0m\u001b[0m\n\u001b[0;32m---> 70\u001b[0;31m             \u001b[0;32mraise\u001b[0m \u001b[0me\u001b[0m\u001b[0;34m.\u001b[0m\u001b[0mwith_traceback\u001b[0m\u001b[0;34m(\u001b[0m\u001b[0mfiltered_tb\u001b[0m\u001b[0;34m)\u001b[0m \u001b[0;32mfrom\u001b[0m \u001b[0;32mNone\u001b[0m\u001b[0;34m\u001b[0m\u001b[0;34m\u001b[0m\u001b[0m\n\u001b[0m\u001b[1;32m     71\u001b[0m         \u001b[0;32mfinally\u001b[0m\u001b[0;34m:\u001b[0m\u001b[0;34m\u001b[0m\u001b[0;34m\u001b[0m\u001b[0m\n\u001b[1;32m     72\u001b[0m             \u001b[0;32mdel\u001b[0m \u001b[0mfiltered_tb\u001b[0m\u001b[0;34m\u001b[0m\u001b[0;34m\u001b[0m\u001b[0m\n",
            "\u001b[0;32m/usr/local/lib/python3.10/dist-packages/keras/engine/training.py\u001b[0m in \u001b[0;36mtf__predict_function\u001b[0;34m(iterator)\u001b[0m\n\u001b[1;32m     13\u001b[0m                 \u001b[0;32mtry\u001b[0m\u001b[0;34m:\u001b[0m\u001b[0;34m\u001b[0m\u001b[0;34m\u001b[0m\u001b[0m\n\u001b[1;32m     14\u001b[0m                     \u001b[0mdo_return\u001b[0m \u001b[0;34m=\u001b[0m \u001b[0;32mTrue\u001b[0m\u001b[0;34m\u001b[0m\u001b[0;34m\u001b[0m\u001b[0m\n\u001b[0;32m---> 15\u001b[0;31m                     \u001b[0mretval_\u001b[0m \u001b[0;34m=\u001b[0m \u001b[0mag__\u001b[0m\u001b[0;34m.\u001b[0m\u001b[0mconverted_call\u001b[0m\u001b[0;34m(\u001b[0m\u001b[0mag__\u001b[0m\u001b[0;34m.\u001b[0m\u001b[0mld\u001b[0m\u001b[0;34m(\u001b[0m\u001b[0mstep_function\u001b[0m\u001b[0;34m)\u001b[0m\u001b[0;34m,\u001b[0m \u001b[0;34m(\u001b[0m\u001b[0mag__\u001b[0m\u001b[0;34m.\u001b[0m\u001b[0mld\u001b[0m\u001b[0;34m(\u001b[0m\u001b[0mself\u001b[0m\u001b[0;34m)\u001b[0m\u001b[0;34m,\u001b[0m \u001b[0mag__\u001b[0m\u001b[0;34m.\u001b[0m\u001b[0mld\u001b[0m\u001b[0;34m(\u001b[0m\u001b[0miterator\u001b[0m\u001b[0;34m)\u001b[0m\u001b[0;34m)\u001b[0m\u001b[0;34m,\u001b[0m \u001b[0;32mNone\u001b[0m\u001b[0;34m,\u001b[0m \u001b[0mfscope\u001b[0m\u001b[0;34m)\u001b[0m\u001b[0;34m\u001b[0m\u001b[0;34m\u001b[0m\u001b[0m\n\u001b[0m\u001b[1;32m     16\u001b[0m                 \u001b[0;32mexcept\u001b[0m\u001b[0;34m:\u001b[0m\u001b[0;34m\u001b[0m\u001b[0;34m\u001b[0m\u001b[0m\n\u001b[1;32m     17\u001b[0m                     \u001b[0mdo_return\u001b[0m \u001b[0;34m=\u001b[0m \u001b[0;32mFalse\u001b[0m\u001b[0;34m\u001b[0m\u001b[0;34m\u001b[0m\u001b[0m\n",
            "\u001b[0;31mValueError\u001b[0m: in user code:\n\n    File \"/usr/local/lib/python3.10/dist-packages/keras/engine/training.py\", line 2169, in predict_function  *\n        return step_function(self, iterator)\n    File \"/usr/local/lib/python3.10/dist-packages/keras/engine/training.py\", line 2155, in step_function  **\n        outputs = model.distribute_strategy.run(run_step, args=(data,))\n    File \"/usr/local/lib/python3.10/dist-packages/keras/engine/training.py\", line 2143, in run_step  **\n        outputs = model.predict_step(data)\n    File \"/usr/local/lib/python3.10/dist-packages/keras/engine/training.py\", line 2111, in predict_step\n        return self(x, training=False)\n    File \"/usr/local/lib/python3.10/dist-packages/keras/utils/traceback_utils.py\", line 70, in error_handler\n        raise e.with_traceback(filtered_tb) from None\n    File \"/usr/local/lib/python3.10/dist-packages/keras/engine/input_spec.py\", line 298, in assert_input_compatibility\n        raise ValueError(\n\n    ValueError: Input 0 of layer \"model_6\" is incompatible with the layer: expected shape=(None, 32), found shape=(None, 28, 32)\n"
          ]
        }
      ],
      "source": [
        "encoded_img = encoder.predict(X_test)\n",
        "decoded_img = decoder.predict(encoded_img)"
      ]
    },
    {
      "cell_type": "code",
      "execution_count": null,
      "id": "e5e074a7-27ea-449a-a6eb-5ae7f066e8c3",
      "metadata": {
        "id": "e5e074a7-27ea-449a-a6eb-5ae7f066e8c3"
      },
      "outputs": [],
      "source": [
        "#latent이미지가 2개인 상태를 보는 것도 중요하다."
      ]
    },
    {
      "cell_type": "code",
      "execution_count": 92,
      "id": "76c5de98-84e2-4dba-a9ae-2acb3b8ab684",
      "metadata": {
        "collapsed": true,
        "jupyter": {
          "outputs_hidden": true
        },
        "tags": [],
        "colab": {
          "base_uri": "https://localhost:8080/",
          "height": 174
        },
        "id": "76c5de98-84e2-4dba-a9ae-2acb3b8ab684",
        "outputId": "8a82cdc0-d035-4899-ad16-2a2f8249c167"
      },
      "outputs": [
        {
          "output_type": "error",
          "ename": "NameError",
          "evalue": "ignored",
          "traceback": [
            "\u001b[0;31m---------------------------------------------------------------------------\u001b[0m",
            "\u001b[0;31mNameError\u001b[0m                                 Traceback (most recent call last)",
            "\u001b[0;32m<ipython-input-92-be1fdf641077>\u001b[0m in \u001b[0;36m<cell line: 1>\u001b[0;34m()\u001b[0m\n\u001b[0;32m----> 1\u001b[0;31m \u001b[0mdecoded_img\u001b[0m\u001b[0;34m[\u001b[0m\u001b[0;36m0\u001b[0m\u001b[0;34m]\u001b[0m\u001b[0;34m.\u001b[0m\u001b[0mreshape\u001b[0m\u001b[0;34m(\u001b[0m\u001b[0;36m28\u001b[0m\u001b[0;34m,\u001b[0m\u001b[0;36m28\u001b[0m\u001b[0;34m)\u001b[0m\u001b[0;34m\u001b[0m\u001b[0;34m\u001b[0m\u001b[0m\n\u001b[0m",
            "\u001b[0;31mNameError\u001b[0m: name 'decoded_img' is not defined"
          ]
        }
      ],
      "source": [
        "decoded_img[0].reshape(28,28)"
      ]
    },
    {
      "cell_type": "code",
      "execution_count": null,
      "id": "df5365d4-93b6-495a-a31e-138b99f67228",
      "metadata": {
        "id": "df5365d4-93b6-495a-a31e-138b99f67228",
        "outputId": "b3768579-3e75-423d-feb1-8175ea7960c6"
      },
      "outputs": [
        {
          "data": {
            "text/plain": [
              "<matplotlib.image.AxesImage at 0x1d50ea4ab10>"
            ]
          },
          "execution_count": 161,
          "metadata": {},
          "output_type": "execute_result"
        },
        {
          "data": {
            "image/png": "[encoded data removed]",
            "text/plain": [
              "<Figure size 640x480 with 1 Axes>"
            ]
          },
          "metadata": {},
          "output_type": "display_data"
        }
      ],
      "source": [
        "plt.imshow(decoded_img[0].reshape(28,28))"
      ]
    },
    {
      "cell_type": "code",
      "execution_count": null,
      "id": "2f40ed00-7c7a-4344-95b6-70a8fec8c099",
      "metadata": {
        "id": "2f40ed00-7c7a-4344-95b6-70a8fec8c099",
        "outputId": "0d615c39-7119-489b-df24-a010bb62ba25"
      },
      "outputs": [
        {
          "name": "stdout",
          "output_type": "stream",
          "text": [
            "Model: \"model_18\"\n",
            "_________________________________________________________________\n",
            " Layer (type)                Output Shape              Param #   \n",
            "=================================================================\n",
            " input_13 (InputLayer)       [(None, 784)]             0         \n",
            "                                                                 \n",
            " dense_12 (Dense)            (None, 32)                25120     \n",
            "                                                                 \n",
            "=================================================================\n",
            "Total params: 25,120\n",
            "Trainable params: 25,120\n",
            "Non-trainable params: 0\n",
            "_________________________________________________________________\n"
          ]
        }
      ],
      "source": [
        "encoder.summary()"
      ]
    },
    {
      "cell_type": "code",
      "execution_count": null,
      "id": "16b5f1d2-c2bb-4dae-b63a-9b6591866928",
      "metadata": {
        "id": "16b5f1d2-c2bb-4dae-b63a-9b6591866928",
        "outputId": "a045411f-791e-40d4-85e3-1f226a62251f"
      },
      "outputs": [
        {
          "name": "stdout",
          "output_type": "stream",
          "text": [
            "Model: \"model_19\"\n",
            "_________________________________________________________________\n",
            " Layer (type)                Output Shape              Param #   \n",
            "=================================================================\n",
            " input_14 (InputLayer)       [(None, 32)]              0         \n",
            "                                                                 \n",
            " dense_13 (Dense)            (None, 784)               25872     \n",
            "                                                                 \n",
            "=================================================================\n",
            "Total params: 25,872\n",
            "Trainable params: 25,872\n",
            "Non-trainable params: 0\n",
            "_________________________________________________________________\n"
          ]
        }
      ],
      "source": [
        "decoder.summary()"
      ]
    },
    {
      "cell_type": "code",
      "execution_count": null,
      "id": "beaf2f84-5d81-470c-8e4f-8dbbb00aabc3",
      "metadata": {
        "id": "beaf2f84-5d81-470c-8e4f-8dbbb00aabc3",
        "outputId": "9102e28b-3c81-49be-97b8-676f47f04d81"
      },
      "outputs": [
        {
          "data": {
            "image/png": "[encoded data removed]",
            "text/plain": [
              "<Figure size 2000x400 with 20 Axes>"
            ]
          },
          "metadata": {},
          "output_type": "display_data"
        }
      ],
      "source": [
        "n= 10\n",
        "plt.figure(figsize=(20,4))\n",
        "for i in range(n):\n",
        "    ax = plt.subplot(2,n,i+1)\n",
        "    plt.imshow(X_test[i].reshape(28,28))\n",
        "    plt.gray()\n",
        "    \n",
        "    ax = plt.subplot(2,n,i+1+n)\n",
        "    plt.imshow(decoded_img[i].reshape(28,28))\n",
        "    "
      ]
    },
    {
      "cell_type": "code",
      "execution_count": null,
      "id": "6083dead-f12c-42f6-9d29-a122c54d5019",
      "metadata": {
        "id": "6083dead-f12c-42f6-9d29-a122c54d5019"
      },
      "outputs": [],
      "source": [
        "(X_train,_),(X_test,_) =mnist.load_data()"
      ]
    },
    {
      "cell_type": "code",
      "execution_count": null,
      "id": "cb55e4e6-e323-41fc-ac58-de5d6ab366be",
      "metadata": {
        "id": "cb55e4e6-e323-41fc-ac58-de5d6ab366be",
        "outputId": "69a5c858-628c-4bb6-cce4-a034001ae06b"
      },
      "outputs": [
        {
          "data": {
            "text/plain": [
              "(60000, 28, 28)"
            ]
          },
          "execution_count": 342,
          "metadata": {},
          "output_type": "execute_result"
        }
      ],
      "source": [
        "X_train.shape #60000,28,28,1로 바꿔야함. reshape, np.newaxis\n"
      ]
    },
    {
      "cell_type": "code",
      "execution_count": null,
      "id": "bb907950-7222-464d-8121-bd9a80cc9fb0",
      "metadata": {
        "id": "bb907950-7222-464d-8121-bd9a80cc9fb0"
      },
      "outputs": [],
      "source": [
        "X_train = X_train.reshape(-1,28,28,1)\n",
        "X_train = X_train/(np.max(X_train)/2)-1\n",
        "X_test = X_test.reshape(-1,28,28,1)\n",
        "X_test = X_test/(np.max(X_test)/2)-1\n"
      ]
    },
    {
      "cell_type": "code",
      "execution_count": null,
      "id": "2fb1c70b-24ca-4230-9a13-8f57e289220d",
      "metadata": {
        "id": "2fb1c70b-24ca-4230-9a13-8f57e289220d",
        "outputId": "240812f2-7adc-4340-ba0b-f053ef62f747"
      },
      "outputs": [
        {
          "data": {
            "text/plain": [
              "(10000, 28, 28, 1)"
            ]
          },
          "execution_count": 351,
          "metadata": {},
          "output_type": "execute_result"
        }
      ],
      "source": [
        "X_test.shape"
      ]
    },
    {
      "cell_type": "code",
      "execution_count": null,
      "id": "56f21062-c144-47d2-a272-0776ea850d8a",
      "metadata": {
        "id": "56f21062-c144-47d2-a272-0776ea850d8a",
        "outputId": "f699143a-0f20-497a-a7cc-95b8f3349c06"
      },
      "outputs": [
        {
          "data": {
            "text/plain": [
              "(100, 28, 28, 1)"
            ]
          },
          "execution_count": 175,
          "metadata": {},
          "output_type": "execute_result"
        }
      ],
      "source": [
        "x = np.random.randn(100,28,28)\n",
        "x[:,:,:,np.newaxis].shape"
      ]
    },
    {
      "cell_type": "code",
      "execution_count": null,
      "id": "a9d6cea5-047b-4352-ba61-a06bcc7255d0",
      "metadata": {
        "id": "a9d6cea5-047b-4352-ba61-a06bcc7255d0",
        "outputId": "b98ea2fc-82d7-42d6-a529-c8b800a52aa9"
      },
      "outputs": [
        {
          "data": {
            "text/plain": [
              "(100, 1, 28, 28)"
            ]
          },
          "execution_count": 177,
          "metadata": {},
          "output_type": "execute_result"
        }
      ],
      "source": [
        "x = np.random.randn(100,28,28)\n",
        "x[:,np.newaxis,:,:].shape"
      ]
    },
    {
      "cell_type": "code",
      "execution_count": null,
      "id": "65d215b8-5093-4b55-bc5f-6ad58cc7782e",
      "metadata": {
        "id": "65d215b8-5093-4b55-bc5f-6ad58cc7782e"
      },
      "outputs": [],
      "source": [
        "x = np.random.randn(100,3)\n",
        "np.dot(x,np.random.randn(3,1000)).shape"
      ]
    },
    {
      "cell_type": "code",
      "execution_count": null,
      "id": "a45a1b35-397c-4f5c-82cb-e9ce504b712c",
      "metadata": {
        "id": "a45a1b35-397c-4f5c-82cb-e9ce504b712c"
      },
      "outputs": [],
      "source": [
        "x = np.random.randn(100,28,28)\n",
        "np.dot(x,np.random.randn(1,100)).shape"
      ]
    },
    {
      "cell_type": "code",
      "execution_count": null,
      "id": "5ce1af63-9f2c-4ed5-971a-3e505a5833cd",
      "metadata": {
        "id": "5ce1af63-9f2c-4ed5-971a-3e505a5833cd"
      },
      "outputs": [],
      "source": [
        "#컨볼루션 레이어 특징의 값을 가지고 넘어감 크기를 줄임.\n",
        "# 컬럼을 늘리면, 많은 가능성을 알 수 있다.\n",
        "#"
      ]
    },
    {
      "cell_type": "code",
      "execution_count": 85,
      "id": "3d3ce10b-ff2b-4832-a309-25d0c01f0b87",
      "metadata": {
        "id": "3d3ce10b-ff2b-4832-a309-25d0c01f0b87"
      },
      "outputs": [],
      "source": [
        "from tensorflow.keras.layers import Conv2D,Conv2DTranspose,Input,BatchNormalization\n",
        "from tensorflow.keras.models import Model\n",
        "from tensorflow.keras.layers import LeakyReLU,Reshape,Lambda"
      ]
    },
    {
      "cell_type": "code",
      "execution_count": null,
      "id": "9072983e-fd72-4aca-bb36-e8e3bdb35a91",
      "metadata": {
        "id": "9072983e-fd72-4aca-bb36-e8e3bdb35a91",
        "outputId": "b062b702-b19a-45eb-c9a3-4aebf860acf9"
      },
      "outputs": [
        {
          "name": "stdout",
          "output_type": "stream",
          "text": [
            "Model: \"sequential_2\"\n",
            "_________________________________________________________________\n",
            " Layer (type)                Output Shape              Param #   \n",
            "=================================================================\n",
            " conv2d_2 (Conv2D)           (None, 28, 28, 32)        320       \n",
            "                                                                 \n",
            "=================================================================\n",
            "Total params: 320\n",
            "Trainable params: 320\n",
            "Non-trainable params: 0\n",
            "_________________________________________________________________\n"
          ]
        }
      ],
      "source": [
        "model.summary()"
      ]
    },
    {
      "cell_type": "code",
      "execution_count": null,
      "id": "84143daf-77e9-4b60-b5bc-0e6e6115ccfd",
      "metadata": {
        "id": "84143daf-77e9-4b60-b5bc-0e6e6115ccfd"
      },
      "outputs": [],
      "source": []
    },
    {
      "cell_type": "code",
      "execution_count": null,
      "id": "edfb68fa-d359-4168-8192-62fee540cead",
      "metadata": {
        "id": "edfb68fa-d359-4168-8192-62fee540cead"
      },
      "outputs": [],
      "source": [
        "input_img = Input(shape=(X_train.shape[1:]))\n",
        "latent_dim=2\n",
        "\n",
        "x = Conv2D(32,(3,3),padding='same')(input_img) \n",
        "x = BatchNormalization()(x)\n",
        "x = LeakyReLU()(x) #28,28,32\n",
        "\n",
        "x = Conv2D(64,(3,3),padding='same')(input_img) \n",
        "x = BatchNormalization()(x)\n",
        "x = LeakyReLU()(x) #28,28,32\n",
        "\n",
        "x = Conv2D(64,(3,3), strides=2, padding='same')(x)  \n",
        "x = BatchNormalization()(x)\n",
        "x = LeakyReLU()(x) #14,14,64\n",
        "\n",
        "x = Conv2D(64,(3,3),strides=2,padding='same')(x) \n",
        "x = BatchNormalization()(x)\n",
        "x = LeakyReLU()(x) #7,7,64\n",
        "\n",
        "x = Flatten()(x)\n",
        "\n",
        "x = Dense(latent_dim)(x)\n",
        "##########여기까지가 인코더\n",
        "\n",
        "\n",
        "#############디코더 시작   모형을 바꿔줘야함.\n",
        "x = Dense(7*7*64)(x)\n",
        "x = Reshape((7,7,64))(x)  #reshape부분\n",
        "\n",
        "\n",
        "x = Conv2DTranspose(64,(3,3),padding='same')(x)\n",
        "x = BatchNormalization()(x)\n",
        "x = LeakyReLU()(x)\n",
        "\n",
        "x = Conv2DTranspose(64,(3,3),strides=2,padding='same')(x) \n",
        "x = BatchNormalization()(x)\n",
        "x = LeakyReLU()(x) #14,14,64\n",
        "\n",
        "\n",
        "x = Conv2DTranspose(64,(3,3),strides=2,padding='same')(x) \n",
        "x = BatchNormalization()(x)\n",
        "x = LeakyReLU()(x) #14,14,64\n",
        "\n",
        "x = Conv2DTranspose(32,(3,3),padding='same')(x) \n",
        "x = BatchNormalization()(x)\n",
        "x = LeakyReLU()(x)  \n",
        "\n",
        "out = Conv2DTranspose(1,(3,3),padding='same',activation='tanh')(x)\n",
        "\n",
        "model = Model(input_img,out)\n"
      ]
    },
    {
      "cell_type": "code",
      "execution_count": null,
      "id": "c25814db-f0a4-40fb-a812-5de4a74b4977",
      "metadata": {
        "collapsed": true,
        "jupyter": {
          "outputs_hidden": true
        },
        "tags": [],
        "id": "c25814db-f0a4-40fb-a812-5de4a74b4977",
        "outputId": "4e6bf817-9c1b-472a-e5d6-5963505246f0"
      },
      "outputs": [
        {
          "name": "stdout",
          "output_type": "stream",
          "text": [
            "Model: \"model_44\"\n",
            "_________________________________________________________________\n",
            " Layer (type)                Output Shape              Param #   \n",
            "=================================================================\n",
            " input_44 (InputLayer)       [(None, 28, 28, 1)]       0         \n",
            "                                                                 \n",
            " conv2d_73 (Conv2D)          (None, 28, 28, 32)        320       \n",
            "                                                                 \n",
            " batch_normalization_75 (Bat  (None, 28, 28, 32)       128       \n",
            " chNormalization)                                                \n",
            "                                                                 \n",
            " leaky_re_lu_75 (LeakyReLU)  (None, 28, 28, 32)        0         \n",
            "                                                                 \n",
            " conv2d_74 (Conv2D)          (None, 14, 14, 64)        18496     \n",
            "                                                                 \n",
            " batch_normalization_76 (Bat  (None, 14, 14, 64)       256       \n",
            " chNormalization)                                                \n",
            "                                                                 \n",
            " leaky_re_lu_76 (LeakyReLU)  (None, 14, 14, 64)        0         \n",
            "                                                                 \n",
            " conv2d_75 (Conv2D)          (None, 7, 7, 64)          36928     \n",
            "                                                                 \n",
            " batch_normalization_77 (Bat  (None, 7, 7, 64)         256       \n",
            " chNormalization)                                                \n",
            "                                                                 \n",
            " leaky_re_lu_77 (LeakyReLU)  (None, 7, 7, 64)          0         \n",
            "                                                                 \n",
            " flatten_12 (Flatten)        (None, 3136)              0         \n",
            "                                                                 \n",
            " dense_35 (Dense)            (None, 2)                 6274      \n",
            "                                                                 \n",
            " dense_36 (Dense)            (None, 3136)              9408      \n",
            "                                                                 \n",
            " reshape_7 (Reshape)         (None, 7, 7, 64)          0         \n",
            "                                                                 \n",
            " conv2d_transpose_28 (Conv2D  (None, 7, 7, 64)         36928     \n",
            " Transpose)                                                      \n",
            "                                                                 \n",
            " batch_normalization_78 (Bat  (None, 7, 7, 64)         256       \n",
            " chNormalization)                                                \n",
            "                                                                 \n",
            " leaky_re_lu_78 (LeakyReLU)  (None, 7, 7, 64)          0         \n",
            "                                                                 \n",
            " conv2d_transpose_29 (Conv2D  (None, 14, 14, 64)       36928     \n",
            " Transpose)                                                      \n",
            "                                                                 \n",
            " batch_normalization_79 (Bat  (None, 14, 14, 64)       256       \n",
            " chNormalization)                                                \n",
            "                                                                 \n",
            " leaky_re_lu_79 (LeakyReLU)  (None, 14, 14, 64)        0         \n",
            "                                                                 \n",
            " conv2d_transpose_30 (Conv2D  (None, 28, 28, 64)       36928     \n",
            " Transpose)                                                      \n",
            "                                                                 \n",
            " batch_normalization_80 (Bat  (None, 28, 28, 64)       256       \n",
            " chNormalization)                                                \n",
            "                                                                 \n",
            " leaky_re_lu_80 (LeakyReLU)  (None, 28, 28, 64)        0         \n",
            "                                                                 \n",
            " conv2d_transpose_31 (Conv2D  (None, 28, 28, 32)       18464     \n",
            " Transpose)                                                      \n",
            "                                                                 \n",
            " batch_normalization_81 (Bat  (None, 28, 28, 32)       128       \n",
            " chNormalization)                                                \n",
            "                                                                 \n",
            " leaky_re_lu_81 (LeakyReLU)  (None, 28, 28, 32)        0         \n",
            "                                                                 \n",
            " conv2d_transpose_32 (Conv2D  (None, 28, 28, 1)        289       \n",
            " Transpose)                                                      \n",
            "                                                                 \n",
            "=================================================================\n",
            "Total params: 202,499\n",
            "Trainable params: 201,731\n",
            "Non-trainable params: 768\n",
            "_________________________________________________________________\n"
          ]
        }
      ],
      "source": [
        "model.summary()"
      ]
    },
    {
      "cell_type": "code",
      "execution_count": null,
      "id": "7a44582d-d5b7-4367-9744-2b3ee7d2d650",
      "metadata": {
        "id": "7a44582d-d5b7-4367-9744-2b3ee7d2d650"
      },
      "outputs": [],
      "source": [
        "#loss mse,crossentorpy\n",
        "#cost function\n",
        "#엔트로피 확률에 대한 밀도의 차이\n",
        "#베르누이 시행\n",
        "\n",
        "#정보이론\n",
        "#특이한것 정보가 중요\n",
        "# 1/P(x) 어떤 확률에 대해서 가치가 높은 것\n"
      ]
    },
    {
      "cell_type": "code",
      "execution_count": null,
      "id": "6b686011-8276-4b57-b880-33f9dc23ad6d",
      "metadata": {
        "id": "6b686011-8276-4b57-b880-33f9dc23ad6d"
      },
      "outputs": [],
      "source": [
        "model.compile(optimizer='adam',loss='mse')"
      ]
    },
    {
      "cell_type": "code",
      "execution_count": null,
      "id": "3b37ea7d-fdcd-4399-8140-d1362b029366",
      "metadata": {
        "tags": [],
        "id": "3b37ea7d-fdcd-4399-8140-d1362b029366",
        "outputId": "c3b9d871-ec8e-4bb9-89a1-c0ce6a4801bd"
      },
      "outputs": [
        {
          "name": "stdout",
          "output_type": "stream",
          "text": [
            "Epoch 1/2\n",
            "1875/1875 [==============================] - 287s 152ms/step - loss: 0.2115 - val_loss: 0.1934\n",
            "Epoch 2/2\n",
            "1875/1875 [==============================] - 281s 150ms/step - loss: 0.1904 - val_loss: 0.1871\n"
          ]
        },
        {
          "data": {
            "text/plain": [
              "<keras.callbacks.History at 0x1d519902e50>"
            ]
          },
          "execution_count": 354,
          "metadata": {},
          "output_type": "execute_result"
        }
      ],
      "source": [
        "callbacks=EarlyStopping(patience=10)\n",
        "model.fit(X_train,X_train,epochs=2,callbacks=callbacks,validation_data=(X_test,X_test))\n",
        "    "
      ]
    },
    {
      "cell_type": "code",
      "execution_count": null,
      "id": "7317cae7-b88c-4320-a3e9-9139c97dd278",
      "metadata": {
        "id": "7317cae7-b88c-4320-a3e9-9139c97dd278",
        "outputId": "5f3d9785-0074-404f-c034-9c2fb63288a3"
      },
      "outputs": [
        {
          "data": {
            "text/plain": [
              "[<keras.engine.input_layer.InputLayer at 0x1d512c23b10>,\n",
              " <keras.layers.convolutional.conv2d.Conv2D at 0x1d519885b10>,\n",
              " <keras.layers.normalization.batch_normalization.BatchNormalization at 0x1d519643e50>,\n",
              " <keras.layers.activation.leaky_relu.LeakyReLU at 0x1d519673590>,\n",
              " <keras.layers.convolutional.conv2d.Conv2D at 0x1d519894450>,\n",
              " <keras.layers.normalization.batch_normalization.BatchNormalization at 0x1d519641550>,\n",
              " <keras.layers.activation.leaky_relu.LeakyReLU at 0x1d51964cfd0>,\n",
              " <keras.layers.convolutional.conv2d.Conv2D at 0x1d519730f10>,\n",
              " <keras.layers.normalization.batch_normalization.BatchNormalization at 0x1d514644650>,\n",
              " <keras.layers.activation.leaky_relu.LeakyReLU at 0x1d5196506d0>,\n",
              " <keras.layers.reshaping.flatten.Flatten at 0x1d5195e8550>,\n",
              " <keras.layers.core.dense.Dense at 0x1d51986a250>,\n",
              " <keras.layers.core.dense.Dense at 0x1d5198af350>,\n",
              " <keras.layers.reshaping.reshape.Reshape at 0x1d5197ecd90>,\n",
              " <keras.layers.convolutional.conv2d_transpose.Conv2DTranspose at 0x1d519836dd0>]"
            ]
          },
          "execution_count": 355,
          "metadata": {},
          "output_type": "execute_result"
        }
      ],
      "source": [
        "model.layers[:15]"
      ]
    },
    {
      "cell_type": "code",
      "execution_count": null,
      "id": "ce5ea7b0-024b-497f-8d2f-24bd52c5bce6",
      "metadata": {
        "id": "ce5ea7b0-024b-497f-8d2f-24bd52c5bce6"
      },
      "outputs": [],
      "source": [
        "encoder = Sequential(\n",
        "     model.layers[:15]    \n",
        ")"
      ]
    },
    {
      "cell_type": "code",
      "execution_count": null,
      "id": "60a0dd7c-3d85-4434-874c-65458b6de320",
      "metadata": {
        "id": "60a0dd7c-3d85-4434-874c-65458b6de320"
      },
      "outputs": [],
      "source": [
        "decoder = Sequential(\n",
        "    model.layers[15:]\n",
        ")"
      ]
    },
    {
      "cell_type": "code",
      "execution_count": null,
      "id": "76c70a22-095c-46f6-aa63-75f78954b226",
      "metadata": {
        "id": "76c70a22-095c-46f6-aa63-75f78954b226",
        "outputId": "4ece9a35-b3d9-4058-9cad-23162c781372"
      },
      "outputs": [
        {
          "name": "stdout",
          "output_type": "stream",
          "text": [
            "313/313 [==============================] - 8s 24ms/step\n"
          ]
        },
        {
          "data": {
            "text/plain": [
              "(10000, 7, 7, 64)"
            ]
          },
          "execution_count": 358,
          "metadata": {},
          "output_type": "execute_result"
        }
      ],
      "source": [
        "encoder.predict(X_test).shape"
      ]
    },
    {
      "cell_type": "code",
      "execution_count": null,
      "id": "c6a8cbce-ba7f-4857-8a6d-2d6f6e9034bb",
      "metadata": {
        "id": "c6a8cbce-ba7f-4857-8a6d-2d6f6e9034bb",
        "outputId": "52b7c2d1-6cd3-4e9a-c6ef-a3f01fa562f7"
      },
      "outputs": [
        {
          "name": "stdout",
          "output_type": "stream",
          "text": [
            "313/313 [==============================] - 7s 24ms/step\n",
            "313/313 [==============================] - 13s 42ms/step\n"
          ]
        }
      ],
      "source": [
        "encoded = encoder.predict(X_test)\n",
        "decoded = decoder.predict(encoded)"
      ]
    },
    {
      "cell_type": "code",
      "execution_count": null,
      "id": "1190aa38-3a30-4bcc-b841-9d4d86f052fa",
      "metadata": {
        "id": "1190aa38-3a30-4bcc-b841-9d4d86f052fa",
        "outputId": "b4478e1f-bba7-4e6d-c303-fb276a0a4cf2"
      },
      "outputs": [
        {
          "data": {
            "text/plain": [
              "(10000, 7, 7, 64)"
            ]
          },
          "execution_count": 360,
          "metadata": {},
          "output_type": "execute_result"
        }
      ],
      "source": [
        "encoded.shape"
      ]
    },
    {
      "cell_type": "code",
      "execution_count": null,
      "id": "b75cf8fb-65e6-41dd-8420-26a414ecb79e",
      "metadata": {
        "tags": [],
        "id": "b75cf8fb-65e6-41dd-8420-26a414ecb79e",
        "outputId": "31d5eb32-a0ba-465e-9fa1-2e8bdf34845f"
      },
      "outputs": [
        {
          "name": "stdout",
          "output_type": "stream",
          "text": [
            "Model: \"sequential_13\"\n",
            "_________________________________________________________________\n",
            " Layer (type)                Output Shape              Param #   \n",
            "=================================================================\n",
            " batch_normalization_131 (Ba  (None, 7, 7, 64)         256       \n",
            " tchNormalization)                                               \n",
            "                                                                 \n",
            " leaky_re_lu_131 (LeakyReLU)  (None, 7, 7, 64)         0         \n",
            "                                                                 \n",
            " conv2d_transpose_59 (Conv2D  (None, 14, 14, 64)       36928     \n",
            " Transpose)                                                      \n",
            "                                                                 \n",
            " batch_normalization_132 (Ba  (None, 14, 14, 64)       256       \n",
            " tchNormalization)                                               \n",
            "                                                                 \n",
            " leaky_re_lu_132 (LeakyReLU)  (None, 14, 14, 64)       0         \n",
            "                                                                 \n",
            " conv2d_transpose_60 (Conv2D  (None, 28, 28, 64)       36928     \n",
            " Transpose)                                                      \n",
            "                                                                 \n",
            " batch_normalization_133 (Ba  (None, 28, 28, 64)       256       \n",
            " tchNormalization)                                               \n",
            "                                                                 \n",
            " leaky_re_lu_133 (LeakyReLU)  (None, 28, 28, 64)       0         \n",
            "                                                                 \n",
            " conv2d_transpose_61 (Conv2D  (None, 28, 28, 32)       18464     \n",
            " Transpose)                                                      \n",
            "                                                                 \n",
            " batch_normalization_134 (Ba  (None, 28, 28, 32)       128       \n",
            " tchNormalization)                                               \n",
            "                                                                 \n",
            " leaky_re_lu_134 (LeakyReLU)  (None, 28, 28, 32)       0         \n",
            "                                                                 \n",
            " conv2d_transpose_62 (Conv2D  (None, 28, 28, 1)        289       \n",
            " Transpose)                                                      \n",
            "                                                                 \n",
            "=================================================================\n",
            "Total params: 93,505\n",
            "Trainable params: 93,057\n",
            "Non-trainable params: 448\n",
            "_________________________________________________________________\n"
          ]
        }
      ],
      "source": [
        "decoder.summary()"
      ]
    },
    {
      "cell_type": "code",
      "execution_count": null,
      "id": "a6e56037-25d9-4e38-8716-8cb3f58c0426",
      "metadata": {
        "id": "a6e56037-25d9-4e38-8716-8cb3f58c0426"
      },
      "outputs": [],
      "source": [
        "#노이즈제거"
      ]
    },
    {
      "cell_type": "code",
      "execution_count": null,
      "id": "c06eed4d-98d1-4bcd-aaaf-5080e316a9a2",
      "metadata": {
        "id": "c06eed4d-98d1-4bcd-aaaf-5080e316a9a2"
      },
      "outputs": [],
      "source": []
    },
    {
      "cell_type": "code",
      "execution_count": null,
      "id": "f339efab-3868-4805-9a1c-8c313a228654",
      "metadata": {
        "id": "f339efab-3868-4805-9a1c-8c313a228654",
        "outputId": "88713dab-fcbb-4fbb-a963-2bd7c197f883"
      },
      "outputs": [
        {
          "data": {
            "text/plain": [
              "(28, 28, 1)"
            ]
          },
          "execution_count": 336,
          "metadata": {},
          "output_type": "execute_result"
        }
      ],
      "source": [
        "choiced = np.random.choice(np.arange(len(X_test)), n)\n",
        "X_test[choiced[0]].shape"
      ]
    },
    {
      "cell_type": "code",
      "execution_count": null,
      "id": "c594af89-536b-4402-8c9a-d6bced2a0260",
      "metadata": {
        "id": "c594af89-536b-4402-8c9a-d6bced2a0260"
      },
      "outputs": [],
      "source": [
        "def img_draw(x,n=10):\n",
        "    \n",
        "    plt.figure(figsize=(20,4))\n",
        "    choiced = np.random.choice(np.arange(len(X_test)), n)\n",
        "    encoded = encoder.predict(x[choiced])\n",
        "    decoded = decoder.predict(encoded)\n",
        "    \n",
        "    for i in range(n):\n",
        "        ax = plt.subplot(2,n,i+1)\n",
        "        plt.imshow(x[choiced[i]])\n",
        "        plt.gray()\n",
        "\n",
        "        ax = plt.subplot(2,n,i+1+n)\n",
        "        plt.imshow(decoded[i])\n",
        "        plt.gray()\n",
        "    plt.show()\n"
      ]
    },
    {
      "cell_type": "code",
      "execution_count": null,
      "id": "abb68a4e-f1b1-47e2-b1b1-3cbe7f1d1a6f",
      "metadata": {
        "id": "abb68a4e-f1b1-47e2-b1b1-3cbe7f1d1a6f",
        "outputId": "e3f4902b-7ffb-4220-bc45-075f917b7a0f"
      },
      "outputs": [
        {
          "data": {
            "text/plain": [
              "(28, 28, 1)"
            ]
          },
          "execution_count": 347,
          "metadata": {},
          "output_type": "execute_result"
        }
      ],
      "source": [
        "decoded[1].shape"
      ]
    },
    {
      "cell_type": "code",
      "execution_count": null,
      "id": "29623d42-0c5e-441d-a298-11985f8b3504",
      "metadata": {
        "tags": [],
        "id": "29623d42-0c5e-441d-a298-11985f8b3504",
        "outputId": "91c32fc1-7202-47fc-f2ab-8f88563f1d50"
      },
      "outputs": [
        {
          "data": {
            "text/plain": [
              "(28, 28, 1)"
            ]
          },
          "execution_count": 348,
          "metadata": {},
          "output_type": "execute_result"
        }
      ],
      "source": [
        "\n",
        "#cX_test[1].shape"
      ]
    },
    {
      "cell_type": "code",
      "execution_count": null,
      "id": "daa327e4-04ee-42a6-9eb9-4d888d3b1400",
      "metadata": {
        "id": "daa327e4-04ee-42a6-9eb9-4d888d3b1400",
        "outputId": "5a599acb-462b-484b-f79a-3398dd3e8ccd"
      },
      "outputs": [
        {
          "ename": "TypeError",
          "evalue": "'int' object is not subscriptable",
          "output_type": "error",
          "traceback": [
            "\u001b[1;31m---------------------------------------------------------------------------\u001b[0m",
            "\u001b[1;31mTypeError\u001b[0m                                 Traceback (most recent call last)",
            "Cell \u001b[1;32mIn[349], line 1\u001b[0m\n\u001b[1;32m----> 1\u001b[0m img_draw(\u001b[38;5;241m3\u001b[39m)\n",
            "Cell \u001b[1;32mIn[346], line 5\u001b[0m, in \u001b[0;36mimg_draw\u001b[1;34m(x, n)\u001b[0m\n\u001b[0;32m      3\u001b[0m plt\u001b[38;5;241m.\u001b[39mfigure(figsize\u001b[38;5;241m=\u001b[39m(\u001b[38;5;241m20\u001b[39m,\u001b[38;5;241m4\u001b[39m))\n\u001b[0;32m      4\u001b[0m choiced \u001b[38;5;241m=\u001b[39m np\u001b[38;5;241m.\u001b[39mrandom\u001b[38;5;241m.\u001b[39mchoice(np\u001b[38;5;241m.\u001b[39marange(\u001b[38;5;28mlen\u001b[39m(X_test)), n)\n\u001b[1;32m----> 5\u001b[0m encoded \u001b[38;5;241m=\u001b[39m encoder\u001b[38;5;241m.\u001b[39mpredict(x[choiced])\n\u001b[0;32m      6\u001b[0m decoded \u001b[38;5;241m=\u001b[39m decoder\u001b[38;5;241m.\u001b[39mpredict(encoded)\n\u001b[0;32m      8\u001b[0m \u001b[38;5;28;01mfor\u001b[39;00m i \u001b[38;5;129;01min\u001b[39;00m \u001b[38;5;28mrange\u001b[39m(n):\n",
            "\u001b[1;31mTypeError\u001b[0m: 'int' object is not subscriptable"
          ]
        },
        {
          "data": {
            "text/plain": [
              "<Figure size 2000x400 with 0 Axes>"
            ]
          },
          "metadata": {},
          "output_type": "display_data"
        }
      ],
      "source": [
        "img_draw(3)"
      ]
    },
    {
      "cell_type": "code",
      "execution_count": 37,
      "id": "4df555bc-7d45-4aa6-8c86-b5ee8d8a865b",
      "metadata": {
        "id": "4df555bc-7d45-4aa6-8c86-b5ee8d8a865b"
      },
      "outputs": [],
      "source": [
        "#이미지 잠재공간 찍는 곳\n",
        "#x값 -1~1사이에서 들어감 \n",
        "\n",
        "#y값 받아옴, 위에서 받아왔어야 함 \n",
        "#def plot_xy(x): \n",
        "(_, y_train),(_, y_test) = mnist.load_data()\n",
        "  "
      ]
    },
    {
      "cell_type": "code",
      "source": [
        "latent = encoder.predict(X_test)"
      ],
      "metadata": {
        "id": "Bv31lEWSL7Iq"
      },
      "id": "Bv31lEWSL7Iq",
      "execution_count": null,
      "outputs": []
    },
    {
      "cell_type": "code",
      "source": [
        "x = latent[:100][:,0]\n",
        "y = latent[:100][:,1]"
      ],
      "metadata": {
        "colab": {
          "base_uri": "https://localhost:8080/",
          "height": 174
        },
        "id": "NZE5CsEWNsDj",
        "outputId": "f6a20519-3548-42db-b462-5947350810f1"
      },
      "id": "NZE5CsEWNsDj",
      "execution_count": 89,
      "outputs": [
        {
          "output_type": "error",
          "ename": "NameError",
          "evalue": "ignored",
          "traceback": [
            "\u001b[0;31m---------------------------------------------------------------------------\u001b[0m",
            "\u001b[0;31mNameError\u001b[0m                                 Traceback (most recent call last)",
            "\u001b[0;32m<ipython-input-89-524ff173fa7d>\u001b[0m in \u001b[0;36m<cell line: 1>\u001b[0;34m()\u001b[0m\n\u001b[0;32m----> 1\u001b[0;31m \u001b[0mx\u001b[0m \u001b[0;34m=\u001b[0m \u001b[0mlatent\u001b[0m\u001b[0;34m[\u001b[0m\u001b[0;34m:\u001b[0m\u001b[0;36m100\u001b[0m\u001b[0;34m]\u001b[0m\u001b[0;34m[\u001b[0m\u001b[0;34m:\u001b[0m\u001b[0;34m,\u001b[0m\u001b[0;36m0\u001b[0m\u001b[0;34m]\u001b[0m\u001b[0;34m\u001b[0m\u001b[0;34m\u001b[0m\u001b[0m\n\u001b[0m",
            "\u001b[0;31mNameError\u001b[0m: name 'latent' is not defined"
          ]
        }
      ]
    },
    {
      "cell_type": "code",
      "source": [
        "plt.figsize(figsize =(15,13))\n",
        "\n",
        "plt.scatter(x,y, c=y_test, cmap= \"Paired\") #그라데이션 말고, 여러가 나눠져있는거 써야 좋을 듯\n",
        "#현재 컬러는 0-8 9개 \n",
        "plt.colorbar()\n",
        "plt.show()\n",
        "\n"
      ],
      "metadata": {
        "colab": {
          "base_uri": "https://localhost:8080/",
          "height": 745
        },
        "id": "CGMVzIeYN4Qo",
        "outputId": "98c601ff-e3e1-48b1-bb85-660951084ac5"
      },
      "id": "CGMVzIeYN4Qo",
      "execution_count": 90,
      "outputs": [
        {
          "output_type": "error",
          "ename": "ValueError",
          "evalue": "ignored",
          "traceback": [
            "\u001b[0;31m---------------------------------------------------------------------------\u001b[0m",
            "\u001b[0;31mValueError\u001b[0m                                Traceback (most recent call last)",
            "\u001b[0;32m<ipython-input-90-87473846c724>\u001b[0m in \u001b[0;36m<cell line: 1>\u001b[0;34m()\u001b[0m\n\u001b[0;32m----> 1\u001b[0;31m \u001b[0mplt\u001b[0m\u001b[0;34m.\u001b[0m\u001b[0mscatter\u001b[0m\u001b[0;34m(\u001b[0m\u001b[0mx\u001b[0m\u001b[0;34m,\u001b[0m\u001b[0my\u001b[0m\u001b[0;34m)\u001b[0m\u001b[0;34m\u001b[0m\u001b[0;34m\u001b[0m\u001b[0m\n\u001b[0m",
            "\u001b[0;32m/usr/local/lib/python3.10/dist-packages/matplotlib/pyplot.py\u001b[0m in \u001b[0;36mscatter\u001b[0;34m(x, y, s, c, marker, cmap, norm, vmin, vmax, alpha, linewidths, edgecolors, plotnonfinite, data, **kwargs)\u001b[0m\n\u001b[1;32m   2860\u001b[0m         \u001b[0mvmin\u001b[0m\u001b[0;34m=\u001b[0m\u001b[0;32mNone\u001b[0m\u001b[0;34m,\u001b[0m \u001b[0mvmax\u001b[0m\u001b[0;34m=\u001b[0m\u001b[0;32mNone\u001b[0m\u001b[0;34m,\u001b[0m \u001b[0malpha\u001b[0m\u001b[0;34m=\u001b[0m\u001b[0;32mNone\u001b[0m\u001b[0;34m,\u001b[0m \u001b[0mlinewidths\u001b[0m\u001b[0;34m=\u001b[0m\u001b[0;32mNone\u001b[0m\u001b[0;34m,\u001b[0m \u001b[0;34m*\u001b[0m\u001b[0;34m,\u001b[0m\u001b[0;34m\u001b[0m\u001b[0;34m\u001b[0m\u001b[0m\n\u001b[1;32m   2861\u001b[0m         edgecolors=None, plotnonfinite=False, data=None, **kwargs):\n\u001b[0;32m-> 2862\u001b[0;31m     __ret = gca().scatter(\n\u001b[0m\u001b[1;32m   2863\u001b[0m         \u001b[0mx\u001b[0m\u001b[0;34m,\u001b[0m \u001b[0my\u001b[0m\u001b[0;34m,\u001b[0m \u001b[0ms\u001b[0m\u001b[0;34m=\u001b[0m\u001b[0ms\u001b[0m\u001b[0;34m,\u001b[0m \u001b[0mc\u001b[0m\u001b[0;34m=\u001b[0m\u001b[0mc\u001b[0m\u001b[0;34m,\u001b[0m \u001b[0mmarker\u001b[0m\u001b[0;34m=\u001b[0m\u001b[0mmarker\u001b[0m\u001b[0;34m,\u001b[0m \u001b[0mcmap\u001b[0m\u001b[0;34m=\u001b[0m\u001b[0mcmap\u001b[0m\u001b[0;34m,\u001b[0m \u001b[0mnorm\u001b[0m\u001b[0;34m=\u001b[0m\u001b[0mnorm\u001b[0m\u001b[0;34m,\u001b[0m\u001b[0;34m\u001b[0m\u001b[0;34m\u001b[0m\u001b[0m\n\u001b[1;32m   2864\u001b[0m         \u001b[0mvmin\u001b[0m\u001b[0;34m=\u001b[0m\u001b[0mvmin\u001b[0m\u001b[0;34m,\u001b[0m \u001b[0mvmax\u001b[0m\u001b[0;34m=\u001b[0m\u001b[0mvmax\u001b[0m\u001b[0;34m,\u001b[0m \u001b[0malpha\u001b[0m\u001b[0;34m=\u001b[0m\u001b[0malpha\u001b[0m\u001b[0;34m,\u001b[0m \u001b[0mlinewidths\u001b[0m\u001b[0;34m=\u001b[0m\u001b[0mlinewidths\u001b[0m\u001b[0;34m,\u001b[0m\u001b[0;34m\u001b[0m\u001b[0;34m\u001b[0m\u001b[0m\n",
            "\u001b[0;32m/usr/local/lib/python3.10/dist-packages/matplotlib/__init__.py\u001b[0m in \u001b[0;36minner\u001b[0;34m(ax, data, *args, **kwargs)\u001b[0m\n\u001b[1;32m   1440\u001b[0m     \u001b[0;32mdef\u001b[0m \u001b[0minner\u001b[0m\u001b[0;34m(\u001b[0m\u001b[0max\u001b[0m\u001b[0;34m,\u001b[0m \u001b[0;34m*\u001b[0m\u001b[0margs\u001b[0m\u001b[0;34m,\u001b[0m \u001b[0mdata\u001b[0m\u001b[0;34m=\u001b[0m\u001b[0;32mNone\u001b[0m\u001b[0;34m,\u001b[0m \u001b[0;34m**\u001b[0m\u001b[0mkwargs\u001b[0m\u001b[0;34m)\u001b[0m\u001b[0;34m:\u001b[0m\u001b[0;34m\u001b[0m\u001b[0;34m\u001b[0m\u001b[0m\n\u001b[1;32m   1441\u001b[0m         \u001b[0;32mif\u001b[0m \u001b[0mdata\u001b[0m \u001b[0;32mis\u001b[0m \u001b[0;32mNone\u001b[0m\u001b[0;34m:\u001b[0m\u001b[0;34m\u001b[0m\u001b[0;34m\u001b[0m\u001b[0m\n\u001b[0;32m-> 1442\u001b[0;31m             \u001b[0;32mreturn\u001b[0m \u001b[0mfunc\u001b[0m\u001b[0;34m(\u001b[0m\u001b[0max\u001b[0m\u001b[0;34m,\u001b[0m \u001b[0;34m*\u001b[0m\u001b[0mmap\u001b[0m\u001b[0;34m(\u001b[0m\u001b[0msanitize_sequence\u001b[0m\u001b[0;34m,\u001b[0m \u001b[0margs\u001b[0m\u001b[0;34m)\u001b[0m\u001b[0;34m,\u001b[0m \u001b[0;34m**\u001b[0m\u001b[0mkwargs\u001b[0m\u001b[0;34m)\u001b[0m\u001b[0;34m\u001b[0m\u001b[0;34m\u001b[0m\u001b[0m\n\u001b[0m\u001b[1;32m   1443\u001b[0m \u001b[0;34m\u001b[0m\u001b[0m\n\u001b[1;32m   1444\u001b[0m         \u001b[0mbound\u001b[0m \u001b[0;34m=\u001b[0m \u001b[0mnew_sig\u001b[0m\u001b[0;34m.\u001b[0m\u001b[0mbind\u001b[0m\u001b[0;34m(\u001b[0m\u001b[0max\u001b[0m\u001b[0;34m,\u001b[0m \u001b[0;34m*\u001b[0m\u001b[0margs\u001b[0m\u001b[0;34m,\u001b[0m \u001b[0;34m**\u001b[0m\u001b[0mkwargs\u001b[0m\u001b[0;34m)\u001b[0m\u001b[0;34m\u001b[0m\u001b[0;34m\u001b[0m\u001b[0m\n",
            "\u001b[0;32m/usr/local/lib/python3.10/dist-packages/matplotlib/axes/_axes.py\u001b[0m in \u001b[0;36mscatter\u001b[0;34m(self, x, y, s, c, marker, cmap, norm, vmin, vmax, alpha, linewidths, edgecolors, plotnonfinite, **kwargs)\u001b[0m\n\u001b[1;32m   4582\u001b[0m         \u001b[0my\u001b[0m \u001b[0;34m=\u001b[0m \u001b[0mnp\u001b[0m\u001b[0;34m.\u001b[0m\u001b[0mma\u001b[0m\u001b[0;34m.\u001b[0m\u001b[0mravel\u001b[0m\u001b[0;34m(\u001b[0m\u001b[0my\u001b[0m\u001b[0;34m)\u001b[0m\u001b[0;34m\u001b[0m\u001b[0;34m\u001b[0m\u001b[0m\n\u001b[1;32m   4583\u001b[0m         \u001b[0;32mif\u001b[0m \u001b[0mx\u001b[0m\u001b[0;34m.\u001b[0m\u001b[0msize\u001b[0m \u001b[0;34m!=\u001b[0m \u001b[0my\u001b[0m\u001b[0;34m.\u001b[0m\u001b[0msize\u001b[0m\u001b[0;34m:\u001b[0m\u001b[0;34m\u001b[0m\u001b[0;34m\u001b[0m\u001b[0m\n\u001b[0;32m-> 4584\u001b[0;31m             \u001b[0;32mraise\u001b[0m \u001b[0mValueError\u001b[0m\u001b[0;34m(\u001b[0m\u001b[0;34m\"x and y must be the same size\"\u001b[0m\u001b[0;34m)\u001b[0m\u001b[0;34m\u001b[0m\u001b[0;34m\u001b[0m\u001b[0m\n\u001b[0m\u001b[1;32m   4585\u001b[0m \u001b[0;34m\u001b[0m\u001b[0m\n\u001b[1;32m   4586\u001b[0m         \u001b[0;32mif\u001b[0m \u001b[0ms\u001b[0m \u001b[0;32mis\u001b[0m \u001b[0;32mNone\u001b[0m\u001b[0;34m:\u001b[0m\u001b[0;34m\u001b[0m\u001b[0;34m\u001b[0m\u001b[0m\n",
            "\u001b[0;31mValueError\u001b[0m: x and y must be the same size"
          ]
        },
        {
          "output_type": "display_data",
          "data": {
            "text/plain": [
              "<Figure size 640x480 with 1 Axes>"
            ],
            "image/png": "[encoded data removed]"
          },
          "metadata": {}
        }
      ]
    },
    {
      "cell_type": "code",
      "source": [
        "#label과 함께 색깔로 찍어주기 \n",
        "#latent와 y_test는 쌍임\n",
        "\n",
        "\n"
      ],
      "metadata": {
        "id": "xIClpHHVL-C1"
      },
      "id": "xIClpHHVL-C1",
      "execution_count": 38,
      "outputs": []
    },
    {
      "cell_type": "code",
      "source": [
        "x = np.random.choice(np.linspace(-1,1, 100), size=(1,28,28,1))\n",
        "x"
      ],
      "metadata": {
        "colab": {
          "base_uri": "https://localhost:8080/"
        },
        "id": "9W1d1ecuJaz9",
        "outputId": "d9af828e-e9ae-4c64-8085-35510ad0e76b"
      },
      "id": "9W1d1ecuJaz9",
      "execution_count": 87,
      "outputs": [
        {
          "output_type": "execute_result",
          "data": {
            "text/plain": [
              "array([[[[-0.6969697 ],\n",
              "         [-0.43434343],\n",
              "         [ 0.93939394],\n",
              "         [-0.01010101],\n",
              "         [-0.75757576],\n",
              "         [-0.8989899 ],\n",
              "         [-0.49494949],\n",
              "         [-0.05050505],\n",
              "         [-0.23232323],\n",
              "         [-0.55555556],\n",
              "         [-0.85858586],\n",
              "         [ 0.95959596],\n",
              "         [ 0.6969697 ],\n",
              "         [-0.55555556],\n",
              "         [-0.03030303],\n",
              "         [-0.47474747],\n",
              "         [ 0.43434343],\n",
              "         [ 0.6969697 ],\n",
              "         [-0.07070707],\n",
              "         [ 0.6969697 ],\n",
              "         [ 0.6969697 ],\n",
              "         [-0.7979798 ],\n",
              "         [-0.45454545],\n",
              "         [-0.13131313],\n",
              "         [ 0.51515152],\n",
              "         [ 0.8989899 ],\n",
              "         [ 0.37373737],\n",
              "         [-0.49494949]],\n",
              "\n",
              "        [[-0.21212121],\n",
              "         [-0.95959596],\n",
              "         [ 0.27272727],\n",
              "         [ 0.41414141],\n",
              "         [-0.77777778],\n",
              "         [ 0.67676768],\n",
              "         [-0.41414141],\n",
              "         [-0.71717172],\n",
              "         [-0.81818182],\n",
              "         [-0.93939394],\n",
              "         [ 0.71717172],\n",
              "         [ 0.29292929],\n",
              "         [ 0.17171717],\n",
              "         [ 0.67676768],\n",
              "         [ 0.45454545],\n",
              "         [ 0.33333333],\n",
              "         [ 0.05050505],\n",
              "         [ 0.91919192],\n",
              "         [ 0.29292929],\n",
              "         [ 0.49494949],\n",
              "         [-0.6969697 ],\n",
              "         [ 0.61616162],\n",
              "         [-0.07070707],\n",
              "         [ 0.75757576],\n",
              "         [ 0.13131313],\n",
              "         [-0.27272727],\n",
              "         [-0.25252525],\n",
              "         [ 0.39393939]],\n",
              "\n",
              "        [[-0.51515152],\n",
              "         [ 0.85858586],\n",
              "         [ 0.8989899 ],\n",
              "         [ 0.19191919],\n",
              "         [-0.25252525],\n",
              "         [ 0.43434343],\n",
              "         [-1.        ],\n",
              "         [ 0.39393939],\n",
              "         [ 0.47474747],\n",
              "         [-0.57575758],\n",
              "         [-0.49494949],\n",
              "         [-0.41414141],\n",
              "         [ 1.        ],\n",
              "         [ 0.47474747],\n",
              "         [ 0.93939394],\n",
              "         [ 0.07070707],\n",
              "         [ 0.07070707],\n",
              "         [-0.97979798],\n",
              "         [ 0.33333333],\n",
              "         [ 0.47474747],\n",
              "         [-0.45454545],\n",
              "         [ 0.01010101],\n",
              "         [-0.75757576],\n",
              "         [-0.87878788],\n",
              "         [ 0.15151515],\n",
              "         [-1.        ],\n",
              "         [ 0.49494949],\n",
              "         [ 0.53535354]],\n",
              "\n",
              "        [[ 0.11111111],\n",
              "         [-0.61616162],\n",
              "         [ 0.87878788],\n",
              "         [ 0.17171717],\n",
              "         [ 0.25252525],\n",
              "         [-0.73737374],\n",
              "         [-0.23232323],\n",
              "         [-0.37373737],\n",
              "         [ 0.01010101],\n",
              "         [-0.23232323],\n",
              "         [-0.31313131],\n",
              "         [ 0.61616162],\n",
              "         [-0.8989899 ],\n",
              "         [-0.29292929],\n",
              "         [ 0.85858586],\n",
              "         [ 0.21212121],\n",
              "         [ 0.93939394],\n",
              "         [-0.7979798 ],\n",
              "         [ 0.63636364],\n",
              "         [ 0.05050505],\n",
              "         [ 0.13131313],\n",
              "         [ 0.31313131],\n",
              "         [ 0.93939394],\n",
              "         [ 0.73737374],\n",
              "         [ 0.05050505],\n",
              "         [ 0.63636364],\n",
              "         [ 0.63636364],\n",
              "         [ 0.71717172]],\n",
              "\n",
              "        [[-0.75757576],\n",
              "         [-0.87878788],\n",
              "         [ 0.91919192],\n",
              "         [-0.87878788],\n",
              "         [-0.5959596 ],\n",
              "         [ 0.51515152],\n",
              "         [ 0.15151515],\n",
              "         [ 0.41414141],\n",
              "         [ 0.39393939],\n",
              "         [ 0.51515152],\n",
              "         [-0.6969697 ],\n",
              "         [-1.        ],\n",
              "         [-0.75757576],\n",
              "         [ 0.57575758],\n",
              "         [-0.17171717],\n",
              "         [ 0.65656566],\n",
              "         [ 0.25252525],\n",
              "         [-0.97979798],\n",
              "         [-0.03030303],\n",
              "         [-0.55555556],\n",
              "         [ 0.15151515],\n",
              "         [-0.17171717],\n",
              "         [ 0.25252525],\n",
              "         [ 0.53535354],\n",
              "         [ 0.8989899 ],\n",
              "         [-0.7979798 ],\n",
              "         [-0.03030303],\n",
              "         [ 1.        ]],\n",
              "\n",
              "        [[-0.51515152],\n",
              "         [-0.53535354],\n",
              "         [-0.33333333],\n",
              "         [-0.63636364],\n",
              "         [ 0.7979798 ],\n",
              "         [ 0.93939394],\n",
              "         [-0.57575758],\n",
              "         [ 0.93939394],\n",
              "         [-0.6969697 ],\n",
              "         [ 0.71717172],\n",
              "         [-0.75757576],\n",
              "         [ 0.83838384],\n",
              "         [ 0.57575758],\n",
              "         [-0.5959596 ],\n",
              "         [ 0.45454545],\n",
              "         [ 0.37373737],\n",
              "         [ 0.45454545],\n",
              "         [ 0.91919192],\n",
              "         [ 0.13131313],\n",
              "         [-0.15151515],\n",
              "         [-0.95959596],\n",
              "         [-0.67676768],\n",
              "         [ 0.61616162],\n",
              "         [ 0.55555556],\n",
              "         [-0.19191919],\n",
              "         [-0.75757576],\n",
              "         [-0.63636364],\n",
              "         [-0.5959596 ]],\n",
              "\n",
              "        [[-0.47474747],\n",
              "         [-0.37373737],\n",
              "         [ 0.17171717],\n",
              "         [-0.93939394],\n",
              "         [-0.09090909],\n",
              "         [ 0.29292929],\n",
              "         [ 0.05050505],\n",
              "         [-0.5959596 ],\n",
              "         [-0.53535354],\n",
              "         [-0.73737374],\n",
              "         [-0.61616162],\n",
              "         [ 0.19191919],\n",
              "         [ 0.73737374],\n",
              "         [ 0.21212121],\n",
              "         [-0.29292929],\n",
              "         [ 0.87878788],\n",
              "         [-0.6969697 ],\n",
              "         [-0.83838384],\n",
              "         [ 0.8989899 ],\n",
              "         [ 0.49494949],\n",
              "         [ 0.49494949],\n",
              "         [ 0.13131313],\n",
              "         [ 0.67676768],\n",
              "         [-0.7979798 ],\n",
              "         [-0.83838384],\n",
              "         [ 0.53535354],\n",
              "         [-0.91919192],\n",
              "         [-0.31313131]],\n",
              "\n",
              "        [[-0.53535354],\n",
              "         [-0.53535354],\n",
              "         [-0.73737374],\n",
              "         [ 0.83838384],\n",
              "         [-0.55555556],\n",
              "         [ 0.09090909],\n",
              "         [ 0.55555556],\n",
              "         [ 0.95959596],\n",
              "         [ 0.85858586],\n",
              "         [-0.91919192],\n",
              "         [ 0.43434343],\n",
              "         [-0.43434343],\n",
              "         [ 0.09090909],\n",
              "         [ 0.95959596],\n",
              "         [-0.31313131],\n",
              "         [-0.83838384],\n",
              "         [ 0.67676768],\n",
              "         [ 0.71717172],\n",
              "         [-0.29292929],\n",
              "         [ 0.61616162],\n",
              "         [ 0.95959596],\n",
              "         [ 0.39393939],\n",
              "         [ 0.11111111],\n",
              "         [-0.55555556],\n",
              "         [ 0.65656566],\n",
              "         [ 0.01010101],\n",
              "         [ 0.31313131],\n",
              "         [ 0.27272727]],\n",
              "\n",
              "        [[-0.23232323],\n",
              "         [ 0.6969697 ],\n",
              "         [-0.61616162],\n",
              "         [-0.21212121],\n",
              "         [-0.97979798],\n",
              "         [-0.15151515],\n",
              "         [-0.65656566],\n",
              "         [ 0.35353535],\n",
              "         [-0.65656566],\n",
              "         [-0.05050505],\n",
              "         [-1.        ],\n",
              "         [-0.65656566],\n",
              "         [ 0.95959596],\n",
              "         [-0.87878788],\n",
              "         [ 0.29292929],\n",
              "         [ 1.        ],\n",
              "         [ 0.73737374],\n",
              "         [ 0.07070707],\n",
              "         [ 0.7979798 ],\n",
              "         [ 0.23232323],\n",
              "         [ 0.11111111],\n",
              "         [-0.49494949],\n",
              "         [-0.97979798],\n",
              "         [ 0.23232323],\n",
              "         [ 0.13131313],\n",
              "         [ 0.53535354],\n",
              "         [ 0.61616162],\n",
              "         [ 0.01010101]],\n",
              "\n",
              "        [[-0.97979798],\n",
              "         [ 0.07070707],\n",
              "         [-0.75757576],\n",
              "         [-0.83838384],\n",
              "         [-0.73737374],\n",
              "         [-0.87878788],\n",
              "         [ 0.81818182],\n",
              "         [ 0.29292929],\n",
              "         [-0.85858586],\n",
              "         [ 0.43434343],\n",
              "         [-0.15151515],\n",
              "         [-0.83838384],\n",
              "         [ 0.47474747],\n",
              "         [ 0.61616162],\n",
              "         [ 0.71717172],\n",
              "         [ 0.85858586],\n",
              "         [ 0.5959596 ],\n",
              "         [ 0.85858586],\n",
              "         [ 0.75757576],\n",
              "         [-0.6969697 ],\n",
              "         [-0.49494949],\n",
              "         [-0.09090909],\n",
              "         [ 0.55555556],\n",
              "         [-0.87878788],\n",
              "         [ 0.5959596 ],\n",
              "         [ 0.01010101],\n",
              "         [ 0.71717172],\n",
              "         [ 0.51515152]],\n",
              "\n",
              "        [[-0.83838384],\n",
              "         [-0.77777778],\n",
              "         [-0.43434343],\n",
              "         [ 0.07070707],\n",
              "         [-0.8989899 ],\n",
              "         [-0.39393939],\n",
              "         [ 0.07070707],\n",
              "         [-0.57575758],\n",
              "         [ 0.77777778],\n",
              "         [ 0.63636364],\n",
              "         [-0.61616162],\n",
              "         [ 0.91919192],\n",
              "         [ 0.25252525],\n",
              "         [-0.51515152],\n",
              "         [ 0.87878788],\n",
              "         [ 0.33333333],\n",
              "         [-0.6969697 ],\n",
              "         [-0.31313131],\n",
              "         [ 0.81818182],\n",
              "         [ 0.31313131],\n",
              "         [ 0.5959596 ],\n",
              "         [-0.11111111],\n",
              "         [ 0.21212121],\n",
              "         [ 0.81818182],\n",
              "         [-0.07070707],\n",
              "         [ 0.39393939],\n",
              "         [-0.37373737],\n",
              "         [ 0.31313131]],\n",
              "\n",
              "        [[ 0.77777778],\n",
              "         [-0.27272727],\n",
              "         [ 0.93939394],\n",
              "         [-0.43434343],\n",
              "         [ 0.63636364],\n",
              "         [-0.71717172],\n",
              "         [ 0.85858586],\n",
              "         [-0.75757576],\n",
              "         [ 0.35353535],\n",
              "         [-0.65656566],\n",
              "         [-0.25252525],\n",
              "         [-0.23232323],\n",
              "         [-0.05050505],\n",
              "         [-0.65656566],\n",
              "         [-0.97979798],\n",
              "         [-0.63636364],\n",
              "         [ 0.57575758],\n",
              "         [ 0.6969697 ],\n",
              "         [ 0.35353535],\n",
              "         [ 0.15151515],\n",
              "         [ 0.73737374],\n",
              "         [ 0.65656566],\n",
              "         [ 0.23232323],\n",
              "         [-0.65656566],\n",
              "         [ 0.87878788],\n",
              "         [-0.23232323],\n",
              "         [ 0.87878788],\n",
              "         [-0.21212121]],\n",
              "\n",
              "        [[ 0.77777778],\n",
              "         [ 0.35353535],\n",
              "         [-0.49494949],\n",
              "         [-0.21212121],\n",
              "         [ 0.21212121],\n",
              "         [-0.09090909],\n",
              "         [ 0.5959596 ],\n",
              "         [-0.6969697 ],\n",
              "         [-0.31313131],\n",
              "         [ 0.11111111],\n",
              "         [ 0.37373737],\n",
              "         [-0.29292929],\n",
              "         [ 0.37373737],\n",
              "         [-0.47474747],\n",
              "         [ 0.6969697 ],\n",
              "         [ 0.09090909],\n",
              "         [-0.8989899 ],\n",
              "         [-0.75757576],\n",
              "         [ 0.31313131],\n",
              "         [ 0.75757576],\n",
              "         [ 0.63636364],\n",
              "         [ 0.15151515],\n",
              "         [-0.67676768],\n",
              "         [-0.43434343],\n",
              "         [ 0.45454545],\n",
              "         [-0.43434343],\n",
              "         [-0.53535354],\n",
              "         [ 0.5959596 ]],\n",
              "\n",
              "        [[ 0.95959596],\n",
              "         [-0.77777778],\n",
              "         [-0.15151515],\n",
              "         [-0.17171717],\n",
              "         [-0.87878788],\n",
              "         [ 0.77777778],\n",
              "         [ 0.97979798],\n",
              "         [ 0.29292929],\n",
              "         [-0.57575758],\n",
              "         [ 0.85858586],\n",
              "         [ 0.29292929],\n",
              "         [-0.63636364],\n",
              "         [ 0.7979798 ],\n",
              "         [ 0.49494949],\n",
              "         [ 0.35353535],\n",
              "         [-0.05050505],\n",
              "         [-0.71717172],\n",
              "         [-0.67676768],\n",
              "         [-0.5959596 ],\n",
              "         [-0.81818182],\n",
              "         [-0.81818182],\n",
              "         [ 0.81818182],\n",
              "         [-0.47474747],\n",
              "         [-0.33333333],\n",
              "         [ 0.65656566],\n",
              "         [-0.85858586],\n",
              "         [ 0.29292929],\n",
              "         [-0.05050505]],\n",
              "\n",
              "        [[ 0.31313131],\n",
              "         [-0.63636364],\n",
              "         [-0.97979798],\n",
              "         [-0.01010101],\n",
              "         [-0.33333333],\n",
              "         [-0.35353535],\n",
              "         [-0.5959596 ],\n",
              "         [ 0.19191919],\n",
              "         [-0.37373737],\n",
              "         [-0.95959596],\n",
              "         [ 0.23232323],\n",
              "         [ 0.19191919],\n",
              "         [ 0.77777778],\n",
              "         [ 0.57575758],\n",
              "         [ 0.93939394],\n",
              "         [-0.37373737],\n",
              "         [ 0.29292929],\n",
              "         [-0.33333333],\n",
              "         [ 0.65656566],\n",
              "         [ 0.83838384],\n",
              "         [ 0.19191919],\n",
              "         [-0.97979798],\n",
              "         [-0.53535354],\n",
              "         [ 0.07070707],\n",
              "         [ 0.83838384],\n",
              "         [ 0.27272727],\n",
              "         [-0.23232323],\n",
              "         [ 0.7979798 ]],\n",
              "\n",
              "        [[ 0.01010101],\n",
              "         [ 0.03030303],\n",
              "         [ 0.23232323],\n",
              "         [-0.43434343],\n",
              "         [-0.53535354],\n",
              "         [-0.5959596 ],\n",
              "         [ 0.67676768],\n",
              "         [ 0.57575758],\n",
              "         [-0.39393939],\n",
              "         [ 0.83838384],\n",
              "         [-0.27272727],\n",
              "         [-0.19191919],\n",
              "         [-0.87878788],\n",
              "         [ 0.23232323],\n",
              "         [-0.55555556],\n",
              "         [-0.43434343],\n",
              "         [-0.05050505],\n",
              "         [-0.67676768],\n",
              "         [-0.21212121],\n",
              "         [ 0.03030303],\n",
              "         [-0.85858586],\n",
              "         [ 0.37373737],\n",
              "         [ 0.39393939],\n",
              "         [ 0.81818182],\n",
              "         [-0.45454545],\n",
              "         [-0.65656566],\n",
              "         [-0.45454545],\n",
              "         [ 0.51515152]],\n",
              "\n",
              "        [[-0.63636364],\n",
              "         [ 0.83838384],\n",
              "         [-0.31313131],\n",
              "         [ 0.5959596 ],\n",
              "         [ 0.73737374],\n",
              "         [-0.45454545],\n",
              "         [-0.61616162],\n",
              "         [ 0.17171717],\n",
              "         [ 0.53535354],\n",
              "         [ 0.53535354],\n",
              "         [ 0.49494949],\n",
              "         [-0.33333333],\n",
              "         [ 0.97979798],\n",
              "         [-0.17171717],\n",
              "         [-0.03030303],\n",
              "         [-0.85858586],\n",
              "         [ 0.97979798],\n",
              "         [ 0.41414141],\n",
              "         [-0.97979798],\n",
              "         [-0.95959596],\n",
              "         [-0.09090909],\n",
              "         [-0.39393939],\n",
              "         [ 0.41414141],\n",
              "         [-0.93939394],\n",
              "         [-0.73737374],\n",
              "         [ 0.55555556],\n",
              "         [-0.81818182],\n",
              "         [-0.5959596 ]],\n",
              "\n",
              "        [[-0.8989899 ],\n",
              "         [ 0.03030303],\n",
              "         [-0.55555556],\n",
              "         [-0.09090909],\n",
              "         [-0.5959596 ],\n",
              "         [ 0.73737374],\n",
              "         [-0.83838384],\n",
              "         [ 0.55555556],\n",
              "         [ 0.11111111],\n",
              "         [-0.45454545],\n",
              "         [-0.33333333],\n",
              "         [-0.93939394],\n",
              "         [ 0.27272727],\n",
              "         [ 0.39393939],\n",
              "         [ 0.19191919],\n",
              "         [-0.73737374],\n",
              "         [-0.29292929],\n",
              "         [ 0.11111111],\n",
              "         [ 0.37373737],\n",
              "         [-0.65656566],\n",
              "         [ 0.65656566],\n",
              "         [-0.95959596],\n",
              "         [-0.13131313],\n",
              "         [-0.95959596],\n",
              "         [ 0.07070707],\n",
              "         [-0.39393939],\n",
              "         [ 0.33333333],\n",
              "         [ 0.93939394]],\n",
              "\n",
              "        [[-0.75757576],\n",
              "         [-0.81818182],\n",
              "         [ 0.95959596],\n",
              "         [ 0.61616162],\n",
              "         [ 0.03030303],\n",
              "         [ 0.91919192],\n",
              "         [-0.17171717],\n",
              "         [ 0.19191919],\n",
              "         [ 0.93939394],\n",
              "         [-0.41414141],\n",
              "         [-0.87878788],\n",
              "         [ 0.49494949],\n",
              "         [-0.37373737],\n",
              "         [ 0.8989899 ],\n",
              "         [ 0.05050505],\n",
              "         [ 0.81818182],\n",
              "         [ 0.25252525],\n",
              "         [-0.67676768],\n",
              "         [-0.77777778],\n",
              "         [-0.73737374],\n",
              "         [-0.37373737],\n",
              "         [-0.77777778],\n",
              "         [-0.41414141],\n",
              "         [ 0.29292929],\n",
              "         [ 0.09090909],\n",
              "         [ 0.81818182],\n",
              "         [ 0.85858586],\n",
              "         [ 0.71717172]],\n",
              "\n",
              "        [[ 0.05050505],\n",
              "         [ 0.21212121],\n",
              "         [ 0.95959596],\n",
              "         [-0.47474747],\n",
              "         [ 0.7979798 ],\n",
              "         [-0.7979798 ],\n",
              "         [ 0.37373737],\n",
              "         [-1.        ],\n",
              "         [-0.29292929],\n",
              "         [ 0.39393939],\n",
              "         [ 0.55555556],\n",
              "         [ 0.37373737],\n",
              "         [ 0.33333333],\n",
              "         [ 0.29292929],\n",
              "         [ 0.5959596 ],\n",
              "         [-0.17171717],\n",
              "         [-0.53535354],\n",
              "         [ 0.7979798 ],\n",
              "         [-0.35353535],\n",
              "         [-0.77777778],\n",
              "         [-0.87878788],\n",
              "         [-0.57575758],\n",
              "         [ 0.57575758],\n",
              "         [ 0.47474747],\n",
              "         [ 0.51515152],\n",
              "         [ 0.6969697 ],\n",
              "         [-0.6969697 ],\n",
              "         [ 0.05050505]],\n",
              "\n",
              "        [[ 0.87878788],\n",
              "         [ 0.55555556],\n",
              "         [-0.97979798],\n",
              "         [-0.03030303],\n",
              "         [-0.33333333],\n",
              "         [-0.6969697 ],\n",
              "         [-0.15151515],\n",
              "         [ 0.53535354],\n",
              "         [ 0.81818182],\n",
              "         [-0.09090909],\n",
              "         [ 0.55555556],\n",
              "         [ 0.65656566],\n",
              "         [-0.67676768],\n",
              "         [-0.25252525],\n",
              "         [-0.83838384],\n",
              "         [ 0.49494949],\n",
              "         [-0.09090909],\n",
              "         [-0.13131313],\n",
              "         [-0.61616162],\n",
              "         [-0.41414141],\n",
              "         [-0.29292929],\n",
              "         [ 0.47474747],\n",
              "         [ 0.63636364],\n",
              "         [-0.09090909],\n",
              "         [-0.87878788],\n",
              "         [-0.87878788],\n",
              "         [ 0.27272727],\n",
              "         [ 0.07070707]],\n",
              "\n",
              "        [[ 0.21212121],\n",
              "         [-0.61616162],\n",
              "         [ 0.31313131],\n",
              "         [ 0.87878788],\n",
              "         [ 0.27272727],\n",
              "         [ 0.61616162],\n",
              "         [-0.43434343],\n",
              "         [ 0.13131313],\n",
              "         [ 0.33333333],\n",
              "         [-0.27272727],\n",
              "         [ 0.33333333],\n",
              "         [ 0.03030303],\n",
              "         [ 0.73737374],\n",
              "         [ 0.5959596 ],\n",
              "         [ 0.07070707],\n",
              "         [-0.6969697 ],\n",
              "         [ 0.23232323],\n",
              "         [ 0.83838384],\n",
              "         [ 0.65656566],\n",
              "         [ 0.23232323],\n",
              "         [ 0.39393939],\n",
              "         [-0.45454545],\n",
              "         [-0.93939394],\n",
              "         [ 0.13131313],\n",
              "         [-0.55555556],\n",
              "         [ 0.25252525],\n",
              "         [ 0.97979798],\n",
              "         [ 0.95959596]],\n",
              "\n",
              "        [[-0.93939394],\n",
              "         [ 0.23232323],\n",
              "         [ 0.41414141],\n",
              "         [ 0.41414141],\n",
              "         [ 0.93939394],\n",
              "         [ 0.75757576],\n",
              "         [-0.05050505],\n",
              "         [ 0.83838384],\n",
              "         [-0.57575758],\n",
              "         [ 0.53535354],\n",
              "         [-0.01010101],\n",
              "         [-0.25252525],\n",
              "         [-0.07070707],\n",
              "         [ 0.6969697 ],\n",
              "         [ 0.29292929],\n",
              "         [ 0.63636364],\n",
              "         [ 0.47474747],\n",
              "         [ 1.        ],\n",
              "         [ 0.21212121],\n",
              "         [ 0.57575758],\n",
              "         [-0.57575758],\n",
              "         [-0.53535354],\n",
              "         [ 1.        ],\n",
              "         [-0.07070707],\n",
              "         [ 0.11111111],\n",
              "         [ 0.87878788],\n",
              "         [ 0.27272727],\n",
              "         [-0.13131313]],\n",
              "\n",
              "        [[-0.57575758],\n",
              "         [ 0.29292929],\n",
              "         [ 0.6969697 ],\n",
              "         [-0.6969697 ],\n",
              "         [ 0.39393939],\n",
              "         [-0.87878788],\n",
              "         [-0.39393939],\n",
              "         [-0.8989899 ],\n",
              "         [ 0.97979798],\n",
              "         [-0.41414141],\n",
              "         [ 0.5959596 ],\n",
              "         [-0.05050505],\n",
              "         [-0.75757576],\n",
              "         [ 0.21212121],\n",
              "         [-0.6969697 ],\n",
              "         [ 0.5959596 ],\n",
              "         [ 0.61616162],\n",
              "         [-0.29292929],\n",
              "         [ 0.85858586],\n",
              "         [-0.55555556],\n",
              "         [-0.83838384],\n",
              "         [ 0.6969697 ],\n",
              "         [ 0.8989899 ],\n",
              "         [-0.31313131],\n",
              "         [-0.57575758],\n",
              "         [ 0.29292929],\n",
              "         [ 0.27272727],\n",
              "         [-0.95959596]],\n",
              "\n",
              "        [[-0.07070707],\n",
              "         [-0.83838384],\n",
              "         [-0.55555556],\n",
              "         [ 0.7979798 ],\n",
              "         [ 0.05050505],\n",
              "         [ 0.47474747],\n",
              "         [-0.77777778],\n",
              "         [-0.71717172],\n",
              "         [ 0.93939394],\n",
              "         [-0.17171717],\n",
              "         [-0.51515152],\n",
              "         [-0.53535354],\n",
              "         [-0.07070707],\n",
              "         [-0.63636364],\n",
              "         [ 0.07070707],\n",
              "         [ 0.95959596],\n",
              "         [ 0.6969697 ],\n",
              "         [-0.13131313],\n",
              "         [ 0.19191919],\n",
              "         [-0.67676768],\n",
              "         [ 0.87878788],\n",
              "         [-0.95959596],\n",
              "         [-0.05050505],\n",
              "         [-0.5959596 ],\n",
              "         [-0.15151515],\n",
              "         [-0.57575758],\n",
              "         [ 0.77777778],\n",
              "         [ 0.49494949]],\n",
              "\n",
              "        [[-0.8989899 ],\n",
              "         [ 0.67676768],\n",
              "         [ 0.71717172],\n",
              "         [-0.39393939],\n",
              "         [ 0.03030303],\n",
              "         [ 0.57575758],\n",
              "         [ 0.7979798 ],\n",
              "         [ 0.47474747],\n",
              "         [-0.43434343],\n",
              "         [-0.41414141],\n",
              "         [-0.43434343],\n",
              "         [ 0.37373737],\n",
              "         [-0.7979798 ],\n",
              "         [-0.49494949],\n",
              "         [ 0.55555556],\n",
              "         [-0.61616162],\n",
              "         [ 0.15151515],\n",
              "         [-0.91919192],\n",
              "         [ 0.21212121],\n",
              "         [ 0.09090909],\n",
              "         [ 0.01010101],\n",
              "         [-0.25252525],\n",
              "         [-0.65656566],\n",
              "         [-0.45454545],\n",
              "         [ 0.33333333],\n",
              "         [-0.13131313],\n",
              "         [ 0.47474747],\n",
              "         [-0.7979798 ]],\n",
              "\n",
              "        [[ 0.5959596 ],\n",
              "         [ 0.49494949],\n",
              "         [-0.71717172],\n",
              "         [ 0.91919192],\n",
              "         [-0.11111111],\n",
              "         [ 0.09090909],\n",
              "         [-0.01010101],\n",
              "         [-0.39393939],\n",
              "         [ 0.45454545],\n",
              "         [-0.75757576],\n",
              "         [-0.43434343],\n",
              "         [ 0.37373737],\n",
              "         [ 0.83838384],\n",
              "         [ 0.17171717],\n",
              "         [-0.37373737],\n",
              "         [ 0.33333333],\n",
              "         [ 0.45454545],\n",
              "         [-0.13131313],\n",
              "         [-0.47474747],\n",
              "         [ 0.97979798],\n",
              "         [-0.01010101],\n",
              "         [-0.93939394],\n",
              "         [-0.19191919],\n",
              "         [ 0.85858586],\n",
              "         [ 0.09090909],\n",
              "         [ 0.03030303],\n",
              "         [ 0.09090909],\n",
              "         [ 0.47474747]],\n",
              "\n",
              "        [[ 0.17171717],\n",
              "         [-0.39393939],\n",
              "         [-0.31313131],\n",
              "         [-0.07070707],\n",
              "         [ 0.7979798 ],\n",
              "         [ 0.5959596 ],\n",
              "         [-0.27272727],\n",
              "         [-0.65656566],\n",
              "         [-0.13131313],\n",
              "         [ 1.        ],\n",
              "         [ 0.41414141],\n",
              "         [ 0.63636364],\n",
              "         [ 0.97979798],\n",
              "         [ 0.95959596],\n",
              "         [ 0.41414141],\n",
              "         [-0.53535354],\n",
              "         [-1.        ],\n",
              "         [-0.43434343],\n",
              "         [ 0.47474747],\n",
              "         [-0.67676768],\n",
              "         [ 0.55555556],\n",
              "         [-0.31313131],\n",
              "         [ 0.55555556],\n",
              "         [-0.45454545],\n",
              "         [ 0.15151515],\n",
              "         [ 0.77777778],\n",
              "         [-0.55555556],\n",
              "         [-0.53535354]]]])"
            ]
          },
          "metadata": {},
          "execution_count": 87
        }
      ]
    },
    {
      "cell_type": "code",
      "source": [
        "x = encoder.predict(x)"
      ],
      "metadata": {
        "colab": {
          "base_uri": "https://localhost:8080/"
        },
        "id": "Ogc02z_NKsbz",
        "outputId": "6dc8a666-3f48-426d-ccc7-c8bd24f25c8a"
      },
      "id": "Ogc02z_NKsbz",
      "execution_count": 19,
      "outputs": [
        {
          "output_type": "execute_result",
          "data": {
            "text/plain": [
              "array([[[[ 0.63636364],\n",
              "         [-0.47474747],\n",
              "         [-0.29292929],\n",
              "         [-0.75757576],\n",
              "         [ 0.37373737],\n",
              "         [ 0.87878788],\n",
              "         [ 0.51515152],\n",
              "         [ 0.43434343],\n",
              "         [-0.77777778],\n",
              "         [-0.91919192],\n",
              "         [-0.8989899 ],\n",
              "         [ 0.49494949],\n",
              "         [-0.31313131],\n",
              "         [ 0.03030303],\n",
              "         [-0.55555556],\n",
              "         [ 0.81818182],\n",
              "         [-0.07070707],\n",
              "         [-0.35353535],\n",
              "         [ 0.37373737],\n",
              "         [-0.25252525],\n",
              "         [ 0.25252525],\n",
              "         [-0.97979798],\n",
              "         [ 0.21212121],\n",
              "         [ 0.47474747],\n",
              "         [ 0.57575758],\n",
              "         [ 0.33333333],\n",
              "         [-0.95959596],\n",
              "         [-0.81818182]],\n",
              "\n",
              "        [[-0.95959596],\n",
              "         [ 0.43434343],\n",
              "         [-0.31313131],\n",
              "         [-0.65656566],\n",
              "         [ 0.8989899 ],\n",
              "         [ 0.41414141],\n",
              "         [ 0.55555556],\n",
              "         [-0.25252525],\n",
              "         [ 0.81818182],\n",
              "         [ 0.35353535],\n",
              "         [-0.25252525],\n",
              "         [-0.09090909],\n",
              "         [ 0.11111111],\n",
              "         [ 0.65656566],\n",
              "         [ 0.8989899 ],\n",
              "         [ 0.23232323],\n",
              "         [ 0.49494949],\n",
              "         [-0.39393939],\n",
              "         [-0.09090909],\n",
              "         [-0.49494949],\n",
              "         [-0.91919192],\n",
              "         [-0.43434343],\n",
              "         [-0.37373737],\n",
              "         [ 0.37373737],\n",
              "         [-0.19191919],\n",
              "         [ 0.75757576],\n",
              "         [ 0.17171717],\n",
              "         [-0.51515152]],\n",
              "\n",
              "        [[ 0.39393939],\n",
              "         [-0.8989899 ],\n",
              "         [-0.45454545],\n",
              "         [-0.15151515],\n",
              "         [-0.41414141],\n",
              "         [ 1.        ],\n",
              "         [-0.97979798],\n",
              "         [ 0.95959596],\n",
              "         [ 0.93939394],\n",
              "         [-0.7979798 ],\n",
              "         [-0.67676768],\n",
              "         [ 0.85858586],\n",
              "         [-0.29292929],\n",
              "         [-0.15151515],\n",
              "         [-0.17171717],\n",
              "         [-0.11111111],\n",
              "         [ 0.91919192],\n",
              "         [-0.77777778],\n",
              "         [-0.95959596],\n",
              "         [ 0.87878788],\n",
              "         [-0.81818182],\n",
              "         [ 0.17171717],\n",
              "         [-0.03030303],\n",
              "         [ 0.53535354],\n",
              "         [-0.05050505],\n",
              "         [ 0.07070707],\n",
              "         [-0.81818182],\n",
              "         [-0.71717172]],\n",
              "\n",
              "        [[-0.7979798 ],\n",
              "         [-0.21212121],\n",
              "         [-0.23232323],\n",
              "         [-0.73737374],\n",
              "         [-0.11111111],\n",
              "         [-0.43434343],\n",
              "         [-0.7979798 ],\n",
              "         [ 0.45454545],\n",
              "         [ 0.8989899 ],\n",
              "         [-0.17171717],\n",
              "         [-0.63636364],\n",
              "         [ 0.53535354],\n",
              "         [ 0.09090909],\n",
              "         [-0.31313131],\n",
              "         [ 0.43434343],\n",
              "         [ 0.23232323],\n",
              "         [ 0.67676768],\n",
              "         [-0.45454545],\n",
              "         [ 0.7979798 ],\n",
              "         [-0.53535354],\n",
              "         [ 0.57575758],\n",
              "         [-0.13131313],\n",
              "         [-0.39393939],\n",
              "         [ 0.27272727],\n",
              "         [-0.57575758],\n",
              "         [ 0.07070707],\n",
              "         [-0.75757576],\n",
              "         [ 0.57575758]],\n",
              "\n",
              "        [[-0.19191919],\n",
              "         [-0.63636364],\n",
              "         [ 0.35353535],\n",
              "         [-0.57575758],\n",
              "         [ 0.43434343],\n",
              "         [ 0.95959596],\n",
              "         [ 0.63636364],\n",
              "         [-0.31313131],\n",
              "         [ 0.23232323],\n",
              "         [ 0.37373737],\n",
              "         [-0.03030303],\n",
              "         [ 0.17171717],\n",
              "         [-0.93939394],\n",
              "         [ 0.53535354],\n",
              "         [ 0.37373737],\n",
              "         [ 0.23232323],\n",
              "         [ 0.41414141],\n",
              "         [ 0.75757576],\n",
              "         [ 0.87878788],\n",
              "         [ 0.43434343],\n",
              "         [-0.93939394],\n",
              "         [ 0.8989899 ],\n",
              "         [-0.37373737],\n",
              "         [-0.09090909],\n",
              "         [-0.93939394],\n",
              "         [ 0.73737374],\n",
              "         [ 0.63636364],\n",
              "         [ 0.73737374]],\n",
              "\n",
              "        [[ 0.47474747],\n",
              "         [-0.77777778],\n",
              "         [-0.5959596 ],\n",
              "         [-0.81818182],\n",
              "         [-0.95959596],\n",
              "         [ 0.81818182],\n",
              "         [ 0.51515152],\n",
              "         [ 0.51515152],\n",
              "         [ 0.31313131],\n",
              "         [ 0.75757576],\n",
              "         [-0.37373737],\n",
              "         [-0.87878788],\n",
              "         [ 0.47474747],\n",
              "         [ 0.35353535],\n",
              "         [-0.55555556],\n",
              "         [ 0.37373737],\n",
              "         [-0.37373737],\n",
              "         [-0.11111111],\n",
              "         [ 0.65656566],\n",
              "         [ 0.31313131],\n",
              "         [ 0.03030303],\n",
              "         [-0.03030303],\n",
              "         [ 0.37373737],\n",
              "         [ 0.09090909],\n",
              "         [ 0.55555556],\n",
              "         [-0.39393939],\n",
              "         [ 0.41414141],\n",
              "         [ 0.97979798]],\n",
              "\n",
              "        [[-0.67676768],\n",
              "         [-0.55555556],\n",
              "         [ 0.29292929],\n",
              "         [ 0.87878788],\n",
              "         [-0.85858586],\n",
              "         [-0.05050505],\n",
              "         [ 0.19191919],\n",
              "         [-0.87878788],\n",
              "         [ 0.67676768],\n",
              "         [-0.93939394],\n",
              "         [ 0.11111111],\n",
              "         [ 0.6969697 ],\n",
              "         [ 0.93939394],\n",
              "         [ 0.33333333],\n",
              "         [ 0.15151515],\n",
              "         [-0.73737374],\n",
              "         [-0.5959596 ],\n",
              "         [ 0.25252525],\n",
              "         [ 0.19191919],\n",
              "         [-0.43434343],\n",
              "         [-0.55555556],\n",
              "         [ 0.73737374],\n",
              "         [ 0.41414141],\n",
              "         [ 0.43434343],\n",
              "         [ 0.27272727],\n",
              "         [ 0.49494949],\n",
              "         [-0.65656566],\n",
              "         [-0.37373737]],\n",
              "\n",
              "        [[-0.77777778],\n",
              "         [ 0.09090909],\n",
              "         [-0.61616162],\n",
              "         [-0.29292929],\n",
              "         [-0.7979798 ],\n",
              "         [ 0.33333333],\n",
              "         [ 0.35353535],\n",
              "         [ 0.55555556],\n",
              "         [ 0.47474747],\n",
              "         [ 0.39393939],\n",
              "         [-0.61616162],\n",
              "         [-0.37373737],\n",
              "         [-0.77777778],\n",
              "         [ 0.29292929],\n",
              "         [-0.39393939],\n",
              "         [-0.39393939],\n",
              "         [-0.67676768],\n",
              "         [ 0.51515152],\n",
              "         [ 0.73737374],\n",
              "         [ 0.07070707],\n",
              "         [-0.7979798 ],\n",
              "         [-0.35353535],\n",
              "         [-0.07070707],\n",
              "         [ 0.57575758],\n",
              "         [ 1.        ],\n",
              "         [-0.7979798 ],\n",
              "         [-0.81818182],\n",
              "         [-0.11111111]],\n",
              "\n",
              "        [[-0.6969697 ],\n",
              "         [-0.65656566],\n",
              "         [ 0.75757576],\n",
              "         [-0.19191919],\n",
              "         [ 0.47474747],\n",
              "         [-0.13131313],\n",
              "         [ 0.91919192],\n",
              "         [ 0.03030303],\n",
              "         [ 0.57575758],\n",
              "         [-0.19191919],\n",
              "         [-0.23232323],\n",
              "         [-0.49494949],\n",
              "         [ 0.09090909],\n",
              "         [-0.25252525],\n",
              "         [ 0.85858586],\n",
              "         [-0.03030303],\n",
              "         [ 0.23232323],\n",
              "         [ 0.91919192],\n",
              "         [ 0.71717172],\n",
              "         [-0.71717172],\n",
              "         [ 0.15151515],\n",
              "         [ 0.65656566],\n",
              "         [-0.49494949],\n",
              "         [ 0.91919192],\n",
              "         [ 0.11111111],\n",
              "         [-0.37373737],\n",
              "         [ 0.51515152],\n",
              "         [ 0.45454545]],\n",
              "\n",
              "        [[ 0.47474747],\n",
              "         [-0.13131313],\n",
              "         [ 0.17171717],\n",
              "         [-0.33333333],\n",
              "         [ 0.27272727],\n",
              "         [ 0.31313131],\n",
              "         [-0.41414141],\n",
              "         [-0.47474747],\n",
              "         [-0.61616162],\n",
              "         [ 0.45454545],\n",
              "         [-0.41414141],\n",
              "         [ 0.03030303],\n",
              "         [-0.35353535],\n",
              "         [ 0.61616162],\n",
              "         [-0.77777778],\n",
              "         [ 0.83838384],\n",
              "         [ 0.75757576],\n",
              "         [-0.95959596],\n",
              "         [-0.31313131],\n",
              "         [-0.6969697 ],\n",
              "         [ 0.5959596 ],\n",
              "         [ 0.51515152],\n",
              "         [ 0.47474747],\n",
              "         [-0.31313131],\n",
              "         [-0.21212121],\n",
              "         [ 0.45454545],\n",
              "         [-0.29292929],\n",
              "         [ 0.07070707]],\n",
              "\n",
              "        [[-0.41414141],\n",
              "         [ 0.23232323],\n",
              "         [-0.17171717],\n",
              "         [ 0.7979798 ],\n",
              "         [ 0.65656566],\n",
              "         [ 0.05050505],\n",
              "         [-1.        ],\n",
              "         [ 0.7979798 ],\n",
              "         [ 1.        ],\n",
              "         [-0.75757576],\n",
              "         [-0.37373737],\n",
              "         [-0.45454545],\n",
              "         [ 1.        ],\n",
              "         [ 0.63636364],\n",
              "         [ 0.85858586],\n",
              "         [ 0.17171717],\n",
              "         [-0.35353535],\n",
              "         [ 0.97979798],\n",
              "         [-0.49494949],\n",
              "         [-0.27272727],\n",
              "         [-0.71717172],\n",
              "         [ 0.29292929],\n",
              "         [ 0.55555556],\n",
              "         [-0.09090909],\n",
              "         [-0.17171717],\n",
              "         [ 0.43434343],\n",
              "         [-0.81818182],\n",
              "         [ 0.71717172]],\n",
              "\n",
              "        [[ 0.75757576],\n",
              "         [-1.        ],\n",
              "         [-0.15151515],\n",
              "         [-0.71717172],\n",
              "         [ 0.63636364],\n",
              "         [ 0.93939394],\n",
              "         [ 0.29292929],\n",
              "         [ 0.09090909],\n",
              "         [ 0.67676768],\n",
              "         [ 0.29292929],\n",
              "         [ 0.63636364],\n",
              "         [ 0.09090909],\n",
              "         [ 0.75757576],\n",
              "         [ 0.25252525],\n",
              "         [ 0.93939394],\n",
              "         [-0.67676768],\n",
              "         [-0.41414141],\n",
              "         [-0.35353535],\n",
              "         [-0.8989899 ],\n",
              "         [ 0.43434343],\n",
              "         [-0.43434343],\n",
              "         [ 0.65656566],\n",
              "         [-0.81818182],\n",
              "         [-0.41414141],\n",
              "         [ 0.39393939],\n",
              "         [-0.41414141],\n",
              "         [ 0.81818182],\n",
              "         [ 0.15151515]],\n",
              "\n",
              "        [[ 0.63636364],\n",
              "         [-0.5959596 ],\n",
              "         [ 0.55555556],\n",
              "         [ 0.73737374],\n",
              "         [-0.73737374],\n",
              "         [ 0.21212121],\n",
              "         [ 0.17171717],\n",
              "         [ 0.95959596],\n",
              "         [ 0.51515152],\n",
              "         [-0.75757576],\n",
              "         [ 0.6969697 ],\n",
              "         [ 0.63636364],\n",
              "         [-0.83838384],\n",
              "         [-0.33333333],\n",
              "         [-0.75757576],\n",
              "         [ 0.91919192],\n",
              "         [-0.65656566],\n",
              "         [-0.47474747],\n",
              "         [-0.19191919],\n",
              "         [ 0.57575758],\n",
              "         [ 0.43434343],\n",
              "         [ 0.23232323],\n",
              "         [-0.85858586],\n",
              "         [ 0.75757576],\n",
              "         [-0.81818182],\n",
              "         [-0.57575758],\n",
              "         [ 0.43434343],\n",
              "         [-0.87878788]],\n",
              "\n",
              "        [[-0.03030303],\n",
              "         [ 0.77777778],\n",
              "         [-0.51515152],\n",
              "         [ 0.01010101],\n",
              "         [-0.71717172],\n",
              "         [-0.53535354],\n",
              "         [-0.6969697 ],\n",
              "         [ 0.27272727],\n",
              "         [ 0.6969697 ],\n",
              "         [-0.19191919],\n",
              "         [ 0.41414141],\n",
              "         [-0.81818182],\n",
              "         [ 0.73737374],\n",
              "         [-0.93939394],\n",
              "         [-0.55555556],\n",
              "         [ 0.83838384],\n",
              "         [ 0.03030303],\n",
              "         [-0.27272727],\n",
              "         [-0.49494949],\n",
              "         [ 0.23232323],\n",
              "         [ 0.33333333],\n",
              "         [ 0.93939394],\n",
              "         [-1.        ],\n",
              "         [ 0.65656566],\n",
              "         [ 0.35353535],\n",
              "         [ 0.15151515],\n",
              "         [-0.33333333],\n",
              "         [-0.63636364]],\n",
              "\n",
              "        [[-0.39393939],\n",
              "         [ 0.21212121],\n",
              "         [ 0.5959596 ],\n",
              "         [ 0.29292929],\n",
              "         [ 0.25252525],\n",
              "         [ 0.35353535],\n",
              "         [-0.53535354],\n",
              "         [-0.07070707],\n",
              "         [ 0.35353535],\n",
              "         [ 0.65656566],\n",
              "         [ 0.41414141],\n",
              "         [ 0.57575758],\n",
              "         [ 0.35353535],\n",
              "         [-0.11111111],\n",
              "         [ 0.23232323],\n",
              "         [ 0.01010101],\n",
              "         [ 0.6969697 ],\n",
              "         [-0.21212121],\n",
              "         [ 0.15151515],\n",
              "         [-0.61616162],\n",
              "         [-1.        ],\n",
              "         [-0.51515152],\n",
              "         [ 0.09090909],\n",
              "         [ 0.51515152],\n",
              "         [-0.19191919],\n",
              "         [-0.57575758],\n",
              "         [-0.15151515],\n",
              "         [ 0.03030303]],\n",
              "\n",
              "        [[ 0.15151515],\n",
              "         [-0.87878788],\n",
              "         [-0.07070707],\n",
              "         [-0.65656566],\n",
              "         [ 0.71717172],\n",
              "         [ 0.23232323],\n",
              "         [-0.29292929],\n",
              "         [ 0.27272727],\n",
              "         [-0.85858586],\n",
              "         [-0.87878788],\n",
              "         [-0.95959596],\n",
              "         [ 0.01010101],\n",
              "         [ 0.95959596],\n",
              "         [-0.07070707],\n",
              "         [ 0.65656566],\n",
              "         [ 0.5959596 ],\n",
              "         [-0.67676768],\n",
              "         [-0.19191919],\n",
              "         [-0.33333333],\n",
              "         [ 0.29292929],\n",
              "         [-0.8989899 ],\n",
              "         [ 0.13131313],\n",
              "         [-0.81818182],\n",
              "         [ 0.71717172],\n",
              "         [ 0.31313131],\n",
              "         [ 0.8989899 ],\n",
              "         [-0.81818182],\n",
              "         [ 0.81818182]],\n",
              "\n",
              "        [[-0.23232323],\n",
              "         [-0.37373737],\n",
              "         [-0.11111111],\n",
              "         [-0.51515152],\n",
              "         [-0.55555556],\n",
              "         [-0.01010101],\n",
              "         [ 0.6969697 ],\n",
              "         [-0.39393939],\n",
              "         [ 0.11111111],\n",
              "         [ 0.01010101],\n",
              "         [ 0.75757576],\n",
              "         [ 0.03030303],\n",
              "         [ 0.27272727],\n",
              "         [-0.65656566],\n",
              "         [-0.6969697 ],\n",
              "         [ 0.75757576],\n",
              "         [-0.17171717],\n",
              "         [ 0.07070707],\n",
              "         [ 0.45454545],\n",
              "         [-0.95959596],\n",
              "         [ 0.85858586],\n",
              "         [-0.47474747],\n",
              "         [ 1.        ],\n",
              "         [ 0.73737374],\n",
              "         [-0.23232323],\n",
              "         [-0.87878788],\n",
              "         [ 0.47474747],\n",
              "         [ 0.75757576]],\n",
              "\n",
              "        [[ 0.7979798 ],\n",
              "         [-0.8989899 ],\n",
              "         [-0.7979798 ],\n",
              "         [-0.97979798],\n",
              "         [-0.41414141],\n",
              "         [ 0.17171717],\n",
              "         [-0.13131313],\n",
              "         [-0.95959596],\n",
              "         [ 0.47474747],\n",
              "         [ 0.03030303],\n",
              "         [-0.53535354],\n",
              "         [-0.31313131],\n",
              "         [-0.71717172],\n",
              "         [ 0.21212121],\n",
              "         [-0.53535354],\n",
              "         [ 0.45454545],\n",
              "         [ 0.47474747],\n",
              "         [-0.57575758],\n",
              "         [ 0.91919192],\n",
              "         [ 0.57575758],\n",
              "         [-0.65656566],\n",
              "         [-0.29292929],\n",
              "         [-0.97979798],\n",
              "         [ 0.33333333],\n",
              "         [-0.03030303],\n",
              "         [ 0.83838384],\n",
              "         [-0.81818182],\n",
              "         [-0.93939394]],\n",
              "\n",
              "        [[-0.15151515],\n",
              "         [ 0.33333333],\n",
              "         [ 0.61616162],\n",
              "         [-0.97979798],\n",
              "         [-0.11111111],\n",
              "         [-0.23232323],\n",
              "         [-0.71717172],\n",
              "         [-0.55555556],\n",
              "         [ 0.49494949],\n",
              "         [ 0.23232323],\n",
              "         [-0.21212121],\n",
              "         [-0.75757576],\n",
              "         [-0.05050505],\n",
              "         [-1.        ],\n",
              "         [ 0.01010101],\n",
              "         [-0.01010101],\n",
              "         [ 0.65656566],\n",
              "         [-0.47474747],\n",
              "         [ 0.35353535],\n",
              "         [ 0.87878788],\n",
              "         [ 0.71717172],\n",
              "         [-0.87878788],\n",
              "         [ 0.03030303],\n",
              "         [ 0.33333333],\n",
              "         [-0.91919192],\n",
              "         [-0.03030303],\n",
              "         [-0.11111111],\n",
              "         [-0.03030303]],\n",
              "\n",
              "        [[ 0.03030303],\n",
              "         [ 0.67676768],\n",
              "         [-0.15151515],\n",
              "         [ 0.41414141],\n",
              "         [-0.81818182],\n",
              "         [-0.81818182],\n",
              "         [ 0.35353535],\n",
              "         [-0.43434343],\n",
              "         [ 0.37373737],\n",
              "         [-0.93939394],\n",
              "         [-0.83838384],\n",
              "         [ 0.5959596 ],\n",
              "         [-0.03030303],\n",
              "         [-0.55555556],\n",
              "         [-0.21212121],\n",
              "         [ 0.47474747],\n",
              "         [ 0.05050505],\n",
              "         [-0.71717172],\n",
              "         [ 0.5959596 ],\n",
              "         [-0.09090909],\n",
              "         [ 0.41414141],\n",
              "         [ 0.8989899 ],\n",
              "         [ 0.57575758],\n",
              "         [ 0.85858586],\n",
              "         [-0.23232323],\n",
              "         [-0.05050505],\n",
              "         [ 0.87878788],\n",
              "         [ 0.95959596]],\n",
              "\n",
              "        [[ 0.87878788],\n",
              "         [ 0.41414141],\n",
              "         [ 0.57575758],\n",
              "         [ 0.33333333],\n",
              "         [-0.07070707],\n",
              "         [-0.31313131],\n",
              "         [-0.65656566],\n",
              "         [-0.33333333],\n",
              "         [-1.        ],\n",
              "         [-0.73737374],\n",
              "         [-0.21212121],\n",
              "         [-0.87878788],\n",
              "         [-0.61616162],\n",
              "         [-0.95959596],\n",
              "         [-0.95959596],\n",
              "         [ 0.05050505],\n",
              "         [-0.51515152],\n",
              "         [-0.39393939],\n",
              "         [-0.49494949],\n",
              "         [ 0.47474747],\n",
              "         [ 0.97979798],\n",
              "         [-0.15151515],\n",
              "         [-0.47474747],\n",
              "         [ 0.33333333],\n",
              "         [ 0.67676768],\n",
              "         [-0.39393939],\n",
              "         [-0.35353535],\n",
              "         [-0.13131313]],\n",
              "\n",
              "        [[-0.23232323],\n",
              "         [-0.11111111],\n",
              "         [-0.73737374],\n",
              "         [-0.45454545],\n",
              "         [ 0.19191919],\n",
              "         [ 0.19191919],\n",
              "         [ 0.09090909],\n",
              "         [-0.85858586],\n",
              "         [-0.23232323],\n",
              "         [-0.71717172],\n",
              "         [-0.35353535],\n",
              "         [ 0.81818182],\n",
              "         [ 0.25252525],\n",
              "         [ 0.95959596],\n",
              "         [ 0.65656566],\n",
              "         [-0.6969697 ],\n",
              "         [-0.13131313],\n",
              "         [-0.29292929],\n",
              "         [ 0.67676768],\n",
              "         [-0.29292929],\n",
              "         [ 0.27272727],\n",
              "         [-0.23232323],\n",
              "         [-0.29292929],\n",
              "         [ 0.75757576],\n",
              "         [ 0.51515152],\n",
              "         [-0.55555556],\n",
              "         [ 0.61616162],\n",
              "         [-0.29292929]],\n",
              "\n",
              "        [[-0.05050505],\n",
              "         [-0.09090909],\n",
              "         [ 0.8989899 ],\n",
              "         [-0.13131313],\n",
              "         [-0.97979798],\n",
              "         [ 0.23232323],\n",
              "         [ 0.67676768],\n",
              "         [-0.83838384],\n",
              "         [-0.93939394],\n",
              "         [ 0.05050505],\n",
              "         [-0.8989899 ],\n",
              "         [-0.65656566],\n",
              "         [ 0.09090909],\n",
              "         [-0.93939394],\n",
              "         [-0.7979798 ],\n",
              "         [-0.95959596],\n",
              "         [ 0.01010101],\n",
              "         [ 0.09090909],\n",
              "         [-0.63636364],\n",
              "         [-0.27272727],\n",
              "         [-0.61616162],\n",
              "         [-0.43434343],\n",
              "         [ 0.73737374],\n",
              "         [-0.55555556],\n",
              "         [-0.13131313],\n",
              "         [-0.65656566],\n",
              "         [ 0.91919192],\n",
              "         [-0.95959596]],\n",
              "\n",
              "        [[ 0.85858586],\n",
              "         [ 0.41414141],\n",
              "         [ 0.43434343],\n",
              "         [ 0.09090909],\n",
              "         [ 0.87878788],\n",
              "         [ 0.67676768],\n",
              "         [ 0.53535354],\n",
              "         [-0.51515152],\n",
              "         [ 0.55555556],\n",
              "         [-0.5959596 ],\n",
              "         [ 0.71717172],\n",
              "         [ 0.45454545],\n",
              "         [ 0.47474747],\n",
              "         [ 0.95959596],\n",
              "         [ 0.97979798],\n",
              "         [-0.01010101],\n",
              "         [ 0.87878788],\n",
              "         [ 0.7979798 ],\n",
              "         [-0.43434343],\n",
              "         [ 0.33333333],\n",
              "         [ 0.77777778],\n",
              "         [-0.17171717],\n",
              "         [ 0.63636364],\n",
              "         [-0.37373737],\n",
              "         [ 0.23232323],\n",
              "         [ 0.53535354],\n",
              "         [-0.43434343],\n",
              "         [-0.07070707]],\n",
              "\n",
              "        [[ 0.17171717],\n",
              "         [-0.67676768],\n",
              "         [ 0.19191919],\n",
              "         [-0.21212121],\n",
              "         [ 0.67676768],\n",
              "         [ 0.11111111],\n",
              "         [ 0.01010101],\n",
              "         [-0.05050505],\n",
              "         [-0.31313131],\n",
              "         [ 0.65656566],\n",
              "         [-0.19191919],\n",
              "         [-0.77777778],\n",
              "         [ 0.77777778],\n",
              "         [-0.19191919],\n",
              "         [ 0.01010101],\n",
              "         [ 0.11111111],\n",
              "         [-0.01010101],\n",
              "         [-0.61616162],\n",
              "         [-0.65656566],\n",
              "         [ 0.45454545],\n",
              "         [ 0.57575758],\n",
              "         [-0.61616162],\n",
              "         [ 0.97979798],\n",
              "         [ 0.67676768],\n",
              "         [ 0.53535354],\n",
              "         [ 0.71717172],\n",
              "         [-0.51515152],\n",
              "         [-0.31313131]],\n",
              "\n",
              "        [[-0.25252525],\n",
              "         [ 0.39393939],\n",
              "         [ 0.57575758],\n",
              "         [ 0.55555556],\n",
              "         [-0.6969697 ],\n",
              "         [ 0.15151515],\n",
              "         [ 0.41414141],\n",
              "         [ 0.15151515],\n",
              "         [ 0.01010101],\n",
              "         [ 0.57575758],\n",
              "         [ 0.19191919],\n",
              "         [ 0.97979798],\n",
              "         [-0.31313131],\n",
              "         [ 0.25252525],\n",
              "         [-0.17171717],\n",
              "         [-0.19191919],\n",
              "         [-0.63636364],\n",
              "         [ 0.49494949],\n",
              "         [ 0.19191919],\n",
              "         [-0.7979798 ],\n",
              "         [ 0.35353535],\n",
              "         [ 0.77777778],\n",
              "         [-0.65656566],\n",
              "         [ 0.15151515],\n",
              "         [-0.43434343],\n",
              "         [-0.27272727],\n",
              "         [ 0.17171717],\n",
              "         [-0.83838384]],\n",
              "\n",
              "        [[ 0.03030303],\n",
              "         [ 0.45454545],\n",
              "         [ 0.93939394],\n",
              "         [ 0.33333333],\n",
              "         [-0.63636364],\n",
              "         [-0.31313131],\n",
              "         [-1.        ],\n",
              "         [-0.13131313],\n",
              "         [-0.07070707],\n",
              "         [-0.21212121],\n",
              "         [ 0.53535354],\n",
              "         [-0.33333333],\n",
              "         [-0.71717172],\n",
              "         [-0.57575758],\n",
              "         [ 0.05050505],\n",
              "         [ 0.53535354],\n",
              "         [-0.7979798 ],\n",
              "         [-0.45454545],\n",
              "         [ 0.91919192],\n",
              "         [-0.93939394],\n",
              "         [ 0.63636364],\n",
              "         [ 0.47474747],\n",
              "         [-0.61616162],\n",
              "         [ 0.5959596 ],\n",
              "         [-0.19191919],\n",
              "         [-0.19191919],\n",
              "         [ 0.13131313],\n",
              "         [ 0.47474747]],\n",
              "\n",
              "        [[ 0.57575758],\n",
              "         [ 0.95959596],\n",
              "         [ 0.97979798],\n",
              "         [-0.63636364],\n",
              "         [-0.45454545],\n",
              "         [-0.15151515],\n",
              "         [ 0.6969697 ],\n",
              "         [-0.53535354],\n",
              "         [-0.29292929],\n",
              "         [ 0.27272727],\n",
              "         [-0.19191919],\n",
              "         [-0.65656566],\n",
              "         [ 0.05050505],\n",
              "         [ 0.29292929],\n",
              "         [-0.95959596],\n",
              "         [ 0.97979798],\n",
              "         [ 0.07070707],\n",
              "         [-0.67676768],\n",
              "         [ 0.29292929],\n",
              "         [ 0.45454545],\n",
              "         [ 0.67676768],\n",
              "         [-0.07070707],\n",
              "         [-0.15151515],\n",
              "         [ 0.13131313],\n",
              "         [ 0.77777778],\n",
              "         [-1.        ],\n",
              "         [ 0.67676768],\n",
              "         [-0.39393939]]]])"
            ]
          },
          "metadata": {},
          "execution_count": 19
        }
      ]
    },
    {
      "cell_type": "code",
      "source": [
        "x = encoder.predict(x)\n",
        "x[:, 0]"
      ],
      "metadata": {
        "colab": {
          "base_uri": "https://localhost:8080/",
          "height": 193
        },
        "id": "AcX2MwZsKyhS",
        "outputId": "e9fa7bbf-bb62-439b-c2c6-d7559c7c3d70"
      },
      "id": "AcX2MwZsKyhS",
      "execution_count": 28,
      "outputs": [
        {
          "output_type": "error",
          "ename": "NameError",
          "evalue": "ignored",
          "traceback": [
            "\u001b[0;31m---------------------------------------------------------------------------\u001b[0m",
            "\u001b[0;31mNameError\u001b[0m                                 Traceback (most recent call last)",
            "\u001b[0;32m<ipython-input-28-4ade603683e9>\u001b[0m in \u001b[0;36m<cell line: 1>\u001b[0;34m()\u001b[0m\n\u001b[0;32m----> 1\u001b[0;31m \u001b[0mx\u001b[0m \u001b[0;34m=\u001b[0m \u001b[0mencoder\u001b[0m\u001b[0;34m.\u001b[0m\u001b[0mpredict\u001b[0m\u001b[0;34m(\u001b[0m\u001b[0mx\u001b[0m\u001b[0;34m)\u001b[0m\u001b[0;34m\u001b[0m\u001b[0;34m\u001b[0m\u001b[0m\n\u001b[0m\u001b[1;32m      2\u001b[0m \u001b[0mx\u001b[0m\u001b[0;34m[\u001b[0m\u001b[0;34m:\u001b[0m\u001b[0;34m,\u001b[0m \u001b[0;36m0\u001b[0m\u001b[0;34m]\u001b[0m\u001b[0;34m\u001b[0m\u001b[0;34m\u001b[0m\u001b[0m\n",
            "\u001b[0;31mNameError\u001b[0m: name 'encoder' is not defined"
          ]
        }
      ]
    },
    {
      "cell_type": "code",
      "source": [
        "np.max(x)"
      ],
      "metadata": {
        "colab": {
          "base_uri": "https://localhost:8080/"
        },
        "id": "IoHKCMkPLHhE",
        "outputId": "400a2863-b11b-405b-b87b-fd57dff2ed5d"
      },
      "id": "IoHKCMkPLHhE",
      "execution_count": 27,
      "outputs": [
        {
          "output_type": "execute_result",
          "data": {
            "text/plain": [
              "5.0"
            ]
          },
          "metadata": {},
          "execution_count": 27
        }
      ]
    },
    {
      "cell_type": "code",
      "source": [
        "np.min(x) #-값이 있으면 안되므로 min값 확인 "
      ],
      "metadata": {
        "colab": {
          "base_uri": "https://localhost:8080/",
          "height": 327
        },
        "id": "6ObjJX7xLOZK",
        "outputId": "ce5ec156-0630-4f23-89b0-2645f7d08306"
      },
      "id": "6ObjJX7xLOZK",
      "execution_count": 86,
      "outputs": [
        {
          "output_type": "error",
          "ename": "UFuncTypeError",
          "evalue": "ignored",
          "traceback": [
            "\u001b[0;31m---------------------------------------------------------------------------\u001b[0m",
            "\u001b[0;31mUFuncTypeError\u001b[0m                            Traceback (most recent call last)",
            "\u001b[0;32m<ipython-input-86-c1bdb10e5c52>\u001b[0m in \u001b[0;36m<cell line: 1>\u001b[0;34m()\u001b[0m\n\u001b[0;32m----> 1\u001b[0;31m \u001b[0mnp\u001b[0m\u001b[0;34m.\u001b[0m\u001b[0mmin\u001b[0m\u001b[0;34m(\u001b[0m\u001b[0mx\u001b[0m\u001b[0;34m)\u001b[0m \u001b[0;31m#-값이 있으면 안되므로 min값 확인\u001b[0m\u001b[0;34m\u001b[0m\u001b[0;34m\u001b[0m\u001b[0m\n\u001b[0m",
            "\u001b[0;32m/usr/local/lib/python3.10/dist-packages/numpy/core/overrides.py\u001b[0m in \u001b[0;36mamin\u001b[0;34m(*args, **kwargs)\u001b[0m\n",
            "\u001b[0;32m/usr/local/lib/python3.10/dist-packages/numpy/core/fromnumeric.py\u001b[0m in \u001b[0;36mamin\u001b[0;34m(a, axis, out, keepdims, initial, where)\u001b[0m\n\u001b[1;32m   2914\u001b[0m     \u001b[0;36m6\u001b[0m\u001b[0;34m\u001b[0m\u001b[0;34m\u001b[0m\u001b[0m\n\u001b[1;32m   2915\u001b[0m     \"\"\"\n\u001b[0;32m-> 2916\u001b[0;31m     return _wrapreduction(a, np.minimum, 'min', axis, None, out,\n\u001b[0m\u001b[1;32m   2917\u001b[0m                           keepdims=keepdims, initial=initial, where=where)\n\u001b[1;32m   2918\u001b[0m \u001b[0;34m\u001b[0m\u001b[0m\n",
            "\u001b[0;32m/usr/local/lib/python3.10/dist-packages/numpy/core/fromnumeric.py\u001b[0m in \u001b[0;36m_wrapreduction\u001b[0;34m(obj, ufunc, method, axis, dtype, out, **kwargs)\u001b[0m\n\u001b[1;32m     84\u001b[0m                 \u001b[0;32mreturn\u001b[0m \u001b[0mreduction\u001b[0m\u001b[0;34m(\u001b[0m\u001b[0maxis\u001b[0m\u001b[0;34m=\u001b[0m\u001b[0maxis\u001b[0m\u001b[0;34m,\u001b[0m \u001b[0mout\u001b[0m\u001b[0;34m=\u001b[0m\u001b[0mout\u001b[0m\u001b[0;34m,\u001b[0m \u001b[0;34m**\u001b[0m\u001b[0mpasskwargs\u001b[0m\u001b[0;34m)\u001b[0m\u001b[0;34m\u001b[0m\u001b[0;34m\u001b[0m\u001b[0m\n\u001b[1;32m     85\u001b[0m \u001b[0;34m\u001b[0m\u001b[0m\n\u001b[0;32m---> 86\u001b[0;31m     \u001b[0;32mreturn\u001b[0m \u001b[0mufunc\u001b[0m\u001b[0;34m.\u001b[0m\u001b[0mreduce\u001b[0m\u001b[0;34m(\u001b[0m\u001b[0mobj\u001b[0m\u001b[0;34m,\u001b[0m \u001b[0maxis\u001b[0m\u001b[0;34m,\u001b[0m \u001b[0mdtype\u001b[0m\u001b[0;34m,\u001b[0m \u001b[0mout\u001b[0m\u001b[0;34m,\u001b[0m \u001b[0;34m**\u001b[0m\u001b[0mpasskwargs\u001b[0m\u001b[0;34m)\u001b[0m\u001b[0;34m\u001b[0m\u001b[0;34m\u001b[0m\u001b[0m\n\u001b[0m\u001b[1;32m     87\u001b[0m \u001b[0;34m\u001b[0m\u001b[0m\n\u001b[1;32m     88\u001b[0m \u001b[0;34m\u001b[0m\u001b[0m\n",
            "\u001b[0;31mUFuncTypeError\u001b[0m: ufunc 'minimum' did not contain a loop with signature matching types (dtype('<U14'), dtype('<U14')) -> None"
          ]
        }
      ]
    }
  ],
  "metadata": {
    "kernelspec": {
      "display_name": "deep",
      "language": "python",
      "name": "deep"
    },
    "language_info": {
      "codemirror_mode": {
        "name": "ipython",
        "version": 3
      },
      "file_extension": ".py",
      "mimetype": "text/x-python",
      "name": "python",
      "nbconvert_exporter": "python",
      "pygments_lexer": "ipython3",
      "version": "3.11.2"
    },
    "colab": {
      "provenance": [],
      "include_colab_link": true
    }
  },
  "nbformat": 4,
  "nbformat_minor": 5
}