{
  "cells": [
    {
      "cell_type": "markdown",
      "metadata": {
        "id": "view-in-github",
        "colab_type": "text"
      },
      "source": [
        "<a href=\"https://colab.research.google.com/github/heejjj/Image_Processing_Kor_Univ/blob/Kor_Univ/tf_0422_ku.ipynb\" target=\"_parent\"><img src=\"https://colab.research.google.com/assets/colab-badge.svg\" alt=\"Open In Colab\"/></a>"
      ]
    },
    {
      "cell_type": "code",
      "execution_count": 2,
      "id": "919e7397-3793-4545-9572-9b5e2a24ae14",
      "metadata": {
        "id": "919e7397-3793-4545-9572-9b5e2a24ae14"
      },
      "outputs": [],
      "source": [
        "from tensorflow.keras.models import Sequential, Model\n",
        "from tensorflow.keras.layers import Dense, Input\n",
        "import numpy as np"
      ]
    },
    {
      "cell_type": "code",
      "execution_count": null,
      "id": "607bc7ce-6399-4128-9841-62916d115051",
      "metadata": {
        "id": "607bc7ce-6399-4128-9841-62916d115051"
      },
      "outputs": [],
      "source": [
        "model = Sequential()"
      ]
    },
    {
      "cell_type": "code",
      "execution_count": null,
      "id": "a2975480-029d-490d-876e-f43f90730fcf",
      "metadata": {
        "id": "a2975480-029d-490d-876e-f43f90730fcf"
      },
      "outputs": [],
      "source": [
        "model.add(Dense(100,activation='relu',input_shape=(2,)))"
      ]
    },
    {
      "cell_type": "code",
      "execution_count": null,
      "id": "5b11042e-65ba-4a33-b1f8-6295095d5c8d",
      "metadata": {
        "id": "5b11042e-65ba-4a33-b1f8-6295095d5c8d"
      },
      "outputs": [],
      "source": [
        "model.add(Dense(100,activation='sigmoid'))"
      ]
    },
    {
      "cell_type": "code",
      "execution_count": null,
      "id": "6a8a9a7d-695a-487a-a5a8-f14ed371b7ae",
      "metadata": {
        "id": "6a8a9a7d-695a-487a-a5a8-f14ed371b7ae"
      },
      "outputs": [],
      "source": [
        "model.add(Dense(10,activation='linear'))"
      ]
    },
    {
      "cell_type": "code",
      "execution_count": null,
      "id": "e92059d9-fade-47c8-85a3-2a03b355392b",
      "metadata": {
        "colab": {
          "base_uri": "https://localhost:8080/"
        },
        "id": "e92059d9-fade-47c8-85a3-2a03b355392b",
        "outputId": "f876c4ae-909e-4b5b-b031-1865709565f8"
      },
      "outputs": [
        {
          "output_type": "stream",
          "name": "stdout",
          "text": [
            "Model: \"sequential\"\n",
            "_________________________________________________________________\n",
            " Layer (type)                Output Shape              Param #   \n",
            "=================================================================\n",
            " dense (Dense)               (None, 100)               300       \n",
            "                                                                 \n",
            " dense_1 (Dense)             (None, 100)               10100     \n",
            "                                                                 \n",
            " dense_2 (Dense)             (None, 10)                1010      \n",
            "                                                                 \n",
            "=================================================================\n",
            "Total params: 11,410\n",
            "Trainable params: 11,410\n",
            "Non-trainable params: 0\n",
            "_________________________________________________________________\n"
          ]
        }
      ],
      "source": [
        "model.summary()"
      ]
    },
    {
      "cell_type": "code",
      "execution_count": null,
      "id": "8d51fe82-8ad3-456c-8e36-a87b70261cdd",
      "metadata": {
        "id": "8d51fe82-8ad3-456c-8e36-a87b70261cdd"
      },
      "outputs": [],
      "source": [
        "layer1 = Dense(100,activation='relu',input_shape=(2,))\n",
        "layer2 = Dense(50,activation='relu')\n",
        "layer3 = Dense(10,activation='softmax')"
      ]
    },
    {
      "cell_type": "code",
      "execution_count": null,
      "id": "b8d7ad47-4be8-481d-8ce3-d984a9f4a55f",
      "metadata": {
        "colab": {
          "base_uri": "https://localhost:8080/"
        },
        "id": "b8d7ad47-4be8-481d-8ce3-d984a9f4a55f",
        "outputId": "7a50dd2c-113f-46a8-e48a-a274184cf859"
      },
      "outputs": [
        {
          "output_type": "stream",
          "name": "stdout",
          "text": [
            "Model: \"sequential_1\"\n",
            "_________________________________________________________________\n",
            " Layer (type)                Output Shape              Param #   \n",
            "=================================================================\n",
            " dense_3 (Dense)             (None, 100)               300       \n",
            "                                                                 \n",
            " dense_4 (Dense)             (None, 50)                5050      \n",
            "                                                                 \n",
            " dense_5 (Dense)             (None, 10)                510       \n",
            "                                                                 \n",
            "=================================================================\n",
            "Total params: 5,860\n",
            "Trainable params: 5,860\n",
            "Non-trainable params: 0\n",
            "_________________________________________________________________\n"
          ]
        }
      ],
      "source": [
        "model = Sequential()\n",
        "model.add(layer1)\n",
        "model.add(layer2)\n",
        "model.add(layer3)\n",
        "model.summary()"
      ]
    },
    {
      "cell_type": "code",
      "execution_count": null,
      "id": "7113a6db-d2ab-43b8-96e5-06230ac793cb",
      "metadata": {
        "colab": {
          "base_uri": "https://localhost:8080/"
        },
        "id": "7113a6db-d2ab-43b8-96e5-06230ac793cb",
        "outputId": "09b8c33e-c3be-4274-ee45-1f03c006cdee"
      },
      "outputs": [
        {
          "output_type": "stream",
          "name": "stdout",
          "text": [
            "4/4 [==============================] - 4s 5ms/step\n"
          ]
        },
        {
          "output_type": "execute_result",
          "data": {
            "text/plain": [
              "(100, 10)"
            ]
          },
          "metadata": {},
          "execution_count": 9
        }
      ],
      "source": [
        "model.predict(np.random.randn(100,2)).shape"
      ]
    },
    {
      "cell_type": "code",
      "execution_count": null,
      "id": "f7cf21c9-e2c9-4da6-a15d-cb18964b8afd",
      "metadata": {
        "id": "f7cf21c9-e2c9-4da6-a15d-cb18964b8afd"
      },
      "outputs": [],
      "source": [
        "model = Sequential(\n",
        "    [\n",
        "        layer1,\n",
        "        layer2,\n",
        "        layer3\n",
        "    ]\n",
        ")"
      ]
    },
    {
      "cell_type": "code",
      "execution_count": null,
      "id": "7b33b74b-4d2c-4952-80f3-07a0dfb9b594",
      "metadata": {
        "colab": {
          "base_uri": "https://localhost:8080/"
        },
        "id": "7b33b74b-4d2c-4952-80f3-07a0dfb9b594",
        "outputId": "170c0a46-3810-420e-dc56-b9a0403056c4"
      },
      "outputs": [
        {
          "output_type": "stream",
          "name": "stdout",
          "text": [
            "4/4 [==============================] - 0s 4ms/step\n"
          ]
        },
        {
          "output_type": "execute_result",
          "data": {
            "text/plain": [
              "(100, 10)"
            ]
          },
          "metadata": {},
          "execution_count": 11
        }
      ],
      "source": [
        "model.predict(np.random.randn(100,2)).shape"
      ]
    },
    {
      "cell_type": "code",
      "execution_count": null,
      "id": "5eec544d-536f-44fb-b934-912233645861",
      "metadata": {
        "id": "5eec544d-536f-44fb-b934-912233645861"
      },
      "outputs": [],
      "source": [
        "input_ = Dense(100,activation='relu')"
      ]
    },
    {
      "cell_type": "code",
      "execution_count": null,
      "id": "549a5a38-c330-4e85-befe-a3f9689ae3de",
      "metadata": {
        "id": "549a5a38-c330-4e85-befe-a3f9689ae3de"
      },
      "outputs": [],
      "source": [
        "input_ = Input(shape=(2,))"
      ]
    },
    {
      "cell_type": "code",
      "execution_count": null,
      "id": "548cc07c-2de5-4784-b7c0-c41e199e65db",
      "metadata": {
        "id": "548cc07c-2de5-4784-b7c0-c41e199e65db"
      },
      "outputs": [],
      "source": [
        "layer1 = Dense(100,activation='relu')\n",
        "layer2 = Dense(50,activation='relu')\n",
        "layer3 = Dense(10,activation='relu')"
      ]
    },
    {
      "cell_type": "code",
      "execution_count": null,
      "id": "7c81cdb3-bc10-46d9-a4f6-fc8a0b589a43",
      "metadata": {
        "id": "7c81cdb3-bc10-46d9-a4f6-fc8a0b589a43"
      },
      "outputs": [],
      "source": [
        "x = layer1(input_)"
      ]
    },
    {
      "cell_type": "code",
      "execution_count": null,
      "id": "d3a49cf6-0825-456c-b544-16782a6378a6",
      "metadata": {
        "id": "d3a49cf6-0825-456c-b544-16782a6378a6"
      },
      "outputs": [],
      "source": [
        "x = layer2(x)"
      ]
    },
    {
      "cell_type": "code",
      "execution_count": null,
      "id": "abf3b6bb-d7f2-4d39-bcb0-c081c7950cfd",
      "metadata": {
        "id": "abf3b6bb-d7f2-4d39-bcb0-c081c7950cfd"
      },
      "outputs": [],
      "source": [
        "x = layer3(x)"
      ]
    },
    {
      "cell_type": "code",
      "execution_count": null,
      "id": "96564630-1381-42f2-8bd8-c16bf37de246",
      "metadata": {
        "id": "96564630-1381-42f2-8bd8-c16bf37de246"
      },
      "outputs": [],
      "source": [
        "model = Model(inputs=[input_],outputs=[x])"
      ]
    },
    {
      "cell_type": "code",
      "execution_count": null,
      "id": "f7e71520-e455-4cd5-bb5c-c39753ac0b8f",
      "metadata": {
        "colab": {
          "base_uri": "https://localhost:8080/"
        },
        "id": "f7e71520-e455-4cd5-bb5c-c39753ac0b8f",
        "outputId": "2de4936a-0772-4954-bef2-dc1d20e62131"
      },
      "outputs": [
        {
          "output_type": "stream",
          "name": "stdout",
          "text": [
            "Model: \"model\"\n",
            "_________________________________________________________________\n",
            " Layer (type)                Output Shape              Param #   \n",
            "=================================================================\n",
            " input_1 (InputLayer)        [(None, 2)]               0         \n",
            "                                                                 \n",
            " dense_7 (Dense)             (None, 100)               300       \n",
            "                                                                 \n",
            " dense_8 (Dense)             (None, 50)                5050      \n",
            "                                                                 \n",
            " dense_9 (Dense)             (None, 10)                510       \n",
            "                                                                 \n",
            "=================================================================\n",
            "Total params: 5,860\n",
            "Trainable params: 5,860\n",
            "Non-trainable params: 0\n",
            "_________________________________________________________________\n"
          ]
        }
      ],
      "source": [
        "model.summary()"
      ]
    },
    {
      "cell_type": "code",
      "execution_count": 11,
      "id": "93a1c4bb-e592-4dae-8333-e6a7b9c099aa",
      "metadata": {
        "id": "93a1c4bb-e592-4dae-8333-e6a7b9c099aa"
      },
      "outputs": [],
      "source": [
        "from tensorflow.keras.datasets import mnist\n",
        "from tensorflow.keras.utils import to_categorical"
      ]
    },
    {
      "cell_type": "code",
      "execution_count": 12,
      "id": "4406da74-3ff2-4aaf-b3f7-4366e6731c02",
      "metadata": {
        "colab": {
          "base_uri": "https://localhost:8080/"
        },
        "id": "4406da74-3ff2-4aaf-b3f7-4366e6731c02",
        "outputId": "e5ce5e1a-8522-4d18-801c-5329f1e64f38"
      },
      "outputs": [
        {
          "output_type": "stream",
          "name": "stdout",
          "text": [
            "Downloading data from https://storage.googleapis.com/tensorflow/tf-keras-datasets/mnist.npz\n",
            "11490434/11490434 [==============================] - 0s 0us/step\n"
          ]
        }
      ],
      "source": [
        "(X_train, y_train), (X_test,y_test) = mnist.load_data()"
      ]
    },
    {
      "cell_type": "code",
      "execution_count": 13,
      "id": "e9fbe6e2-d14d-4836-af8d-db08297a5d05",
      "metadata": {
        "id": "e9fbe6e2-d14d-4836-af8d-db08297a5d05"
      },
      "outputs": [],
      "source": [
        "y_train = to_categorical(y_train)"
      ]
    },
    {
      "cell_type": "code",
      "execution_count": 14,
      "id": "0040c50b-f28a-4d4d-a89a-4008c0986c3e",
      "metadata": {
        "colab": {
          "base_uri": "https://localhost:8080/"
        },
        "id": "0040c50b-f28a-4d4d-a89a-4008c0986c3e",
        "outputId": "603ef5a6-3d5d-4583-a065-d8e5495ffb7d"
      },
      "outputs": [
        {
          "output_type": "execute_result",
          "data": {
            "text/plain": [
              "((60000, 28, 28), (60000, 10))"
            ]
          },
          "metadata": {},
          "execution_count": 14
        }
      ],
      "source": [
        "X_train.shape, y_train.shape"
      ]
    },
    {
      "cell_type": "code",
      "execution_count": null,
      "id": "5e7baa30-fb23-4c69-9a52-3ee0fe5ebe1e",
      "metadata": {
        "id": "5e7baa30-fb23-4c69-9a52-3ee0fe5ebe1e"
      },
      "outputs": [],
      "source": [
        "model = Sequential(\n",
        "    [\n",
        "        Dense(100,activation='relu',input_shape=(X_train.shape[1]*X_train.shape[2],)),\n",
        "        Dense(50,activation='relu'),\n",
        "        Dense(10,activation='softmax')\n",
        "    ]\n",
        ")"
      ]
    },
    {
      "cell_type": "code",
      "execution_count": null,
      "id": "ca12e405-7309-4c03-a3f1-3618a45b31ef",
      "metadata": {
        "colab": {
          "base_uri": "https://localhost:8080/"
        },
        "id": "ca12e405-7309-4c03-a3f1-3618a45b31ef",
        "outputId": "5760f393-c8bb-4931-98cb-31eaf6b7530f"
      },
      "outputs": [
        {
          "output_type": "stream",
          "name": "stdout",
          "text": [
            "Model: \"sequential_3\"\n",
            "_________________________________________________________________\n",
            " Layer (type)                Output Shape              Param #   \n",
            "=================================================================\n",
            " dense_10 (Dense)            (None, 100)               78500     \n",
            "                                                                 \n",
            " dense_11 (Dense)            (None, 50)                5050      \n",
            "                                                                 \n",
            " dense_12 (Dense)            (None, 10)                510       \n",
            "                                                                 \n",
            "=================================================================\n",
            "Total params: 84,060\n",
            "Trainable params: 84,060\n",
            "Non-trainable params: 0\n",
            "_________________________________________________________________\n"
          ]
        }
      ],
      "source": [
        "model.summary()"
      ]
    },
    {
      "cell_type": "code",
      "execution_count": 15,
      "id": "3186eabe-2913-4d18-833b-9fdcca6440ab",
      "metadata": {
        "colab": {
          "base_uri": "https://localhost:8080/",
          "height": 448
        },
        "id": "3186eabe-2913-4d18-833b-9fdcca6440ab",
        "outputId": "2bccb2d2-7c55-4583-8bf0-adcf7a138b17"
      },
      "outputs": [
        {
          "output_type": "execute_result",
          "data": {
            "text/plain": [
              "array([0., 0., 0., 0., 0., 1., 0., 0., 0., 0.], dtype=float32)"
            ]
          },
          "metadata": {},
          "execution_count": 15
        },
        {
          "output_type": "display_data",
          "data": {
            "text/plain": [
              "<Figure size 640x480 with 1 Axes>"
            ],
            "image/png": "[encoded data removed]"
          },
          "metadata": {}
        }
      ],
      "source": [
        "import matplotlib.pyplot as plt\n",
        "plt.imshow(X_train[0])\n",
        "y_train[0]"
      ]
    },
    {
      "cell_type": "code",
      "execution_count": null,
      "id": "d6b6f069-0583-48d3-9326-515619378797",
      "metadata": {
        "colab": {
          "base_uri": "https://localhost:8080/"
        },
        "id": "d6b6f069-0583-48d3-9326-515619378797",
        "outputId": "44ebc9ec-553c-4123-a462-5258e8b60f00"
      },
      "outputs": [
        {
          "output_type": "stream",
          "name": "stdout",
          "text": [
            "Model: \"sequential_3\"\n",
            "_________________________________________________________________\n",
            " Layer (type)                Output Shape              Param #   \n",
            "=================================================================\n",
            " dense_10 (Dense)            (None, 100)               78500     \n",
            "                                                                 \n",
            " dense_11 (Dense)            (None, 50)                5050      \n",
            "                                                                 \n",
            " dense_12 (Dense)            (None, 10)                510       \n",
            "                                                                 \n",
            "=================================================================\n",
            "Total params: 84,060\n",
            "Trainable params: 84,060\n",
            "Non-trainable params: 0\n",
            "_________________________________________________________________\n"
          ]
        }
      ],
      "source": [
        "# (28,28) --> --> --> (10)\n",
        "model.summary()"
      ]
    },
    {
      "cell_type": "code",
      "execution_count": null,
      "id": "0d28bd32-af49-4c95-bb90-0fab30c834ab",
      "metadata": {
        "id": "0d28bd32-af49-4c95-bb90-0fab30c834ab"
      },
      "outputs": [],
      "source": [
        "x = X_train[0].reshape(1,28*28)"
      ]
    },
    {
      "cell_type": "code",
      "execution_count": null,
      "id": "940f014a-9828-433b-8812-94c520d38442",
      "metadata": {
        "colab": {
          "base_uri": "https://localhost:8080/"
        },
        "id": "940f014a-9828-433b-8812-94c520d38442",
        "outputId": "912ae11b-d23e-4617-a610-d3f2ca184c62"
      },
      "outputs": [
        {
          "output_type": "stream",
          "name": "stdout",
          "text": [
            "1/1 [==============================] - 0s 66ms/step\n"
          ]
        },
        {
          "output_type": "execute_result",
          "data": {
            "text/plain": [
              "0"
            ]
          },
          "metadata": {},
          "execution_count": 29
        }
      ],
      "source": [
        "np.argmax(model.predict(x))"
      ]
    },
    {
      "cell_type": "code",
      "execution_count": null,
      "id": "1245e389-e598-4f13-ae5a-faeb1d2b2d33",
      "metadata": {
        "colab": {
          "base_uri": "https://localhost:8080/"
        },
        "id": "1245e389-e598-4f13-ae5a-faeb1d2b2d33",
        "outputId": "41d21af6-a7e4-4d7c-d50a-d3b6a525af53"
      },
      "outputs": [
        {
          "output_type": "stream",
          "name": "stdout",
          "text": [
            "1/1 [==============================] - 0s 20ms/step\n"
          ]
        },
        {
          "output_type": "execute_result",
          "data": {
            "text/plain": [
              "array([[1.0000000e+00, 5.6622182e-27, 0.0000000e+00, 0.0000000e+00,\n",
              "        8.9684157e-25, 0.0000000e+00, 1.5183862e-23, 0.0000000e+00,\n",
              "        0.0000000e+00, 0.0000000e+00]], dtype=float32)"
            ]
          },
          "metadata": {},
          "execution_count": 30
        }
      ],
      "source": [
        "model.predict(x)"
      ]
    },
    {
      "cell_type": "code",
      "execution_count": null,
      "id": "d98f49e1-bf7b-4b30-99a7-450ffff237d2",
      "metadata": {
        "colab": {
          "base_uri": "https://localhost:8080/"
        },
        "id": "d98f49e1-bf7b-4b30-99a7-450ffff237d2",
        "outputId": "35e4ad9b-48ee-434b-9785-f5c9e0269374"
      },
      "outputs": [
        {
          "output_type": "execute_result",
          "data": {
            "text/plain": [
              "array([[0., 0., 0., 0., 0., 1., 0., 0., 0., 0.]], dtype=float32)"
            ]
          },
          "metadata": {},
          "execution_count": 31
        }
      ],
      "source": [
        "y_train[[0]]"
      ]
    },
    {
      "cell_type": "code",
      "execution_count": null,
      "id": "17e3d3ff-3cdd-479c-9cf3-9c022a1b5179",
      "metadata": {
        "colab": {
          "base_uri": "https://localhost:8080/"
        },
        "id": "17e3d3ff-3cdd-479c-9cf3-9c022a1b5179",
        "outputId": "1be64e29-240d-4a91-fa1b-8ac92d6406ef"
      },
      "outputs": [
        {
          "output_type": "stream",
          "name": "stdout",
          "text": [
            "1/1 [==============================] - 0s 19ms/step\n"
          ]
        },
        {
          "output_type": "stream",
          "name": "stderr",
          "text": [
            "<ipython-input-32-9dd79f1a2869>:1: RuntimeWarning: divide by zero encountered in log\n",
            "  np.nansum(-y_train[[0]]*np.log(model.predict(x)))\n",
            "<ipython-input-32-9dd79f1a2869>:1: RuntimeWarning: invalid value encountered in multiply\n",
            "  np.nansum(-y_train[[0]]*np.log(model.predict(x)))\n"
          ]
        },
        {
          "output_type": "execute_result",
          "data": {
            "text/plain": [
              "inf"
            ]
          },
          "metadata": {},
          "execution_count": 32
        }
      ],
      "source": [
        "np.nansum(-y_train[[0]]*np.log(model.predict(x)))"
      ]
    },
    {
      "cell_type": "code",
      "execution_count": null,
      "id": "f4fc632d-a48e-4334-b131-11ea975af067",
      "metadata": {
        "colab": {
          "base_uri": "https://localhost:8080/"
        },
        "id": "f4fc632d-a48e-4334-b131-11ea975af067",
        "outputId": "6ee4779a-b2ff-4952-9df3-a3502d317b17"
      },
      "outputs": [
        {
          "output_type": "stream",
          "name": "stdout",
          "text": [
            "1/1 [==============================] - 0s 20ms/step\n"
          ]
        },
        {
          "output_type": "execute_result",
          "data": {
            "text/plain": [
              "(1, 10)"
            ]
          },
          "metadata": {},
          "execution_count": 33
        }
      ],
      "source": [
        "model.predict(x).shape"
      ]
    },
    {
      "cell_type": "code",
      "execution_count": null,
      "id": "708b80f8-8a6e-4e87-aba5-d51ddb27e0ba",
      "metadata": {
        "colab": {
          "base_uri": "https://localhost:8080/"
        },
        "id": "708b80f8-8a6e-4e87-aba5-d51ddb27e0ba",
        "outputId": "aee2ee11-53ec-42f6-e699-ed0d2be588e2"
      },
      "outputs": [
        {
          "output_type": "execute_result",
          "data": {
            "text/plain": [
              "(1, 10)"
            ]
          },
          "metadata": {},
          "execution_count": 34
        }
      ],
      "source": [
        "y_train[[0]].shape"
      ]
    },
    {
      "cell_type": "code",
      "execution_count": null,
      "id": "20b2bfd0-277f-4fc7-9e6d-6b18c038540a",
      "metadata": {
        "colab": {
          "base_uri": "https://localhost:8080/"
        },
        "id": "20b2bfd0-277f-4fc7-9e6d-6b18c038540a",
        "outputId": "5512368a-b0e9-45b0-c18d-4a8bb3e638e9"
      },
      "outputs": [
        {
          "output_type": "stream",
          "name": "stdout",
          "text": [
            "1/1 [==============================] - 0s 23ms/step\n"
          ]
        },
        {
          "output_type": "execute_result",
          "data": {
            "text/plain": [
              "0.0"
            ]
          },
          "metadata": {},
          "execution_count": 35
        }
      ],
      "source": [
        "model.predict(x)[0,5]"
      ]
    },
    {
      "cell_type": "code",
      "execution_count": null,
      "id": "fe3b2e94-6084-4781-bba7-e627491ec4b6",
      "metadata": {
        "colab": {
          "base_uri": "https://localhost:8080/"
        },
        "id": "fe3b2e94-6084-4781-bba7-e627491ec4b6",
        "outputId": "401450cb-9247-4bca-f610-b690672fd2f4"
      },
      "outputs": [
        {
          "output_type": "stream",
          "name": "stdout",
          "text": [
            "Model: \"sequential_3\"\n",
            "_________________________________________________________________\n",
            " Layer (type)                Output Shape              Param #   \n",
            "=================================================================\n",
            " dense_10 (Dense)            (None, 100)               78500     \n",
            "                                                                 \n",
            " dense_11 (Dense)            (None, 50)                5050      \n",
            "                                                                 \n",
            " dense_12 (Dense)            (None, 10)                510       \n",
            "                                                                 \n",
            "=================================================================\n",
            "Total params: 84,060\n",
            "Trainable params: 84,060\n",
            "Non-trainable params: 0\n",
            "_________________________________________________________________\n"
          ]
        }
      ],
      "source": [
        "model.summary()"
      ]
    },
    {
      "cell_type": "code",
      "execution_count": null,
      "id": "c4ea803f-7f7c-4aaa-b60c-ac1e3a28c913",
      "metadata": {
        "id": "c4ea803f-7f7c-4aaa-b60c-ac1e3a28c913"
      },
      "outputs": [],
      "source": [
        "opt = 'sgd'\n",
        "loss = 'categorical_crossentropy'\n",
        "metrics = ['accuracy']\n",
        "model.compile(optimizer=opt,\n",
        "             loss=loss,\n",
        "             metrics=metrics)"
      ]
    },
    {
      "cell_type": "code",
      "execution_count": null,
      "id": "6fc21753-0385-4f91-8f65-d4d376100bb8",
      "metadata": {
        "colab": {
          "base_uri": "https://localhost:8080/"
        },
        "id": "6fc21753-0385-4f91-8f65-d4d376100bb8",
        "outputId": "cabefed9-1f8b-449b-c916-49f430e6ce2c"
      },
      "outputs": [
        {
          "output_type": "execute_result",
          "data": {
            "text/plain": [
              "array([[ 0.04526092,  0.0379815 ,  0.06884913, ..., -0.01478335,\n",
              "         0.07189271,  0.07185414],\n",
              "       [-0.00059137,  0.06355658,  0.00839631, ..., -0.07594129,\n",
              "         0.02217899,  0.01871701],\n",
              "       [ 0.04206798, -0.01689027,  0.02318826, ..., -0.06731576,\n",
              "        -0.07801247,  0.0077268 ],\n",
              "       ...,\n",
              "       [ 0.03401357,  0.01136791,  0.04367854, ..., -0.00127413,\n",
              "        -0.02616509,  0.03871139],\n",
              "       [ 0.04446468, -0.06833985, -0.0286444 , ...,  0.06015687,\n",
              "         0.02797242,  0.06599163],\n",
              "       [ 0.04937325,  0.07857265, -0.04974365, ...,  0.05148263,\n",
              "         0.06135586, -0.05759388]], dtype=float32)"
            ]
          },
          "metadata": {},
          "execution_count": 38
        }
      ],
      "source": [
        "model.layers[0].get_weights()[0]"
      ]
    },
    {
      "cell_type": "code",
      "execution_count": null,
      "id": "1130f177-d529-4c38-9772-1eaf7daefa00",
      "metadata": {
        "id": "1130f177-d529-4c38-9772-1eaf7daefa00"
      },
      "outputs": [],
      "source": [
        "X_train = X_train.reshape(-1,28*28)"
      ]
    },
    {
      "cell_type": "code",
      "execution_count": null,
      "id": "a3db85c1-7f25-4594-ab00-19d5743a5e1c",
      "metadata": {
        "colab": {
          "base_uri": "https://localhost:8080/"
        },
        "id": "a3db85c1-7f25-4594-ab00-19d5743a5e1c",
        "outputId": "1abf85a0-c08a-45f0-d1ba-386f330baabd"
      },
      "outputs": [
        {
          "output_type": "stream",
          "name": "stdout",
          "text": [
            "Epoch 1/10\n",
            "600/600 [==============================] - 7s 7ms/step - loss: 68254.5469 - accuracy: 0.1122\n",
            "Epoch 2/10\n",
            "600/600 [==============================] - 2s 4ms/step - loss: 2.3014 - accuracy: 0.1124\n",
            "Epoch 3/10\n",
            "600/600 [==============================] - 3s 5ms/step - loss: 2.3012 - accuracy: 0.1124\n",
            "Epoch 4/10\n",
            "600/600 [==============================] - 3s 5ms/step - loss: 2.3012 - accuracy: 0.1124\n",
            "Epoch 5/10\n",
            "600/600 [==============================] - 4s 7ms/step - loss: 2.3012 - accuracy: 0.1124\n",
            "Epoch 6/10\n",
            "600/600 [==============================] - 3s 5ms/step - loss: 2.3012 - accuracy: 0.1124\n",
            "Epoch 7/10\n",
            "600/600 [==============================] - 3s 6ms/step - loss: 2.3012 - accuracy: 0.1124\n",
            "Epoch 8/10\n",
            "600/600 [==============================] - 3s 5ms/step - loss: 2.3012 - accuracy: 0.1124\n",
            "Epoch 9/10\n",
            "600/600 [==============================] - 4s 6ms/step - loss: 2.3012 - accuracy: 0.1124\n",
            "Epoch 10/10\n",
            "600/600 [==============================] - 3s 4ms/step - loss: 2.3012 - accuracy: 0.1124\n"
          ]
        },
        {
          "output_type": "execute_result",
          "data": {
            "text/plain": [
              "<keras.callbacks.History at 0x7f3bf0138670>"
            ]
          },
          "metadata": {},
          "execution_count": 40
        }
      ],
      "source": [
        "model.fit(X_train,\n",
        "         y_train,\n",
        "         epochs=10,\n",
        "         batch_size=100)"
      ]
    },
    {
      "cell_type": "code",
      "execution_count": null,
      "id": "946b6504-1278-4b39-869d-d039cb23802c",
      "metadata": {
        "id": "946b6504-1278-4b39-869d-d039cb23802c"
      },
      "outputs": [],
      "source": [
        "x = np.random.randn(10,10,3)"
      ]
    },
    {
      "cell_type": "code",
      "execution_count": null,
      "id": "69302447-c297-40d5-bafe-c67d641e464a",
      "metadata": {
        "colab": {
          "base_uri": "https://localhost:8080/"
        },
        "id": "69302447-c297-40d5-bafe-c67d641e464a",
        "outputId": "c84bf829-ff22-41c5-f2fe-62ec805d7254"
      },
      "outputs": [
        {
          "output_type": "execute_result",
          "data": {
            "text/plain": [
              "(100, 3)"
            ]
          },
          "metadata": {},
          "execution_count": 42
        }
      ],
      "source": [
        "x.reshape(10*10,-1).shape"
      ]
    },
    {
      "cell_type": "code",
      "execution_count": 22,
      "id": "89306555-c4da-4d82-8704-6e5a68ed08d8",
      "metadata": {
        "id": "89306555-c4da-4d82-8704-6e5a68ed08d8"
      },
      "outputs": [],
      "source": [
        "from tensorflow.keras.layers import ReLU"
      ]
    },
    {
      "cell_type": "code",
      "execution_count": null,
      "id": "3a1ecf9b-233b-4a02-b816-41aeea2e59f7",
      "metadata": {
        "id": "3a1ecf9b-233b-4a02-b816-41aeea2e59f7"
      },
      "outputs": [],
      "source": [
        "model = Sequential(\n",
        "    [\n",
        "        Dense(128,activation='relu',input_shape=(784,)),\n",
        "        Dense(64),\n",
        "        ReLU(),\n",
        "        Dense(10,activation='softmax')\n",
        "    ]\n",
        ")"
      ]
    },
    {
      "cell_type": "code",
      "execution_count": null,
      "id": "73eb2943-a575-4fda-8a61-c27c5b5e98ba",
      "metadata": {
        "id": "73eb2943-a575-4fda-8a61-c27c5b5e98ba"
      },
      "outputs": [],
      "source": [
        "(X_train,y_train),(X_test,y_test) = mnist.load_data()"
      ]
    },
    {
      "cell_type": "code",
      "execution_count": null,
      "id": "6f13adeb-c391-44fb-b39a-f33a2d67d83a",
      "metadata": {
        "colab": {
          "base_uri": "https://localhost:8080/"
        },
        "id": "6f13adeb-c391-44fb-b39a-f33a2d67d83a",
        "outputId": "6d80f465-23cc-449e-fc05-e56a175527d0"
      },
      "outputs": [
        {
          "output_type": "execute_result",
          "data": {
            "text/plain": [
              "((60000, 28, 28), (60000,))"
            ]
          },
          "metadata": {},
          "execution_count": 46
        }
      ],
      "source": [
        "X_train.shape, y_train.shape"
      ]
    },
    {
      "cell_type": "code",
      "execution_count": null,
      "id": "29ef01ec-003e-4ea1-bffb-2279ad582f55",
      "metadata": {
        "id": "29ef01ec-003e-4ea1-bffb-2279ad582f55"
      },
      "outputs": [],
      "source": [
        "X_train_trans = X_train.reshape(-1,28*28)\n",
        "y_train_trans = to_categorical(y_train)"
      ]
    },
    {
      "cell_type": "code",
      "execution_count": null,
      "id": "bcced584-b6c7-4be7-9dde-0ffa4e3a87b3",
      "metadata": {
        "id": "bcced584-b6c7-4be7-9dde-0ffa4e3a87b3"
      },
      "outputs": [],
      "source": [
        "model.compile(\n",
        "    optimizer='rmsprop',\n",
        "    loss = 'categorical_crossentropy',\n",
        "    metrics = ['accuracy']\n",
        ")"
      ]
    },
    {
      "cell_type": "code",
      "execution_count": null,
      "id": "9918518b-06ff-4895-be10-35f85a5c24a5",
      "metadata": {
        "colab": {
          "base_uri": "https://localhost:8080/"
        },
        "id": "9918518b-06ff-4895-be10-35f85a5c24a5",
        "outputId": "58f86f06-4e73-4f52-d271-c8a0c3409cf6"
      },
      "outputs": [
        {
          "output_type": "stream",
          "name": "stdout",
          "text": [
            "Epoch 1/10\n",
            "60/60 [==============================] - 1s 5ms/step - loss: 9.0236 - accuracy: 0.7348\n",
            "Epoch 2/10\n",
            "60/60 [==============================] - 0s 4ms/step - loss: 1.2746 - accuracy: 0.8881\n",
            "Epoch 3/10\n",
            "60/60 [==============================] - 0s 4ms/step - loss: 0.6605 - accuracy: 0.9215\n",
            "Epoch 4/10\n",
            "60/60 [==============================] - 0s 5ms/step - loss: 0.4120 - accuracy: 0.9414\n",
            "Epoch 5/10\n",
            "60/60 [==============================] - 0s 6ms/step - loss: 0.2976 - accuracy: 0.9510\n",
            "Epoch 6/10\n",
            "60/60 [==============================] - 0s 8ms/step - loss: 0.2254 - accuracy: 0.9595\n",
            "Epoch 7/10\n",
            "60/60 [==============================] - 0s 7ms/step - loss: 0.1815 - accuracy: 0.9652\n",
            "Epoch 8/10\n",
            "60/60 [==============================] - 0s 7ms/step - loss: 0.1389 - accuracy: 0.9711\n",
            "Epoch 9/10\n",
            "60/60 [==============================] - 0s 4ms/step - loss: 0.1190 - accuracy: 0.9737\n",
            "Epoch 10/10\n",
            "60/60 [==============================] - 0s 3ms/step - loss: 0.0980 - accuracy: 0.9776\n"
          ]
        },
        {
          "output_type": "execute_result",
          "data": {
            "text/plain": [
              "<keras.callbacks.History at 0x7f3b780bcc70>"
            ]
          },
          "metadata": {},
          "execution_count": 49
        }
      ],
      "source": [
        "model.fit(X_train_trans,\n",
        "         y_train_trans,\n",
        "         epochs=10,\n",
        "         batch_size=1000)"
      ]
    },
    {
      "cell_type": "code",
      "execution_count": null,
      "id": "a6a9607c-9a6e-4160-a7fb-3384d1b278d7",
      "metadata": {
        "colab": {
          "base_uri": "https://localhost:8080/"
        },
        "id": "a6a9607c-9a6e-4160-a7fb-3384d1b278d7",
        "outputId": "7a70b397-a46e-429c-98e0-c511c0c05d2c"
      },
      "outputs": [
        {
          "output_type": "stream",
          "name": "stdout",
          "text": [
            "1/1 [==============================] - 0s 50ms/step\n",
            "1/1 [==============================] - 0s 17ms/step\n",
            "1/1 [==============================] - 0s 17ms/step\n",
            "1/1 [==============================] - 0s 19ms/step\n",
            "1/1 [==============================] - 0s 18ms/step\n",
            "1/1 [==============================] - 0s 17ms/step\n",
            "1/1 [==============================] - 0s 19ms/step\n",
            "1/1 [==============================] - 0s 18ms/step\n",
            "1/1 [==============================] - 0s 17ms/step\n",
            "1/1 [==============================] - 0s 18ms/step\n"
          ]
        }
      ],
      "source": [
        "first = []\n",
        "for i in range(10):\n",
        "    first.append(np.argmax(model.predict(X_train[[i]].reshape(1,784))))"
      ]
    },
    {
      "cell_type": "code",
      "execution_count": null,
      "id": "8743c6c0-29d1-4652-ba12-25001a207c03",
      "metadata": {
        "colab": {
          "base_uri": "https://localhost:8080/"
        },
        "id": "8743c6c0-29d1-4652-ba12-25001a207c03",
        "outputId": "1e7fbacf-ae5c-4811-c8e4-73bdb9db5803"
      },
      "outputs": [
        {
          "output_type": "execute_result",
          "data": {
            "text/plain": [
              "array([ True,  True,  True,  True,  True,  True,  True,  True,  True,\n",
              "        True])"
            ]
          },
          "metadata": {},
          "execution_count": 51
        }
      ],
      "source": [
        "first == y_train[:10]"
      ]
    },
    {
      "cell_type": "code",
      "execution_count": null,
      "id": "f996ed9f-5422-4160-b47d-17f212d4e747",
      "metadata": {
        "colab": {
          "base_uri": "https://localhost:8080/"
        },
        "id": "f996ed9f-5422-4160-b47d-17f212d4e747",
        "outputId": "643e8e6e-54c6-43a1-8337-03faa230a031"
      },
      "outputs": [
        {
          "output_type": "execute_result",
          "data": {
            "text/plain": [
              "array([5, 0, 4, 1, 9, 2, 1, 3, 1, 4], dtype=uint8)"
            ]
          },
          "metadata": {},
          "execution_count": 52
        }
      ],
      "source": [
        "y_train[:10]"
      ]
    },
    {
      "cell_type": "code",
      "execution_count": null,
      "id": "3e94b09c-e8ba-4fca-987f-ea803b39bb4e",
      "metadata": {
        "colab": {
          "base_uri": "https://localhost:8080/"
        },
        "id": "3e94b09c-e8ba-4fca-987f-ea803b39bb4e",
        "outputId": "0973fd0a-50fa-45a4-a3d9-f0e58982de9b"
      },
      "outputs": [
        {
          "output_type": "stream",
          "name": "stdout",
          "text": [
            "Epoch 1/10\n",
            "1875/1875 [==============================] - 6s 3ms/step - loss: 0.4653 - accuracy: 0.9417\n",
            "Epoch 2/10\n",
            "1875/1875 [==============================] - 7s 4ms/step - loss: 0.3195 - accuracy: 0.9486\n",
            "Epoch 3/10\n",
            "1875/1875 [==============================] - 9s 5ms/step - loss: 0.2656 - accuracy: 0.9522\n",
            "Epoch 4/10\n",
            "1875/1875 [==============================] - 5s 3ms/step - loss: 0.2472 - accuracy: 0.9556\n",
            "Epoch 5/10\n",
            "1875/1875 [==============================] - 6s 3ms/step - loss: 0.2436 - accuracy: 0.9576\n",
            "Epoch 6/10\n",
            "1875/1875 [==============================] - 8s 4ms/step - loss: 0.2401 - accuracy: 0.9592\n",
            "Epoch 7/10\n",
            "1875/1875 [==============================] - 8s 4ms/step - loss: 0.2347 - accuracy: 0.9600\n",
            "Epoch 8/10\n",
            "1875/1875 [==============================] - 9s 5ms/step - loss: 0.2543 - accuracy: 0.9603\n",
            "Epoch 9/10\n",
            "1875/1875 [==============================] - 8s 4ms/step - loss: 0.2452 - accuracy: 0.9596\n",
            "Epoch 10/10\n",
            "1875/1875 [==============================] - 8s 4ms/step - loss: 0.2454 - accuracy: 0.9620\n"
          ]
        },
        {
          "output_type": "execute_result",
          "data": {
            "text/plain": [
              "<keras.callbacks.History at 0x7f3b7801eca0>"
            ]
          },
          "metadata": {},
          "execution_count": 53
        }
      ],
      "source": [
        "model.compile(optimizer='rmsprop',\n",
        "             loss='categorical_crossentropy',\n",
        "             metrics=['accuracy'])\n",
        "model.fit(X_train_trans,\n",
        "         y_train_trans,\n",
        "         epochs=10)"
      ]
    },
    {
      "cell_type": "code",
      "execution_count": null,
      "id": "fe91d9e8-8d1f-4f41-81d3-e0e2e3c9471f",
      "metadata": {
        "colab": {
          "base_uri": "https://localhost:8080/"
        },
        "id": "fe91d9e8-8d1f-4f41-81d3-e0e2e3c9471f",
        "outputId": "aaa533f6-134a-49ad-a755-32f2f654f203"
      },
      "outputs": [
        {
          "output_type": "stream",
          "name": "stdout",
          "text": [
            "1/1 [==============================] - 0s 134ms/step\n",
            "1/1 [==============================] - 0s 33ms/step\n",
            "1/1 [==============================] - 0s 31ms/step\n",
            "1/1 [==============================] - 0s 39ms/step\n",
            "1/1 [==============================] - 0s 29ms/step\n",
            "1/1 [==============================] - 0s 22ms/step\n",
            "1/1 [==============================] - 0s 37ms/step\n",
            "1/1 [==============================] - 0s 29ms/step\n",
            "1/1 [==============================] - 0s 31ms/step\n",
            "1/1 [==============================] - 0s 28ms/step\n"
          ]
        }
      ],
      "source": [
        "second = []\n",
        "for i in range(10):\n",
        "    second.append(np.argmax(model.predict(X_train[[i]].reshape(1,784))))"
      ]
    },
    {
      "cell_type": "code",
      "execution_count": null,
      "id": "58e43fc2-3e9f-4462-a4c4-4abd0fa0c35b",
      "metadata": {
        "colab": {
          "base_uri": "https://localhost:8080/"
        },
        "id": "58e43fc2-3e9f-4462-a4c4-4abd0fa0c35b",
        "outputId": "a7f7e95f-f1bb-4d5e-bea5-281a8290fcb1"
      },
      "outputs": [
        {
          "output_type": "execute_result",
          "data": {
            "text/plain": [
              "array([ True,  True,  True,  True,  True,  True,  True,  True,  True,\n",
              "        True])"
            ]
          },
          "metadata": {},
          "execution_count": 55
        }
      ],
      "source": [
        "second == y_train[:10]"
      ]
    },
    {
      "cell_type": "code",
      "execution_count": 20,
      "id": "ce154bf4-af6c-4c86-9994-81dddad34cc9",
      "metadata": {
        "id": "ce154bf4-af6c-4c86-9994-81dddad34cc9"
      },
      "outputs": [],
      "source": [
        "from tensorflow.keras.datasets import cifar10"
      ]
    },
    {
      "cell_type": "code",
      "execution_count": 21,
      "id": "593c6dda-2b76-4a0a-86d8-73186b5637b6",
      "metadata": {
        "colab": {
          "base_uri": "https://localhost:8080/"
        },
        "id": "593c6dda-2b76-4a0a-86d8-73186b5637b6",
        "outputId": "48417258-92fd-4739-fcbd-54a6d34e51d3"
      },
      "outputs": [
        {
          "output_type": "stream",
          "name": "stdout",
          "text": [
            "Downloading data from https://www.cs.toronto.edu/~kriz/cifar-10-python.tar.gz\n",
            "170498071/170498071 [==============================] - 2s 0us/step\n"
          ]
        }
      ],
      "source": [
        "(X_train, y_train), (X_test, y_test) = cifar10.load_data()"
      ]
    },
    {
      "cell_type": "code",
      "execution_count": 19,
      "id": "550314f9-d679-4ca9-aa55-0a02499d2bd8",
      "metadata": {
        "id": "550314f9-d679-4ca9-aa55-0a02499d2bd8"
      },
      "outputs": [],
      "source": [
        "from tensorflow.keras.layers import Dense, Flatten, Input, BatchNormalization, Dropout\n",
        "from tensorflow.keras.models import Sequential, Model\n",
        "from tensorflow.keras.utils import to_categorical"
      ]
    },
    {
      "cell_type": "code",
      "execution_count": null,
      "id": "102b959b-84fc-4d04-a61b-590dee9c2fe2",
      "metadata": {
        "id": "102b959b-84fc-4d04-a61b-590dee9c2fe2"
      },
      "outputs": [],
      "source": [
        "def to_category(x):\n",
        "    y_axis = max(x)[0]+1\n",
        "    x_axis = len(x)\n",
        "    tmp = np.zeros((x_axis,y_axis))\n",
        "    for idx,val in enumerate(x):\n",
        "        tmp[idx,val] = 1\n",
        "    return tmp"
      ]
    },
    {
      "cell_type": "code",
      "execution_count": null,
      "id": "a5fa6db7-b8f5-40c6-a23a-7424a63aa5bd",
      "metadata": {
        "colab": {
          "base_uri": "https://localhost:8080/"
        },
        "id": "a5fa6db7-b8f5-40c6-a23a-7424a63aa5bd",
        "outputId": "1412af5b-e4f6-4647-8ea2-a76d717a9999"
      },
      "outputs": [
        {
          "output_type": "execute_result",
          "data": {
            "text/plain": [
              "((50000, 32, 32, 3), (50000, 1))"
            ]
          },
          "metadata": {},
          "execution_count": 60
        }
      ],
      "source": [
        "X_train.shape, y_train.shape"
      ]
    },
    {
      "cell_type": "code",
      "execution_count": null,
      "id": "92a79190-7e1b-4ec1-bf0f-b4467b033136",
      "metadata": {
        "id": "92a79190-7e1b-4ec1-bf0f-b4467b033136"
      },
      "outputs": [],
      "source": [
        "y_train_trans = to_category(y_train)"
      ]
    },
    {
      "cell_type": "code",
      "execution_count": null,
      "id": "44f1617e-727a-448f-a147-5e1cf074803b",
      "metadata": {
        "id": "44f1617e-727a-448f-a147-5e1cf074803b"
      },
      "outputs": [],
      "source": [
        "X_train_trans = X_train.reshape(-1,np.cumprod(X_train.shape[1:])[-1])"
      ]
    },
    {
      "cell_type": "code",
      "execution_count": null,
      "id": "bf91f56b-4406-4e17-be8e-eaafc177b507",
      "metadata": {
        "colab": {
          "base_uri": "https://localhost:8080/"
        },
        "id": "bf91f56b-4406-4e17-be8e-eaafc177b507",
        "outputId": "145be887-78e1-4268-c919-89bda85deccf"
      },
      "outputs": [
        {
          "output_type": "execute_result",
          "data": {
            "text/plain": [
              "((50000, 3072), (50000, 10))"
            ]
          },
          "metadata": {},
          "execution_count": 63
        }
      ],
      "source": [
        "X_train_trans.shape, y_train_trans.shape"
      ]
    },
    {
      "cell_type": "code",
      "execution_count": null,
      "id": "7872ef73-e43b-44f5-911d-b657aa17f3c5",
      "metadata": {
        "id": "7872ef73-e43b-44f5-911d-b657aa17f3c5"
      },
      "outputs": [],
      "source": [
        "model = Sequential(\n",
        "    [\n",
        "        Dense(2048,activation='relu',input_shape=X_train_trans.shape[1:]),\n",
        "        Dense(1024,activation='relu'),\n",
        "        Dense(256,activation='relu'),\n",
        "        Dense(y_train_trans.shape[-1],activation='softmax')\n",
        "    ]\n",
        ")"
      ]
    },
    {
      "cell_type": "code",
      "execution_count": null,
      "id": "447771fd-4825-47a6-b083-7f3a6f7ceaa0",
      "metadata": {
        "id": "447771fd-4825-47a6-b083-7f3a6f7ceaa0"
      },
      "outputs": [],
      "source": [
        "model.compile(optimizer='adam',\n",
        "             loss='categorical_crossentropy',\n",
        "            metrics=['accuracy'])"
      ]
    },
    {
      "cell_type": "code",
      "execution_count": null,
      "id": "b11494e3-bd42-4ef0-a0c1-0137f0216fa5",
      "metadata": {
        "colab": {
          "base_uri": "https://localhost:8080/"
        },
        "id": "b11494e3-bd42-4ef0-a0c1-0137f0216fa5",
        "outputId": "48c8112e-31d0-411e-ea39-728b0b17fd4c"
      },
      "outputs": [
        {
          "output_type": "stream",
          "name": "stdout",
          "text": [
            "Epoch 1/10\n",
            "98/98 [==============================] - 5s 12ms/step - loss: 214.4470 - accuracy: 0.1522\n",
            "Epoch 2/10\n",
            "98/98 [==============================] - 1s 10ms/step - loss: 2.3437 - accuracy: 0.2698\n",
            "Epoch 3/10\n",
            "98/98 [==============================] - 1s 10ms/step - loss: 2.6980 - accuracy: 0.2571\n",
            "Epoch 4/10\n",
            "98/98 [==============================] - 1s 10ms/step - loss: 1.9378 - accuracy: 0.3302\n",
            "Epoch 5/10\n",
            "98/98 [==============================] - 1s 10ms/step - loss: 1.8415 - accuracy: 0.3598\n",
            "Epoch 6/10\n",
            "98/98 [==============================] - 1s 9ms/step - loss: 1.8140 - accuracy: 0.3681\n",
            "Epoch 7/10\n",
            "98/98 [==============================] - 1s 10ms/step - loss: 1.7610 - accuracy: 0.3831\n",
            "Epoch 8/10\n",
            "98/98 [==============================] - 1s 10ms/step - loss: 1.7049 - accuracy: 0.4018\n",
            "Epoch 9/10\n",
            "98/98 [==============================] - 1s 13ms/step - loss: 1.6527 - accuracy: 0.4222\n",
            "Epoch 10/10\n",
            "98/98 [==============================] - 1s 11ms/step - loss: 1.6433 - accuracy: 0.4249\n"
          ]
        },
        {
          "output_type": "execute_result",
          "data": {
            "text/plain": [
              "<keras.callbacks.History at 0x7f3b71ce8790>"
            ]
          },
          "metadata": {},
          "execution_count": 66
        }
      ],
      "source": [
        "model.fit(X_train_trans,\n",
        "         y_train_trans,\n",
        "         epochs=10,\n",
        "         batch_size=512)"
      ]
    },
    {
      "cell_type": "code",
      "execution_count": null,
      "id": "5401ef90-edbc-4a8a-ba6e-0ec4e7a75a2b",
      "metadata": {
        "id": "5401ef90-edbc-4a8a-ba6e-0ec4e7a75a2b"
      },
      "outputs": [],
      "source": [
        "layer1 = Dense(2048,activation='relu',input_shape=X_train_trans.shape[1:]),\n",
        "layer2 = Dense(1024,activation='relu'),\n",
        "layer3 = Dense(256,activation='relu'),\n",
        "layer4 = Dense(y_train_trans.shape[-1],activation='softmax')\n",
        "batchlayer = BatchNormalization()"
      ]
    },
    {
      "cell_type": "code",
      "execution_count": null,
      "id": "a3e60a85-21c1-4482-ae7a-5047469ef606",
      "metadata": {
        "id": "a3e60a85-21c1-4482-ae7a-5047469ef606"
      },
      "outputs": [],
      "source": [
        "model1 = Sequential(\n",
        "    [\n",
        "        Dense(2048,activation='relu',input_shape=X_train_trans.shape[1:]),\n",
        "        Dense(1024,activation='relu'),\n",
        "        Dense(256,activation='relu'),\n",
        "        Dense(y_train_trans.shape[-1],activation='softmax')\n",
        "    ]\n",
        ")"
      ]
    },
    {
      "cell_type": "code",
      "execution_count": null,
      "id": "9084803c-fcc8-4e29-910f-4d4a35ddecd5",
      "metadata": {
        "id": "9084803c-fcc8-4e29-910f-4d4a35ddecd5"
      },
      "outputs": [],
      "source": [
        "model2 = Sequential(\n",
        "    [\n",
        "        Dense(2048,activation='relu',input_shape=X_train_trans.shape[1:]),\n",
        "        BatchNormalization(),\n",
        "        Dense(1024,activation='relu'),\n",
        "        BatchNormalization(),\n",
        "        Dense(256,activation='relu'),\n",
        "        BatchNormalization(),\n",
        "        Dense(y_train_trans.shape[-1],activation='softmax')\n",
        "    ]\n",
        ")"
      ]
    },
    {
      "cell_type": "code",
      "source": [
        "model2 = Sequential(\n",
        "    [\n",
        "        Dense(2048,activation='relu',input_shape=X_train_trans.shape[1:]),\n",
        "        BatchNormalization(),\n",
        "        Dense(1024,activation='relu'),\n",
        "        BatchNormalization(),\n",
        "        Dense(256,activation='relu'),\n",
        "        BatchNormalization(),\n",
        "        Dropout(0.5),\n",
        "        Dense(y_train_trans.shape[-1],activation='softmax')\n",
        "    ]\n",
        "\n",
        ")"
      ],
      "metadata": {
        "colab": {
          "base_uri": "https://localhost:8080/",
          "height": 248
        },
        "id": "Lr5Ll7uRW_0y",
        "outputId": "4710e130-77ee-4fa6-8634-d71d0c07bd53"
      },
      "id": "Lr5Ll7uRW_0y",
      "execution_count": null,
      "outputs": [
        {
          "output_type": "error",
          "ename": "TypeError",
          "evalue": "ignored",
          "traceback": [
            "\u001b[0;31m---------------------------------------------------------------------------\u001b[0m",
            "\u001b[0;31mTypeError\u001b[0m                                 Traceback (most recent call last)",
            "\u001b[0;32m<ipython-input-71-214215c7bd6a>\u001b[0m in \u001b[0;36m<cell line: 1>\u001b[0;34m()\u001b[0m\n\u001b[1;32m      7\u001b[0m         \u001b[0mDense\u001b[0m\u001b[0;34m(\u001b[0m\u001b[0;36m256\u001b[0m\u001b[0;34m,\u001b[0m\u001b[0mactivation\u001b[0m\u001b[0;34m=\u001b[0m\u001b[0;34m'relu'\u001b[0m\u001b[0;34m)\u001b[0m\u001b[0;34m,\u001b[0m\u001b[0;34m\u001b[0m\u001b[0;34m\u001b[0m\u001b[0m\n\u001b[1;32m      8\u001b[0m         \u001b[0mBatchNormalization\u001b[0m\u001b[0;34m(\u001b[0m\u001b[0;34m)\u001b[0m\u001b[0;34m,\u001b[0m\u001b[0;34m\u001b[0m\u001b[0;34m\u001b[0m\u001b[0m\n\u001b[0;32m----> 9\u001b[0;31m         \u001b[0mDropout\u001b[0m\u001b[0;34m(\u001b[0m\u001b[0;34m)\u001b[0m\u001b[0;34m,\u001b[0m\u001b[0;34m\u001b[0m\u001b[0;34m\u001b[0m\u001b[0m\n\u001b[0m\u001b[1;32m     10\u001b[0m         \u001b[0mDense\u001b[0m\u001b[0;34m(\u001b[0m\u001b[0my_train_trans\u001b[0m\u001b[0;34m.\u001b[0m\u001b[0mshape\u001b[0m\u001b[0;34m[\u001b[0m\u001b[0;34m-\u001b[0m\u001b[0;36m1\u001b[0m\u001b[0;34m]\u001b[0m\u001b[0;34m,\u001b[0m\u001b[0mactivation\u001b[0m\u001b[0;34m=\u001b[0m\u001b[0;34m'softmax'\u001b[0m\u001b[0;34m)\u001b[0m\u001b[0;34m\u001b[0m\u001b[0;34m\u001b[0m\u001b[0m\n\u001b[1;32m     11\u001b[0m     ]\n",
            "\u001b[0;31mTypeError\u001b[0m: __init__() missing 1 required positional argument: 'rate'"
          ]
        }
      ]
    },
    {
      "cell_type": "code",
      "execution_count": null,
      "id": "7fc9851d-aa13-4556-ae0f-409bdcc7ce40",
      "metadata": {
        "id": "7fc9851d-aa13-4556-ae0f-409bdcc7ce40"
      },
      "outputs": [],
      "source": [
        "model2.layers[0].set_weights(model1.layers[0].get_weights())\n",
        "model2.layers[2].set_weights(model1.layers[1].get_weights())\n",
        "model2.layers[4].set_weights(model1.layers[2].get_weights())\n",
        "nmodel2.layers[6].set_weights(model1.layers[3].get_weights())"
      ]
    },
    {
      "cell_type": "code",
      "execution_count": null,
      "id": "571de1d3-b071-4b54-aecd-7d8e95dd2f25",
      "metadata": {
        "id": "571de1d3-b071-4b54-aecd-7d8e95dd2f25"
      },
      "outputs": [],
      "source": [
        "opt = 'adam'\n",
        "loss = 'categorical_crossentropy'\n",
        "metrics = ['accuracy']\n",
        "model1.compile(optimizer=opt, loss=loss, metrics=metrics)\n",
        "model2.compile(optimizer=opt, loss=loss, metrics=metrics)"
      ]
    },
    {
      "cell_type": "code",
      "execution_count": null,
      "id": "94265c3d-0f09-4f4d-9efd-2a45bfb0628a",
      "metadata": {
        "colab": {
          "base_uri": "https://localhost:8080/"
        },
        "id": "94265c3d-0f09-4f4d-9efd-2a45bfb0628a",
        "outputId": "ee839c36-cae8-4f40-836d-54f9b2e399c8"
      },
      "outputs": [
        {
          "output_type": "stream",
          "name": "stdout",
          "text": [
            "Epoch 1/10\n",
            "1563/1563 [==============================] - 8s 4ms/step - loss: 21.7657 - accuracy: 0.2573\n",
            "Epoch 2/10\n",
            "1563/1563 [==============================] - 9s 6ms/step - loss: 1.9219 - accuracy: 0.3128\n",
            "Epoch 3/10\n",
            "1563/1563 [==============================] - 9s 6ms/step - loss: 1.8463 - accuracy: 0.3347\n",
            "Epoch 4/10\n",
            "1563/1563 [==============================] - 10s 6ms/step - loss: 1.7857 - accuracy: 0.3585\n",
            "Epoch 5/10\n",
            "1563/1563 [==============================] - 8s 5ms/step - loss: 1.7692 - accuracy: 0.3602\n",
            "Epoch 6/10\n",
            "1563/1563 [==============================] - 10s 7ms/step - loss: 1.7357 - accuracy: 0.3756\n",
            "Epoch 7/10\n",
            "1563/1563 [==============================] - 8s 5ms/step - loss: 1.7143 - accuracy: 0.3826\n",
            "Epoch 8/10\n",
            "1563/1563 [==============================] - 7s 5ms/step - loss: 1.6894 - accuracy: 0.3915\n",
            "Epoch 9/10\n",
            "1563/1563 [==============================] - 7s 5ms/step - loss: 1.6774 - accuracy: 0.3944\n",
            "Epoch 10/10\n",
            "1563/1563 [==============================] - 8s 5ms/step - loss: 1.6608 - accuracy: 0.4035\n",
            "Epoch 1/10\n",
            "1563/1563 [==============================] - 14s 7ms/step - loss: 1.8078 - accuracy: 0.3576\n",
            "Epoch 2/10\n",
            "1563/1563 [==============================] - 12s 7ms/step - loss: 1.6454 - accuracy: 0.4131\n",
            "Epoch 3/10\n",
            "1563/1563 [==============================] - 11s 7ms/step - loss: 1.5668 - accuracy: 0.4403\n",
            "Epoch 4/10\n",
            "1563/1563 [==============================] - 14s 9ms/step - loss: 1.4947 - accuracy: 0.4679\n",
            "Epoch 5/10\n",
            "1563/1563 [==============================] - 12s 8ms/step - loss: 1.4303 - accuracy: 0.4919\n",
            "Epoch 6/10\n",
            "1563/1563 [==============================] - 14s 9ms/step - loss: 1.3861 - accuracy: 0.5065\n",
            "Epoch 7/10\n",
            "1563/1563 [==============================] - 15s 9ms/step - loss: 1.3448 - accuracy: 0.5188\n",
            "Epoch 8/10\n",
            "1563/1563 [==============================] - 12s 8ms/step - loss: 1.3044 - accuracy: 0.5371\n",
            "Epoch 9/10\n",
            "1563/1563 [==============================] - 16s 10ms/step - loss: 1.2697 - accuracy: 0.5482\n",
            "Epoch 10/10\n",
            "1563/1563 [==============================] - 15s 9ms/step - loss: 1.2391 - accuracy: 0.5578\n"
          ]
        },
        {
          "output_type": "execute_result",
          "data": {
            "text/plain": [
              "<keras.callbacks.History at 0x7f3b701438e0>"
            ]
          },
          "metadata": {},
          "execution_count": 74
        }
      ],
      "source": [
        "model1.fit(X_train_trans,\n",
        "          y_train_trans,\n",
        "          epochs=10)\n",
        "model2.fit(X_train_trans,\n",
        "          y_train_trans,\n",
        "          epochs=10)"
      ]
    },
    {
      "cell_type": "code",
      "source": [
        "model1.fit(X_train_trans,\n",
        "          y_train_trans,\n",
        "          epochs=10,\n",
        "          batch_size=1090,\n",
        "           validation_data=(X_test_trans, y_test_trans))\n",
        "model2.fit(X_train_trans,\n",
        "          y_train_trans,\n",
        "          epochs=10)"
      ],
      "metadata": {
        "colab": {
          "base_uri": "https://localhost:8080/",
          "height": 248
        },
        "id": "re_vwce-XSor",
        "outputId": "104913d1-27b8-4f5f-b0d5-4852e1041d4c"
      },
      "id": "re_vwce-XSor",
      "execution_count": null,
      "outputs": [
        {
          "output_type": "error",
          "ename": "NameError",
          "evalue": "ignored",
          "traceback": [
            "\u001b[0;31m---------------------------------------------------------------------------\u001b[0m",
            "\u001b[0;31mNameError\u001b[0m                                 Traceback (most recent call last)",
            "\u001b[0;32m<ipython-input-76-57b8221778f6>\u001b[0m in \u001b[0;36m<cell line: 1>\u001b[0;34m()\u001b[0m\n\u001b[1;32m      3\u001b[0m           \u001b[0mepochs\u001b[0m\u001b[0;34m=\u001b[0m\u001b[0;36m10\u001b[0m\u001b[0;34m,\u001b[0m\u001b[0;34m\u001b[0m\u001b[0;34m\u001b[0m\u001b[0m\n\u001b[1;32m      4\u001b[0m           \u001b[0mbatch_size\u001b[0m\u001b[0;34m=\u001b[0m\u001b[0;36m1090\u001b[0m\u001b[0;34m,\u001b[0m\u001b[0;34m\u001b[0m\u001b[0;34m\u001b[0m\u001b[0m\n\u001b[0;32m----> 5\u001b[0;31m            validation_data=(X_test_trans, y_test_trans))\n\u001b[0m\u001b[1;32m      6\u001b[0m model2.fit(X_train_trans,\n\u001b[1;32m      7\u001b[0m           \u001b[0my_train_trans\u001b[0m\u001b[0;34m,\u001b[0m\u001b[0;34m\u001b[0m\u001b[0;34m\u001b[0m\u001b[0m\n",
            "\u001b[0;31mNameError\u001b[0m: name 'X_test_trans' is not defined"
          ]
        }
      ]
    },
    {
      "cell_type": "code",
      "execution_count": null,
      "id": "27fd954f-9a94-4fb1-844a-0370bd61b7ad",
      "metadata": {
        "id": "27fd954f-9a94-4fb1-844a-0370bd61b7ad"
      },
      "outputs": [],
      "source": []
    },
    {
      "cell_type": "code",
      "source": [
        "model1.evaluate(X_test_trans, y_test_trans)"
      ],
      "metadata": {
        "colab": {
          "base_uri": "https://localhost:8080/",
          "height": 174
        },
        "id": "gdG5Om5oWll9",
        "outputId": "9be9e50b-b8f9-4d7d-c1ce-aa36040c5bb8"
      },
      "id": "gdG5Om5oWll9",
      "execution_count": null,
      "outputs": [
        {
          "output_type": "error",
          "ename": "NameError",
          "evalue": "ignored",
          "traceback": [
            "\u001b[0;31m---------------------------------------------------------------------------\u001b[0m",
            "\u001b[0;31mNameError\u001b[0m                                 Traceback (most recent call last)",
            "\u001b[0;32m<ipython-input-75-bc1a615359ba>\u001b[0m in \u001b[0;36m<cell line: 1>\u001b[0;34m()\u001b[0m\n\u001b[0;32m----> 1\u001b[0;31m \u001b[0mmodel1\u001b[0m\u001b[0;34m.\u001b[0m\u001b[0mevaluate\u001b[0m\u001b[0;34m(\u001b[0m\u001b[0mX_test_trans\u001b[0m\u001b[0;34m,\u001b[0m \u001b[0my_test_trans\u001b[0m\u001b[0;34m)\u001b[0m\u001b[0;34m\u001b[0m\u001b[0;34m\u001b[0m\u001b[0m\n\u001b[0m",
            "\u001b[0;31mNameError\u001b[0m: name 'X_test_trans' is not defined"
          ]
        }
      ]
    },
    {
      "cell_type": "code",
      "source": [
        "model2.evaluate(X_test_trans, y_test_trans)"
      ],
      "metadata": {
        "id": "XkCBb5p6Wpmi"
      },
      "id": "XkCBb5p6Wpmi",
      "execution_count": null,
      "outputs": []
    },
    {
      "cell_type": "code",
      "source": [
        "#Flatten(input_shape=(28,28,3))\n",
        "\n",
        "model = Sequential(\n",
        "    [\n",
        "        Flatten(input_shape = X_train.shape[1:],\n",
        "                Dense(2028, activation='relu'),\n",
        "                BatchNormalization(),\n",
        "                Dense(1024, activation='relu'),\n",
        "                Dense(512, activation='relu'),\n",
        "                Dropout(0.5),\n",
        "                Dense(y_train_trans.shape[-1], activation='softmax')\n",
        "\n",
        "    ]\n",
        ")"
      ],
      "metadata": {
        "id": "RAYy5lrzYOir"
      },
      "id": "RAYy5lrzYOir",
      "execution_count": null,
      "outputs": []
    },
    {
      "cell_type": "code",
      "source": [
        "model.compile(optimizer='adam', \n",
        "              loss='categorical_crossentropy',\n",
        "              metrics=['accuracy'])"
      ],
      "metadata": {
        "id": "Pij9gktxY19C"
      },
      "id": "Pij9gktxY19C",
      "execution_count": null,
      "outputs": []
    },
    {
      "cell_type": "code",
      "source": [
        "model.layers[0].get_weights() #0번 layer는  weight이 없음"
      ],
      "metadata": {
        "id": "91cMMFeSZKp5"
      },
      "id": "91cMMFeSZKp5",
      "execution_count": null,
      "outputs": []
    },
    {
      "cell_type": "code",
      "source": [
        "model.layers[2].get_weights()[1].size"
      ],
      "metadata": {
        "id": "oK-RW4KhY-hS"
      },
      "id": "oK-RW4KhY-hS",
      "execution_count": null,
      "outputs": []
    },
    {
      "cell_type": "code",
      "source": [
        "#Cov layers 합성곱"
      ],
      "metadata": {
        "id": "7tCouqXSZzau"
      },
      "id": "7tCouqXSZzau",
      "execution_count": null,
      "outputs": []
    },
    {
      "cell_type": "code",
      "source": [
        "X_train[0]\n",
        "\n",
        "#X_train[0]/255 =-> scale"
      ],
      "metadata": {
        "id": "jMwEwaBkZ1NA"
      },
      "id": "jMwEwaBkZ1NA",
      "execution_count": null,
      "outputs": []
    },
    {
      "cell_type": "code",
      "source": [
        "def min_max_scale(x):\n",
        "  r = max(x) - min(x) # 범위\n",
        "  m = max(x)\n",
        "  return (x-m)/r \n"
      ],
      "metadata": {
        "id": "wDazgREDZ6WE"
      },
      "id": "wDazgREDZ6WE",
      "execution_count": 4,
      "outputs": []
    },
    {
      "cell_type": "code",
      "source": [
        "x= np.array([1,2,3,4])\n",
        "min_max_scale(x)"
      ],
      "metadata": {
        "id": "2ekgBKjnacZv",
        "colab": {
          "base_uri": "https://localhost:8080/"
        },
        "outputId": "0a9b7cbe-46f2-4d7a-bc55-680a271dbe57"
      },
      "id": "2ekgBKjnacZv",
      "execution_count": 7,
      "outputs": [
        {
          "output_type": "execute_result",
          "data": {
            "text/plain": [
              "array([-1.        , -0.66666667, -0.33333333,  0.        ])"
            ]
          },
          "metadata": {},
          "execution_count": 7
        }
      ]
    },
    {
      "cell_type": "code",
      "source": [
        "plt.imshow(X_train[0])"
      ],
      "metadata": {
        "colab": {
          "base_uri": "https://localhost:8080/",
          "height": 448
        },
        "id": "2RLWJ61ca5uR",
        "outputId": "729d4685-c4d4-4e95-def3-e9e1bd39dd38"
      },
      "id": "2RLWJ61ca5uR",
      "execution_count": 23,
      "outputs": [
        {
          "output_type": "execute_result",
          "data": {
            "text/plain": [
              "<matplotlib.image.AxesImage at 0x7ff3fbc51be0>"
            ]
          },
          "metadata": {},
          "execution_count": 23
        },
        {
          "output_type": "display_data",
          "data": {
            "text/plain": [
              "<Figure size 640x480 with 1 Axes>"
            ],
            "image/png": "[encoded data removed]"
          },
          "metadata": {}
        }
      ]
    },
    {
      "cell_type": "code",
      "source": [
        "plt.imshow(X_train[0].reshape(1,32*32*3))\n",
        "#한 곳에 집중하게 해야함 "
      ],
      "metadata": {
        "colab": {
          "base_uri": "https://localhost:8080/",
          "height": 84
        },
        "id": "Z-7tCA36bU4I",
        "outputId": "c00374fc-da93-44cc-998d-d9a23852c7b8"
      },
      "id": "Z-7tCA36bU4I",
      "execution_count": 24,
      "outputs": [
        {
          "output_type": "execute_result",
          "data": {
            "text/plain": [
              "<matplotlib.image.AxesImage at 0x7ff3fbb50f70>"
            ]
          },
          "metadata": {},
          "execution_count": 24
        },
        {
          "output_type": "display_data",
          "data": {
            "text/plain": [
              "<Figure size 640x480 with 1 Axes>"
            ],
            "image/png": "[encoded data removed]"
          },
          "metadata": {}
        }
      ]
    },
    {
      "cell_type": "code",
      "source": [
        "#Conv 쌓기\n",
        "\n",
        "from tensorflow.keras.layers import Conv2D, MaxPooling2D, Dense, Flatten\n",
        "from tensorflow.keras.models import Sequential\n",
        "from tensorflow.keras.datasets import cifar10\n",
        "from tensorflow.keras.utils import to_categorical, pad_sequences\n",
        "#to_categorical: one-hot\n",
        "#pad_qequences:: text mining에서 많이 쓰임"
      ],
      "metadata": {
        "id": "56E2jvVsb36p"
      },
      "id": "56E2jvVsb36p",
      "execution_count": 26,
      "outputs": []
    },
    {
      "cell_type": "code",
      "source": [
        "(X_train, y_train), (X_test, y_test) = cifar10.load_data()"
      ],
      "metadata": {
        "id": "Vqpw8NwJf647"
      },
      "id": "Vqpw8NwJf647",
      "execution_count": 27,
      "outputs": []
    },
    {
      "cell_type": "code",
      "source": [
        "#Conv2D(channel, kernel_size, activation, input_shape)\n",
        "\n",
        "model = Sequential(\n",
        "    [\n",
        "        Conv2D(30, (3,3), activation='relu', input_shape=X_train.shape[1:]),\n",
        "        MaxPooling2D((3,3))\n",
        "    ]\n",
        ")"
      ],
      "metadata": {
        "id": "tIG-v0m9fr70"
      },
      "id": "tIG-v0m9fr70",
      "execution_count": 29,
      "outputs": []
    },
    {
      "cell_type": "code",
      "source": [
        "X_train.shape\n",
        "#3 차원 데이터가 5만개\n",
        "#height: 32, width:32"
      ],
      "metadata": {
        "id": "b6uKIfYUg2cx",
        "outputId": "777021bb-6268-454d-e2d2-744a688de949",
        "colab": {
          "base_uri": "https://localhost:8080/"
        }
      },
      "id": "b6uKIfYUg2cx",
      "execution_count": 30,
      "outputs": [
        {
          "output_type": "execute_result",
          "data": {
            "text/plain": [
              "(50000, 32, 32, 3)"
            ]
          },
          "metadata": {},
          "execution_count": 30
        }
      ]
    },
    {
      "cell_type": "code",
      "source": [
        " model.summary()\n",
        "\n",
        " #32(height),32(width),3(차원) -> 30,30,30(channel) -> 10,10,30(큰 값을 뽑아 maxpooling)"
      ],
      "metadata": {
        "id": "179RaRGchE9K",
        "outputId": "2e49d250-d9e9-4784-fd00-bc0566c1edaa",
        "colab": {
          "base_uri": "https://localhost:8080/"
        }
      },
      "id": "179RaRGchE9K",
      "execution_count": 32,
      "outputs": [
        {
          "output_type": "stream",
          "name": "stdout",
          "text": [
            "Model: \"sequential\"\n",
            "_________________________________________________________________\n",
            " Layer (type)                Output Shape              Param #   \n",
            "=================================================================\n",
            " conv2d_1 (Conv2D)           (None, 30, 30, 30)        840       \n",
            "                                                                 \n",
            " max_pooling2d (MaxPooling2D  (None, 10, 10, 30)       0         \n",
            " )                                                               \n",
            "                                                                 \n",
            "=================================================================\n",
            "Total params: 840\n",
            "Trainable params: 840\n",
            "Non-trainable params: 0\n",
            "_________________________________________________________________\n"
          ]
        }
      ]
    },
    {
      "cell_type": "code",
      "source": [
        " x = np.arange(1,17).reshape(4,4)\n",
        " \n",
        " f = np.arange(1,5).reshape(2,2)"
      ],
      "metadata": {
        "id": "Lh5ASTK4hGo-"
      },
      "id": "Lh5ASTK4hGo-",
      "execution_count": 33,
      "outputs": []
    },
    {
      "cell_type": "code",
      "source": [
        "f"
      ],
      "metadata": {
        "id": "69-HfEo2l65G",
        "outputId": "6f285574-d2d1-4807-a052-b77bde64c69b",
        "colab": {
          "base_uri": "https://localhost:8080/"
        }
      },
      "id": "69-HfEo2l65G",
      "execution_count": 39,
      "outputs": [
        {
          "output_type": "execute_result",
          "data": {
            "text/plain": [
              "array([[1, 2],\n",
              "       [3, 4]])"
            ]
          },
          "metadata": {},
          "execution_count": 39
        }
      ]
    },
    {
      "cell_type": "code",
      "source": [
        "result  = np.zeros((3,3))\n",
        "result"
      ],
      "metadata": {
        "id": "Ml_jgNoNlSTu",
        "outputId": "1c1485eb-41c4-4885-c651-3c85e3e93f0a",
        "colab": {
          "base_uri": "https://localhost:8080/"
        }
      },
      "id": "Ml_jgNoNlSTu",
      "execution_count": 40,
      "outputs": [
        {
          "output_type": "execute_result",
          "data": {
            "text/plain": [
              "array([[0., 0., 0.],\n",
              "       [0., 0., 0.],\n",
              "       [0., 0., 0.]])"
            ]
          },
          "metadata": {},
          "execution_count": 40
        }
      ]
    },
    {
      "cell_type": "code",
      "source": [
        "result[0.0] = np.sum(x[:2, :2]*f)"
      ],
      "metadata": {
        "id": "FpuNUotJleR9",
        "outputId": "94643eb8-5c8b-4639-9df7-0981261e0896",
        "colab": {
          "base_uri": "https://localhost:8080/",
          "height": 174
        }
      },
      "id": "FpuNUotJleR9",
      "execution_count": 37,
      "outputs": [
        {
          "output_type": "error",
          "ename": "IndexError",
          "evalue": "ignored",
          "traceback": [
            "\u001b[0;31m---------------------------------------------------------------------------\u001b[0m",
            "\u001b[0;31mIndexError\u001b[0m                                Traceback (most recent call last)",
            "\u001b[0;32m<ipython-input-37-98c297d05d06>\u001b[0m in \u001b[0;36m<cell line: 1>\u001b[0;34m()\u001b[0m\n\u001b[0;32m----> 1\u001b[0;31m \u001b[0mresult\u001b[0m\u001b[0;34m[\u001b[0m\u001b[0;36m0.0\u001b[0m\u001b[0;34m]\u001b[0m \u001b[0;34m=\u001b[0m \u001b[0mnp\u001b[0m\u001b[0;34m.\u001b[0m\u001b[0msum\u001b[0m\u001b[0;34m(\u001b[0m\u001b[0mx\u001b[0m\u001b[0;34m[\u001b[0m\u001b[0;34m:\u001b[0m\u001b[0;36m2\u001b[0m\u001b[0;34m,\u001b[0m \u001b[0;34m:\u001b[0m\u001b[0;36m2\u001b[0m\u001b[0;34m]\u001b[0m\u001b[0;34m*\u001b[0m\u001b[0mf\u001b[0m\u001b[0;34m)\u001b[0m\u001b[0;34m\u001b[0m\u001b[0;34m\u001b[0m\u001b[0m\n\u001b[0m",
            "\u001b[0;31mIndexError\u001b[0m: only integers, slices (`:`), ellipsis (`...`), numpy.newaxis (`None`) and integer or boolean arrays are valid indices"
          ]
        }
      ]
    },
    {
      "cell_type": "code",
      "source": [
        "result[0.1] = np.sum(x[:2, 1:3]*f)"
      ],
      "metadata": {
        "id": "7tqHcnEGg4ji",
        "outputId": "6b1b4ea3-19ee-455a-872e-320ca649f17d",
        "colab": {
          "base_uri": "https://localhost:8080/",
          "height": 174
        }
      },
      "id": "7tqHcnEGg4ji",
      "execution_count": 38,
      "outputs": [
        {
          "output_type": "error",
          "ename": "IndexError",
          "evalue": "ignored",
          "traceback": [
            "\u001b[0;31m---------------------------------------------------------------------------\u001b[0m",
            "\u001b[0;31mIndexError\u001b[0m                                Traceback (most recent call last)",
            "\u001b[0;32m<ipython-input-38-b25919b49fea>\u001b[0m in \u001b[0;36m<cell line: 1>\u001b[0;34m()\u001b[0m\n\u001b[0;32m----> 1\u001b[0;31m \u001b[0mresult\u001b[0m\u001b[0;34m[\u001b[0m\u001b[0;36m0.1\u001b[0m\u001b[0;34m]\u001b[0m \u001b[0;34m=\u001b[0m \u001b[0mnp\u001b[0m\u001b[0;34m.\u001b[0m\u001b[0msum\u001b[0m\u001b[0;34m(\u001b[0m\u001b[0mx\u001b[0m\u001b[0;34m[\u001b[0m\u001b[0;34m:\u001b[0m\u001b[0;36m2\u001b[0m\u001b[0;34m,\u001b[0m \u001b[0;36m1\u001b[0m\u001b[0;34m:\u001b[0m\u001b[0;36m3\u001b[0m\u001b[0;34m]\u001b[0m\u001b[0;34m*\u001b[0m\u001b[0mf\u001b[0m\u001b[0;34m)\u001b[0m\u001b[0;34m\u001b[0m\u001b[0;34m\u001b[0m\u001b[0m\n\u001b[0m",
            "\u001b[0;31mIndexError\u001b[0m: only integers, slices (`:`), ellipsis (`...`), numpy.newaxis (`None`) and integer or boolean arrays are valid indices"
          ]
        }
      ]
    },
    {
      "cell_type": "code",
      "source": [
        "result[0,2] = np.sum(x[:2, 2:4]*f)"
      ],
      "metadata": {
        "id": "sPZnEXnSl1W3"
      },
      "id": "sPZnEXnSl1W3",
      "execution_count": 41,
      "outputs": []
    },
    {
      "cell_type": "code",
      "source": [
        "result[0,2] = np.sum(x[:2, 1:3]*f)\n",
        "result[1,2] = np.sum(x[1:3, :2]*f)\n",
        "result[2,2] = np.sum(x[2:4, :2]*f)\n"
      ],
      "metadata": {
        "id": "BGn7ZqmMgzUa"
      },
      "id": "BGn7ZqmMgzUa",
      "execution_count": 42,
      "outputs": []
    },
    {
      "cell_type": "code",
      "source": [
        "model = Sequential(\n",
        "    [\n",
        "        Conv2D(1, (2,2), input_shape=(4,4,1)),\n",
        "        MaxPooling2D((2,2))\n",
        "     \n",
        "    ]\n",
        ")"
      ],
      "metadata": {
        "id": "Zp3sJSROmZft"
      },
      "id": "Zp3sJSROmZft",
      "execution_count": 44,
      "outputs": []
    },
    {
      "cell_type": "code",
      "source": [
        "model.summary()"
      ],
      "metadata": {
        "colab": {
          "base_uri": "https://localhost:8080/"
        },
        "id": "GDdeZoWSb3-u",
        "outputId": "30e99db7-ec4e-457d-e57c-cc96b72fe51d"
      },
      "id": "GDdeZoWSb3-u",
      "execution_count": 45,
      "outputs": [
        {
          "output_type": "stream",
          "name": "stdout",
          "text": [
            "Model: \"sequential_2\"\n",
            "_________________________________________________________________\n",
            " Layer (type)                Output Shape              Param #   \n",
            "=================================================================\n",
            " conv2d_3 (Conv2D)           (None, 3, 3, 1)           5         \n",
            "                                                                 \n",
            " max_pooling2d_2 (MaxPooling  (None, 1, 1, 1)          0         \n",
            " 2D)                                                             \n",
            "                                                                 \n",
            "=================================================================\n",
            "Total params: 5\n",
            "Trainable params: 5\n",
            "Non-trainable params: 0\n",
            "_________________________________________________________________\n"
          ]
        }
      ]
    },
    {
      "cell_type": "code",
      "source": [
        "#값에 대해 predict\n",
        "model.layers"
      ],
      "metadata": {
        "id": "pci0zU7Bm3xN",
        "outputId": "794e48da-e1fc-4b04-a247-be3415ff2c39",
        "colab": {
          "base_uri": "https://localhost:8080/"
        }
      },
      "id": "pci0zU7Bm3xN",
      "execution_count": 46,
      "outputs": [
        {
          "output_type": "execute_result",
          "data": {
            "text/plain": [
              "[<keras.layers.convolutional.conv2d.Conv2D at 0x7ff3fbdfb670>,\n",
              " <keras.layers.pooling.max_pooling2d.MaxPooling2D at 0x7ff3fbdfb340>]"
            ]
          },
          "metadata": {},
          "execution_count": 46
        }
      ]
    },
    {
      "cell_type": "code",
      "source": [
        "#layer의 값을 바꿈\n",
        "model.layers[0].get_weights()"
      ],
      "metadata": {
        "id": "4KvocZGIm9kW",
        "outputId": "a59a10a4-1634-4ab8-e3e4-f9ab54310e35",
        "colab": {
          "base_uri": "https://localhost:8080/"
        }
      },
      "id": "4KvocZGIm9kW",
      "execution_count": 47,
      "outputs": [
        {
          "output_type": "execute_result",
          "data": {
            "text/plain": [
              "[array([[[[0.8471473 ]],\n",
              " \n",
              "         [[0.07629907]]],\n",
              " \n",
              " \n",
              "        [[[0.68532914]],\n",
              " \n",
              "         [[0.3309328 ]]]], dtype=float32),\n",
              " array([0.], dtype=float32)]"
            ]
          },
          "metadata": {},
          "execution_count": 47
        }
      ]
    },
    {
      "cell_type": "code",
      "source": [
        "model.layers[0].get_weights()[0].shape\n",
        "#2x2짜리 -> channel하나를 -> 1로 보냄?"
      ],
      "metadata": {
        "colab": {
          "base_uri": "https://localhost:8080/"
        },
        "id": "bRyh7RE_b4Cg",
        "outputId": "8f47d90d-f59a-4dfa-818a-4fe704bcf7e7"
      },
      "id": "bRyh7RE_b4Cg",
      "execution_count": 48,
      "outputs": [
        {
          "output_type": "execute_result",
          "data": {
            "text/plain": [
              "(2, 2, 1, 1)"
            ]
          },
          "metadata": {},
          "execution_count": 48
        }
      ]
    },
    {
      "cell_type": "code",
      "source": [
        "np.dot(np.arange(1, 17).reshape(1,4,4,1), model.layers[0].get_weights()[0].shape[0])"
      ],
      "metadata": {
        "id": "Wk1cotfCnMiz",
        "outputId": "d2a4aac6-42e5-42f2-a8f4-7d30e9328a9b",
        "colab": {
          "base_uri": "https://localhost:8080/"
        }
      },
      "id": "Wk1cotfCnMiz",
      "execution_count": 50,
      "outputs": [
        {
          "output_type": "execute_result",
          "data": {
            "text/plain": [
              "array([[[[ 2],\n",
              "         [ 4],\n",
              "         [ 6],\n",
              "         [ 8]],\n",
              "\n",
              "        [[10],\n",
              "         [12],\n",
              "         [14],\n",
              "         [16]],\n",
              "\n",
              "        [[18],\n",
              "         [20],\n",
              "         [22],\n",
              "         [24]],\n",
              "\n",
              "        [[26],\n",
              "         [28],\n",
              "         [30],\n",
              "         [32]]]])"
            ]
          },
          "metadata": {},
          "execution_count": 50
        }
      ]
    },
    {
      "cell_type": "code",
      "source": [
        "np.dot(np.arange(1, 17).reshape(1,4,4,1), model.layers[0].get_weights()[0].shape[0]).shape"
      ],
      "metadata": {
        "colab": {
          "base_uri": "https://localhost:8080/"
        },
        "id": "-kf1CUoCb4GN",
        "outputId": "e93b9edb-bae6-4c35-a53a-5006b1e3d4a5"
      },
      "id": "-kf1CUoCb4GN",
      "execution_count": 51,
      "outputs": [
        {
          "output_type": "execute_result",
          "data": {
            "text/plain": [
              "(1, 4, 4, 1)"
            ]
          },
          "metadata": {},
          "execution_count": 51
        }
      ]
    },
    {
      "cell_type": "code",
      "source": [
        "X_train[0:1].shape"
      ],
      "metadata": {
        "colab": {
          "base_uri": "https://localhost:8080/"
        },
        "id": "m14E_f4Db4Jy",
        "outputId": "7c3e40dc-827a-44c4-97dd-1b468acce58c"
      },
      "id": "m14E_f4Db4Jy",
      "execution_count": 52,
      "outputs": [
        {
          "output_type": "execute_result",
          "data": {
            "text/plain": [
              "(1, 32, 32, 3)"
            ]
          },
          "metadata": {},
          "execution_count": 52
        }
      ]
    },
    {
      "cell_type": "code",
      "source": [
        "X_train[[0]].shape"
      ],
      "metadata": {
        "id": "9UwSdsklnpcO",
        "outputId": "2991caf0-46da-4d54-95e7-c54a3463c239",
        "colab": {
          "base_uri": "https://localhost:8080/"
        }
      },
      "id": "9UwSdsklnpcO",
      "execution_count": 54,
      "outputs": [
        {
          "output_type": "execute_result",
          "data": {
            "text/plain": [
              "(1, 32, 32, 3)"
            ]
          },
          "metadata": {},
          "execution_count": 54
        }
      ]
    },
    {
      "cell_type": "code",
      "source": [
        "plt.imshow(X_train[0])"
      ],
      "metadata": {
        "id": "KTg5O2AGn53s",
        "outputId": "bd28f730-35ee-4c65-e900-d4ed7d8932ea",
        "colab": {
          "base_uri": "https://localhost:8080/",
          "height": 448
        }
      },
      "id": "KTg5O2AGn53s",
      "execution_count": 56,
      "outputs": [
        {
          "output_type": "execute_result",
          "data": {
            "text/plain": [
              "<matplotlib.image.AxesImage at 0x7ff3fbceb280>"
            ]
          },
          "metadata": {},
          "execution_count": 56
        },
        {
          "output_type": "display_data",
          "data": {
            "text/plain": [
              "<Figure size 640x480 with 1 Axes>"
            ],
            "image/png": "[encoded data removed]"
          },
          "metadata": {}
        }
      ]
    },
    {
      "cell_type": "code",
      "source": [
        "y_train = to_categorical(y_train)\n",
        "y_test = to_categorical(y_test)"
      ],
      "metadata": {
        "id": "cjYPVQDPrDvL"
      },
      "id": "cjYPVQDPrDvL",
      "execution_count": 68,
      "outputs": []
    },
    {
      "cell_type": "code",
      "source": [
        "X_train.shape"
      ],
      "metadata": {
        "id": "iPiU9ZdSsiQB",
        "outputId": "24e2fc66-5263-41a5-e445-9304e15d9d1e",
        "colab": {
          "base_uri": "https://localhost:8080/"
        }
      },
      "id": "iPiU9ZdSsiQB",
      "execution_count": 74,
      "outputs": [
        {
          "output_type": "execute_result",
          "data": {
            "text/plain": [
              "(50000, 32, 32, 3)"
            ]
          },
          "metadata": {},
          "execution_count": 74
        }
      ]
    },
    {
      "cell_type": "code",
      "source": [
        " X_train.shape[1:]"
      ],
      "metadata": {
        "id": "Y-dorobDss_Z",
        "outputId": "076de656-8aaa-411e-9070-d6308dc31509",
        "colab": {
          "base_uri": "https://localhost:8080/"
        }
      },
      "id": "Y-dorobDss_Z",
      "execution_count": 75,
      "outputs": [
        {
          "output_type": "execute_result",
          "data": {
            "text/plain": [
              "(32, 32, 3)"
            ]
          },
          "metadata": {},
          "execution_count": 75
        }
      ]
    },
    {
      "cell_type": "code",
      "source": [
        "# BatchNormalization()깔아주는것을 추천 \n",
        "\n",
        "model = Sequential(\n",
        "    [\n",
        "        Conv2D(100, (3, 3), activation='relu', input_shape = X_train.shape[1:]),\n",
        "        BatchNormalization(),\n",
        "        MaxPooling2D((3,3)),\n",
        "        Conv2D(50,(2,3), activation='relu'),\n",
        "        BatchNormalization(),\n",
        "        MaxPooling2D((3,3)),\n",
        "        Flatten(),\n",
        "        Dense(256, activation='relu'), \n",
        "        Dense(y_train.shape[1], activation='softmax')\n",
        "    ]\n",
        ")\n",
        "    #직사각형이미지가 들어갈 수는 있지만, 정사각형이미지로 잘라서 넣어주는게 일반적"
      ],
      "metadata": {
        "id": "rVhWjl1rn2xD"
      },
      "id": "rVhWjl1rn2xD",
      "execution_count": 106,
      "outputs": []
    },
    {
      "cell_type": "code",
      "source": [
        "model.compile(optimizer = 'rmsprop',\n",
        "              loss = 'categorical_crossentropy',\n",
        "              metrics=['accuracy'])\n",
        "\n",
        "model.fit(X_train,\n",
        "          y_train, \n",
        "          epochs = 10,\n",
        "          batch_size =512,\n",
        "          validation_data = (X_test, y_test))"
      ],
      "metadata": {
        "id": "q9UCEC_ard5S",
        "outputId": "666efdb1-823b-4df0-e52b-130115d05ce9",
        "colab": {
          "base_uri": "https://localhost:8080/"
        }
      },
      "id": "q9UCEC_ard5S",
      "execution_count": 107,
      "outputs": [
        {
          "output_type": "stream",
          "name": "stdout",
          "text": [
            "Epoch 1/10\n",
            "98/98 [==============================] - 14s 34ms/step - loss: 1.5839 - accuracy: 0.4531 - val_loss: 1.6483 - val_accuracy: 0.4524\n",
            "Epoch 2/10\n",
            "98/98 [==============================] - 3s 29ms/step - loss: 1.1568 - accuracy: 0.5946 - val_loss: 1.8272 - val_accuracy: 0.4196\n",
            "Epoch 3/10\n",
            "98/98 [==============================] - 4s 37ms/step - loss: 1.0099 - accuracy: 0.6437 - val_loss: 1.4135 - val_accuracy: 0.5360\n",
            "Epoch 4/10\n",
            "98/98 [==============================] - 3s 31ms/step - loss: 0.9024 - accuracy: 0.6817 - val_loss: 1.2191 - val_accuracy: 0.5883\n",
            "Epoch 5/10\n",
            "98/98 [==============================] - 3s 30ms/step - loss: 0.8299 - accuracy: 0.7093 - val_loss: 1.0840 - val_accuracy: 0.6329\n",
            "Epoch 6/10\n",
            "98/98 [==============================] - 3s 28ms/step - loss: 0.7639 - accuracy: 0.7310 - val_loss: 1.1627 - val_accuracy: 0.6130\n",
            "Epoch 7/10\n",
            "98/98 [==============================] - 3s 36ms/step - loss: 0.7141 - accuracy: 0.7489 - val_loss: 1.0471 - val_accuracy: 0.6374\n",
            "Epoch 8/10\n",
            "98/98 [==============================] - 3s 34ms/step - loss: 0.6657 - accuracy: 0.7652 - val_loss: 1.2765 - val_accuracy: 0.5998\n",
            "Epoch 9/10\n",
            "98/98 [==============================] - 3s 31ms/step - loss: 0.6183 - accuracy: 0.7832 - val_loss: 1.1875 - val_accuracy: 0.6139\n",
            "Epoch 10/10\n",
            "98/98 [==============================] - 3s 28ms/step - loss: 0.5809 - accuracy: 0.7957 - val_loss: 1.1372 - val_accuracy: 0.6329\n"
          ]
        },
        {
          "output_type": "execute_result",
          "data": {
            "text/plain": [
              "<keras.callbacks.History at 0x7ff3e0b01520>"
            ]
          },
          "metadata": {},
          "execution_count": 107
        }
      ]
    },
    {
      "cell_type": "code",
      "source": [
        "\"\"\"\n",
        "model = Sequential()\n",
        "#Defining layers of the model\n",
        "model.add(Flatten(input_shape=(32,32,3)) # 32*32*3 = 3072\n",
        "\n",
        "model.add(Dense(2056, activation='relu'))\n",
        "model.add(Dense(10, activation='softmax')) \"\"\""
      ],
      "metadata": {
        "id": "reNGRXPstwbn"
      },
      "id": "reNGRXPstwbn",
      "execution_count": null,
      "outputs": []
    },
    {
      "cell_type": "code",
      "source": [
        "model.predict(X_train[[0]]).shape"
      ],
      "metadata": {
        "id": "zI7FKavFnsvV",
        "outputId": "431ff214-a630-4289-af50-8b53bff28764",
        "colab": {
          "base_uri": "https://localhost:8080/",
          "height": 602
        }
      },
      "id": "zI7FKavFnsvV",
      "execution_count": 81,
      "outputs": [
        {
          "output_type": "error",
          "ename": "ValueError",
          "evalue": "ignored",
          "traceback": [
            "\u001b[0;31m---------------------------------------------------------------------------\u001b[0m",
            "\u001b[0;31mValueError\u001b[0m                                Traceback (most recent call last)",
            "\u001b[0;32m<ipython-input-81-1739c5a126af>\u001b[0m in \u001b[0;36m<cell line: 1>\u001b[0;34m()\u001b[0m\n\u001b[0;32m----> 1\u001b[0;31m \u001b[0mmodel\u001b[0m\u001b[0;34m.\u001b[0m\u001b[0mpredict\u001b[0m\u001b[0;34m(\u001b[0m\u001b[0mX_train\u001b[0m\u001b[0;34m[\u001b[0m\u001b[0;34m[\u001b[0m\u001b[0;36m0\u001b[0m\u001b[0;34m]\u001b[0m\u001b[0;34m]\u001b[0m\u001b[0;34m)\u001b[0m\u001b[0;34m.\u001b[0m\u001b[0mshape\u001b[0m\u001b[0;34m\u001b[0m\u001b[0;34m\u001b[0m\u001b[0m\n\u001b[0m",
            "\u001b[0;32m/usr/local/lib/python3.9/dist-packages/keras/utils/traceback_utils.py\u001b[0m in \u001b[0;36merror_handler\u001b[0;34m(*args, **kwargs)\u001b[0m\n\u001b[1;32m     68\u001b[0m             \u001b[0;31m# To get the full stack trace, call:\u001b[0m\u001b[0;34m\u001b[0m\u001b[0;34m\u001b[0m\u001b[0m\n\u001b[1;32m     69\u001b[0m             \u001b[0;31m# `tf.debugging.disable_traceback_filtering()`\u001b[0m\u001b[0;34m\u001b[0m\u001b[0;34m\u001b[0m\u001b[0m\n\u001b[0;32m---> 70\u001b[0;31m             \u001b[0;32mraise\u001b[0m \u001b[0me\u001b[0m\u001b[0;34m.\u001b[0m\u001b[0mwith_traceback\u001b[0m\u001b[0;34m(\u001b[0m\u001b[0mfiltered_tb\u001b[0m\u001b[0;34m)\u001b[0m \u001b[0;32mfrom\u001b[0m \u001b[0;32mNone\u001b[0m\u001b[0;34m\u001b[0m\u001b[0;34m\u001b[0m\u001b[0m\n\u001b[0m\u001b[1;32m     71\u001b[0m         \u001b[0;32mfinally\u001b[0m\u001b[0;34m:\u001b[0m\u001b[0;34m\u001b[0m\u001b[0;34m\u001b[0m\u001b[0m\n\u001b[1;32m     72\u001b[0m             \u001b[0;32mdel\u001b[0m \u001b[0mfiltered_tb\u001b[0m\u001b[0;34m\u001b[0m\u001b[0;34m\u001b[0m\u001b[0m\n",
            "\u001b[0;32m/usr/local/lib/python3.9/dist-packages/keras/engine/training.py\u001b[0m in \u001b[0;36mtf__predict_function\u001b[0;34m(iterator)\u001b[0m\n\u001b[1;32m     13\u001b[0m                 \u001b[0;32mtry\u001b[0m\u001b[0;34m:\u001b[0m\u001b[0;34m\u001b[0m\u001b[0;34m\u001b[0m\u001b[0m\n\u001b[1;32m     14\u001b[0m                     \u001b[0mdo_return\u001b[0m \u001b[0;34m=\u001b[0m \u001b[0;32mTrue\u001b[0m\u001b[0;34m\u001b[0m\u001b[0;34m\u001b[0m\u001b[0m\n\u001b[0;32m---> 15\u001b[0;31m                     \u001b[0mretval_\u001b[0m \u001b[0;34m=\u001b[0m \u001b[0mag__\u001b[0m\u001b[0;34m.\u001b[0m\u001b[0mconverted_call\u001b[0m\u001b[0;34m(\u001b[0m\u001b[0mag__\u001b[0m\u001b[0;34m.\u001b[0m\u001b[0mld\u001b[0m\u001b[0;34m(\u001b[0m\u001b[0mstep_function\u001b[0m\u001b[0;34m)\u001b[0m\u001b[0;34m,\u001b[0m \u001b[0;34m(\u001b[0m\u001b[0mag__\u001b[0m\u001b[0;34m.\u001b[0m\u001b[0mld\u001b[0m\u001b[0;34m(\u001b[0m\u001b[0mself\u001b[0m\u001b[0;34m)\u001b[0m\u001b[0;34m,\u001b[0m \u001b[0mag__\u001b[0m\u001b[0;34m.\u001b[0m\u001b[0mld\u001b[0m\u001b[0;34m(\u001b[0m\u001b[0miterator\u001b[0m\u001b[0;34m)\u001b[0m\u001b[0;34m)\u001b[0m\u001b[0;34m,\u001b[0m \u001b[0;32mNone\u001b[0m\u001b[0;34m,\u001b[0m \u001b[0mfscope\u001b[0m\u001b[0;34m)\u001b[0m\u001b[0;34m\u001b[0m\u001b[0;34m\u001b[0m\u001b[0m\n\u001b[0m\u001b[1;32m     16\u001b[0m                 \u001b[0;32mexcept\u001b[0m\u001b[0;34m:\u001b[0m\u001b[0;34m\u001b[0m\u001b[0;34m\u001b[0m\u001b[0m\n\u001b[1;32m     17\u001b[0m                     \u001b[0mdo_return\u001b[0m \u001b[0;34m=\u001b[0m \u001b[0;32mFalse\u001b[0m\u001b[0;34m\u001b[0m\u001b[0;34m\u001b[0m\u001b[0m\n",
            "\u001b[0;31mValueError\u001b[0m: in user code:\n\n    File \"/usr/local/lib/python3.9/dist-packages/keras/engine/training.py\", line 2169, in predict_function  *\n        return step_function(self, iterator)\n    File \"/usr/local/lib/python3.9/dist-packages/keras/engine/training.py\", line 2155, in step_function  **\n        outputs = model.distribute_strategy.run(run_step, args=(data,))\n    File \"/usr/local/lib/python3.9/dist-packages/keras/engine/training.py\", line 2143, in run_step  **\n        outputs = model.predict_step(data)\n    File \"/usr/local/lib/python3.9/dist-packages/keras/engine/training.py\", line 2111, in predict_step\n        return self(x, training=False)\n    File \"/usr/local/lib/python3.9/dist-packages/keras/utils/traceback_utils.py\", line 70, in error_handler\n        raise e.with_traceback(filtered_tb) from None\n    File \"/usr/local/lib/python3.9/dist-packages/keras/engine/input_spec.py\", line 298, in assert_input_compatibility\n        raise ValueError(\n\n    ValueError: Input 0 of layer \"sequential_2\" is incompatible with the layer: expected shape=(None, 4, 4, 1), found shape=(None, 32, 32, 3)\n"
          ]
        }
      ]
    },
    {
      "cell_type": "code",
      "source": [
        "x = model.predict(X_rain[[0]])"
      ],
      "metadata": {
        "colab": {
          "base_uri": "https://localhost:8080/",
          "height": 174
        },
        "id": "GZ_9vyvub4Nn",
        "outputId": "d3a62dbf-abdc-45d8-ace5-dfa7aabc1606"
      },
      "id": "GZ_9vyvub4Nn",
      "execution_count": 82,
      "outputs": [
        {
          "output_type": "error",
          "ename": "NameError",
          "evalue": "ignored",
          "traceback": [
            "\u001b[0;31m---------------------------------------------------------------------------\u001b[0m",
            "\u001b[0;31mNameError\u001b[0m                                 Traceback (most recent call last)",
            "\u001b[0;32m<ipython-input-82-9d93b841baed>\u001b[0m in \u001b[0;36m<cell line: 1>\u001b[0;34m()\u001b[0m\n\u001b[0;32m----> 1\u001b[0;31m \u001b[0mx\u001b[0m \u001b[0;34m=\u001b[0m \u001b[0mmodel\u001b[0m\u001b[0;34m.\u001b[0m\u001b[0mpredict\u001b[0m\u001b[0;34m(\u001b[0m\u001b[0mX_rain\u001b[0m\u001b[0;34m[\u001b[0m\u001b[0;34m[\u001b[0m\u001b[0;36m0\u001b[0m\u001b[0;34m]\u001b[0m\u001b[0;34m]\u001b[0m\u001b[0;34m)\u001b[0m\u001b[0;34m\u001b[0m\u001b[0;34m\u001b[0m\u001b[0m\n\u001b[0m",
            "\u001b[0;31mNameError\u001b[0m: name 'X_rain' is not defined"
          ]
        }
      ]
    },
    {
      "cell_type": "code",
      "source": [
        "x = x.reshape(10,10,30)"
      ],
      "metadata": {
        "id": "iI5JY_khoJ3z",
        "outputId": "1c49f774-c9ae-41f2-d73d-a3ab3adda4be",
        "colab": {
          "base_uri": "https://localhost:8080/",
          "height": 174
        }
      },
      "id": "iI5JY_khoJ3z",
      "execution_count": 83,
      "outputs": [
        {
          "output_type": "error",
          "ename": "ValueError",
          "evalue": "ignored",
          "traceback": [
            "\u001b[0;31m---------------------------------------------------------------------------\u001b[0m",
            "\u001b[0;31mValueError\u001b[0m                                Traceback (most recent call last)",
            "\u001b[0;32m<ipython-input-83-aa002d7ee4b3>\u001b[0m in \u001b[0;36m<cell line: 1>\u001b[0;34m()\u001b[0m\n\u001b[0;32m----> 1\u001b[0;31m \u001b[0mx\u001b[0m \u001b[0;34m=\u001b[0m \u001b[0mx\u001b[0m\u001b[0;34m.\u001b[0m\u001b[0mreshape\u001b[0m\u001b[0;34m(\u001b[0m\u001b[0;36m10\u001b[0m\u001b[0;34m,\u001b[0m\u001b[0;36m10\u001b[0m\u001b[0;34m,\u001b[0m\u001b[0;36m30\u001b[0m\u001b[0;34m)\u001b[0m\u001b[0;34m\u001b[0m\u001b[0;34m\u001b[0m\u001b[0m\n\u001b[0m",
            "\u001b[0;31mValueError\u001b[0m: cannot reshape array of size 16 into shape (10,10,30)"
          ]
        }
      ]
    },
    {
      "cell_type": "code",
      "source": [
        "#데이터의 합\n",
        "np.sum(x, axis =2)"
      ],
      "metadata": {
        "id": "pf_uBxkDoU5F",
        "outputId": "d00d37d1-c6cc-4bd6-a5b8-ae2cc271a516",
        "colab": {
          "base_uri": "https://localhost:8080/",
          "height": 345
        }
      },
      "id": "pf_uBxkDoU5F",
      "execution_count": 85,
      "outputs": [
        {
          "output_type": "error",
          "ename": "AxisError",
          "evalue": "ignored",
          "traceback": [
            "\u001b[0;31m---------------------------------------------------------------------------\u001b[0m",
            "\u001b[0;31mAxisError\u001b[0m                                 Traceback (most recent call last)",
            "\u001b[0;32m<ipython-input-85-fd6d21564536>\u001b[0m in \u001b[0;36m<cell line: 2>\u001b[0;34m()\u001b[0m\n\u001b[1;32m      1\u001b[0m \u001b[0;31m#데이터의 합\u001b[0m\u001b[0;34m\u001b[0m\u001b[0;34m\u001b[0m\u001b[0m\n\u001b[0;32m----> 2\u001b[0;31m \u001b[0mnp\u001b[0m\u001b[0;34m.\u001b[0m\u001b[0msum\u001b[0m\u001b[0;34m(\u001b[0m\u001b[0mx\u001b[0m\u001b[0;34m,\u001b[0m \u001b[0maxis\u001b[0m \u001b[0;34m=\u001b[0m\u001b[0;36m2\u001b[0m\u001b[0;34m)\u001b[0m\u001b[0;34m\u001b[0m\u001b[0;34m\u001b[0m\u001b[0m\n\u001b[0m",
            "\u001b[0;32m/usr/local/lib/python3.9/dist-packages/numpy/core/overrides.py\u001b[0m in \u001b[0;36msum\u001b[0;34m(*args, **kwargs)\u001b[0m\n",
            "\u001b[0;32m/usr/local/lib/python3.9/dist-packages/numpy/core/fromnumeric.py\u001b[0m in \u001b[0;36msum\u001b[0;34m(a, axis, dtype, out, keepdims, initial, where)\u001b[0m\n\u001b[1;32m   2294\u001b[0m         \u001b[0;32mreturn\u001b[0m \u001b[0mres\u001b[0m\u001b[0;34m\u001b[0m\u001b[0;34m\u001b[0m\u001b[0m\n\u001b[1;32m   2295\u001b[0m \u001b[0;34m\u001b[0m\u001b[0m\n\u001b[0;32m-> 2296\u001b[0;31m     return _wrapreduction(a, np.add, 'sum', axis, dtype, out, keepdims=keepdims,\n\u001b[0m\u001b[1;32m   2297\u001b[0m                           initial=initial, where=where)\n\u001b[1;32m   2298\u001b[0m \u001b[0;34m\u001b[0m\u001b[0m\n",
            "\u001b[0;32m/usr/local/lib/python3.9/dist-packages/numpy/core/fromnumeric.py\u001b[0m in \u001b[0;36m_wrapreduction\u001b[0;34m(obj, ufunc, method, axis, dtype, out, **kwargs)\u001b[0m\n\u001b[1;32m     84\u001b[0m                 \u001b[0;32mreturn\u001b[0m \u001b[0mreduction\u001b[0m\u001b[0;34m(\u001b[0m\u001b[0maxis\u001b[0m\u001b[0;34m=\u001b[0m\u001b[0maxis\u001b[0m\u001b[0;34m,\u001b[0m \u001b[0mout\u001b[0m\u001b[0;34m=\u001b[0m\u001b[0mout\u001b[0m\u001b[0;34m,\u001b[0m \u001b[0;34m**\u001b[0m\u001b[0mpasskwargs\u001b[0m\u001b[0;34m)\u001b[0m\u001b[0;34m\u001b[0m\u001b[0;34m\u001b[0m\u001b[0m\n\u001b[1;32m     85\u001b[0m \u001b[0;34m\u001b[0m\u001b[0m\n\u001b[0;32m---> 86\u001b[0;31m     \u001b[0;32mreturn\u001b[0m \u001b[0mufunc\u001b[0m\u001b[0;34m.\u001b[0m\u001b[0mreduce\u001b[0m\u001b[0;34m(\u001b[0m\u001b[0mobj\u001b[0m\u001b[0;34m,\u001b[0m \u001b[0maxis\u001b[0m\u001b[0;34m,\u001b[0m \u001b[0mdtype\u001b[0m\u001b[0;34m,\u001b[0m \u001b[0mout\u001b[0m\u001b[0;34m,\u001b[0m \u001b[0;34m**\u001b[0m\u001b[0mpasskwargs\u001b[0m\u001b[0;34m)\u001b[0m\u001b[0;34m\u001b[0m\u001b[0;34m\u001b[0m\u001b[0m\n\u001b[0m\u001b[1;32m     87\u001b[0m \u001b[0;34m\u001b[0m\u001b[0m\n\u001b[1;32m     88\u001b[0m \u001b[0;34m\u001b[0m\u001b[0m\n",
            "\u001b[0;31mAxisError\u001b[0m: axis 2 is out of bounds for array of dimension 2"
          ]
        }
      ]
    },
    {
      "cell_type": "code",
      "source": [
        "x"
      ],
      "metadata": {
        "id": "zU08o1sopC1c",
        "outputId": "588d2a15-5ef0-4ed8-942a-89bc8dd44a34",
        "colab": {
          "base_uri": "https://localhost:8080/"
        }
      },
      "id": "zU08o1sopC1c",
      "execution_count": 84,
      "outputs": [
        {
          "output_type": "execute_result",
          "data": {
            "text/plain": [
              "array([[ 1,  2,  3,  4],\n",
              "       [ 5,  6,  7,  8],\n",
              "       [ 9, 10, 11, 12],\n",
              "       [13, 14, 15, 16]])"
            ]
          },
          "metadata": {},
          "execution_count": 84
        }
      ]
    },
    {
      "cell_type": "code",
      "source": [
        "plt.imshow(x/np.max(x)) \n",
        "#개구리에서-> 바뀜 \n",
        "plt.imshow(X_train[0])\n",
        "\n",
        "fig = plt.figure(figsize=(18,15))\n",
        "gs = fig.add_gridspec(3,3)\n",
        "ax1 = fig.add_subplot(gs[0,1])\n",
        "ax2 = fig.add_subplot(gs[0,2])"
      ],
      "metadata": {
        "id": "KvID_6nNpEk6",
        "outputId": "e72a2ff5-4f77-4437-caaa-374258181132",
        "colab": {
          "base_uri": "https://localhost:8080/",
          "height": 430
        }
      },
      "id": "KvID_6nNpEk6",
      "execution_count": 60,
      "outputs": [
        {
          "output_type": "display_data",
          "data": {
            "text/plain": [
              "<Figure size 640x480 with 1 Axes>"
            ],
            "image/png": "[encoded data removed]"
          },
          "metadata": {}
        }
      ]
    },
    {
      "cell_type": "code",
      "source": [
        "plt.imshow(X_train[0])"
      ],
      "metadata": {
        "id": "hl4T_LEkpXKr"
      },
      "id": "hl4T_LEkpXKr",
      "execution_count": null,
      "outputs": []
    },
    {
      "cell_type": "code",
      "source": [
        "x.reshape(10*10)"
      ],
      "metadata": {
        "id": "o6VrvHAPpvhu",
        "outputId": "3dd6aafe-eea7-4392-b32e-34233eb0801d",
        "colab": {
          "base_uri": "https://localhost:8080/",
          "height": 174
        }
      },
      "id": "o6VrvHAPpvhu",
      "execution_count": 86,
      "outputs": [
        {
          "output_type": "error",
          "ename": "ValueError",
          "evalue": "ignored",
          "traceback": [
            "\u001b[0;31m---------------------------------------------------------------------------\u001b[0m",
            "\u001b[0;31mValueError\u001b[0m                                Traceback (most recent call last)",
            "\u001b[0;32m<ipython-input-86-83694fee7b56>\u001b[0m in \u001b[0;36m<cell line: 1>\u001b[0;34m()\u001b[0m\n\u001b[0;32m----> 1\u001b[0;31m \u001b[0mx\u001b[0m\u001b[0;34m.\u001b[0m\u001b[0mreshape\u001b[0m\u001b[0;34m(\u001b[0m\u001b[0;36m10\u001b[0m\u001b[0;34m*\u001b[0m\u001b[0;36m10\u001b[0m\u001b[0;34m)\u001b[0m\u001b[0;34m\u001b[0m\u001b[0;34m\u001b[0m\u001b[0m\n\u001b[0m",
            "\u001b[0;31mValueError\u001b[0m: cannot reshape array of size 16 into shape (100,)"
          ]
        }
      ]
    },
    {
      "cell_type": "code",
      "source": [
        "np.sum(x, axis =2).shape \n",
        "#10*10"
      ],
      "metadata": {
        "id": "3gBS372Doj60"
      },
      "id": "3gBS372Doj60",
      "execution_count": null,
      "outputs": []
    },
    {
      "cell_type": "code",
      "source": [
        "x.shape"
      ],
      "metadata": {
        "id": "2MQEa9iFoNPk",
        "outputId": "7ebcc965-8c52-4615-eb0f-31601fdad5d2",
        "colab": {
          "base_uri": "https://localhost:8080/"
        }
      },
      "id": "2MQEa9iFoNPk",
      "execution_count": 87,
      "outputs": [
        {
          "output_type": "execute_result",
          "data": {
            "text/plain": [
              "(4, 4)"
            ]
          },
          "metadata": {},
          "execution_count": 87
        }
      ]
    },
    {
      "cell_type": "code",
      "source": [
        "plt.imshow(x/max(x))"
      ],
      "metadata": {
        "id": "9aW9SHHiox2z",
        "outputId": "a21a4d57-d5bf-42ca-a6d2-b5e4cc89c1e4",
        "colab": {
          "base_uri": "https://localhost:8080/",
          "height": 174
        }
      },
      "id": "9aW9SHHiox2z",
      "execution_count": 58,
      "outputs": [
        {
          "output_type": "error",
          "ename": "ValueError",
          "evalue": "ignored",
          "traceback": [
            "\u001b[0;31m---------------------------------------------------------------------------\u001b[0m",
            "\u001b[0;31mValueError\u001b[0m                                Traceback (most recent call last)",
            "\u001b[0;32m<ipython-input-58-cc320370c114>\u001b[0m in \u001b[0;36m<cell line: 1>\u001b[0;34m()\u001b[0m\n\u001b[0;32m----> 1\u001b[0;31m \u001b[0mplt\u001b[0m\u001b[0;34m.\u001b[0m\u001b[0mimshow\u001b[0m\u001b[0;34m(\u001b[0m\u001b[0mx\u001b[0m\u001b[0;34m/\u001b[0m\u001b[0mmax\u001b[0m\u001b[0;34m(\u001b[0m\u001b[0mx\u001b[0m\u001b[0;34m)\u001b[0m\u001b[0;34m)\u001b[0m\u001b[0;34m\u001b[0m\u001b[0;34m\u001b[0m\u001b[0m\n\u001b[0m",
            "\u001b[0;31mValueError\u001b[0m: The truth value of an array with more than one element is ambiguous. Use a.any() or a.all()"
          ]
        }
      ]
    },
    {
      "cell_type": "code",
      "source": [
        "x = np.arange(1, 17).reshape(4,4)"
      ],
      "metadata": {
        "id": "Fh3Mgn13oOpD"
      },
      "id": "Fh3Mgn13oOpD",
      "execution_count": 88,
      "outputs": []
    },
    {
      "cell_type": "code",
      "source": [
        "f = np.arange(1, 5).reshape(2,2)"
      ],
      "metadata": {
        "id": "IXwfdl_OoSMf"
      },
      "id": "IXwfdl_OoSMf",
      "execution_count": 89,
      "outputs": []
    },
    {
      "cell_type": "code",
      "source": [
        "(_,y),(_,_) = cifar10.load_data()\n",
        "#6번값이 개구리 "
      ],
      "metadata": {
        "id": "YGNFetrzwUn9"
      },
      "id": "YGNFetrzwUn9",
      "execution_count": 96,
      "outputs": []
    },
    {
      "cell_type": "code",
      "source": [
        "import pandas as pd\n",
        "\n",
        "flog = pd.DataFrame(y)[y==6].index[:10]"
      ],
      "metadata": {
        "id": "HgWb3Bl_w1gt"
      },
      "id": "HgWb3Bl_w1gt",
      "execution_count": 101,
      "outputs": []
    },
    {
      "cell_type": "code",
      "source": [
        "flog"
      ],
      "metadata": {
        "id": "YF1SO7eRx8tR",
        "outputId": "3127a111-225a-4393-dbb8-db6eb387dd84",
        "colab": {
          "base_uri": "https://localhost:8080/"
        }
      },
      "id": "YF1SO7eRx8tR",
      "execution_count": 105,
      "outputs": [
        {
          "output_type": "execute_result",
          "data": {
            "text/plain": [
              "Int64Index([0, 19, 22, 23, 25, 72, 95, 103, 104, 117], dtype='int64')"
            ]
          },
          "metadata": {},
          "execution_count": 105
        }
      ]
    },
    {
      "cell_type": "code",
      "source": [
        "y.shape"
      ],
      "metadata": {
        "id": "7hU-fTI8xIJE",
        "outputId": "8460a6c6-6960-42b3-cea6-c5e78a31746e",
        "colab": {
          "base_uri": "https://localhost:8080/"
        }
      },
      "id": "7hU-fTI8xIJE",
      "execution_count": 98,
      "outputs": [
        {
          "output_type": "execute_result",
          "data": {
            "text/plain": [
              "(50000, 1)"
            ]
          },
          "metadata": {},
          "execution_count": 98
        }
      ]
    },
    {
      "cell_type": "code",
      "source": [
        "y"
      ],
      "metadata": {
        "id": "lUpNexvXwrpI",
        "outputId": "3a67b270-ec67-4d08-bfa8-3af7571709b5",
        "colab": {
          "base_uri": "https://localhost:8080/"
        }
      },
      "id": "lUpNexvXwrpI",
      "execution_count": 97,
      "outputs": [
        {
          "output_type": "execute_result",
          "data": {
            "text/plain": [
              "array([[6],\n",
              "       [9],\n",
              "       [9],\n",
              "       ...,\n",
              "       [9],\n",
              "       [1],\n",
              "       [1]], dtype=uint8)"
            ]
          },
          "metadata": {},
          "execution_count": 97
        }
      ]
    },
    {
      "cell_type": "code",
      "source": [
        "X_train[flog, :][0].reshape((32,32,3))"
      ],
      "metadata": {
        "id": "ZhUwf70PxZTb",
        "outputId": "80d701d6-cfa0-4e75-951d-68ee51bf4ba0",
        "colab": {
          "base_uri": "https://localhost:8080/"
        }
      },
      "id": "ZhUwf70PxZTb",
      "execution_count": 102,
      "outputs": [
        {
          "output_type": "execute_result",
          "data": {
            "text/plain": [
              "array([[[ 59,  62,  63],\n",
              "        [ 43,  46,  45],\n",
              "        [ 50,  48,  43],\n",
              "        ...,\n",
              "        [158, 132, 108],\n",
              "        [152, 125, 102],\n",
              "        [148, 124, 103]],\n",
              "\n",
              "       [[ 16,  20,  20],\n",
              "        [  0,   0,   0],\n",
              "        [ 18,   8,   0],\n",
              "        ...,\n",
              "        [123,  88,  55],\n",
              "        [119,  83,  50],\n",
              "        [122,  87,  57]],\n",
              "\n",
              "       [[ 25,  24,  21],\n",
              "        [ 16,   7,   0],\n",
              "        [ 49,  27,   8],\n",
              "        ...,\n",
              "        [118,  84,  50],\n",
              "        [120,  84,  50],\n",
              "        [109,  73,  42]],\n",
              "\n",
              "       ...,\n",
              "\n",
              "       [[208, 170,  96],\n",
              "        [201, 153,  34],\n",
              "        [198, 161,  26],\n",
              "        ...,\n",
              "        [160, 133,  70],\n",
              "        [ 56,  31,   7],\n",
              "        [ 53,  34,  20]],\n",
              "\n",
              "       [[180, 139,  96],\n",
              "        [173, 123,  42],\n",
              "        [186, 144,  30],\n",
              "        ...,\n",
              "        [184, 148,  94],\n",
              "        [ 97,  62,  34],\n",
              "        [ 83,  53,  34]],\n",
              "\n",
              "       [[177, 144, 116],\n",
              "        [168, 129,  94],\n",
              "        [179, 142,  87],\n",
              "        ...,\n",
              "        [216, 184, 140],\n",
              "        [151, 118,  84],\n",
              "        [123,  92,  72]]], dtype=uint8)"
            ]
          },
          "metadata": {},
          "execution_count": 102
        }
      ]
    },
    {
      "cell_type": "code",
      "source": [
        "np.argmax(model.predict(X_train[flog, :]), axis =1 ) "
      ],
      "metadata": {
        "id": "Xkdc3puuxj0U",
        "outputId": "3f448887-81a6-4226-d69f-df83e1977d4d",
        "colab": {
          "base_uri": "https://localhost:8080/",
          "height": 602
        }
      },
      "id": "Xkdc3puuxj0U",
      "execution_count": 104,
      "outputs": [
        {
          "output_type": "error",
          "ename": "ValueError",
          "evalue": "ignored",
          "traceback": [
            "\u001b[0;31m---------------------------------------------------------------------------\u001b[0m",
            "\u001b[0;31mValueError\u001b[0m                                Traceback (most recent call last)",
            "\u001b[0;32m<ipython-input-104-b27932bffc51>\u001b[0m in \u001b[0;36m<cell line: 1>\u001b[0;34m()\u001b[0m\n\u001b[0;32m----> 1\u001b[0;31m \u001b[0mmodel\u001b[0m\u001b[0;34m.\u001b[0m\u001b[0mpredict\u001b[0m\u001b[0;34m(\u001b[0m\u001b[0mX_train\u001b[0m\u001b[0;34m[\u001b[0m\u001b[0mflog\u001b[0m\u001b[0;34m,\u001b[0m \u001b[0;34m:\u001b[0m\u001b[0;34m]\u001b[0m\u001b[0;34m)\u001b[0m\u001b[0;34m\u001b[0m\u001b[0;34m\u001b[0m\u001b[0m\n\u001b[0m",
            "\u001b[0;32m/usr/local/lib/python3.9/dist-packages/keras/utils/traceback_utils.py\u001b[0m in \u001b[0;36merror_handler\u001b[0;34m(*args, **kwargs)\u001b[0m\n\u001b[1;32m     68\u001b[0m             \u001b[0;31m# To get the full stack trace, call:\u001b[0m\u001b[0;34m\u001b[0m\u001b[0;34m\u001b[0m\u001b[0m\n\u001b[1;32m     69\u001b[0m             \u001b[0;31m# `tf.debugging.disable_traceback_filtering()`\u001b[0m\u001b[0;34m\u001b[0m\u001b[0;34m\u001b[0m\u001b[0m\n\u001b[0;32m---> 70\u001b[0;31m             \u001b[0;32mraise\u001b[0m \u001b[0me\u001b[0m\u001b[0;34m.\u001b[0m\u001b[0mwith_traceback\u001b[0m\u001b[0;34m(\u001b[0m\u001b[0mfiltered_tb\u001b[0m\u001b[0;34m)\u001b[0m \u001b[0;32mfrom\u001b[0m \u001b[0;32mNone\u001b[0m\u001b[0;34m\u001b[0m\u001b[0;34m\u001b[0m\u001b[0m\n\u001b[0m\u001b[1;32m     71\u001b[0m         \u001b[0;32mfinally\u001b[0m\u001b[0;34m:\u001b[0m\u001b[0;34m\u001b[0m\u001b[0;34m\u001b[0m\u001b[0m\n\u001b[1;32m     72\u001b[0m             \u001b[0;32mdel\u001b[0m \u001b[0mfiltered_tb\u001b[0m\u001b[0;34m\u001b[0m\u001b[0;34m\u001b[0m\u001b[0m\n",
            "\u001b[0;32m/usr/local/lib/python3.9/dist-packages/keras/engine/training.py\u001b[0m in \u001b[0;36mtf__predict_function\u001b[0;34m(iterator)\u001b[0m\n\u001b[1;32m     13\u001b[0m                 \u001b[0;32mtry\u001b[0m\u001b[0;34m:\u001b[0m\u001b[0;34m\u001b[0m\u001b[0;34m\u001b[0m\u001b[0m\n\u001b[1;32m     14\u001b[0m                     \u001b[0mdo_return\u001b[0m \u001b[0;34m=\u001b[0m \u001b[0;32mTrue\u001b[0m\u001b[0;34m\u001b[0m\u001b[0;34m\u001b[0m\u001b[0m\n\u001b[0;32m---> 15\u001b[0;31m                     \u001b[0mretval_\u001b[0m \u001b[0;34m=\u001b[0m \u001b[0mag__\u001b[0m\u001b[0;34m.\u001b[0m\u001b[0mconverted_call\u001b[0m\u001b[0;34m(\u001b[0m\u001b[0mag__\u001b[0m\u001b[0;34m.\u001b[0m\u001b[0mld\u001b[0m\u001b[0;34m(\u001b[0m\u001b[0mstep_function\u001b[0m\u001b[0;34m)\u001b[0m\u001b[0;34m,\u001b[0m \u001b[0;34m(\u001b[0m\u001b[0mag__\u001b[0m\u001b[0;34m.\u001b[0m\u001b[0mld\u001b[0m\u001b[0;34m(\u001b[0m\u001b[0mself\u001b[0m\u001b[0;34m)\u001b[0m\u001b[0;34m,\u001b[0m \u001b[0mag__\u001b[0m\u001b[0;34m.\u001b[0m\u001b[0mld\u001b[0m\u001b[0;34m(\u001b[0m\u001b[0miterator\u001b[0m\u001b[0;34m)\u001b[0m\u001b[0;34m)\u001b[0m\u001b[0;34m,\u001b[0m \u001b[0;32mNone\u001b[0m\u001b[0;34m,\u001b[0m \u001b[0mfscope\u001b[0m\u001b[0;34m)\u001b[0m\u001b[0;34m\u001b[0m\u001b[0;34m\u001b[0m\u001b[0m\n\u001b[0m\u001b[1;32m     16\u001b[0m                 \u001b[0;32mexcept\u001b[0m\u001b[0;34m:\u001b[0m\u001b[0;34m\u001b[0m\u001b[0;34m\u001b[0m\u001b[0m\n\u001b[1;32m     17\u001b[0m                     \u001b[0mdo_return\u001b[0m \u001b[0;34m=\u001b[0m \u001b[0;32mFalse\u001b[0m\u001b[0;34m\u001b[0m\u001b[0;34m\u001b[0m\u001b[0m\n",
            "\u001b[0;31mValueError\u001b[0m: in user code:\n\n    File \"/usr/local/lib/python3.9/dist-packages/keras/engine/training.py\", line 2169, in predict_function  *\n        return step_function(self, iterator)\n    File \"/usr/local/lib/python3.9/dist-packages/keras/engine/training.py\", line 2155, in step_function  **\n        outputs = model.distribute_strategy.run(run_step, args=(data,))\n    File \"/usr/local/lib/python3.9/dist-packages/keras/engine/training.py\", line 2143, in run_step  **\n        outputs = model.predict_step(data)\n    File \"/usr/local/lib/python3.9/dist-packages/keras/engine/training.py\", line 2111, in predict_step\n        return self(x, training=False)\n    File \"/usr/local/lib/python3.9/dist-packages/keras/utils/traceback_utils.py\", line 70, in error_handler\n        raise e.with_traceback(filtered_tb) from None\n    File \"/usr/local/lib/python3.9/dist-packages/keras/engine/input_spec.py\", line 298, in assert_input_compatibility\n        raise ValueError(\n\n    ValueError: Input 0 of layer \"sequential_2\" is incompatible with the layer: expected shape=(None, 4, 4, 1), found shape=(None, 32, 32, 3)\n"
          ]
        }
      ]
    },
    {
      "cell_type": "code",
      "source": [
        "#몇 개 맞췄는지 퍼센트로 보기\n",
        "np.sum(np.argmax(model.predict(X_train[flog, :]), axis =1 ) == 6 ) / flog.size"
      ],
      "metadata": {
        "id": "n08zVLcHxxe8"
      },
      "id": "n08zVLcHxxe8",
      "execution_count": null,
      "outputs": []
    },
    {
      "cell_type": "code",
      "source": [
        "for i in flog:\n",
        "  plt.imshow(X_train[i])\n",
        "  #몇번 예측했는지\n",
        "  print(np.argmax(model.predict(X_train[i, :])))\n",
        "  plt.show()\n"
      ],
      "metadata": {
        "id": "xiloKp3ayBxz"
      },
      "id": "xiloKp3ayBxz",
      "execution_count": null,
      "outputs": []
    },
    {
      "cell_type": "code",
      "source": [
        "#7번 이미지가 뭐길래 \n",
        "plt.imshow(X_train[7])\n",
        "#말"
      ],
      "metadata": {
        "id": "i6Ly6GKDysTE"
      },
      "id": "i6Ly6GKDysTE",
      "execution_count": null,
      "outputs": []
    },
    {
      "cell_type": "code",
      "source": [
        "#9번 이미지가 뭐길래 \n",
        "plt.imshow(X_train[9])\n",
        "#트럭 ㅋㅋ"
      ],
      "metadata": {
        "id": "kAejh2lOyx9S"
      },
      "id": "kAejh2lOyx9S",
      "execution_count": null,
      "outputs": []
    },
    {
      "cell_type": "code",
      "source": [],
      "metadata": {
        "id": "-6-z5akty1V7"
      },
      "id": "-6-z5akty1V7",
      "execution_count": null,
      "outputs": []
    },
    {
      "cell_type": "markdown",
      "source": [
        "# Cat& Dog Prediction Model"
      ],
      "metadata": {
        "id": "k0uRLsOsy4Vd"
      },
      "id": "k0uRLsOsy4Vd"
    },
    {
      "cell_type": "code",
      "source": [
        "# dataset \n",
        "#https://www.microsoft.com/en-us/download/confirmation.aspx?id=54765"
      ],
      "metadata": {
        "id": "jJ3KYs6Vy1yj"
      },
      "id": "jJ3KYs6Vy1yj",
      "execution_count": null,
      "outputs": []
    },
    {
      "cell_type": "code",
      "source": [
        "import cv2\n",
        "import os\n",
        "from PIL import Image"
      ],
      "metadata": {
        "id": "xKH9i1r54D6B"
      },
      "id": "xKH9i1r54D6B",
      "execution_count": 161,
      "outputs": []
    },
    {
      "cell_type": "code",
      "source": [
        "from google.colab import drive\n",
        "drive.mount('/content/drive')"
      ],
      "metadata": {
        "id": "lLEVVlk19RLA",
        "outputId": "d37ffe17-e5cd-46e7-c163-0b3f9510f3e6",
        "colab": {
          "base_uri": "https://localhost:8080/"
        }
      },
      "id": "lLEVVlk19RLA",
      "execution_count": 153,
      "outputs": [
        {
          "output_type": "stream",
          "name": "stdout",
          "text": [
            "Mounted at /content/drive\n"
          ]
        }
      ]
    },
    {
      "cell_type": "code",
      "source": [
        "file_list_dog  = /content/drive/MyDrive/data/PetImages/Cat"
      ],
      "metadata": {
        "id": "rG2-mdS0_zg_"
      },
      "id": "rG2-mdS0_zg_",
      "execution_count": null,
      "outputs": []
    },
    {
      "cell_type": "code",
      "source": [
        "from glob import glob"
      ],
      "metadata": {
        "id": "Bt86Ne6j0Oqq"
      },
      "id": "Bt86Ne6j0Oqq",
      "execution_count": 108,
      "outputs": []
    },
    {
      "cell_type": "code",
      "source": [
        "! dir"
      ],
      "metadata": {
        "id": "VYePokdf0Qa6",
        "outputId": "afa1236d-7c9c-47a3-d524-2dde93c0e6f7",
        "colab": {
          "base_uri": "https://localhost:8080/"
        }
      },
      "id": "VYePokdf0Qa6",
      "execution_count": 123,
      "outputs": [
        {
          "output_type": "stream",
          "name": "stdout",
          "text": [
            "kagglecatsanddogs_5340.zip  sample_data\n"
          ]
        }
      ]
    },
    {
      "cell_type": "code",
      "source": [
        "base_dir = 'petimages'"
      ],
      "metadata": {
        "id": "sjbEdaIR0UKy"
      },
      "id": "sjbEdaIR0UKy",
      "execution_count": 124,
      "outputs": []
    },
    {
      "cell_type": "code",
      "source": [
        "#file_list_dog = glob('petimages/ Dog/*.jpg')[:500]\n",
        "file_list_dog = glob('C:/Users/KOREA/Downloads/petimage/PetImages/Dog/*.jpg')[:500]\n",
        "#\"C:\\Users\\KOREA\\Downloads\\petimages\"\n",
        "#500r개만 가져오기 "
      ],
      "metadata": {
        "id": "P1OMerVp0Y1R"
      },
      "id": "P1OMerVp0Y1R",
      "execution_count": 146,
      "outputs": []
    },
    {
      "cell_type": "code",
      "source": [
        "file_list_dog"
      ],
      "metadata": {
        "id": "jTpeAPAQ6uHJ",
        "outputId": "8cdc8995-2474-4ea6-ad99-c4d5889b8222",
        "colab": {
          "base_uri": "https://localhost:8080/"
        }
      },
      "id": "jTpeAPAQ6uHJ",
      "execution_count": 147,
      "outputs": [
        {
          "output_type": "execute_result",
          "data": {
            "text/plain": [
              "[]"
            ]
          },
          "metadata": {},
          "execution_count": 147
        }
      ]
    },
    {
      "cell_type": "code",
      "source": [
        "#파일 불러오기(cat)\n",
        "data=[]\n",
        "paths=[]\n",
        "labels=[]\n",
        "for r,d,f in os.walk(\"/content/drive/MyDrive/data/PetImages/Cat\"):\n",
        "    for file in f:\n",
        "        if \".jpg\" in file:\n",
        "            paths.append(os.path.join(r,file))\n",
        "for r,d,f in os.walk(\"/content/drive/MyDrive/data/cat\"):\n",
        "    for file in f :\n",
        "        if \".jpg\" in file:\n",
        "            paths.append(os.path.join(r,file))\n",
        "for path in paths:\n",
        "    img = Image.open(path)\n",
        "    img = np.array(img)\n",
        "\n",
        "\n",
        "for path in paths:\n",
        "    img=Image.open(path)\n",
        "    img=img.resize((150,150))\n",
        "    img = np.array(img)\n",
        "    if(img.shape == (150,150,3)):\n",
        "        data.append(np.array(img))\n",
        "        labels.append(1)"
      ],
      "metadata": {
        "id": "O6zD3aa3DEM4"
      },
      "id": "O6zD3aa3DEM4",
      "execution_count": 164,
      "outputs": []
    },
    {
      "cell_type": "code",
      "source": [
        "#파일 불러오기(dog)\n",
        "paths = []\n",
        "for r, d, f in os.walk(r\"/content/drive/MyDrive/data/PetImages/Dog\"):\n",
        "    for file in f:\n",
        "        if '.jpg' in file:\n",
        "            paths.append(os.path.join(r, file))\n",
        "for r, d, f in os.walk(r\"/content/drive/MyDrive/data/Dog\"):\n",
        "    for file in f:\n",
        "        if '.jpg' in file:\n",
        "            paths.append(os.path.join(r, file))\n",
        "\n",
        "\n",
        "for path in paths:\n",
        "    img=Image.open(path)\n",
        "    img=img.resize((150,150))\n",
        "    img = np.array(img)\n",
        "    if(img.shape == (150,150,3)):\n",
        "        data.append(np.array(img))\n",
        "        labels.append(0)\n",
        "data = np.array(data)\n",
        "data.shape"
      ],
      "metadata": {
        "id": "G1RQiPYaGcrj",
        "outputId": "39f7657f-0415-4574-ac52-27e8d8b63df0",
        "colab": {
          "base_uri": "https://localhost:8080/"
        }
      },
      "id": "G1RQiPYaGcrj",
      "execution_count": 165,
      "outputs": [
        {
          "output_type": "execute_result",
          "data": {
            "text/plain": [
              "(3408, 150, 150, 3)"
            ]
          },
          "metadata": {},
          "execution_count": 165
        }
      ]
    },
    {
      "cell_type": "code",
      "source": [
        "# Define the path to the dataset\n",
        "IMG_PATH = '/content/drive/MyDrive/data/PetImage/'\n",
        "\n",
        "# Create a list of all the image filenames\n",
        "all_images = []\n",
        "for folder in ['Cat', 'Dog']:\n",
        "    folder_path = os.path.join(IMG_PATH, folder)\n",
        "    for filename in os.listdir(folder_path):\n",
        "        \n",
        "         all_images.append(os.path.join(folder_path, filename))\n",
        "\n",
        "# Create a list of corresponding labels (0 for 'no', 1 for 'yes')\n",
        "labels = [1 if 'Y' in filename else 0 for filename in all_images]\n",
        "\n",
        "# Split the dataset into train, validation, and test sets\n",
        "X_train_val, X_test, y_train_val, y_test = train_test_split(all_images, labels, test_size=0.03, random_state=123)\n",
        "X_train, X_val, y_train, y_val = train_test_split(X_train_val, y_train_val, test_size=0.25, random_state=123)\n",
        "\n",
        "# Print the sizes of the resulting datasets\n",
        "print(f'Train set size: {len(X_train)}')\n",
        "print(f'Validation set size: {len(X_val)}')\n",
        "print(f'Test set size: {len(X_test)}')"
      ],
      "metadata": {
        "id": "FGwzOXz9HBG0"
      },
      "id": "FGwzOXz9HBG0",
      "execution_count": null,
      "outputs": []
    },
    {
      "cell_type": "code",
      "source": [
        "#file_list_cat = glob('petimages/Cat/*.jpg')[:500]\n",
        "file_list_cat = glob('C:/Users/KOREA/Downloads/petimage/PetImages/Cat/*.jpg')[:500]"
      ],
      "metadata": {
        "id": "sKsWV4pm1DCB"
      },
      "id": "sKsWV4pm1DCB",
      "execution_count": 145,
      "outputs": []
    },
    {
      "cell_type": "code",
      "source": [
        "file_list = np.concatenate([file_list_cat, file_list_dog], axis=0)"
      ],
      "metadata": {
        "id": "tYi71WG55uY4"
      },
      "id": "tYi71WG55uY4",
      "execution_count": 148,
      "outputs": []
    },
    {
      "cell_type": "code",
      "source": [
        "file_list"
      ],
      "metadata": {
        "id": "u-96SNE-5141",
        "outputId": "17e7324e-50a4-453c-fbb3-f219fb67738f",
        "colab": {
          "base_uri": "https://localhost:8080/"
        }
      },
      "id": "u-96SNE-5141",
      "execution_count": 149,
      "outputs": [
        {
          "output_type": "execute_result",
          "data": {
            "text/plain": [
              "array([], dtype=float64)"
            ]
          },
          "metadata": {},
          "execution_count": 149
        }
      ]
    },
    {
      "cell_type": "code",
      "source": [
        "X = np.zeros((len(file_list), 150, 150,3))\n",
        "y = []\n",
        "\n",
        "for idx, file in enumerate(file_list):\n",
        "  f = plt.imread(file)\n",
        "  f = cv2.resize(f,(150,150))\n",
        "  if f.shape[-1] > 3:\n",
        "    f = f[:,:,:3]\n",
        "  X[idx] = f\n",
        "  #cat 0. dpg 1로 분류하기\n",
        "  if 'Cat' in file:\n",
        "    y.append(0)\n",
        "  else:\n",
        "    y.append(1)\n",
        "\n",
        "y = np.array(y)"
      ],
      "metadata": {
        "id": "TDxHoQm853Sm"
      },
      "id": "TDxHoQm853Sm",
      "execution_count": 141,
      "outputs": []
    },
    {
      "cell_type": "code",
      "source": [
        "X.shape"
      ],
      "metadata": {
        "id": "oTA5czBI6nmv",
        "outputId": "a98404f4-d4c0-4a37-c4f8-b4f8cace64fb",
        "colab": {
          "base_uri": "https://localhost:8080/"
        }
      },
      "id": "oTA5czBI6nmv",
      "execution_count": 142,
      "outputs": [
        {
          "output_type": "execute_result",
          "data": {
            "text/plain": [
              "(0, 150, 150, 3)"
            ]
          },
          "metadata": {},
          "execution_count": 142
        }
      ]
    },
    {
      "cell_type": "code",
      "source": [
        "y.shape"
      ],
      "metadata": {
        "id": "MSS8KP7O6pAc",
        "outputId": "c190132c-a2c1-42ed-9f62-e6021e9f4633",
        "colab": {
          "base_uri": "https://localhost:8080/"
        }
      },
      "id": "MSS8KP7O6pAc",
      "execution_count": 143,
      "outputs": [
        {
          "output_type": "execute_result",
          "data": {
            "text/plain": [
              "(0,)"
            ]
          },
          "metadata": {},
          "execution_count": 143
        }
      ]
    },
    {
      "cell_type": "code",
      "source": [
        "y = y.reshape(-1. 1)"
      ],
      "metadata": {
        "id": "fA9zr6FY7FIO"
      },
      "id": "fA9zr6FY7FIO",
      "execution_count": null,
      "outputs": []
    },
    {
      "cell_type": "code",
      "source": [
        "model = Sequential(\n",
        "    [\n",
        "        Conv2D(50. (3,3), activation = 'relu', input_shape=(150,150,3)),\n",
        "        MaxPooling2D(5,5),\n",
        "        Conv2D(30,(2,2), activation='relu'),\n",
        "        MaxPooling2D(7,7),\n",
        "        Conv2D(20,(2,2), activation='relu'),\n",
        "        Flatten(),\n",
        "        Dense(256, activation='relu'),\n",
        "        Dense(1, activation ='sigmoid') \n",
        "\n",
        "    ]\n",
        ")\n",
        "\n",
        "# 현 모델은 고양이냐 강아지냐가 아니라, 고양이냐 -> sigmoid "
      ],
      "metadata": {
        "id": "HkoQ10Qv7H-b",
        "outputId": "a95c86e1-c11b-4ba1-956a-20e0ded209ca",
        "colab": {
          "base_uri": "https://localhost:8080/",
          "height": 321
        }
      },
      "id": "HkoQ10Qv7H-b",
      "execution_count": 151,
      "outputs": [
        {
          "output_type": "stream",
          "name": "stderr",
          "text": [
            "<>:3: SyntaxWarning: 'float' object is not callable; perhaps you missed a comma?\n",
            "<>:3: SyntaxWarning: 'float' object is not callable; perhaps you missed a comma?\n",
            "<ipython-input-151-9627f79147f4>:3: SyntaxWarning: 'float' object is not callable; perhaps you missed a comma?\n",
            "  Conv2D(50. (3,3), activation = 'relu', input_shape=(150,150,3)),\n"
          ]
        },
        {
          "output_type": "error",
          "ename": "TypeError",
          "evalue": "ignored",
          "traceback": [
            "\u001b[0;31m---------------------------------------------------------------------------\u001b[0m",
            "\u001b[0;31mTypeError\u001b[0m                                 Traceback (most recent call last)",
            "\u001b[0;32m<ipython-input-151-9627f79147f4>\u001b[0m in \u001b[0;36m<cell line: 1>\u001b[0;34m()\u001b[0m\n\u001b[1;32m      1\u001b[0m model = Sequential(\n\u001b[1;32m      2\u001b[0m     [\n\u001b[0;32m----> 3\u001b[0;31m         \u001b[0mConv2D\u001b[0m\u001b[0;34m(\u001b[0m\u001b[0;36m50.\u001b[0m \u001b[0;34m(\u001b[0m\u001b[0;36m3\u001b[0m\u001b[0;34m,\u001b[0m\u001b[0;36m3\u001b[0m\u001b[0;34m)\u001b[0m\u001b[0;34m,\u001b[0m \u001b[0mactivation\u001b[0m \u001b[0;34m=\u001b[0m \u001b[0;34m'relu'\u001b[0m\u001b[0;34m,\u001b[0m \u001b[0minput_shape\u001b[0m\u001b[0;34m=\u001b[0m\u001b[0;34m(\u001b[0m\u001b[0;36m150\u001b[0m\u001b[0;34m,\u001b[0m\u001b[0;36m150\u001b[0m\u001b[0;34m,\u001b[0m\u001b[0;36m3\u001b[0m\u001b[0;34m)\u001b[0m\u001b[0;34m)\u001b[0m\u001b[0;34m,\u001b[0m\u001b[0;34m\u001b[0m\u001b[0;34m\u001b[0m\u001b[0m\n\u001b[0m\u001b[1;32m      4\u001b[0m      \u001b[0mMaxPooling2D\u001b[0m\u001b[0;34m(\u001b[0m\u001b[0;36m5\u001b[0m\u001b[0;34m,\u001b[0m\u001b[0;36m5\u001b[0m\u001b[0;34m)\u001b[0m\u001b[0;34m,\u001b[0m\u001b[0;34m\u001b[0m\u001b[0;34m\u001b[0m\u001b[0m\n\u001b[1;32m      5\u001b[0m      \u001b[0mConv2D\u001b[0m\u001b[0;34m(\u001b[0m\u001b[0;36m30\u001b[0m\u001b[0;34m,\u001b[0m\u001b[0;34m(\u001b[0m\u001b[0;36m2\u001b[0m\u001b[0;34m,\u001b[0m\u001b[0;36m2\u001b[0m\u001b[0;34m)\u001b[0m\u001b[0;34m,\u001b[0m \u001b[0mactivation\u001b[0m\u001b[0;34m=\u001b[0m\u001b[0;34m'relu'\u001b[0m\u001b[0;34m)\u001b[0m\u001b[0;34m,\u001b[0m\u001b[0;34m\u001b[0m\u001b[0;34m\u001b[0m\u001b[0m\n",
            "\u001b[0;31mTypeError\u001b[0m: 'float' object is not callable"
          ]
        }
      ]
    },
    {
      "cell_type": "code",
      "source": [
        "model.summary()"
      ],
      "metadata": {
        "id": "3LwNxGp17mjL",
        "outputId": "111ac23d-7f5a-4ec0-ecd1-8655f43ebadb",
        "colab": {
          "base_uri": "https://localhost:8080/"
        }
      },
      "id": "3LwNxGp17mjL",
      "execution_count": 152,
      "outputs": [
        {
          "output_type": "stream",
          "name": "stdout",
          "text": [
            "Model: \"sequential_5\"\n",
            "_________________________________________________________________\n",
            " Layer (type)                Output Shape              Param #   \n",
            "=================================================================\n",
            " conv2d_9 (Conv2D)           (None, 30, 30, 100)       2800      \n",
            "                                                                 \n",
            " batch_normalization_5 (Batc  (None, 30, 30, 100)      400       \n",
            " hNormalization)                                                 \n",
            "                                                                 \n",
            " max_pooling2d_7 (MaxPooling  (None, 10, 10, 100)      0         \n",
            " 2D)                                                             \n",
            "                                                                 \n",
            " conv2d_10 (Conv2D)          (None, 9, 8, 50)          30050     \n",
            "                                                                 \n",
            " batch_normalization_6 (Batc  (None, 9, 8, 50)         200       \n",
            " hNormalization)                                                 \n",
            "                                                                 \n",
            " max_pooling2d_8 (MaxPooling  (None, 3, 2, 50)         0         \n",
            " 2D)                                                             \n",
            "                                                                 \n",
            " flatten_2 (Flatten)         (None, 300)               0         \n",
            "                                                                 \n",
            " dense_4 (Dense)             (None, 256)               77056     \n",
            "                                                                 \n",
            " dense_5 (Dense)             (None, 10)                2570      \n",
            "                                                                 \n",
            "=================================================================\n",
            "Total params: 113,076\n",
            "Trainable params: 112,776\n",
            "Non-trainable params: 300\n",
            "_________________________________________________________________\n"
          ]
        }
      ]
    },
    {
      "cell_type": "code",
      "source": [
        "opt ='adam'\n",
        "loss = 'binary_crossentropy'\n",
        "model.compile(optimizer=opt, loss=loss, matrics=['accuracy'])"
      ],
      "metadata": {
        "id": "vqVBgSsg8Vk1"
      },
      "id": "vqVBgSsg8Vk1",
      "execution_count": null,
      "outputs": []
    },
    {
      "cell_type": "code",
      "source": [
        "model.fit(X, y, epochs = 50)"
      ],
      "metadata": {
        "id": "koszwZve8lRV"
      },
      "id": "koszwZve8lRV",
      "execution_count": null,
      "outputs": []
    },
    {
      "cell_type": "code",
      "source": [
        "from sklearn.model_selection import train_test_split"
      ],
      "metadata": {
        "id": "BBGe-v_U_6C2"
      },
      "id": "BBGe-v_U_6C2",
      "execution_count": 154,
      "outputs": []
    },
    {
      "cell_type": "code",
      "source": [
        "X_train, X_test, y_train, y_test = train_test_split(X,y)"
      ],
      "metadata": {
        "id": "CL0kk1_q_-Sq"
      },
      "id": "CL0kk1_q_-Sq",
      "execution_count": null,
      "outputs": []
    },
    {
      "cell_type": "code",
      "source": [
        "opt ='adam'\n",
        "loss = 'binary_crossentropy'\n",
        "model.compile(optimizer=opt, loss=loss, matrics=['accuracy'])"
      ],
      "metadata": {
        "id": "79ED_TK4AJM-"
      },
      "id": "79ED_TK4AJM-",
      "execution_count": null,
      "outputs": []
    },
    {
      "cell_type": "code",
      "source": [
        "model.fit(X_train, y_train, epochs = 50, validation_data=(X_test, y_test))"
      ],
      "metadata": {
        "id": "ploV9r8AAOp3"
      },
      "id": "ploV9r8AAOp3",
      "execution_count": null,
      "outputs": []
    },
    {
      "cell_type": "code",
      "source": [
        "plt.imshow(X_trian[0], )"
      ],
      "metadata": {
        "id": "0HdcLUMLBsET"
      },
      "id": "0HdcLUMLBsET",
      "execution_count": null,
      "outputs": []
    },
    {
      "cell_type": "code",
      "source": [
        "np.where(model.predict(X_train[[0]]> 0.5, 'Dog', 'Cat')[0])"
      ],
      "metadata": {
        "id": "4YORN20_BvxF"
      },
      "id": "4YORN20_BvxF",
      "execution_count": null,
      "outputs": []
    },
    {
      "cell_type": "code",
      "source": [
        "np.where(model.predict(X_train[[0]]> 0.5, 'Dog', 'Cat')[0][0])"
      ],
      "metadata": {
        "id": "MlbMGdneCBlt"
      },
      "id": "MlbMGdneCBlt",
      "execution_count": null,
      "outputs": []
    },
    {
      "cell_type": "code",
      "source": [
        "plt.imshow((X_test[0].astype(int)))"
      ],
      "metadata": {
        "id": "kJ6i7jzlCHou"
      },
      "id": "kJ6i7jzlCHou",
      "execution_count": null,
      "outputs": []
    },
    {
      "cell_type": "code",
      "source": [
        "np.where(model.predict(X_test[[0]]> 0.5, 'Dog', 'Cat')[0][0])"
      ],
      "metadata": {
        "id": "o15nxrjICNa_"
      },
      "id": "o15nxrjICNa_",
      "execution_count": null,
      "outputs": []
    },
    {
      "cell_type": "code",
      "source": [
        "plt.imshow(X_trian[0], )"
      ],
      "metadata": {
        "id": "VDaQ_-XpCTGV"
      },
      "id": "VDaQ_-XpCTGV",
      "execution_count": null,
      "outputs": []
    },
    {
      "cell_type": "code",
      "source": [
        "dt = plt.imread(file_list_cat[0])"
      ],
      "metadata": {
        "id": "DiBDybhA1IsB",
        "outputId": "0ca35f2b-990a-4389-b4e7-663cc15aec2a",
        "colab": {
          "base_uri": "https://localhost:8080/",
          "height": 174
        }
      },
      "id": "DiBDybhA1IsB",
      "execution_count": 125,
      "outputs": [
        {
          "output_type": "error",
          "ename": "IndexError",
          "evalue": "ignored",
          "traceback": [
            "\u001b[0;31m---------------------------------------------------------------------------\u001b[0m",
            "\u001b[0;31mIndexError\u001b[0m                                Traceback (most recent call last)",
            "\u001b[0;32m<ipython-input-125-57860ff1003a>\u001b[0m in \u001b[0;36m<cell line: 1>\u001b[0;34m()\u001b[0m\n\u001b[0;32m----> 1\u001b[0;31m \u001b[0mdt\u001b[0m \u001b[0;34m=\u001b[0m \u001b[0mplt\u001b[0m\u001b[0;34m.\u001b[0m\u001b[0mimread\u001b[0m\u001b[0;34m(\u001b[0m\u001b[0mfile_list_cat\u001b[0m\u001b[0;34m[\u001b[0m\u001b[0;36m0\u001b[0m\u001b[0;34m]\u001b[0m\u001b[0;34m)\u001b[0m\u001b[0;34m\u001b[0m\u001b[0;34m\u001b[0m\u001b[0m\n\u001b[0m",
            "\u001b[0;31mIndexError\u001b[0m: list index out of range"
          ]
        }
      ]
    },
    {
      "cell_type": "code",
      "source": [
        "X = np.zros((len(file_list), 150,150,3)\n",
        "y = []\n",
        "id_ = []\n",
        "\n",
        "for idx, file i enumerate(file_list):\n",
        "  try:\n",
        "    f = plt.imread(file)\n",
        "    f =cv2.resize(f, (150,150))\n",
        "    if f.shape[-1] > 3 :\n",
        "      f = f[:,:,:3]\n",
        "    X[idx] = f\n",
        "    if 'Cat' in file:\n",
        "      y.append(0)\n",
        "    else:\n",
        "      y.append(1)\n",
        "  except:\n",
        "    id_.append(idx)\n",
        "\n",
        "y = np.array(y)"
      ],
      "metadata": {
        "id": "-aUwUVDYDGSb"
      },
      "id": "-aUwUVDYDGSb",
      "execution_count": null,
      "outputs": []
    },
    {
      "cell_type": "code",
      "source": [
        "pd.Series(file_list).index"
      ],
      "metadata": {
        "id": "umHc2TNSE4Mu"
      },
      "id": "umHc2TNSE4Mu",
      "execution_count": null,
      "outputs": []
    },
    {
      "cell_type": "code",
      "source": [
        "pd.Series(file_list).isin(id_)\n",
        "#T, F "
      ],
      "metadata": {
        "id": "bPKaNwQTE_Ds"
      },
      "id": "bPKaNwQTE_Ds",
      "execution_count": null,
      "outputs": []
    },
    {
      "cell_type": "code",
      "source": [
        "np.array(file_list)[~pd.Series(file_list).isin(id_)])"
      ],
      "metadata": {
        "id": "SKkfKj_oFOT9"
      },
      "id": "SKkfKj_oFOT9",
      "execution_count": null,
      "outputs": []
    },
    {
      "cell_type": "code",
      "source": [
        "pd.Series(file_list).index.isin(id_)\n",
        "#3"
      ],
      "metadata": {
        "id": "OjWTvxIAFc5b"
      },
      "id": "OjWTvxIAFc5b",
      "execution_count": null,
      "outputs": []
    },
    {
      "cell_type": "code",
      "source": [
        "file_list = np.array(file_list)[pd.Series(file_list).index.isin(id_)]"
      ],
      "metadata": {
        "id": "5I4hCE9qFn2D"
      },
      "id": "5I4hCE9qFn2D",
      "execution_count": null,
      "outputs": []
    },
    {
      "cell_type": "code",
      "source": [
        "len(file_list)"
      ],
      "metadata": {
        "id": "Uk6u-RA0Fuzq"
      },
      "id": "Uk6u-RA0Fuzq",
      "execution_count": null,
      "outputs": []
    },
    {
      "cell_type": "code",
      "source": [
        "y = np.array(y)"
      ],
      "metadata": {
        "id": "pTwUa3HYDb9d"
      },
      "id": "pTwUa3HYDb9d",
      "execution_count": null,
      "outputs": []
    },
    {
      "cell_type": "code",
      "source": [
        "y = y.reshape(-1,1)"
      ],
      "metadata": {
        "id": "Ka2J78N0DeUE"
      },
      "id": "Ka2J78N0DeUE",
      "execution_count": null,
      "outputs": []
    },
    {
      "cell_type": "code",
      "source": [
        "X.shape\n",
        "#10000, 150, 150, 3"
      ],
      "metadata": {
        "id": "wGfaHbDhDg2L"
      },
      "id": "wGfaHbDhDg2L",
      "execution_count": null,
      "outputs": []
    },
    {
      "cell_type": "code",
      "source": [
        "y.shape\n",
        "#9997, 3"
      ],
      "metadata": {
        "id": "GC9FCsbsDiZs"
      },
      "id": "GC9FCsbsDiZs",
      "execution_count": null,
      "outputs": []
    },
    {
      "cell_type": "code",
      "source": [
        "#마지막 3개를 지운다 \n",
        "X[:-3,:,:]"
      ],
      "metadata": {
        "id": "ZmwFvJAMDocp",
        "outputId": "af22bb13-9f11-49ed-d053-a558d0f12c28",
        "colab": {
          "base_uri": "https://localhost:8080/"
        }
      },
      "id": "ZmwFvJAMDocp",
      "execution_count": 157,
      "outputs": [
        {
          "output_type": "execute_result",
          "data": {
            "text/plain": [
              "array([], shape=(0, 150, 150, 3), dtype=float64)"
            ]
          },
          "metadata": {},
          "execution_count": 157
        }
      ]
    },
    {
      "cell_type": "code",
      "source": [],
      "metadata": {
        "id": "ndOt5Rv3HPIw"
      },
      "id": "ndOt5Rv3HPIw",
      "execution_count": null,
      "outputs": []
    },
    {
      "cell_type": "code",
      "source": [
        "model.compile(optimizer='adam',\n",
        "             loss='categorical_crossentropy')\n",
        "\n",
        "model.compile(optimizer = opt, loss = loss, metrics =['accuracy'])\n"
      ],
      "metadata": {
        "id": "cB_m1ieVHPV5"
      },
      "id": "cB_m1ieVHPV5",
      "execution_count": null,
      "outputs": []
    },
    {
      "cell_type": "code",
      "source": [
        "index = np.random.choice(np.arange(len(X)), len(X), replacbe= False)"
      ],
      "metadata": {
        "id": "BvhrDZ58HnNK"
      },
      "id": "BvhrDZ58HnNK",
      "execution_count": null,
      "outputs": []
    },
    {
      "cell_type": "code",
      "source": [
        "index.size*0.8"
      ],
      "metadata": {
        "id": "wPG89e2zHwT4"
      },
      "id": "wPG89e2zHwT4",
      "execution_count": null,
      "outputs": []
    },
    {
      "cell_type": "code",
      "source": [
        "tr_ind = index[:int()index.size*0.8)]\n",
        "te_ind - index[int(index.size*0.8):]"
      ],
      "metadata": {
        "id": "gP4fumVYHxrR"
      },
      "id": "gP4fumVYHxrR",
      "execution_count": null,
      "outputs": []
    },
    {
      "cell_type": "code",
      "source": [
        "X_train"
      ],
      "metadata": {
        "id": "ytCEwOQcH9dZ"
      },
      "id": "ytCEwOQcH9dZ",
      "execution_count": null,
      "outputs": []
    },
    {
      "cell_type": "code",
      "source": [],
      "metadata": {
        "id": "D_m3WqG1HPeZ"
      },
      "id": "D_m3WqG1HPeZ",
      "execution_count": null,
      "outputs": []
    },
    {
      "cell_type": "code",
      "source": [],
      "metadata": {
        "id": "1s1wcyUuHPnB"
      },
      "id": "1s1wcyUuHPnB",
      "execution_count": null,
      "outputs": []
    },
    {
      "cell_type": "code",
      "source": [],
      "metadata": {
        "id": "iE0p0m7BHPvc"
      },
      "id": "iE0p0m7BHPvc",
      "execution_count": null,
      "outputs": []
    },
    {
      "cell_type": "code",
      "source": [
        "#@title\n",
        "#!mkdir /content/drive/MyDrive/dev/project1/dataset\n",
        "#!unzip -qq /content/drive/MyDrive/dev/project1/dataset.zip -d /content/drive/MyDrive/dev/project1/dataset"
      ],
      "metadata": {
        "cellView": "form",
        "id": "t44qH9rsBBYT"
      },
      "id": "t44qH9rsBBYT",
      "execution_count": null,
      "outputs": []
    },
    {
      "cell_type": "code",
      "source": [
        "#@title\n",
        "#!unzip -qq <압축 파일 경로> -d <원하는 위치 경로>  \n",
        "!unzip -qq /content/kagglecatsanddogs_5340.zip/ -d /content/petimage"
      ],
      "metadata": {
        "cellView": "form",
        "id": "G7uETv3xy19E",
        "outputId": "0bc02bbd-3356-4683-b256-f8a377c00d57",
        "colab": {
          "base_uri": "https://localhost:8080/"
        }
      },
      "id": "G7uETv3xy19E",
      "execution_count": 155,
      "outputs": [
        {
          "output_type": "stream",
          "name": "stdout",
          "text": [
            "unzip:  cannot find or open /content/kagglecatsanddogs_5340.zip/, /content/kagglecatsanddogs_5340.zip/.zip or /content/kagglecatsanddogs_5340.zip/.ZIP.\n"
          ]
        }
      ]
    },
    {
      "cell_type": "code",
      "source": [
        "#@title\n",
        "from google.colab import files\n",
        "files.upload()"
      ],
      "metadata": {
        "cellView": "form",
        "id": "eLc3V1bw2bF5"
      },
      "id": "eLc3V1bw2bF5",
      "execution_count": null,
      "outputs": []
    },
    {
      "cell_type": "code",
      "source": [
        "x1 = plt.imread(file_list_dog[0]) #하나씩 묶기 \n",
        "x2 = plt.imread(file_list_dog[1])"
      ],
      "metadata": {
        "id": "93RsCeu00Tli"
      },
      "id": "93RsCeu00Tli",
      "execution_count": null,
      "outputs": []
    },
    {
      "cell_type": "code",
      "source": [
        "x1.shape \n",
        "#image별 shape이 다름 "
      ],
      "metadata": {
        "id": "Eu2qgxb11yuL"
      },
      "id": "Eu2qgxb11yuL",
      "execution_count": null,
      "outputs": []
    },
    {
      "cell_type": "code",
      "source": [
        "#shape통일해주기 \n",
        "x = cv2.resize(x1,(150,150))"
      ],
      "metadata": {
        "id": "xdKppwXx2hX8"
      },
      "id": "xdKppwXx2hX8",
      "execution_count": null,
      "outputs": []
    },
    {
      "cell_type": "code",
      "source": [
        "x.shape"
      ],
      "metadata": {
        "id": "s2rSZ-qx2mGx"
      },
      "id": "s2rSZ-qx2mGx",
      "execution_count": null,
      "outputs": []
    },
    {
      "cell_type": "code",
      "source": [
        "#list 두개를 묶기 \n",
        "\n",
        "ㅣ = []\n",
        "\n",
        "for file in file_list_dog:\n",
        "  ㅣ.append(cv2.resize(plt.imread(file), (150, 150)))"
      ],
      "metadata": {
        "id": "4w2yHRRI16J4"
      },
      "id": "4w2yHRRI16J4",
      "execution_count": 128,
      "outputs": []
    },
    {
      "cell_type": "code",
      "source": [
        "l[0].shape "
      ],
      "metadata": {
        "id": "Jtey-UNP266j"
      },
      "id": "Jtey-UNP266j",
      "execution_count": null,
      "outputs": []
    },
    {
      "cell_type": "code",
      "source": [
        "l[2].shape"
      ],
      "metadata": {
        "id": "ZeFc-oVs28vP"
      },
      "id": "ZeFc-oVs28vP",
      "execution_count": null,
      "outputs": []
    },
    {
      "cell_type": "code",
      "source": [
        "dt = np.zeros((500,150,150,3))\n",
        "\n",
        "for file in file_list_dog:\n",
        "  tmp = cv2.resize(plt.imread(file), (150,150))\n",
        "  ㅣ.append(cv2.resize(plt.imread(file), (150, 150)))"
      ],
      "metadata": {
        "id": "iswzVa15295g"
      },
      "id": "iswzVa15295g",
      "execution_count": 131,
      "outputs": []
    },
    {
      "cell_type": "code",
      "source": [
        "tmp = cv2.resize(plt.imread(file), (150,150))"
      ],
      "metadata": {
        "id": "C2rqL04O3iDI",
        "outputId": "7d6f183b-f8ef-474b-d1ff-895d29a9dcaf",
        "colab": {
          "base_uri": "https://localhost:8080/",
          "height": 174
        }
      },
      "id": "C2rqL04O3iDI",
      "execution_count": 132,
      "outputs": [
        {
          "output_type": "error",
          "ename": "NameError",
          "evalue": "ignored",
          "traceback": [
            "\u001b[0;31m---------------------------------------------------------------------------\u001b[0m",
            "\u001b[0;31mNameError\u001b[0m                                 Traceback (most recent call last)",
            "\u001b[0;32m<ipython-input-132-b10b668f4e77>\u001b[0m in \u001b[0;36m<cell line: 1>\u001b[0;34m()\u001b[0m\n\u001b[0;32m----> 1\u001b[0;31m \u001b[0mtmp\u001b[0m \u001b[0;34m=\u001b[0m \u001b[0mcv2\u001b[0m\u001b[0;34m.\u001b[0m\u001b[0mresize\u001b[0m\u001b[0;34m(\u001b[0m\u001b[0mplt\u001b[0m\u001b[0;34m.\u001b[0m\u001b[0mimread\u001b[0m\u001b[0;34m(\u001b[0m\u001b[0mfile\u001b[0m\u001b[0;34m)\u001b[0m\u001b[0;34m,\u001b[0m \u001b[0;34m(\u001b[0m\u001b[0;36m150\u001b[0m\u001b[0;34m,\u001b[0m\u001b[0;36m150\u001b[0m\u001b[0;34m)\u001b[0m\u001b[0;34m)\u001b[0m\u001b[0;34m\u001b[0m\u001b[0;34m\u001b[0m\u001b[0m\n\u001b[0m",
            "\u001b[0;31mNameError\u001b[0m: name 'cv2' is not defined"
          ]
        }
      ]
    },
    {
      "cell_type": "code",
      "source": [
        "dt = np.zeros((500,150,150,3))\n",
        "\n",
        "for idx, file in enumerate(file_list_dog):\n",
        "  dt[idx] = cv2.resize(plt.imread(file), (150, 150)))\n",
        "  if tmp.shape[-1] ==4:\n",
        "    tmp p tem[:, :, :3] #chanel RGB에서 3까지만 가져옴, 마지막은 투명도"
      ],
      "metadata": {
        "id": "PuOX161N3liu"
      },
      "id": "PuOX161N3liu",
      "execution_count": null,
      "outputs": []
    },
    {
      "cell_type": "code",
      "source": [],
      "metadata": {
        "id": "NjoA6dbC31I3"
      },
      "id": "NjoA6dbC31I3",
      "execution_count": null,
      "outputs": []
    }
  ],
  "metadata": {
    "kernelspec": {
      "display_name": "Python 3",
      "name": "python3"
    },
    "language_info": {
      "name": "python"
    },
    "colab": {
      "provenance": [],
      "include_colab_link": true
    },
    "accelerator": "GPU",
    "gpuClass": "standard"
  },
  "nbformat": 4,
  "nbformat_minor": 5
}