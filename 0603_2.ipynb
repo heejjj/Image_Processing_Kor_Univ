{
  "cells": [
    {
      "cell_type": "markdown",
      "metadata": {
        "id": "view-in-github",
        "colab_type": "text"
      },
      "source": [
        "<a href=\"https://colab.research.google.com/github/heejjj/Image_Processing_Kor_Univ/blob/Kor_Univ/0603_2.ipynb\" target=\"_parent\"><img src=\"https://colab.research.google.com/assets/colab-badge.svg\" alt=\"Open In Colab\"/></a>"
      ]
    },
    {
      "cell_type": "markdown",
      "id": "d12fb9df-d17d-48a1-96af-efcaeef6b419",
      "metadata": {
        "id": "d12fb9df-d17d-48a1-96af-efcaeef6b419"
      },
      "source": [
        "전체적으로 다 해보기"
      ]
    },
    {
      "cell_type": "code",
      "execution_count": 1,
      "id": "c7242d4a-ae57-4f29-8c95-158e874934f7",
      "metadata": {
        "id": "c7242d4a-ae57-4f29-8c95-158e874934f7"
      },
      "outputs": [],
      "source": [
        "from tensorflow.keras.datasets import mnist\n",
        "from tensorflow.keras.utils import to_categorical\n",
        "from tensorflow.keras.layers import Dense,Activation\n",
        "from tensorflow.keras.models import Sequential"
      ]
    },
    {
      "cell_type": "code",
      "execution_count": 2,
      "id": "8078234b-8994-44bf-90c8-3c900f945af4",
      "metadata": {
        "id": "8078234b-8994-44bf-90c8-3c900f945af4"
      },
      "outputs": [],
      "source": [
        "import numpy as np"
      ]
    },
    {
      "cell_type": "code",
      "execution_count": 3,
      "id": "e16a182a-caeb-483a-9f73-3683e5a87273",
      "metadata": {
        "colab": {
          "base_uri": "https://localhost:8080/"
        },
        "id": "e16a182a-caeb-483a-9f73-3683e5a87273",
        "outputId": "26550f3c-fc4f-4ef6-d74c-8e54c77250f6"
      },
      "outputs": [
        {
          "output_type": "stream",
          "name": "stdout",
          "text": [
            "Downloading data from https://storage.googleapis.com/tensorflow/tf-keras-datasets/mnist.npz\n",
            "11490434/11490434 [==============================] - 0s 0us/step\n"
          ]
        }
      ],
      "source": [
        "(X_train,y_train),(X_test,y_test) = mnist.load_data()"
      ]
    },
    {
      "cell_type": "code",
      "execution_count": 4,
      "id": "af210c3b-bffc-471d-8a23-a4d7198e0482",
      "metadata": {
        "id": "af210c3b-bffc-471d-8a23-a4d7198e0482"
      },
      "outputs": [],
      "source": [
        "X_train = X_train.reshape(-1,28*28)\n",
        "X_test = X_test.reshape(-1,28*28)"
      ]
    },
    {
      "cell_type": "code",
      "execution_count": null,
      "id": "162ea1be-410c-4c1b-9728-d8e30d313cd9",
      "metadata": {
        "id": "162ea1be-410c-4c1b-9728-d8e30d313cd9"
      },
      "outputs": [],
      "source": [
        "y_train_r =to_categorical(y_train)\n",
        "y_test_r =to_categorical(y_test)"
      ]
    },
    {
      "cell_type": "code",
      "execution_count": null,
      "id": "fecdf7fe-b3f8-484a-b6dc-4a6cbe550f6e",
      "metadata": {
        "id": "fecdf7fe-b3f8-484a-b6dc-4a6cbe550f6e",
        "outputId": "07def58d-5ea9-4304-94b3-bf60eccee186"
      },
      "outputs": [
        {
          "name": "stdout",
          "output_type": "stream",
          "text": [
            "Model: \"sequential_2\"\n",
            "_________________________________________________________________\n",
            " Layer (type)                Output Shape              Param #   \n",
            "=================================================================\n",
            " dense_3 (Dense)             (None, 256)               200960    \n",
            "                                                                 \n",
            " dense_4 (Dense)             (None, 128)               32896     \n",
            "                                                                 \n",
            " dense_5 (Dense)             (None, 128)               16512     \n",
            "                                                                 \n",
            "=================================================================\n",
            "Total params: 250,368\n",
            "Trainable params: 250,368\n",
            "Non-trainable params: 0\n",
            "_________________________________________________________________\n"
          ]
        }
      ],
      "source": [
        "model_tensorflow = Sequential()\n",
        "model_tensorflow.add(Dense(256,activation='sigmoid',input_shape=(784,)))\n",
        "model_tensorflow.add(Dense(128,activation='relu'))\n",
        "model_tensorflow.add(Dense(128,activation='softmax'))\n",
        "\n",
        "model_tensorflow.summary()"
      ]
    },
    {
      "cell_type": "code",
      "execution_count": null,
      "id": "7bcc6c02-096c-4772-9e58-e44256f2f2d4",
      "metadata": {
        "id": "7bcc6c02-096c-4772-9e58-e44256f2f2d4",
        "outputId": "cfc4930a-b550-439d-c0c5-e3260e064500"
      },
      "outputs": [
        {
          "data": {
            "text/plain": [
              "((784, 256), (256,))"
            ]
          },
          "execution_count": 64,
          "metadata": {},
          "output_type": "execute_result"
        }
      ],
      "source": [
        "model_tensorflow.layers[0].get_weights()[0].shape,model_tensorflow.layers[0].get_weights()[1].shape"
      ]
    },
    {
      "cell_type": "code",
      "execution_count": null,
      "id": "e91975d9-63b0-424d-bb4f-04e9dd49aec7",
      "metadata": {
        "id": "e91975d9-63b0-424d-bb4f-04e9dd49aec7"
      },
      "outputs": [],
      "source": [
        "#함수정의\n",
        "def sigmoid(x):\n",
        "    return 1/(np.exp(-x)+1)\n",
        "def relu(x):\n",
        "    return np.where(x>0,x,0)\n",
        "def softmax(x):\n",
        "    m = np.max(x)\n",
        "    x = x - m\n",
        "    return np.exp(x)/np.sum(np.exp(x))\n",
        "\n",
        "def categorical_crossentropy(y_hat,y):\n",
        "    return -np.sum(y * np.log(y_hat))\n",
        "\n",
        "\n",
        "\n",
        " def g   \n",
        "\n",
        "class Activation:\n",
        "    def __init__(self,activation):\n",
        "        self.activation = activation\n",
        "        \n",
        "    def __call__(self,x):\n",
        "        if self.activation == 'sigmoid':\n",
        "            return sigmoid(x)\n",
        "        elif self.activation == 'relu':\n",
        "            return relu(x)\n",
        "        elif self.activation == 'softmax':\n",
        "            return softmax(x)\n",
        "        \n",
        "        \n",
        "    "
      ]
    },
    {
      "cell_type": "code",
      "execution_count": null,
      "id": "f755bbe7-7582-489e-9191-990a53d8d51c",
      "metadata": {
        "id": "f755bbe7-7582-489e-9191-990a53d8d51c"
      },
      "outputs": [],
      "source": [
        "\n",
        "class Net:\n",
        "    def __init__(self,input_shape):\n",
        "        self.input_shape = input_shape\n",
        "        self.layers = []\n",
        "        self.activation_dic = {\n",
        "            'sigmoid':sigmoid,\n",
        "            'relu':relu,\n",
        "            'softmax':softmax\n",
        "        }\n",
        "        \n",
        "    def add(self,output_shape,activation):\n",
        "        #처음 시작부분\n",
        "        if len(self.layers) == 0:\n",
        "            self.layers.append([self.input_shape,output_shape,activation])\n",
        "        else:\n",
        "            input_shape = self.layers[-1][1]\n",
        "            self.layers.append([input_shape,output_shape,activation])\n",
        "            \n",
        "    def predict(self,x):\n",
        "        self.pred = x.copy()\n",
        "        for layer in self.layers:\n",
        "            self.pred = np.dot(self.pred,np.random.randn(layer[0],layer[1]))+np.random.randn(layer[1])         #wx+b\n",
        "            self.pred = Activation(layer[2])(self.pred)\n",
        "        return self.pred\n",
        "        \n",
        "    #미분시작. 로스를 구해야한다.\n",
        "    # loss = y * log (y_hat)\n",
        "    def loss(self,x,y):\n",
        "        y_hat = self.predict(x)\n",
        "        #return -np.mean(y* np.log(y_hat)) #함수로 밖에서 만듦\n",
        "        loss_val = categorical_crossentropy(y_hat,y)\n",
        "        return loss_val\n",
        "    \n",
        "    \n",
        "              "
      ]
    },
    {
      "cell_type": "code",
      "execution_count": null,
      "id": "9793403a-c722-472c-b9cf-7663e9acccb4",
      "metadata": {
        "id": "9793403a-c722-472c-b9cf-7663e9acccb4"
      },
      "outputs": [],
      "source": [
        "model = Net(784)\n",
        "model.add(256,'sigmoid')\n",
        "model.add(128,'relu')\n",
        "model.add(10,'softmax')"
      ]
    },
    {
      "cell_type": "code",
      "execution_count": null,
      "id": "8f857971-ac9f-4023-9e8b-d1489671826c",
      "metadata": {
        "id": "8f857971-ac9f-4023-9e8b-d1489671826c",
        "outputId": "5c2310f4-5eae-42dd-e4e4-653216c0ecb8"
      },
      "outputs": [
        {
          "data": {
            "text/plain": [
              "[[784, 256, 'sigmoid'], [256, 128, 'relu'], [128, 10, 'softmax']]"
            ]
          },
          "execution_count": 143,
          "metadata": {},
          "output_type": "execute_result"
        }
      ],
      "source": [
        "model.layers"
      ]
    },
    {
      "cell_type": "code",
      "execution_count": null,
      "id": "ecc1b066-96a5-4d9e-a5d0-8a17ab7c4d71",
      "metadata": {
        "id": "ecc1b066-96a5-4d9e-a5d0-8a17ab7c4d71",
        "outputId": "2332a745-db1f-4e49-890d-323e91f48427"
      },
      "outputs": [
        {
          "name": "stderr",
          "output_type": "stream",
          "text": [
            "C:\\Users\\KOREA\\AppData\\Local\\Temp\\ipykernel_15864\\2541356975.py:3: RuntimeWarning: overflow encountered in exp\n",
            "  return 1/(np.exp(-x)+1)\n"
          ]
        },
        {
          "data": {
            "text/plain": [
              "array([[3.14845904e-022, 3.29929480e-055, 1.71949929e-006,\n",
              "        1.30594095e-007, 2.80053272e-047, 3.28895630e-014,\n",
              "        5.79292988e-043, 2.48155963e-113, 1.18454139e-115,\n",
              "        9.99998150e-001]])"
            ]
          },
          "execution_count": 144,
          "metadata": {},
          "output_type": "execute_result"
        }
      ],
      "source": [
        "model.predict(X_train[[0]])"
      ]
    },
    {
      "cell_type": "code",
      "execution_count": null,
      "id": "63f3dbc6-df1c-4111-b1da-ed8ecc38252b",
      "metadata": {
        "id": "63f3dbc6-df1c-4111-b1da-ed8ecc38252b",
        "outputId": "0bee180a-d68b-4dd7-b0cf-13ac41adbc66"
      },
      "outputs": [
        {
          "name": "stderr",
          "output_type": "stream",
          "text": [
            "C:\\Users\\KOREA\\AppData\\Local\\Temp\\ipykernel_15864\\2541356975.py:3: RuntimeWarning: overflow encountered in exp\n",
            "  return 1/(np.exp(-x)+1)\n"
          ]
        },
        {
          "data": {
            "text/plain": [
              "4997.152696002649"
            ]
          },
          "execution_count": 145,
          "metadata": {},
          "output_type": "execute_result"
        }
      ],
      "source": [
        "model.loss(X_train[[0]],y_train[0])"
      ]
    },
    {
      "cell_type": "code",
      "execution_count": null,
      "id": "8c3a5079-8c65-48ed-a44f-1adf0b62828a",
      "metadata": {
        "id": "8c3a5079-8c65-48ed-a44f-1adf0b62828a"
      },
      "outputs": [],
      "source": []
    },
    {
      "cell_type": "code",
      "execution_count": null,
      "id": "64fbc2a5-bcb3-4e87-8f57-e3ae366bbb45",
      "metadata": {
        "id": "64fbc2a5-bcb3-4e87-8f57-e3ae366bbb45"
      },
      "outputs": [],
      "source": []
    },
    {
      "cell_type": "code",
      "execution_count": null,
      "id": "4f584750-80c5-49c7-866b-06e9f865d98d",
      "metadata": {
        "id": "4f584750-80c5-49c7-866b-06e9f865d98d"
      },
      "outputs": [],
      "source": []
    },
    {
      "cell_type": "code",
      "execution_count": null,
      "id": "86c37a73-dae6-454d-9063-cf0e3a5fb7b6",
      "metadata": {
        "id": "86c37a73-dae6-454d-9063-cf0e3a5fb7b6"
      },
      "outputs": [],
      "source": []
    },
    {
      "cell_type": "code",
      "execution_count": null,
      "id": "1173e59f-1911-47f0-a95a-175c54c180cf",
      "metadata": {
        "id": "1173e59f-1911-47f0-a95a-175c54c180cf"
      },
      "outputs": [],
      "source": []
    }
  ],
  "metadata": {
    "kernelspec": {
      "display_name": "deep",
      "language": "python",
      "name": "deep"
    },
    "language_info": {
      "codemirror_mode": {
        "name": "ipython",
        "version": 3
      },
      "file_extension": ".py",
      "mimetype": "text/x-python",
      "name": "python",
      "nbconvert_exporter": "python",
      "pygments_lexer": "ipython3",
      "version": "3.11.2"
    },
    "colab": {
      "provenance": [],
      "include_colab_link": true
    }
  },
  "nbformat": 4,
  "nbformat_minor": 5
}