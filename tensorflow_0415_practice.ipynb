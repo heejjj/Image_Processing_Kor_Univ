{
  "nbformat": 4,
  "nbformat_minor": 0,
  "metadata": {
    "colab": {
      "provenance": [],
      "authorship_tag": "ABX9TyPjGiqK6sbbuBFBDtrGLlSj",
      "include_colab_link": true
    },
    "kernelspec": {
      "name": "python3",
      "display_name": "Python 3"
    },
    "language_info": {
      "name": "python"
    }
  },
  "cells": [
    {
      "cell_type": "markdown",
      "metadata": {
        "id": "view-in-github",
        "colab_type": "text"
      },
      "source": [
        "<a href=\"https://colab.research.google.com/github/heejjj/Image_Processing_Kor_Univ/blob/Kor_Univ/tensorflow_0415_practice.ipynb\" target=\"_parent\"><img src=\"https://colab.research.google.com/assets/colab-badge.svg\" alt=\"Open In Colab\"/></a>"
      ]
    },
    {
      "cell_type": "code",
      "execution_count": null,
      "metadata": {
        "id": "o8m5-R2jxAUl"
      },
      "outputs": [],
      "source": [
        "import numpy as np\n",
        "import pandas as pd\n",
        "import tensorflow as tf\n",
        "from tensorflow import keras\n",
        "import matplotlib.pyplot as plt\n"
      ]
    },
    {
      "cell_type": "code",
      "source": [
        "#MNIST data를 이용한 MLP기반 숫자 인식 기술 개발 \n",
        "\"\"\"\n",
        "입력레이어 28x28영상을 flatten 함수를 통해 784개의 값으로 변환\n",
        "은닉레이어: 각각 250, 100개의 값을 출력하는 레이어 구성\n",
        "출력 레이어 0~9에 대한 맥칭 확률을 출력\n",
        "\"\"\"\n",
        "\n",
        "#perceptron은 모든 \n",
        "#CNN은 국부 영역만 들어가게 되어 dense layer를 적용하지 않음-> 마지막 flatten과정에서 dense적용\n"
      ],
      "metadata": {
        "id": "M0uWVqtaydy2"
      },
      "execution_count": null,
      "outputs": []
    },
    {
      "cell_type": "code",
      "source": [
        "#MNIST 데이터 불러오기 \n",
        "mnist = keras.datasets.mnist"
      ],
      "metadata": {
        "id": "OqgpMVvqxky8"
      },
      "execution_count": null,
      "outputs": []
    },
    {
      "cell_type": "code",
      "source": [
        "(X_train, y_train), (X_test, y_test) = mnist.load_data()\n",
        "X_train, X_test = X_train / 255.0, X_test/255.0"
      ],
      "metadata": {
        "colab": {
          "base_uri": "https://localhost:8080/"
        },
        "id": "G2C5JDtvxk2a",
        "outputId": "375754d5-5566-4d4f-b5ec-fb6f6c0d1d80"
      },
      "execution_count": null,
      "outputs": [
        {
          "output_type": "stream",
          "name": "stdout",
          "text": [
            "Downloading data from https://storage.googleapis.com/tensorflow/tf-keras-datasets/mnist.npz\n",
            "11490434/11490434 [==============================] - 0s 0us/step\n"
          ]
        }
      ]
    },
    {
      "cell_type": "code",
      "source": [
        "#0-1까지의 값으로 normalization -> 255로 나누기 "
      ],
      "metadata": {
        "id": "9uSz1m7Ixk5f"
      },
      "execution_count": null,
      "outputs": []
    },
    {
      "cell_type": "code",
      "source": [
        "print(X_train.shape)  #28x28 크기, 6만 학습용 데이터의 개수 \n",
        "print(y_train.shape) #각 영상마다 하나의 값이 있으므로 "
      ],
      "metadata": {
        "colab": {
          "base_uri": "https://localhost:8080/"
        },
        "id": "z4p8SgI5yc-Q",
        "outputId": "a9afaaa6-f8e2-45bc-912a-5848c2ee9596"
      },
      "execution_count": null,
      "outputs": [
        {
          "output_type": "stream",
          "name": "stdout",
          "text": [
            "(60000, 28, 28)\n",
            "(60000,)\n"
          ]
        }
      ]
    },
    {
      "cell_type": "code",
      "source": [
        "plt.imshow(X_train[0, :, :])"
      ],
      "metadata": {
        "colab": {
          "base_uri": "https://localhost:8080/",
          "height": 448
        },
        "id": "kam1h7cVxk8S",
        "outputId": "63874dc8-a91f-405a-8e08-c01e9afc218b"
      },
      "execution_count": null,
      "outputs": [
        {
          "output_type": "execute_result",
          "data": {
            "text/plain": [
              "<matplotlib.image.AxesImage at 0x7f34f5870730>"
            ]
          },
          "metadata": {},
          "execution_count": 8
        },
        {
          "output_type": "display_data",
          "data": {
            "text/plain": [
              "<Figure size 640x480 with 1 Axes>"
            ],
            "image/png": "[encoded data removed]"
          },
          "metadata": {}
        }
      ]
    },
    {
      "cell_type": "code",
      "source": [
        "img = X_train[0, :, :]\n",
        "\n",
        "\n",
        "f,axrr = plt.subplots(1,5)\n",
        "for i in range(5):\n",
        "  axrr[i].imshow(X_train[i, :, :], cmap='gray')\n",
        "  \n",
        "  \n",
        "  \n",
        "#28x28data를 하나씩 뿌려보기"
      ],
      "metadata": {
        "colab": {
          "base_uri": "https://localhost:8080/",
          "height": 150
        },
        "id": "1mtY31TNxk_r",
        "outputId": "4a2fe623-595b-4610-ce74-f43a22660268"
      },
      "execution_count": null,
      "outputs": [
        {
          "output_type": "display_data",
          "data": {
            "text/plain": [
              "<Figure size 640x480 with 5 Axes>"
            ],
            "image/png": "[encoded data removed]"
          },
          "metadata": {}
        }
      ]
    },
    {
      "cell_type": "code",
      "source": [
        "#정답도 5개 뿌려보기\n",
        "\n",
        "print(y_train[0:5])"
      ],
      "metadata": {
        "colab": {
          "base_uri": "https://localhost:8080/"
        },
        "id": "d6KR9pwlz5CP",
        "outputId": "7c9aa553-6a1d-4c38-89a9-2232f52b8fac"
      },
      "execution_count": null,
      "outputs": [
        {
          "output_type": "stream",
          "name": "stdout",
          "text": [
            "[5 0 4 1 9]\n"
          ]
        }
      ]
    },
    {
      "cell_type": "code",
      "source": [
        "#test에 대해서는? #train data보다 적음~ \n",
        "\n",
        "print(X_test.shape)  \n",
        "print(y_test.shape)"
      ],
      "metadata": {
        "colab": {
          "base_uri": "https://localhost:8080/"
        },
        "id": "dQtXWfSoxlDf",
        "outputId": "0d643210-c828-4ecd-a96d-b0a00ef7cfce"
      },
      "execution_count": null,
      "outputs": [
        {
          "output_type": "stream",
          "name": "stdout",
          "text": [
            "(10000, 28, 28)\n",
            "(10000,)\n"
          ]
        }
      ]
    },
    {
      "cell_type": "code",
      "source": [
        "model = tf.keras.models.Sequential([\n",
        "    tf.keras.layers.Flatten(input_shape=(28,28)),\n",
        "\n",
        "    #hidden layer-> dense를 이용하여 만듬, 250개의 node를 만듬, activation fucn은 relu적용\n",
        "    tf.keras.layers.Dense(250, activation='relu'), #레이어를 통과했을때 노드의 수 250인 dense layer를 만들어라\n",
        "    tf.keras.layers.Dense(100, activation='relu'),\n",
        "    tf.keras.layers.Dense(10, activation='relu'), #10개의 출력을 가진 dense layer를 만들어라 \n",
        "   \n",
        "   #마지막은 확률이어야 함 -> softmax적용\n",
        "    tf.keras.layers.Dense(10, activation ='softmax')\n",
        "])"
      ],
      "metadata": {
        "id": "F2joEF7q0f4N"
      },
      "execution_count": null,
      "outputs": []
    },
    {
      "cell_type": "code",
      "source": [
        "#dense 두 종류가 있다. \n",
        "convolution \n",
        "perceptron"
      ],
      "metadata": {
        "id": "aAwuzAuc0gAU"
      },
      "execution_count": null,
      "outputs": []
    },
    {
      "cell_type": "code",
      "source": [
        "model = tf.keras.models.Sequential([tf.keras.layers.Flatten(input_shape=(28, 28)),\n",
        "                                    tf.keras.layers.Dense(250, activation='relu'), \n",
        "                                    tf.keras.layers.Dense(100, activation='relu'),\n",
        "                                    tf.keras.layers.Dense(10, activation='relu'),\n",
        "                                    tf.keras.layers.Dropout(0.2),\n",
        "                                    tf.keras.layers.Dense(10, activation ='softmax')\n",
        "                                    ])"
      ],
      "metadata": {
        "id": "L9yMcNOc0gHW"
      },
      "execution_count": null,
      "outputs": []
    },
    {
      "cell_type": "code",
      "source": [
        "#optimizer ->adam 이용(최근에 가장 널리 쓰이는 optimizer)<- SDG에서 adam으로 트랜드가 변홤\n",
        "model.compile(optimizer = 'adam', \n",
        "              loss ='sparse_categorical_crossentropy',\n",
        "              metrics = ['accuracy'])\n"
      ],
      "metadata": {
        "id": "jiFF1SNx0gNg"
      },
      "execution_count": null,
      "outputs": []
    },
    {
      "cell_type": "code",
      "source": [
        "model.fit(X_train, y_train, epochs = 10) \n",
        "#최대 epoch 10번, 길어지면 정확도가 높아지나,\n",
        "#너무 많이 하면 과적합 발생\n",
        "model.evaluate(X_test, y_test)\n",
        "\n",
        "#초기값이 random하게 나와서, 매번 결과가 다르게 나오게됨 "
      ],
      "metadata": {
        "colab": {
          "base_uri": "https://localhost:8080/"
        },
        "id": "ESEqBE-f0gT2",
        "outputId": "4952ff0e-d802-490c-daa1-d9851f94c8b1"
      },
      "execution_count": null,
      "outputs": [
        {
          "output_type": "stream",
          "name": "stdout",
          "text": [
            "Epoch 1/10\n",
            "1875/1875 [==============================] - 13s 6ms/step - loss: 0.2793 - accuracy: 0.9202\n",
            "Epoch 2/10\n",
            "1875/1875 [==============================] - 11s 6ms/step - loss: 0.1049 - accuracy: 0.9694\n",
            "Epoch 3/10\n",
            "1875/1875 [==============================] - 11s 6ms/step - loss: 0.0727 - accuracy: 0.9777\n",
            "Epoch 4/10\n",
            "1875/1875 [==============================] - 11s 6ms/step - loss: 0.0533 - accuracy: 0.9834\n",
            "Epoch 5/10\n",
            "1875/1875 [==============================] - 11s 6ms/step - loss: 0.0414 - accuracy: 0.9868\n",
            "Epoch 6/10\n",
            "1875/1875 [==============================] - 12s 6ms/step - loss: 0.0334 - accuracy: 0.9892\n",
            "Epoch 7/10\n",
            "1875/1875 [==============================] - 12s 6ms/step - loss: 0.0272 - accuracy: 0.9913\n",
            "Epoch 8/10\n",
            "1875/1875 [==============================] - 11s 6ms/step - loss: 0.0256 - accuracy: 0.9916\n",
            "Epoch 9/10\n",
            "1875/1875 [==============================] - 11s 6ms/step - loss: 0.0204 - accuracy: 0.9930\n",
            "Epoch 10/10\n",
            "1875/1875 [==============================] - 11s 6ms/step - loss: 0.0195 - accuracy: 0.9938\n",
            "313/313 [==============================] - 1s 2ms/step - loss: 0.0876 - accuracy: 0.9791\n"
          ]
        },
        {
          "output_type": "execute_result",
          "data": {
            "text/plain": [
              "[0.08762155473232269, 0.9790999889373779]"
            ]
          },
          "metadata": {},
          "execution_count": 22
        }
      ]
    },
    {
      "cell_type": "code",
      "source": [
        "model.fit(X_train, y_train, batch_size= 10, epochs = 10) \n",
        "#최대 epoch 10번, 길어지면 정확도가 높아지나,\n",
        "#너무 많이 하면 과적합 발생\n",
        "model.evaluate(X_test, y_test)\n",
        "\n",
        "#초기값이 random하게 나와서, 매번 결과가 다르게 나오게됨 "
      ],
      "metadata": {
        "colab": {
          "base_uri": "https://localhost:8080/"
        },
        "id": "ZwJL-IomLpo2",
        "outputId": "a23d5613-5c19-4119-a7b7-fb7b8efc97a3"
      },
      "execution_count": null,
      "outputs": [
        {
          "output_type": "stream",
          "name": "stdout",
          "text": [
            "Epoch 1/10\n",
            "6000/6000 [==============================] - 36s 6ms/step - loss: 0.4220 - accuracy: 0.8770\n",
            "Epoch 2/10\n",
            "6000/6000 [==============================] - 34s 6ms/step - loss: 0.2238 - accuracy: 0.9368\n",
            "Epoch 3/10\n",
            "6000/6000 [==============================] - 33s 5ms/step - loss: 0.1794 - accuracy: 0.9495\n",
            "Epoch 4/10\n",
            "6000/6000 [==============================] - 34s 6ms/step - loss: 0.1535 - accuracy: 0.9566\n",
            "Epoch 5/10\n",
            "6000/6000 [==============================] - 34s 6ms/step - loss: 0.1322 - accuracy: 0.9624\n",
            "Epoch 6/10\n",
            "6000/6000 [==============================] - 33s 5ms/step - loss: 0.1185 - accuracy: 0.9655\n",
            "Epoch 7/10\n",
            "6000/6000 [==============================] - 34s 6ms/step - loss: 0.1113 - accuracy: 0.9676\n",
            "Epoch 8/10\n",
            "6000/6000 [==============================] - 32s 5ms/step - loss: 0.1067 - accuracy: 0.9681\n",
            "Epoch 9/10\n",
            "6000/6000 [==============================] - 34s 6ms/step - loss: 0.0968 - accuracy: 0.9710\n",
            "Epoch 10/10\n",
            "6000/6000 [==============================] - 33s 5ms/step - loss: 0.0952 - accuracy: 0.9723\n",
            "313/313 [==============================] - 2s 4ms/step - loss: 0.1564 - accuracy: 0.9778\n"
          ]
        },
        {
          "output_type": "execute_result",
          "data": {
            "text/plain": [
              "[0.15638555586338043, 0.9778000116348267]"
            ]
          },
          "metadata": {},
          "execution_count": 35
        }
      ]
    },
    {
      "cell_type": "code",
      "source": [
        "#랜덤 숫자를 생성해서, 영상을 뽑아서 결과 확인\n",
        "idx = np.random.randint(len(X_test))\n",
        "\n",
        "image= X_test[idx] #28x28은 tf에 들어가지 못함, 앞에 demension을 추가 해야함\n",
        "\n",
        "image  = np.expand_dims(image, axis = 0) #(0,28,28)\n",
        "\n",
        "#(60000, 28,28)로 학습 -> 들어갈때는 (1,28,28)\n",
        "\n",
        "print(image.shape)\n",
        "#plt.imshow(image, cmap='gray')\n"
      ],
      "metadata": {
        "colab": {
          "base_uri": "https://localhost:8080/"
        },
        "id": "z1oEzcc-3__h",
        "outputId": "b87d32db-109e-4622-8279-7247c06ba366"
      },
      "execution_count": null,
      "outputs": [
        {
          "output_type": "stream",
          "name": "stdout",
          "text": [
            "(1, 28, 28)\n"
          ]
        }
      ]
    },
    {
      "cell_type": "code",
      "source": [
        "y_pred = model.predict(image)\n",
        "print(y_pred)\n",
        "\n",
        "#9.99993443e-01 결과값 -> 1에 가까움 "
      ],
      "metadata": {
        "colab": {
          "base_uri": "https://localhost:8080/"
        },
        "id": "k5IniE1x57ch",
        "outputId": "a49e6b9e-e10c-439d-9a02-e175c01714ba"
      },
      "execution_count": null,
      "outputs": [
        {
          "output_type": "stream",
          "name": "stdout",
          "text": [
            "1/1 [==============================] - 0s 219ms/step\n",
            "[[2.53807131e-09 2.45267324e-06 6.95467065e-07 9.99993443e-01\n",
            "  8.18183646e-11 1.00251064e-07 8.60285476e-13 2.01482408e-06\n",
            "  1.60976612e-07 1.19939807e-06]]\n"
          ]
        }
      ]
    },
    {
      "cell_type": "code",
      "source": [
        "#정확하게 나왔는지 확인하기 \n",
        "plt.imshow(image[0])"
      ],
      "metadata": {
        "colab": {
          "base_uri": "https://localhost:8080/",
          "height": 448
        },
        "id": "ZySY711H6BZE",
        "outputId": "e921ffcc-be1e-449d-9d8e-bcc7b073abc5"
      },
      "execution_count": null,
      "outputs": [
        {
          "output_type": "execute_result",
          "data": {
            "text/plain": [
              "<matplotlib.image.AxesImage at 0x7f34d0d3da00>"
            ]
          },
          "metadata": {},
          "execution_count": 26
        },
        {
          "output_type": "display_data",
          "data": {
            "text/plain": [
              "<Figure size 640x480 with 1 Axes>"
            ],
            "image/png": "[encoded data removed]"
          },
          "metadata": {}
        }
      ]
    },
    {
      "cell_type": "code",
      "source": [
        "#랜덤 숫자를 생성해서, 영상을 뽑아서 결과 확인\n",
        "idx = np.random.randint(len(X_train))\n",
        "\n",
        "image= X_train[idx:idx+5] #(28,25)\n",
        "\n",
        "plt.imshow(image, cmap='gray')\n",
        "\n",
        "\n",
        "y_pred = model.evaluate(image)"
      ],
      "metadata": {
        "id": "MCGwkt2w5eBT"
      },
      "execution_count": null,
      "outputs": []
    },
    {
      "cell_type": "code",
      "source": [
        "#round로 올려서 확인해 보기 \n",
        "\n",
        "y_pred = model.predict(image)\n",
        "\n",
        "print(np.round(y_pred, 3))\n",
        "plt.imshow(image[0])\n",
        "\n",
        "\n",
        "#[[0. 0. 0. 1. 0. 0. 0. 0. 0. 0.]] -> 0,1,2,3 --> 3이 정답 맞음 "
      ],
      "metadata": {
        "colab": {
          "base_uri": "https://localhost:8080/",
          "height": 484
        },
        "id": "k0T6akQzA7sm",
        "outputId": "7dbc6ff2-a16d-481c-ae6e-dfa1d0a4a5ee"
      },
      "execution_count": null,
      "outputs": [
        {
          "output_type": "stream",
          "name": "stdout",
          "text": [
            "1/1 [==============================] - 0s 22ms/step\n",
            "[[0. 0. 0. 1. 0. 0. 0. 0. 0. 0.]]\n"
          ]
        },
        {
          "output_type": "execute_result",
          "data": {
            "text/plain": [
              "<matplotlib.image.AxesImage at 0x7f34d0cbb130>"
            ]
          },
          "metadata": {},
          "execution_count": 27
        },
        {
          "output_type": "display_data",
          "data": {
            "text/plain": [
              "<Figure size 640x480 with 1 Axes>"
            ],
            "image/png": "[encoded data removed]"
          },
          "metadata": {}
        }
      ]
    }
  ]
}