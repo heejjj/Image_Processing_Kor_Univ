{
  "cells": [
    {
      "cell_type": "markdown",
      "metadata": {
        "id": "view-in-github",
        "colab_type": "text"
      },
      "source": [
        "<a href=\"https://colab.research.google.com/github/heejjj/Image_Processing_Kor_Univ/blob/Kor_Univ/tf_0422_KU.ipynb\" target=\"_parent\"><img src=\"https://colab.research.google.com/assets/colab-badge.svg\" alt=\"Open In Colab\"/></a>"
      ]
    },
    {
      "cell_type": "code",
      "execution_count": 1,
      "id": "919e7397-3793-4545-9572-9b5e2a24ae14",
      "metadata": {
        "id": "919e7397-3793-4545-9572-9b5e2a24ae14"
      },
      "outputs": [],
      "source": [
        "from tensorflow.keras.models import Sequential, Model\n",
        "from tensorflow.keras.layers import Dense, Input\n",
        "import numpy as np"
      ]
    },
    {
      "cell_type": "code",
      "execution_count": 2,
      "id": "607bc7ce-6399-4128-9841-62916d115051",
      "metadata": {
        "id": "607bc7ce-6399-4128-9841-62916d115051"
      },
      "outputs": [],
      "source": [
        "model = Sequential()"
      ]
    },
    {
      "cell_type": "code",
      "execution_count": 3,
      "id": "a2975480-029d-490d-876e-f43f90730fcf",
      "metadata": {
        "id": "a2975480-029d-490d-876e-f43f90730fcf"
      },
      "outputs": [],
      "source": [
        "model.add(Dense(100,activation='relu',input_shape=(2,)))"
      ]
    },
    {
      "cell_type": "code",
      "execution_count": 4,
      "id": "5b11042e-65ba-4a33-b1f8-6295095d5c8d",
      "metadata": {
        "id": "5b11042e-65ba-4a33-b1f8-6295095d5c8d"
      },
      "outputs": [],
      "source": [
        "model.add(Dense(100,activation='sigmoid'))"
      ]
    },
    {
      "cell_type": "code",
      "execution_count": 5,
      "id": "6a8a9a7d-695a-487a-a5a8-f14ed371b7ae",
      "metadata": {
        "id": "6a8a9a7d-695a-487a-a5a8-f14ed371b7ae"
      },
      "outputs": [],
      "source": [
        "model.add(Dense(10,activation='linear'))"
      ]
    },
    {
      "cell_type": "code",
      "execution_count": 6,
      "id": "e92059d9-fade-47c8-85a3-2a03b355392b",
      "metadata": {
        "colab": {
          "base_uri": "https://localhost:8080/"
        },
        "id": "e92059d9-fade-47c8-85a3-2a03b355392b",
        "outputId": "f876c4ae-909e-4b5b-b031-1865709565f8"
      },
      "outputs": [
        {
          "output_type": "stream",
          "name": "stdout",
          "text": [
            "Model: \"sequential\"\n",
            "_________________________________________________________________\n",
            " Layer (type)                Output Shape              Param #   \n",
            "=================================================================\n",
            " dense (Dense)               (None, 100)               300       \n",
            "                                                                 \n",
            " dense_1 (Dense)             (None, 100)               10100     \n",
            "                                                                 \n",
            " dense_2 (Dense)             (None, 10)                1010      \n",
            "                                                                 \n",
            "=================================================================\n",
            "Total params: 11,410\n",
            "Trainable params: 11,410\n",
            "Non-trainable params: 0\n",
            "_________________________________________________________________\n"
          ]
        }
      ],
      "source": [
        "model.summary()"
      ]
    },
    {
      "cell_type": "code",
      "execution_count": 7,
      "id": "8d51fe82-8ad3-456c-8e36-a87b70261cdd",
      "metadata": {
        "id": "8d51fe82-8ad3-456c-8e36-a87b70261cdd"
      },
      "outputs": [],
      "source": [
        "layer1 = Dense(100,activation='relu',input_shape=(2,))\n",
        "layer2 = Dense(50,activation='relu')\n",
        "layer3 = Dense(10,activation='softmax')"
      ]
    },
    {
      "cell_type": "code",
      "execution_count": 8,
      "id": "b8d7ad47-4be8-481d-8ce3-d984a9f4a55f",
      "metadata": {
        "colab": {
          "base_uri": "https://localhost:8080/"
        },
        "id": "b8d7ad47-4be8-481d-8ce3-d984a9f4a55f",
        "outputId": "7a50dd2c-113f-46a8-e48a-a274184cf859"
      },
      "outputs": [
        {
          "output_type": "stream",
          "name": "stdout",
          "text": [
            "Model: \"sequential_1\"\n",
            "_________________________________________________________________\n",
            " Layer (type)                Output Shape              Param #   \n",
            "=================================================================\n",
            " dense_3 (Dense)             (None, 100)               300       \n",
            "                                                                 \n",
            " dense_4 (Dense)             (None, 50)                5050      \n",
            "                                                                 \n",
            " dense_5 (Dense)             (None, 10)                510       \n",
            "                                                                 \n",
            "=================================================================\n",
            "Total params: 5,860\n",
            "Trainable params: 5,860\n",
            "Non-trainable params: 0\n",
            "_________________________________________________________________\n"
          ]
        }
      ],
      "source": [
        "model = Sequential()\n",
        "model.add(layer1)\n",
        "model.add(layer2)\n",
        "model.add(layer3)\n",
        "model.summary()"
      ]
    },
    {
      "cell_type": "code",
      "execution_count": 9,
      "id": "7113a6db-d2ab-43b8-96e5-06230ac793cb",
      "metadata": {
        "colab": {
          "base_uri": "https://localhost:8080/"
        },
        "id": "7113a6db-d2ab-43b8-96e5-06230ac793cb",
        "outputId": "09b8c33e-c3be-4274-ee45-1f03c006cdee"
      },
      "outputs": [
        {
          "output_type": "stream",
          "name": "stdout",
          "text": [
            "4/4 [==============================] - 4s 5ms/step\n"
          ]
        },
        {
          "output_type": "execute_result",
          "data": {
            "text/plain": [
              "(100, 10)"
            ]
          },
          "metadata": {},
          "execution_count": 9
        }
      ],
      "source": [
        "model.predict(np.random.randn(100,2)).shape"
      ]
    },
    {
      "cell_type": "code",
      "execution_count": 10,
      "id": "f7cf21c9-e2c9-4da6-a15d-cb18964b8afd",
      "metadata": {
        "id": "f7cf21c9-e2c9-4da6-a15d-cb18964b8afd"
      },
      "outputs": [],
      "source": [
        "model = Sequential(\n",
        "    [\n",
        "        layer1,\n",
        "        layer2,\n",
        "        layer3\n",
        "    ]\n",
        ")"
      ]
    },
    {
      "cell_type": "code",
      "execution_count": 11,
      "id": "7b33b74b-4d2c-4952-80f3-07a0dfb9b594",
      "metadata": {
        "colab": {
          "base_uri": "https://localhost:8080/"
        },
        "id": "7b33b74b-4d2c-4952-80f3-07a0dfb9b594",
        "outputId": "170c0a46-3810-420e-dc56-b9a0403056c4"
      },
      "outputs": [
        {
          "output_type": "stream",
          "name": "stdout",
          "text": [
            "4/4 [==============================] - 0s 4ms/step\n"
          ]
        },
        {
          "output_type": "execute_result",
          "data": {
            "text/plain": [
              "(100, 10)"
            ]
          },
          "metadata": {},
          "execution_count": 11
        }
      ],
      "source": [
        "model.predict(np.random.randn(100,2)).shape"
      ]
    },
    {
      "cell_type": "code",
      "execution_count": 12,
      "id": "5eec544d-536f-44fb-b934-912233645861",
      "metadata": {
        "id": "5eec544d-536f-44fb-b934-912233645861"
      },
      "outputs": [],
      "source": [
        "input_ = Dense(100,activation='relu')"
      ]
    },
    {
      "cell_type": "code",
      "execution_count": 13,
      "id": "549a5a38-c330-4e85-befe-a3f9689ae3de",
      "metadata": {
        "id": "549a5a38-c330-4e85-befe-a3f9689ae3de"
      },
      "outputs": [],
      "source": [
        "input_ = Input(shape=(2,))"
      ]
    },
    {
      "cell_type": "code",
      "execution_count": 14,
      "id": "548cc07c-2de5-4784-b7c0-c41e199e65db",
      "metadata": {
        "id": "548cc07c-2de5-4784-b7c0-c41e199e65db"
      },
      "outputs": [],
      "source": [
        "layer1 = Dense(100,activation='relu')\n",
        "layer2 = Dense(50,activation='relu')\n",
        "layer3 = Dense(10,activation='relu')"
      ]
    },
    {
      "cell_type": "code",
      "execution_count": 15,
      "id": "7c81cdb3-bc10-46d9-a4f6-fc8a0b589a43",
      "metadata": {
        "id": "7c81cdb3-bc10-46d9-a4f6-fc8a0b589a43"
      },
      "outputs": [],
      "source": [
        "x = layer1(input_)"
      ]
    },
    {
      "cell_type": "code",
      "execution_count": 16,
      "id": "d3a49cf6-0825-456c-b544-16782a6378a6",
      "metadata": {
        "id": "d3a49cf6-0825-456c-b544-16782a6378a6"
      },
      "outputs": [],
      "source": [
        "x = layer2(x)"
      ]
    },
    {
      "cell_type": "code",
      "execution_count": 17,
      "id": "abf3b6bb-d7f2-4d39-bcb0-c081c7950cfd",
      "metadata": {
        "id": "abf3b6bb-d7f2-4d39-bcb0-c081c7950cfd"
      },
      "outputs": [],
      "source": [
        "x = layer3(x)"
      ]
    },
    {
      "cell_type": "code",
      "execution_count": 18,
      "id": "96564630-1381-42f2-8bd8-c16bf37de246",
      "metadata": {
        "id": "96564630-1381-42f2-8bd8-c16bf37de246"
      },
      "outputs": [],
      "source": [
        "model = Model(inputs=[input_],outputs=[x])"
      ]
    },
    {
      "cell_type": "code",
      "execution_count": 19,
      "id": "f7e71520-e455-4cd5-bb5c-c39753ac0b8f",
      "metadata": {
        "colab": {
          "base_uri": "https://localhost:8080/"
        },
        "id": "f7e71520-e455-4cd5-bb5c-c39753ac0b8f",
        "outputId": "2de4936a-0772-4954-bef2-dc1d20e62131"
      },
      "outputs": [
        {
          "output_type": "stream",
          "name": "stdout",
          "text": [
            "Model: \"model\"\n",
            "_________________________________________________________________\n",
            " Layer (type)                Output Shape              Param #   \n",
            "=================================================================\n",
            " input_1 (InputLayer)        [(None, 2)]               0         \n",
            "                                                                 \n",
            " dense_7 (Dense)             (None, 100)               300       \n",
            "                                                                 \n",
            " dense_8 (Dense)             (None, 50)                5050      \n",
            "                                                                 \n",
            " dense_9 (Dense)             (None, 10)                510       \n",
            "                                                                 \n",
            "=================================================================\n",
            "Total params: 5,860\n",
            "Trainable params: 5,860\n",
            "Non-trainable params: 0\n",
            "_________________________________________________________________\n"
          ]
        }
      ],
      "source": [
        "model.summary()"
      ]
    },
    {
      "cell_type": "code",
      "execution_count": 20,
      "id": "93a1c4bb-e592-4dae-8333-e6a7b9c099aa",
      "metadata": {
        "id": "93a1c4bb-e592-4dae-8333-e6a7b9c099aa"
      },
      "outputs": [],
      "source": [
        "from tensorflow.keras.datasets import mnist\n",
        "from tensorflow.keras.utils import to_categorical"
      ]
    },
    {
      "cell_type": "code",
      "execution_count": 21,
      "id": "4406da74-3ff2-4aaf-b3f7-4366e6731c02",
      "metadata": {
        "colab": {
          "base_uri": "https://localhost:8080/"
        },
        "id": "4406da74-3ff2-4aaf-b3f7-4366e6731c02",
        "outputId": "6a8dbb69-990e-4e3a-f088-2d82d270fa73"
      },
      "outputs": [
        {
          "output_type": "stream",
          "name": "stdout",
          "text": [
            "Downloading data from https://storage.googleapis.com/tensorflow/tf-keras-datasets/mnist.npz\n",
            "11490434/11490434 [==============================] - 0s 0us/step\n"
          ]
        }
      ],
      "source": [
        "(X_train, y_train), (X_test,y_test) = mnist.load_data()"
      ]
    },
    {
      "cell_type": "code",
      "execution_count": 22,
      "id": "e9fbe6e2-d14d-4836-af8d-db08297a5d05",
      "metadata": {
        "id": "e9fbe6e2-d14d-4836-af8d-db08297a5d05"
      },
      "outputs": [],
      "source": [
        "y_train = to_categorical(y_train)"
      ]
    },
    {
      "cell_type": "code",
      "execution_count": 23,
      "id": "0040c50b-f28a-4d4d-a89a-4008c0986c3e",
      "metadata": {
        "colab": {
          "base_uri": "https://localhost:8080/"
        },
        "id": "0040c50b-f28a-4d4d-a89a-4008c0986c3e",
        "outputId": "6bacd628-4e3f-492a-800f-8193b75ea0a6"
      },
      "outputs": [
        {
          "output_type": "execute_result",
          "data": {
            "text/plain": [
              "((60000, 28, 28), (60000, 10))"
            ]
          },
          "metadata": {},
          "execution_count": 23
        }
      ],
      "source": [
        "X_train.shape, y_train.shape"
      ]
    },
    {
      "cell_type": "code",
      "execution_count": 24,
      "id": "5e7baa30-fb23-4c69-9a52-3ee0fe5ebe1e",
      "metadata": {
        "id": "5e7baa30-fb23-4c69-9a52-3ee0fe5ebe1e"
      },
      "outputs": [],
      "source": [
        "model = Sequential(\n",
        "    [\n",
        "        Dense(100,activation='relu',input_shape=(X_train.shape[1]*X_train.shape[2],)),\n",
        "        Dense(50,activation='relu'),\n",
        "        Dense(10,activation='softmax')\n",
        "    ]\n",
        ")"
      ]
    },
    {
      "cell_type": "code",
      "execution_count": 25,
      "id": "ca12e405-7309-4c03-a3f1-3618a45b31ef",
      "metadata": {
        "colab": {
          "base_uri": "https://localhost:8080/"
        },
        "id": "ca12e405-7309-4c03-a3f1-3618a45b31ef",
        "outputId": "5760f393-c8bb-4931-98cb-31eaf6b7530f"
      },
      "outputs": [
        {
          "output_type": "stream",
          "name": "stdout",
          "text": [
            "Model: \"sequential_3\"\n",
            "_________________________________________________________________\n",
            " Layer (type)                Output Shape              Param #   \n",
            "=================================================================\n",
            " dense_10 (Dense)            (None, 100)               78500     \n",
            "                                                                 \n",
            " dense_11 (Dense)            (None, 50)                5050      \n",
            "                                                                 \n",
            " dense_12 (Dense)            (None, 10)                510       \n",
            "                                                                 \n",
            "=================================================================\n",
            "Total params: 84,060\n",
            "Trainable params: 84,060\n",
            "Non-trainable params: 0\n",
            "_________________________________________________________________\n"
          ]
        }
      ],
      "source": [
        "model.summary()"
      ]
    },
    {
      "cell_type": "code",
      "execution_count": 26,
      "id": "3186eabe-2913-4d18-833b-9fdcca6440ab",
      "metadata": {
        "colab": {
          "base_uri": "https://localhost:8080/",
          "height": 448
        },
        "id": "3186eabe-2913-4d18-833b-9fdcca6440ab",
        "outputId": "8330b475-90e4-4b5f-f8e4-6a959a4a5f6b"
      },
      "outputs": [
        {
          "output_type": "execute_result",
          "data": {
            "text/plain": [
              "array([0., 0., 0., 0., 0., 1., 0., 0., 0., 0.], dtype=float32)"
            ]
          },
          "metadata": {},
          "execution_count": 26
        },
        {
          "output_type": "display_data",
          "data": {
            "text/plain": [
              "<Figure size 640x480 with 1 Axes>"
            ],
            "image/png": "[encoded data removed]"
          },
          "metadata": {}
        }
      ],
      "source": [
        "import matplotlib.pyplot as plt\n",
        "plt.imshow(X_train[0])\n",
        "y_train[0]"
      ]
    },
    {
      "cell_type": "code",
      "execution_count": 27,
      "id": "d6b6f069-0583-48d3-9326-515619378797",
      "metadata": {
        "colab": {
          "base_uri": "https://localhost:8080/"
        },
        "id": "d6b6f069-0583-48d3-9326-515619378797",
        "outputId": "44ebc9ec-553c-4123-a462-5258e8b60f00"
      },
      "outputs": [
        {
          "output_type": "stream",
          "name": "stdout",
          "text": [
            "Model: \"sequential_3\"\n",
            "_________________________________________________________________\n",
            " Layer (type)                Output Shape              Param #   \n",
            "=================================================================\n",
            " dense_10 (Dense)            (None, 100)               78500     \n",
            "                                                                 \n",
            " dense_11 (Dense)            (None, 50)                5050      \n",
            "                                                                 \n",
            " dense_12 (Dense)            (None, 10)                510       \n",
            "                                                                 \n",
            "=================================================================\n",
            "Total params: 84,060\n",
            "Trainable params: 84,060\n",
            "Non-trainable params: 0\n",
            "_________________________________________________________________\n"
          ]
        }
      ],
      "source": [
        "# (28,28) --> --> --> (10)\n",
        "model.summary()"
      ]
    },
    {
      "cell_type": "code",
      "execution_count": 28,
      "id": "0d28bd32-af49-4c95-bb90-0fab30c834ab",
      "metadata": {
        "id": "0d28bd32-af49-4c95-bb90-0fab30c834ab"
      },
      "outputs": [],
      "source": [
        "x = X_train[0].reshape(1,28*28)"
      ]
    },
    {
      "cell_type": "code",
      "execution_count": 29,
      "id": "940f014a-9828-433b-8812-94c520d38442",
      "metadata": {
        "colab": {
          "base_uri": "https://localhost:8080/"
        },
        "id": "940f014a-9828-433b-8812-94c520d38442",
        "outputId": "912ae11b-d23e-4617-a610-d3f2ca184c62"
      },
      "outputs": [
        {
          "output_type": "stream",
          "name": "stdout",
          "text": [
            "1/1 [==============================] - 0s 66ms/step\n"
          ]
        },
        {
          "output_type": "execute_result",
          "data": {
            "text/plain": [
              "0"
            ]
          },
          "metadata": {},
          "execution_count": 29
        }
      ],
      "source": [
        "np.argmax(model.predict(x))"
      ]
    },
    {
      "cell_type": "code",
      "execution_count": 30,
      "id": "1245e389-e598-4f13-ae5a-faeb1d2b2d33",
      "metadata": {
        "colab": {
          "base_uri": "https://localhost:8080/"
        },
        "id": "1245e389-e598-4f13-ae5a-faeb1d2b2d33",
        "outputId": "41d21af6-a7e4-4d7c-d50a-d3b6a525af53"
      },
      "outputs": [
        {
          "output_type": "stream",
          "name": "stdout",
          "text": [
            "1/1 [==============================] - 0s 20ms/step\n"
          ]
        },
        {
          "output_type": "execute_result",
          "data": {
            "text/plain": [
              "array([[1.0000000e+00, 5.6622182e-27, 0.0000000e+00, 0.0000000e+00,\n",
              "        8.9684157e-25, 0.0000000e+00, 1.5183862e-23, 0.0000000e+00,\n",
              "        0.0000000e+00, 0.0000000e+00]], dtype=float32)"
            ]
          },
          "metadata": {},
          "execution_count": 30
        }
      ],
      "source": [
        "model.predict(x)"
      ]
    },
    {
      "cell_type": "code",
      "execution_count": 31,
      "id": "d98f49e1-bf7b-4b30-99a7-450ffff237d2",
      "metadata": {
        "colab": {
          "base_uri": "https://localhost:8080/"
        },
        "id": "d98f49e1-bf7b-4b30-99a7-450ffff237d2",
        "outputId": "35e4ad9b-48ee-434b-9785-f5c9e0269374"
      },
      "outputs": [
        {
          "output_type": "execute_result",
          "data": {
            "text/plain": [
              "array([[0., 0., 0., 0., 0., 1., 0., 0., 0., 0.]], dtype=float32)"
            ]
          },
          "metadata": {},
          "execution_count": 31
        }
      ],
      "source": [
        "y_train[[0]]"
      ]
    },
    {
      "cell_type": "code",
      "execution_count": 32,
      "id": "17e3d3ff-3cdd-479c-9cf3-9c022a1b5179",
      "metadata": {
        "colab": {
          "base_uri": "https://localhost:8080/"
        },
        "id": "17e3d3ff-3cdd-479c-9cf3-9c022a1b5179",
        "outputId": "1be64e29-240d-4a91-fa1b-8ac92d6406ef"
      },
      "outputs": [
        {
          "output_type": "stream",
          "name": "stdout",
          "text": [
            "1/1 [==============================] - 0s 19ms/step\n"
          ]
        },
        {
          "output_type": "stream",
          "name": "stderr",
          "text": [
            "<ipython-input-32-9dd79f1a2869>:1: RuntimeWarning: divide by zero encountered in log\n",
            "  np.nansum(-y_train[[0]]*np.log(model.predict(x)))\n",
            "<ipython-input-32-9dd79f1a2869>:1: RuntimeWarning: invalid value encountered in multiply\n",
            "  np.nansum(-y_train[[0]]*np.log(model.predict(x)))\n"
          ]
        },
        {
          "output_type": "execute_result",
          "data": {
            "text/plain": [
              "inf"
            ]
          },
          "metadata": {},
          "execution_count": 32
        }
      ],
      "source": [
        "np.nansum(-y_train[[0]]*np.log(model.predict(x)))"
      ]
    },
    {
      "cell_type": "code",
      "execution_count": 33,
      "id": "f4fc632d-a48e-4334-b131-11ea975af067",
      "metadata": {
        "colab": {
          "base_uri": "https://localhost:8080/"
        },
        "id": "f4fc632d-a48e-4334-b131-11ea975af067",
        "outputId": "6ee4779a-b2ff-4952-9df3-a3502d317b17"
      },
      "outputs": [
        {
          "output_type": "stream",
          "name": "stdout",
          "text": [
            "1/1 [==============================] - 0s 20ms/step\n"
          ]
        },
        {
          "output_type": "execute_result",
          "data": {
            "text/plain": [
              "(1, 10)"
            ]
          },
          "metadata": {},
          "execution_count": 33
        }
      ],
      "source": [
        "model.predict(x).shape"
      ]
    },
    {
      "cell_type": "code",
      "execution_count": 34,
      "id": "708b80f8-8a6e-4e87-aba5-d51ddb27e0ba",
      "metadata": {
        "colab": {
          "base_uri": "https://localhost:8080/"
        },
        "id": "708b80f8-8a6e-4e87-aba5-d51ddb27e0ba",
        "outputId": "aee2ee11-53ec-42f6-e699-ed0d2be588e2"
      },
      "outputs": [
        {
          "output_type": "execute_result",
          "data": {
            "text/plain": [
              "(1, 10)"
            ]
          },
          "metadata": {},
          "execution_count": 34
        }
      ],
      "source": [
        "y_train[[0]].shape"
      ]
    },
    {
      "cell_type": "code",
      "execution_count": 35,
      "id": "20b2bfd0-277f-4fc7-9e6d-6b18c038540a",
      "metadata": {
        "colab": {
          "base_uri": "https://localhost:8080/"
        },
        "id": "20b2bfd0-277f-4fc7-9e6d-6b18c038540a",
        "outputId": "5512368a-b0e9-45b0-c18d-4a8bb3e638e9"
      },
      "outputs": [
        {
          "output_type": "stream",
          "name": "stdout",
          "text": [
            "1/1 [==============================] - 0s 23ms/step\n"
          ]
        },
        {
          "output_type": "execute_result",
          "data": {
            "text/plain": [
              "0.0"
            ]
          },
          "metadata": {},
          "execution_count": 35
        }
      ],
      "source": [
        "model.predict(x)[0,5]"
      ]
    },
    {
      "cell_type": "code",
      "execution_count": 36,
      "id": "fe3b2e94-6084-4781-bba7-e627491ec4b6",
      "metadata": {
        "colab": {
          "base_uri": "https://localhost:8080/"
        },
        "id": "fe3b2e94-6084-4781-bba7-e627491ec4b6",
        "outputId": "401450cb-9247-4bca-f610-b690672fd2f4"
      },
      "outputs": [
        {
          "output_type": "stream",
          "name": "stdout",
          "text": [
            "Model: \"sequential_3\"\n",
            "_________________________________________________________________\n",
            " Layer (type)                Output Shape              Param #   \n",
            "=================================================================\n",
            " dense_10 (Dense)            (None, 100)               78500     \n",
            "                                                                 \n",
            " dense_11 (Dense)            (None, 50)                5050      \n",
            "                                                                 \n",
            " dense_12 (Dense)            (None, 10)                510       \n",
            "                                                                 \n",
            "=================================================================\n",
            "Total params: 84,060\n",
            "Trainable params: 84,060\n",
            "Non-trainable params: 0\n",
            "_________________________________________________________________\n"
          ]
        }
      ],
      "source": [
        "model.summary()"
      ]
    },
    {
      "cell_type": "code",
      "execution_count": 37,
      "id": "c4ea803f-7f7c-4aaa-b60c-ac1e3a28c913",
      "metadata": {
        "id": "c4ea803f-7f7c-4aaa-b60c-ac1e3a28c913"
      },
      "outputs": [],
      "source": [
        "opt = 'sgd'\n",
        "loss = 'categorical_crossentropy'\n",
        "metrics = ['accuracy']\n",
        "model.compile(optimizer=opt,\n",
        "             loss=loss,\n",
        "             metrics=metrics)"
      ]
    },
    {
      "cell_type": "code",
      "execution_count": 38,
      "id": "6fc21753-0385-4f91-8f65-d4d376100bb8",
      "metadata": {
        "colab": {
          "base_uri": "https://localhost:8080/"
        },
        "id": "6fc21753-0385-4f91-8f65-d4d376100bb8",
        "outputId": "cabefed9-1f8b-449b-c916-49f430e6ce2c"
      },
      "outputs": [
        {
          "output_type": "execute_result",
          "data": {
            "text/plain": [
              "array([[ 0.04526092,  0.0379815 ,  0.06884913, ..., -0.01478335,\n",
              "         0.07189271,  0.07185414],\n",
              "       [-0.00059137,  0.06355658,  0.00839631, ..., -0.07594129,\n",
              "         0.02217899,  0.01871701],\n",
              "       [ 0.04206798, -0.01689027,  0.02318826, ..., -0.06731576,\n",
              "        -0.07801247,  0.0077268 ],\n",
              "       ...,\n",
              "       [ 0.03401357,  0.01136791,  0.04367854, ..., -0.00127413,\n",
              "        -0.02616509,  0.03871139],\n",
              "       [ 0.04446468, -0.06833985, -0.0286444 , ...,  0.06015687,\n",
              "         0.02797242,  0.06599163],\n",
              "       [ 0.04937325,  0.07857265, -0.04974365, ...,  0.05148263,\n",
              "         0.06135586, -0.05759388]], dtype=float32)"
            ]
          },
          "metadata": {},
          "execution_count": 38
        }
      ],
      "source": [
        "model.layers[0].get_weights()[0]"
      ]
    },
    {
      "cell_type": "code",
      "execution_count": 39,
      "id": "1130f177-d529-4c38-9772-1eaf7daefa00",
      "metadata": {
        "id": "1130f177-d529-4c38-9772-1eaf7daefa00"
      },
      "outputs": [],
      "source": [
        "X_train = X_train.reshape(-1,28*28)"
      ]
    },
    {
      "cell_type": "code",
      "execution_count": 40,
      "id": "a3db85c1-7f25-4594-ab00-19d5743a5e1c",
      "metadata": {
        "colab": {
          "base_uri": "https://localhost:8080/"
        },
        "id": "a3db85c1-7f25-4594-ab00-19d5743a5e1c",
        "outputId": "1abf85a0-c08a-45f0-d1ba-386f330baabd"
      },
      "outputs": [
        {
          "output_type": "stream",
          "name": "stdout",
          "text": [
            "Epoch 1/10\n",
            "600/600 [==============================] - 7s 7ms/step - loss: 68254.5469 - accuracy: 0.1122\n",
            "Epoch 2/10\n",
            "600/600 [==============================] - 2s 4ms/step - loss: 2.3014 - accuracy: 0.1124\n",
            "Epoch 3/10\n",
            "600/600 [==============================] - 3s 5ms/step - loss: 2.3012 - accuracy: 0.1124\n",
            "Epoch 4/10\n",
            "600/600 [==============================] - 3s 5ms/step - loss: 2.3012 - accuracy: 0.1124\n",
            "Epoch 5/10\n",
            "600/600 [==============================] - 4s 7ms/step - loss: 2.3012 - accuracy: 0.1124\n",
            "Epoch 6/10\n",
            "600/600 [==============================] - 3s 5ms/step - loss: 2.3012 - accuracy: 0.1124\n",
            "Epoch 7/10\n",
            "600/600 [==============================] - 3s 6ms/step - loss: 2.3012 - accuracy: 0.1124\n",
            "Epoch 8/10\n",
            "600/600 [==============================] - 3s 5ms/step - loss: 2.3012 - accuracy: 0.1124\n",
            "Epoch 9/10\n",
            "600/600 [==============================] - 4s 6ms/step - loss: 2.3012 - accuracy: 0.1124\n",
            "Epoch 10/10\n",
            "600/600 [==============================] - 3s 4ms/step - loss: 2.3012 - accuracy: 0.1124\n"
          ]
        },
        {
          "output_type": "execute_result",
          "data": {
            "text/plain": [
              "<keras.callbacks.History at 0x7f3bf0138670>"
            ]
          },
          "metadata": {},
          "execution_count": 40
        }
      ],
      "source": [
        "model.fit(X_train,\n",
        "         y_train,\n",
        "         epochs=10,\n",
        "         batch_size=100)"
      ]
    },
    {
      "cell_type": "code",
      "execution_count": 41,
      "id": "946b6504-1278-4b39-869d-d039cb23802c",
      "metadata": {
        "id": "946b6504-1278-4b39-869d-d039cb23802c"
      },
      "outputs": [],
      "source": [
        "x = np.random.randn(10,10,3)"
      ]
    },
    {
      "cell_type": "code",
      "execution_count": 42,
      "id": "69302447-c297-40d5-bafe-c67d641e464a",
      "metadata": {
        "colab": {
          "base_uri": "https://localhost:8080/"
        },
        "id": "69302447-c297-40d5-bafe-c67d641e464a",
        "outputId": "c84bf829-ff22-41c5-f2fe-62ec805d7254"
      },
      "outputs": [
        {
          "output_type": "execute_result",
          "data": {
            "text/plain": [
              "(100, 3)"
            ]
          },
          "metadata": {},
          "execution_count": 42
        }
      ],
      "source": [
        "x.reshape(10*10,-1).shape"
      ]
    },
    {
      "cell_type": "code",
      "execution_count": 43,
      "id": "89306555-c4da-4d82-8704-6e5a68ed08d8",
      "metadata": {
        "id": "89306555-c4da-4d82-8704-6e5a68ed08d8"
      },
      "outputs": [],
      "source": [
        "from tensorflow.keras.layers import ReLU"
      ]
    },
    {
      "cell_type": "code",
      "execution_count": 44,
      "id": "3a1ecf9b-233b-4a02-b816-41aeea2e59f7",
      "metadata": {
        "id": "3a1ecf9b-233b-4a02-b816-41aeea2e59f7"
      },
      "outputs": [],
      "source": [
        "model = Sequential(\n",
        "    [\n",
        "        Dense(128,activation='relu',input_shape=(784,)),\n",
        "        Dense(64),\n",
        "        ReLU(),\n",
        "        Dense(10,activation='softmax')\n",
        "    ]\n",
        ")"
      ]
    },
    {
      "cell_type": "code",
      "execution_count": 45,
      "id": "73eb2943-a575-4fda-8a61-c27c5b5e98ba",
      "metadata": {
        "id": "73eb2943-a575-4fda-8a61-c27c5b5e98ba"
      },
      "outputs": [],
      "source": [
        "(X_train,y_train),(X_test,y_test) = mnist.load_data()"
      ]
    },
    {
      "cell_type": "code",
      "execution_count": 46,
      "id": "6f13adeb-c391-44fb-b39a-f33a2d67d83a",
      "metadata": {
        "colab": {
          "base_uri": "https://localhost:8080/"
        },
        "id": "6f13adeb-c391-44fb-b39a-f33a2d67d83a",
        "outputId": "6d80f465-23cc-449e-fc05-e56a175527d0"
      },
      "outputs": [
        {
          "output_type": "execute_result",
          "data": {
            "text/plain": [
              "((60000, 28, 28), (60000,))"
            ]
          },
          "metadata": {},
          "execution_count": 46
        }
      ],
      "source": [
        "X_train.shape, y_train.shape"
      ]
    },
    {
      "cell_type": "code",
      "execution_count": 47,
      "id": "29ef01ec-003e-4ea1-bffb-2279ad582f55",
      "metadata": {
        "id": "29ef01ec-003e-4ea1-bffb-2279ad582f55"
      },
      "outputs": [],
      "source": [
        "X_train_trans = X_train.reshape(-1,28*28)\n",
        "y_train_trans = to_categorical(y_train)"
      ]
    },
    {
      "cell_type": "code",
      "execution_count": 48,
      "id": "bcced584-b6c7-4be7-9dde-0ffa4e3a87b3",
      "metadata": {
        "id": "bcced584-b6c7-4be7-9dde-0ffa4e3a87b3"
      },
      "outputs": [],
      "source": [
        "model.compile(\n",
        "    optimizer='rmsprop',\n",
        "    loss = 'categorical_crossentropy',\n",
        "    metrics = ['accuracy']\n",
        ")"
      ]
    },
    {
      "cell_type": "code",
      "execution_count": 49,
      "id": "9918518b-06ff-4895-be10-35f85a5c24a5",
      "metadata": {
        "colab": {
          "base_uri": "https://localhost:8080/"
        },
        "id": "9918518b-06ff-4895-be10-35f85a5c24a5",
        "outputId": "58f86f06-4e73-4f52-d271-c8a0c3409cf6"
      },
      "outputs": [
        {
          "output_type": "stream",
          "name": "stdout",
          "text": [
            "Epoch 1/10\n",
            "60/60 [==============================] - 1s 5ms/step - loss: 9.0236 - accuracy: 0.7348\n",
            "Epoch 2/10\n",
            "60/60 [==============================] - 0s 4ms/step - loss: 1.2746 - accuracy: 0.8881\n",
            "Epoch 3/10\n",
            "60/60 [==============================] - 0s 4ms/step - loss: 0.6605 - accuracy: 0.9215\n",
            "Epoch 4/10\n",
            "60/60 [==============================] - 0s 5ms/step - loss: 0.4120 - accuracy: 0.9414\n",
            "Epoch 5/10\n",
            "60/60 [==============================] - 0s 6ms/step - loss: 0.2976 - accuracy: 0.9510\n",
            "Epoch 6/10\n",
            "60/60 [==============================] - 0s 8ms/step - loss: 0.2254 - accuracy: 0.9595\n",
            "Epoch 7/10\n",
            "60/60 [==============================] - 0s 7ms/step - loss: 0.1815 - accuracy: 0.9652\n",
            "Epoch 8/10\n",
            "60/60 [==============================] - 0s 7ms/step - loss: 0.1389 - accuracy: 0.9711\n",
            "Epoch 9/10\n",
            "60/60 [==============================] - 0s 4ms/step - loss: 0.1190 - accuracy: 0.9737\n",
            "Epoch 10/10\n",
            "60/60 [==============================] - 0s 3ms/step - loss: 0.0980 - accuracy: 0.9776\n"
          ]
        },
        {
          "output_type": "execute_result",
          "data": {
            "text/plain": [
              "<keras.callbacks.History at 0x7f3b780bcc70>"
            ]
          },
          "metadata": {},
          "execution_count": 49
        }
      ],
      "source": [
        "model.fit(X_train_trans,\n",
        "         y_train_trans,\n",
        "         epochs=10,\n",
        "         batch_size=1000)"
      ]
    },
    {
      "cell_type": "code",
      "execution_count": 50,
      "id": "a6a9607c-9a6e-4160-a7fb-3384d1b278d7",
      "metadata": {
        "colab": {
          "base_uri": "https://localhost:8080/"
        },
        "id": "a6a9607c-9a6e-4160-a7fb-3384d1b278d7",
        "outputId": "7a70b397-a46e-429c-98e0-c511c0c05d2c"
      },
      "outputs": [
        {
          "output_type": "stream",
          "name": "stdout",
          "text": [
            "1/1 [==============================] - 0s 50ms/step\n",
            "1/1 [==============================] - 0s 17ms/step\n",
            "1/1 [==============================] - 0s 17ms/step\n",
            "1/1 [==============================] - 0s 19ms/step\n",
            "1/1 [==============================] - 0s 18ms/step\n",
            "1/1 [==============================] - 0s 17ms/step\n",
            "1/1 [==============================] - 0s 19ms/step\n",
            "1/1 [==============================] - 0s 18ms/step\n",
            "1/1 [==============================] - 0s 17ms/step\n",
            "1/1 [==============================] - 0s 18ms/step\n"
          ]
        }
      ],
      "source": [
        "first = []\n",
        "for i in range(10):\n",
        "    first.append(np.argmax(model.predict(X_train[[i]].reshape(1,784))))"
      ]
    },
    {
      "cell_type": "code",
      "execution_count": 51,
      "id": "8743c6c0-29d1-4652-ba12-25001a207c03",
      "metadata": {
        "colab": {
          "base_uri": "https://localhost:8080/"
        },
        "id": "8743c6c0-29d1-4652-ba12-25001a207c03",
        "outputId": "1e7fbacf-ae5c-4811-c8e4-73bdb9db5803"
      },
      "outputs": [
        {
          "output_type": "execute_result",
          "data": {
            "text/plain": [
              "array([ True,  True,  True,  True,  True,  True,  True,  True,  True,\n",
              "        True])"
            ]
          },
          "metadata": {},
          "execution_count": 51
        }
      ],
      "source": [
        "first == y_train[:10]"
      ]
    },
    {
      "cell_type": "code",
      "execution_count": 52,
      "id": "f996ed9f-5422-4160-b47d-17f212d4e747",
      "metadata": {
        "colab": {
          "base_uri": "https://localhost:8080/"
        },
        "id": "f996ed9f-5422-4160-b47d-17f212d4e747",
        "outputId": "643e8e6e-54c6-43a1-8337-03faa230a031"
      },
      "outputs": [
        {
          "output_type": "execute_result",
          "data": {
            "text/plain": [
              "array([5, 0, 4, 1, 9, 2, 1, 3, 1, 4], dtype=uint8)"
            ]
          },
          "metadata": {},
          "execution_count": 52
        }
      ],
      "source": [
        "y_train[:10]"
      ]
    },
    {
      "cell_type": "code",
      "execution_count": 53,
      "id": "3e94b09c-e8ba-4fca-987f-ea803b39bb4e",
      "metadata": {
        "colab": {
          "base_uri": "https://localhost:8080/"
        },
        "id": "3e94b09c-e8ba-4fca-987f-ea803b39bb4e",
        "outputId": "0973fd0a-50fa-45a4-a3d9-f0e58982de9b"
      },
      "outputs": [
        {
          "output_type": "stream",
          "name": "stdout",
          "text": [
            "Epoch 1/10\n",
            "1875/1875 [==============================] - 6s 3ms/step - loss: 0.4653 - accuracy: 0.9417\n",
            "Epoch 2/10\n",
            "1875/1875 [==============================] - 7s 4ms/step - loss: 0.3195 - accuracy: 0.9486\n",
            "Epoch 3/10\n",
            "1875/1875 [==============================] - 9s 5ms/step - loss: 0.2656 - accuracy: 0.9522\n",
            "Epoch 4/10\n",
            "1875/1875 [==============================] - 5s 3ms/step - loss: 0.2472 - accuracy: 0.9556\n",
            "Epoch 5/10\n",
            "1875/1875 [==============================] - 6s 3ms/step - loss: 0.2436 - accuracy: 0.9576\n",
            "Epoch 6/10\n",
            "1875/1875 [==============================] - 8s 4ms/step - loss: 0.2401 - accuracy: 0.9592\n",
            "Epoch 7/10\n",
            "1875/1875 [==============================] - 8s 4ms/step - loss: 0.2347 - accuracy: 0.9600\n",
            "Epoch 8/10\n",
            "1875/1875 [==============================] - 9s 5ms/step - loss: 0.2543 - accuracy: 0.9603\n",
            "Epoch 9/10\n",
            "1875/1875 [==============================] - 8s 4ms/step - loss: 0.2452 - accuracy: 0.9596\n",
            "Epoch 10/10\n",
            "1875/1875 [==============================] - 8s 4ms/step - loss: 0.2454 - accuracy: 0.9620\n"
          ]
        },
        {
          "output_type": "execute_result",
          "data": {
            "text/plain": [
              "<keras.callbacks.History at 0x7f3b7801eca0>"
            ]
          },
          "metadata": {},
          "execution_count": 53
        }
      ],
      "source": [
        "model.compile(optimizer='rmsprop',\n",
        "             loss='categorical_crossentropy',\n",
        "             metrics=['accuracy'])\n",
        "model.fit(X_train_trans,\n",
        "         y_train_trans,\n",
        "         epochs=10)"
      ]
    },
    {
      "cell_type": "code",
      "execution_count": 54,
      "id": "fe91d9e8-8d1f-4f41-81d3-e0e2e3c9471f",
      "metadata": {
        "colab": {
          "base_uri": "https://localhost:8080/"
        },
        "id": "fe91d9e8-8d1f-4f41-81d3-e0e2e3c9471f",
        "outputId": "aaa533f6-134a-49ad-a755-32f2f654f203"
      },
      "outputs": [
        {
          "output_type": "stream",
          "name": "stdout",
          "text": [
            "1/1 [==============================] - 0s 134ms/step\n",
            "1/1 [==============================] - 0s 33ms/step\n",
            "1/1 [==============================] - 0s 31ms/step\n",
            "1/1 [==============================] - 0s 39ms/step\n",
            "1/1 [==============================] - 0s 29ms/step\n",
            "1/1 [==============================] - 0s 22ms/step\n",
            "1/1 [==============================] - 0s 37ms/step\n",
            "1/1 [==============================] - 0s 29ms/step\n",
            "1/1 [==============================] - 0s 31ms/step\n",
            "1/1 [==============================] - 0s 28ms/step\n"
          ]
        }
      ],
      "source": [
        "second = []\n",
        "for i in range(10):\n",
        "    second.append(np.argmax(model.predict(X_train[[i]].reshape(1,784))))"
      ]
    },
    {
      "cell_type": "code",
      "execution_count": 55,
      "id": "58e43fc2-3e9f-4462-a4c4-4abd0fa0c35b",
      "metadata": {
        "colab": {
          "base_uri": "https://localhost:8080/"
        },
        "id": "58e43fc2-3e9f-4462-a4c4-4abd0fa0c35b",
        "outputId": "a7f7e95f-f1bb-4d5e-bea5-281a8290fcb1"
      },
      "outputs": [
        {
          "output_type": "execute_result",
          "data": {
            "text/plain": [
              "array([ True,  True,  True,  True,  True,  True,  True,  True,  True,\n",
              "        True])"
            ]
          },
          "metadata": {},
          "execution_count": 55
        }
      ],
      "source": [
        "second == y_train[:10]"
      ]
    },
    {
      "cell_type": "code",
      "execution_count": 56,
      "id": "ce154bf4-af6c-4c86-9994-81dddad34cc9",
      "metadata": {
        "id": "ce154bf4-af6c-4c86-9994-81dddad34cc9"
      },
      "outputs": [],
      "source": [
        "from tensorflow.keras.datasets import cifar10"
      ]
    },
    {
      "cell_type": "code",
      "execution_count": 57,
      "id": "593c6dda-2b76-4a0a-86d8-73186b5637b6",
      "metadata": {
        "colab": {
          "base_uri": "https://localhost:8080/"
        },
        "id": "593c6dda-2b76-4a0a-86d8-73186b5637b6",
        "outputId": "8245f780-f535-4802-f629-d097bb4ebb70"
      },
      "outputs": [
        {
          "output_type": "stream",
          "name": "stdout",
          "text": [
            "Downloading data from https://www.cs.toronto.edu/~kriz/cifar-10-python.tar.gz\n",
            "170498071/170498071 [==============================] - 3s 0us/step\n"
          ]
        }
      ],
      "source": [
        "(X_train, y_train), (X_test, y_test) = cifar10.load_data()"
      ]
    },
    {
      "cell_type": "code",
      "execution_count": 58,
      "id": "550314f9-d679-4ca9-aa55-0a02499d2bd8",
      "metadata": {
        "id": "550314f9-d679-4ca9-aa55-0a02499d2bd8"
      },
      "outputs": [],
      "source": [
        "from tensorflow.keras.layers import Dense, Flatten, Input, BatchNormalization, Dropout\n",
        "from tensorflow.keras.models import Sequential, Model\n",
        "from tensorflow.keras.utils import to_categorical"
      ]
    },
    {
      "cell_type": "code",
      "execution_count": 59,
      "id": "102b959b-84fc-4d04-a61b-590dee9c2fe2",
      "metadata": {
        "id": "102b959b-84fc-4d04-a61b-590dee9c2fe2"
      },
      "outputs": [],
      "source": [
        "def to_category(x):\n",
        "    y_axis = max(x)[0]+1\n",
        "    x_axis = len(x)\n",
        "    tmp = np.zeros((x_axis,y_axis))\n",
        "    for idx,val in enumerate(x):\n",
        "        tmp[idx,val] = 1\n",
        "    return tmp"
      ]
    },
    {
      "cell_type": "code",
      "execution_count": 60,
      "id": "a5fa6db7-b8f5-40c6-a23a-7424a63aa5bd",
      "metadata": {
        "colab": {
          "base_uri": "https://localhost:8080/"
        },
        "id": "a5fa6db7-b8f5-40c6-a23a-7424a63aa5bd",
        "outputId": "1412af5b-e4f6-4647-8ea2-a76d717a9999"
      },
      "outputs": [
        {
          "output_type": "execute_result",
          "data": {
            "text/plain": [
              "((50000, 32, 32, 3), (50000, 1))"
            ]
          },
          "metadata": {},
          "execution_count": 60
        }
      ],
      "source": [
        "X_train.shape, y_train.shape"
      ]
    },
    {
      "cell_type": "code",
      "execution_count": 61,
      "id": "92a79190-7e1b-4ec1-bf0f-b4467b033136",
      "metadata": {
        "id": "92a79190-7e1b-4ec1-bf0f-b4467b033136"
      },
      "outputs": [],
      "source": [
        "y_train_trans = to_category(y_train)"
      ]
    },
    {
      "cell_type": "code",
      "execution_count": 62,
      "id": "44f1617e-727a-448f-a147-5e1cf074803b",
      "metadata": {
        "id": "44f1617e-727a-448f-a147-5e1cf074803b"
      },
      "outputs": [],
      "source": [
        "X_train_trans = X_train.reshape(-1,np.cumprod(X_train.shape[1:])[-1])"
      ]
    },
    {
      "cell_type": "code",
      "execution_count": 63,
      "id": "bf91f56b-4406-4e17-be8e-eaafc177b507",
      "metadata": {
        "colab": {
          "base_uri": "https://localhost:8080/"
        },
        "id": "bf91f56b-4406-4e17-be8e-eaafc177b507",
        "outputId": "145be887-78e1-4268-c919-89bda85deccf"
      },
      "outputs": [
        {
          "output_type": "execute_result",
          "data": {
            "text/plain": [
              "((50000, 3072), (50000, 10))"
            ]
          },
          "metadata": {},
          "execution_count": 63
        }
      ],
      "source": [
        "X_train_trans.shape, y_train_trans.shape"
      ]
    },
    {
      "cell_type": "code",
      "execution_count": 64,
      "id": "7872ef73-e43b-44f5-911d-b657aa17f3c5",
      "metadata": {
        "id": "7872ef73-e43b-44f5-911d-b657aa17f3c5"
      },
      "outputs": [],
      "source": [
        "model = Sequential(\n",
        "    [\n",
        "        Dense(2048,activation='relu',input_shape=X_train_trans.shape[1:]),\n",
        "        Dense(1024,activation='relu'),\n",
        "        Dense(256,activation='relu'),\n",
        "        Dense(y_train_trans.shape[-1],activation='softmax')\n",
        "    ]\n",
        ")"
      ]
    },
    {
      "cell_type": "code",
      "execution_count": 65,
      "id": "447771fd-4825-47a6-b083-7f3a6f7ceaa0",
      "metadata": {
        "id": "447771fd-4825-47a6-b083-7f3a6f7ceaa0"
      },
      "outputs": [],
      "source": [
        "model.compile(optimizer='adam',\n",
        "             loss='categorical_crossentropy',\n",
        "             metrics=['accuracy'])"
      ]
    },
    {
      "cell_type": "code",
      "execution_count": 66,
      "id": "b11494e3-bd42-4ef0-a0c1-0137f0216fa5",
      "metadata": {
        "colab": {
          "base_uri": "https://localhost:8080/"
        },
        "id": "b11494e3-bd42-4ef0-a0c1-0137f0216fa5",
        "outputId": "48c8112e-31d0-411e-ea39-728b0b17fd4c"
      },
      "outputs": [
        {
          "output_type": "stream",
          "name": "stdout",
          "text": [
            "Epoch 1/10\n",
            "98/98 [==============================] - 5s 12ms/step - loss: 214.4470 - accuracy: 0.1522\n",
            "Epoch 2/10\n",
            "98/98 [==============================] - 1s 10ms/step - loss: 2.3437 - accuracy: 0.2698\n",
            "Epoch 3/10\n",
            "98/98 [==============================] - 1s 10ms/step - loss: 2.6980 - accuracy: 0.2571\n",
            "Epoch 4/10\n",
            "98/98 [==============================] - 1s 10ms/step - loss: 1.9378 - accuracy: 0.3302\n",
            "Epoch 5/10\n",
            "98/98 [==============================] - 1s 10ms/step - loss: 1.8415 - accuracy: 0.3598\n",
            "Epoch 6/10\n",
            "98/98 [==============================] - 1s 9ms/step - loss: 1.8140 - accuracy: 0.3681\n",
            "Epoch 7/10\n",
            "98/98 [==============================] - 1s 10ms/step - loss: 1.7610 - accuracy: 0.3831\n",
            "Epoch 8/10\n",
            "98/98 [==============================] - 1s 10ms/step - loss: 1.7049 - accuracy: 0.4018\n",
            "Epoch 9/10\n",
            "98/98 [==============================] - 1s 13ms/step - loss: 1.6527 - accuracy: 0.4222\n",
            "Epoch 10/10\n",
            "98/98 [==============================] - 1s 11ms/step - loss: 1.6433 - accuracy: 0.4249\n"
          ]
        },
        {
          "output_type": "execute_result",
          "data": {
            "text/plain": [
              "<keras.callbacks.History at 0x7f3b71ce8790>"
            ]
          },
          "metadata": {},
          "execution_count": 66
        }
      ],
      "source": [
        "model.fit(X_train_trans,\n",
        "         y_train_trans,\n",
        "         epochs=10,\n",
        "         batch_size=512)"
      ]
    },
    {
      "cell_type": "code",
      "execution_count": 67,
      "id": "5401ef90-edbc-4a8a-ba6e-0ec4e7a75a2b",
      "metadata": {
        "id": "5401ef90-edbc-4a8a-ba6e-0ec4e7a75a2b"
      },
      "outputs": [],
      "source": [
        "layer1 = Dense(2048,activation='relu',input_shape=X_train_trans.shape[1:]),\n",
        "layer2 = Dense(1024,activation='relu'),\n",
        "layer3 = Dense(256,activation='relu'),\n",
        "layer4 = Dense(y_train_trans.shape[-1],activation='softmax')\n",
        "batchlayer = BatchNormalization()"
      ]
    },
    {
      "cell_type": "code",
      "execution_count": 68,
      "id": "a3e60a85-21c1-4482-ae7a-5047469ef606",
      "metadata": {
        "id": "a3e60a85-21c1-4482-ae7a-5047469ef606"
      },
      "outputs": [],
      "source": [
        "model1 = Sequential(\n",
        "    [\n",
        "        Dense(2048,activation='relu',input_shape=X_train_trans.shape[1:]),\n",
        "        Dense(1024,activation='relu'),\n",
        "        Dense(256,activation='relu'),\n",
        "        Dense(y_train_trans.shape[-1],activation='softmax')\n",
        "    ]\n",
        ")"
      ]
    },
    {
      "cell_type": "code",
      "execution_count": 69,
      "id": "9084803c-fcc8-4e29-910f-4d4a35ddecd5",
      "metadata": {
        "id": "9084803c-fcc8-4e29-910f-4d4a35ddecd5"
      },
      "outputs": [],
      "source": [
        "model2 = Sequential(\n",
        "    [\n",
        "        Dense(2048,activation='relu',input_shape=X_train_trans.shape[1:]),\n",
        "        BatchNormalization(),\n",
        "        Dense(1024,activation='relu'),\n",
        "        BatchNormalization(),\n",
        "        Dense(256,activation='relu'),\n",
        "        BatchNormalization(),\n",
        "        Dense(y_train_trans.shape[-1],activation='softmax')\n",
        "    ]\n",
        ")"
      ]
    },
    {
      "cell_type": "code",
      "source": [
        "model2 = Sequential(\n",
        "    [\n",
        "        Dense(2048,activation='relu',input_shape=X_train_trans.shape[1:]),\n",
        "        BatchNormalization(),\n",
        "        Dense(1024,activation='relu'),\n",
        "        BatchNormalization(),\n",
        "        Dense(256,activation='relu'),\n",
        "        BatchNormalization(),\n",
        "        Dropout(0.5),\n",
        "        Dense(y_train_trans.shape[-1],activation='softmax')\n",
        "    ]\n",
        "\n",
        ")"
      ],
      "metadata": {
        "colab": {
          "base_uri": "https://localhost:8080/",
          "height": 248
        },
        "id": "Lr5Ll7uRW_0y",
        "outputId": "4710e130-77ee-4fa6-8634-d71d0c07bd53"
      },
      "id": "Lr5Ll7uRW_0y",
      "execution_count": 71,
      "outputs": [
        {
          "output_type": "error",
          "ename": "TypeError",
          "evalue": "ignored",
          "traceback": [
            "\u001b[0;31m---------------------------------------------------------------------------\u001b[0m",
            "\u001b[0;31mTypeError\u001b[0m                                 Traceback (most recent call last)",
            "\u001b[0;32m<ipython-input-71-214215c7bd6a>\u001b[0m in \u001b[0;36m<cell line: 1>\u001b[0;34m()\u001b[0m\n\u001b[1;32m      7\u001b[0m         \u001b[0mDense\u001b[0m\u001b[0;34m(\u001b[0m\u001b[0;36m256\u001b[0m\u001b[0;34m,\u001b[0m\u001b[0mactivation\u001b[0m\u001b[0;34m=\u001b[0m\u001b[0;34m'relu'\u001b[0m\u001b[0;34m)\u001b[0m\u001b[0;34m,\u001b[0m\u001b[0;34m\u001b[0m\u001b[0;34m\u001b[0m\u001b[0m\n\u001b[1;32m      8\u001b[0m         \u001b[0mBatchNormalization\u001b[0m\u001b[0;34m(\u001b[0m\u001b[0;34m)\u001b[0m\u001b[0;34m,\u001b[0m\u001b[0;34m\u001b[0m\u001b[0;34m\u001b[0m\u001b[0m\n\u001b[0;32m----> 9\u001b[0;31m         \u001b[0mDropout\u001b[0m\u001b[0;34m(\u001b[0m\u001b[0;34m)\u001b[0m\u001b[0;34m,\u001b[0m\u001b[0;34m\u001b[0m\u001b[0;34m\u001b[0m\u001b[0m\n\u001b[0m\u001b[1;32m     10\u001b[0m         \u001b[0mDense\u001b[0m\u001b[0;34m(\u001b[0m\u001b[0my_train_trans\u001b[0m\u001b[0;34m.\u001b[0m\u001b[0mshape\u001b[0m\u001b[0;34m[\u001b[0m\u001b[0;34m-\u001b[0m\u001b[0;36m1\u001b[0m\u001b[0;34m]\u001b[0m\u001b[0;34m,\u001b[0m\u001b[0mactivation\u001b[0m\u001b[0;34m=\u001b[0m\u001b[0;34m'softmax'\u001b[0m\u001b[0;34m)\u001b[0m\u001b[0;34m\u001b[0m\u001b[0;34m\u001b[0m\u001b[0m\n\u001b[1;32m     11\u001b[0m     ]\n",
            "\u001b[0;31mTypeError\u001b[0m: __init__() missing 1 required positional argument: 'rate'"
          ]
        }
      ]
    },
    {
      "cell_type": "code",
      "execution_count": 72,
      "id": "7fc9851d-aa13-4556-ae0f-409bdcc7ce40",
      "metadata": {
        "id": "7fc9851d-aa13-4556-ae0f-409bdcc7ce40"
      },
      "outputs": [],
      "source": [
        "model2.layers[0].set_weights(model1.layers[0].get_weights())\n",
        "model2.layers[2].set_weights(model1.layers[1].get_weights())\n",
        "model2.layers[4].set_weights(model1.layers[2].get_weights())\n",
        "nmodel2.layers[6].set_weights(model1.layers[3].get_weights())"
      ]
    },
    {
      "cell_type": "code",
      "execution_count": 73,
      "id": "571de1d3-b071-4b54-aecd-7d8e95dd2f25",
      "metadata": {
        "id": "571de1d3-b071-4b54-aecd-7d8e95dd2f25"
      },
      "outputs": [],
      "source": [
        "opt = 'adam'\n",
        "loss = 'categorical_crossentropy'\n",
        "metrics = ['accuracy']\n",
        "model1.compile(optimizer=opt, loss=loss, metrics=metrics)\n",
        "model2.compile(optimizer=opt, loss=loss, metrics=metrics)"
      ]
    },
    {
      "cell_type": "code",
      "execution_count": 74,
      "id": "94265c3d-0f09-4f4d-9efd-2a45bfb0628a",
      "metadata": {
        "colab": {
          "base_uri": "https://localhost:8080/"
        },
        "id": "94265c3d-0f09-4f4d-9efd-2a45bfb0628a",
        "outputId": "ee839c36-cae8-4f40-836d-54f9b2e399c8"
      },
      "outputs": [
        {
          "output_type": "stream",
          "name": "stdout",
          "text": [
            "Epoch 1/10\n",
            "1563/1563 [==============================] - 8s 4ms/step - loss: 21.7657 - accuracy: 0.2573\n",
            "Epoch 2/10\n",
            "1563/1563 [==============================] - 9s 6ms/step - loss: 1.9219 - accuracy: 0.3128\n",
            "Epoch 3/10\n",
            "1563/1563 [==============================] - 9s 6ms/step - loss: 1.8463 - accuracy: 0.3347\n",
            "Epoch 4/10\n",
            "1563/1563 [==============================] - 10s 6ms/step - loss: 1.7857 - accuracy: 0.3585\n",
            "Epoch 5/10\n",
            "1563/1563 [==============================] - 8s 5ms/step - loss: 1.7692 - accuracy: 0.3602\n",
            "Epoch 6/10\n",
            "1563/1563 [==============================] - 10s 7ms/step - loss: 1.7357 - accuracy: 0.3756\n",
            "Epoch 7/10\n",
            "1563/1563 [==============================] - 8s 5ms/step - loss: 1.7143 - accuracy: 0.3826\n",
            "Epoch 8/10\n",
            "1563/1563 [==============================] - 7s 5ms/step - loss: 1.6894 - accuracy: 0.3915\n",
            "Epoch 9/10\n",
            "1563/1563 [==============================] - 7s 5ms/step - loss: 1.6774 - accuracy: 0.3944\n",
            "Epoch 10/10\n",
            "1563/1563 [==============================] - 8s 5ms/step - loss: 1.6608 - accuracy: 0.4035\n",
            "Epoch 1/10\n",
            "1563/1563 [==============================] - 14s 7ms/step - loss: 1.8078 - accuracy: 0.3576\n",
            "Epoch 2/10\n",
            "1563/1563 [==============================] - 12s 7ms/step - loss: 1.6454 - accuracy: 0.4131\n",
            "Epoch 3/10\n",
            "1563/1563 [==============================] - 11s 7ms/step - loss: 1.5668 - accuracy: 0.4403\n",
            "Epoch 4/10\n",
            "1563/1563 [==============================] - 14s 9ms/step - loss: 1.4947 - accuracy: 0.4679\n",
            "Epoch 5/10\n",
            "1563/1563 [==============================] - 12s 8ms/step - loss: 1.4303 - accuracy: 0.4919\n",
            "Epoch 6/10\n",
            "1563/1563 [==============================] - 14s 9ms/step - loss: 1.3861 - accuracy: 0.5065\n",
            "Epoch 7/10\n",
            "1563/1563 [==============================] - 15s 9ms/step - loss: 1.3448 - accuracy: 0.5188\n",
            "Epoch 8/10\n",
            "1563/1563 [==============================] - 12s 8ms/step - loss: 1.3044 - accuracy: 0.5371\n",
            "Epoch 9/10\n",
            "1563/1563 [==============================] - 16s 10ms/step - loss: 1.2697 - accuracy: 0.5482\n",
            "Epoch 10/10\n",
            "1563/1563 [==============================] - 15s 9ms/step - loss: 1.2391 - accuracy: 0.5578\n"
          ]
        },
        {
          "output_type": "execute_result",
          "data": {
            "text/plain": [
              "<keras.callbacks.History at 0x7f3b701438e0>"
            ]
          },
          "metadata": {},
          "execution_count": 74
        }
      ],
      "source": [
        "model1.fit(X_train_trans,\n",
        "          y_train_trans,\n",
        "          epochs=10)\n",
        "model2.fit(X_train_trans,\n",
        "          y_train_trans,\n",
        "          epochs=10)"
      ]
    },
    {
      "cell_type": "code",
      "source": [
        "model1.fit(X_train_trans,\n",
        "          y_train_trans,\n",
        "          epochs=10,\n",
        "          batch_size=1090,\n",
        "           validation_data=(X_test_trans, y_test_trans))\n",
        "model2.fit(X_train_trans,\n",
        "          y_train_trans,\n",
        "          epochs=10)"
      ],
      "metadata": {
        "colab": {
          "base_uri": "https://localhost:8080/",
          "height": 248
        },
        "id": "re_vwce-XSor",
        "outputId": "104913d1-27b8-4f5f-b0d5-4852e1041d4c"
      },
      "id": "re_vwce-XSor",
      "execution_count": 76,
      "outputs": [
        {
          "output_type": "error",
          "ename": "NameError",
          "evalue": "ignored",
          "traceback": [
            "\u001b[0;31m---------------------------------------------------------------------------\u001b[0m",
            "\u001b[0;31mNameError\u001b[0m                                 Traceback (most recent call last)",
            "\u001b[0;32m<ipython-input-76-57b8221778f6>\u001b[0m in \u001b[0;36m<cell line: 1>\u001b[0;34m()\u001b[0m\n\u001b[1;32m      3\u001b[0m           \u001b[0mepochs\u001b[0m\u001b[0;34m=\u001b[0m\u001b[0;36m10\u001b[0m\u001b[0;34m,\u001b[0m\u001b[0;34m\u001b[0m\u001b[0;34m\u001b[0m\u001b[0m\n\u001b[1;32m      4\u001b[0m           \u001b[0mbatch_size\u001b[0m\u001b[0;34m=\u001b[0m\u001b[0;36m1090\u001b[0m\u001b[0;34m,\u001b[0m\u001b[0;34m\u001b[0m\u001b[0;34m\u001b[0m\u001b[0m\n\u001b[0;32m----> 5\u001b[0;31m            validation_data=(X_test_trans, y_test_trans))\n\u001b[0m\u001b[1;32m      6\u001b[0m model2.fit(X_train_trans,\n\u001b[1;32m      7\u001b[0m           \u001b[0my_train_trans\u001b[0m\u001b[0;34m,\u001b[0m\u001b[0;34m\u001b[0m\u001b[0;34m\u001b[0m\u001b[0m\n",
            "\u001b[0;31mNameError\u001b[0m: name 'X_test_trans' is not defined"
          ]
        }
      ]
    },
    {
      "cell_type": "code",
      "execution_count": null,
      "id": "27fd954f-9a94-4fb1-844a-0370bd61b7ad",
      "metadata": {
        "id": "27fd954f-9a94-4fb1-844a-0370bd61b7ad"
      },
      "outputs": [],
      "source": []
    },
    {
      "cell_type": "code",
      "source": [
        "model1.evaluate(X_test_trans, y_test_trans)"
      ],
      "metadata": {
        "colab": {
          "base_uri": "https://localhost:8080/",
          "height": 174
        },
        "id": "gdG5Om5oWll9",
        "outputId": "9be9e50b-b8f9-4d7d-c1ce-aa36040c5bb8"
      },
      "id": "gdG5Om5oWll9",
      "execution_count": 75,
      "outputs": [
        {
          "output_type": "error",
          "ename": "NameError",
          "evalue": "ignored",
          "traceback": [
            "\u001b[0;31m---------------------------------------------------------------------------\u001b[0m",
            "\u001b[0;31mNameError\u001b[0m                                 Traceback (most recent call last)",
            "\u001b[0;32m<ipython-input-75-bc1a615359ba>\u001b[0m in \u001b[0;36m<cell line: 1>\u001b[0;34m()\u001b[0m\n\u001b[0;32m----> 1\u001b[0;31m \u001b[0mmodel1\u001b[0m\u001b[0;34m.\u001b[0m\u001b[0mevaluate\u001b[0m\u001b[0;34m(\u001b[0m\u001b[0mX_test_trans\u001b[0m\u001b[0;34m,\u001b[0m \u001b[0my_test_trans\u001b[0m\u001b[0;34m)\u001b[0m\u001b[0;34m\u001b[0m\u001b[0;34m\u001b[0m\u001b[0m\n\u001b[0m",
            "\u001b[0;31mNameError\u001b[0m: name 'X_test_trans' is not defined"
          ]
        }
      ]
    },
    {
      "cell_type": "code",
      "source": [
        "model2.evaluate(X_test_trans, y_test_trans)"
      ],
      "metadata": {
        "id": "XkCBb5p6Wpmi"
      },
      "id": "XkCBb5p6Wpmi",
      "execution_count": null,
      "outputs": []
    },
    {
      "cell_type": "code",
      "source": [
        "#Flatten(input_shape=(28,28,3))\n",
        "\n",
        "model = Sequential(\n",
        "    [\n",
        "        Flatten(input_shape = X_train.shape[1:],\n",
        "                Dense(2028, activation='relu'),\n",
        "                BatchNormalization(),\n",
        "                Dense(1024, activation='relu'),\n",
        "                Dense(512, activation='relu'),\n",
        "                Dropout(0.5),\n",
        "                Dense(y_train_trans.shape[-1], activation='softmax')\n",
        "\n",
        "    ]\n",
        ")"
      ],
      "metadata": {
        "id": "RAYy5lrzYOir"
      },
      "id": "RAYy5lrzYOir",
      "execution_count": null,
      "outputs": []
    },
    {
      "cell_type": "code",
      "source": [
        "model.compile(optimizer='adam', \n",
        "              loss='categorical_crossentropy',\n",
        "              metrics=['accuracy'])"
      ],
      "metadata": {
        "id": "Pij9gktxY19C"
      },
      "id": "Pij9gktxY19C",
      "execution_count": null,
      "outputs": []
    },
    {
      "cell_type": "code",
      "source": [
        "model.layers[0].get_weights() #0번 layer는  weight이 없음"
      ],
      "metadata": {
        "id": "91cMMFeSZKp5"
      },
      "id": "91cMMFeSZKp5",
      "execution_count": null,
      "outputs": []
    },
    {
      "cell_type": "code",
      "source": [
        "model.layers[2].get_weights()[1].size"
      ],
      "metadata": {
        "id": "oK-RW4KhY-hS"
      },
      "id": "oK-RW4KhY-hS",
      "execution_count": null,
      "outputs": []
    },
    {
      "cell_type": "code",
      "source": [
        "#Cov layers 합성곱"
      ],
      "metadata": {
        "id": "7tCouqXSZzau"
      },
      "id": "7tCouqXSZzau",
      "execution_count": null,
      "outputs": []
    },
    {
      "cell_type": "code",
      "source": [
        "X_train[0]\n",
        "\n",
        "#X_train[0]/255 =-> scale"
      ],
      "metadata": {
        "id": "jMwEwaBkZ1NA"
      },
      "id": "jMwEwaBkZ1NA",
      "execution_count": null,
      "outputs": []
    },
    {
      "cell_type": "code",
      "source": [
        "def min_max_scale(x):\n",
        "  r = max(x) - min(x) -> 범위\n",
        "  m = max(x)\n",
        "  return (x-m)/r \n"
      ],
      "metadata": {
        "id": "wDazgREDZ6WE"
      },
      "id": "wDazgREDZ6WE",
      "execution_count": null,
      "outputs": []
    },
    {
      "cell_type": "code",
      "source": [],
      "metadata": {
        "id": "2ekgBKjnacZv"
      },
      "id": "2ekgBKjnacZv",
      "execution_count": null,
      "outputs": []
    }
  ],
  "metadata": {
    "kernelspec": {
      "display_name": "Python 3",
      "name": "python3"
    },
    "language_info": {
      "name": "python"
    },
    "colab": {
      "provenance": [],
      "include_colab_link": true
    },
    "accelerator": "GPU",
    "gpuClass": "standard"
  },
  "nbformat": 4,
  "nbformat_minor": 5
}